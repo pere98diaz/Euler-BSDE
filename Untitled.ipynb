{
 "cells": [
  {
   "cell_type": "code",
   "execution_count": 1,
   "id": "60da9cda-b77c-4f72-a009-bbae2b0231ec",
   "metadata": {},
   "outputs": [],
   "source": [
    "import torch\n",
    "import numpy as np\n",
    "from tqdm import tqdm\n",
    "import pickle\n",
    "import sys\n",
    "from scipy.stats import norm\n",
    "#from utilities import MLP"
   ]
  },
  {
   "cell_type": "code",
   "execution_count": 2,
   "id": "f067f5aa-b43d-4051-9268-0828e9dc7be6",
   "metadata": {},
   "outputs": [],
   "source": [
    "def loss_function_Z(Z_ti, Y_ti_1, DeltaBm_i, h):\n",
    "    return torch.mean(torch.norm(Z_ti - Y_ti_1*DeltaBm_i/h, dim=1)**2)\n",
    "\n",
    "def loss_function_Y(Y_ti, Y_ti_1, f_ti, h):\n",
    "    return torch.mean(torch.abs(Y_ti - Y_ti_1 - h * f_ti)**2)"
   ]
  },
  {
   "cell_type": "code",
   "execution_count": 3,
   "id": "3207dacf-bbb6-469f-8ab7-7b16e8a63a87",
   "metadata": {},
   "outputs": [],
   "source": [
    "class MLP(torch.nn.Module):\n",
    "    def __init__(self, in_size, out_size, architecture, activation=torch.nn.Tanh):\n",
    "        super().__init__()\n",
    "\n",
    "        self.activation = activation\n",
    "        num_layers = len(architecture)\n",
    "\n",
    "        if num_layers == 0:\n",
    "            model = [torch.nn.Linear(in_size, out_size)]\n",
    "        else:\n",
    "            model = [torch.nn.Linear(in_size, architecture[0])]      \n",
    "            model.append(activation())\n",
    "            \n",
    "            for i in range(0, num_layers-1):\n",
    "                model.append(torch.nn.Linear(architecture[i], architecture[i+1]))\n",
    "                model.append(activation())\n",
    "\n",
    "            model.append(torch.nn.Linear(architecture[-1], out_size))\n",
    "\n",
    "        self._model = torch.nn.Sequential(*model)\n",
    "\n",
    "    def forward(self, x):\n",
    "        return self._model(x)"
   ]
  },
  {
   "cell_type": "code",
   "execution_count": 4,
   "id": "21bb46cd-d9cb-4359-ac2c-beddfb5e4ab6",
   "metadata": {},
   "outputs": [],
   "source": [
    "T = 1\n",
    "m = 1\n",
    "d = 1\n",
    "device='cuda'"
   ]
  },
  {
   "cell_type": "code",
   "execution_count": 5,
   "id": "207bce27-8caa-4c12-822b-b5d394f5112f",
   "metadata": {},
   "outputs": [],
   "source": [
    "r, mu, sigma = 0.01, 0.05, 0.2\n",
    "K = 0.9\n",
    "\n",
    "def g(x):\n",
    "    return torch.maximum(torch.mean(x, dim=1) - K, torch.tensor(0.0))\n",
    "\n",
    "x = torch.ones((m))\n",
    "\n",
    "def f(t,x,y,z):\n",
    "    #return -r*y - z*(mu-r)/sigma\n",
    "    return torch.sqrt(1+z**2)-1"
   ]
  },
  {
   "cell_type": "code",
   "execution_count": 6,
   "id": "8fc88042-e60b-469e-a7d7-3e38a82bd167",
   "metadata": {},
   "outputs": [],
   "source": [
    "class EulerBSDE:\n",
    "    def __init__(self, n, d, m, T, mu, sigma, x, g, f, device):\n",
    "        \n",
    "        self.d, self.m, self.T, self.mu, self.sigma, self.g, self.f = d, m, T, mu, sigma, g, f\n",
    "        self.n, self.h = n, T/n\n",
    "        \n",
    "        self.x = x.to(device)\n",
    "\n",
    "        # arch_Y, lr_Y and act_Y are dictionaries such that arch_Y[k], lr_Y[k] and act_Y[k]\n",
    "        # indicate the architecture of the neural network that parameterizes Y_tk, the initial learning rate that was used and \n",
    "        # the activation function. Same for Z.\n",
    "        self.arch_Y, self.lr_Y, self.act_Y = {}, {}, {}\n",
    "        self.arch_Z, self.lr_Z, self.act_Z = {}, {}, {}\n",
    "        self.device = device\n",
    "\n",
    "        self.errors = torch.zeros((self.n, 3), device=device, dtype=torch.float32)\n",
    "\n",
    "    #####################################################################################################################\n",
    "    ################################# Neural Networks Functions #########################################################\n",
    "    #####################################################################################################################\n",
    "\n",
    "    def initialize_ZNN_ti(self, i, arch, act, lr):\n",
    "        \"\"\"\n",
    "        This function initializes the network for Z in step t_i.\n",
    "        \"\"\"\n",
    "        self.arch_Z[i], self.lr_Z[i], self.act_Z[i] = arch, lr, act\n",
    "        self.Z_NN_ti = MLP(self.m, self.d, arch, act).to(self.device)\n",
    "        self.opt_Z_ti = torch.optim.Adam(self.Z_NN_ti.parameters(), lr=lr)\n",
    "        n_params = \"{:,}\".format(sum(p.numel() for p in self.Z_NN_ti.parameters()))\n",
    "        print(f\"Number of parameters Z_t{i}: {n_params}\")\n",
    "\n",
    "    def initialize_YNN_ti(self, i, arch, act, lr):\n",
    "        \"\"\"\n",
    "        This function initializes the network for Y in step t_i.\n",
    "        \"\"\"\n",
    "        self.arch_Y[i], self.lr_Y[i], self.act_Y[i] = arch, lr, act\n",
    "        self.Y_NN_ti = MLP(self.m, 1, arch, act).to(self.device)\n",
    "        self.opt_Y_ti = torch.optim.Adam(self.Y_NN_ti.parameters(), lr=lr)\n",
    "        n_params = \"{:,}\".format(sum(p.numel() for p in self.Y_NN_ti.parameters()))\n",
    "        print(f\"Number of parameters Y_t{i}: {n_params}\")\n",
    "\n",
    "    def load_ZNN_ti(self, i, path):\n",
    "        \"\"\"\n",
    "        This function loads the network's parameters for Z in step t_i\n",
    "        \"\"\"\n",
    "        # We load the dictionary with the hyperparameters\n",
    "        if i > 0:\n",
    "            with open(path + '/Hyperparameters/arch_Z.pickle', 'rb') as f1:\n",
    "                arch_Z = pickle.load(f1)\n",
    "            with open(path + '/Hyperparameters/act_Z.pickle', 'rb') as f2:\n",
    "                act_Z = pickle.load(f2)\n",
    "            arch, act = arch_Z[i], act_Z[i]\n",
    "\n",
    "            self.Z_NN_ti = MLP(self.m, self.d, arch, act).to(self.device)\n",
    "            self.Z_NN_ti.load_state_dict(torch.load(path + '/Parameters/Z_NN_t_' + str(i) +'.pth'))\n",
    "        \n",
    "        elif i==0:\n",
    "            self.Z0 = torch.load(path + '/Parameters/Z0.pt')\n",
    "\n",
    "    def load_YNN_ti(self, i, path):\n",
    "        \"\"\"\n",
    "        This function loads the network's parameters for Y in step t_i\n",
    "        \"\"\"\n",
    "        # We load the dictionary with the hyperparameters\n",
    "        if i > 0:\n",
    "            with open(path + '/Hyperparameters/arch_Y.pickle', 'rb') as f1:\n",
    "                arch_Y = pickle.load(f1)\n",
    "            with open(path + '/Hyperparameters/act_Y.pickle', 'rb') as f2:\n",
    "                act_Y = pickle.load(f2)\n",
    "            arch, act = arch_Y[i], act_Y[i]\n",
    "\n",
    "            self.Y_NN_ti = MLP(self.m, 1, arch, act).to(self.device)\n",
    "            self.Y_NN_ti.load_state_dict(torch.load(path + '/Parameters/Y_NN_t_' + str(i) +'.pth'))\n",
    "        \n",
    "        elif i==0:\n",
    "            self.Y0 = torch.load(path + '/Parameters/Y0.pt')\n",
    "\n",
    "    def load_YNN_ti_1(self, i, path):\n",
    "        \"\"\"\n",
    "        This function loads the network's parameters for Y in step t_k+1, necessary for the training of Z_tk\n",
    "        \"\"\"\n",
    "        if i == self.n-1:\n",
    "            self.Y_NN_ti_1 = None\n",
    "        else:\n",
    "            # We load the dictionary with the hyperparameters\n",
    "            with open(path + '/Hyperparameters/arch_Y.pickle', 'rb') as f1:\n",
    "                arch_Y = pickle.load(f1)\n",
    "            with open(path + '/Hyperparameters/act_Y.pickle', 'rb') as f2:\n",
    "                act_Y = pickle.load(f2)\n",
    "            arch, act = arch_Y[i+1], act_Y[i+1]\n",
    "                \n",
    "            self.Y_NN_ti_1 = MLP(self.m, 1, arch, act).to(self.device)\n",
    "            self.Y_NN_ti_1.load_state_dict(torch.load(path + '/Parameters/Y_NN_t_' + str(i+1) +'.pth'))\n",
    "\n",
    "\n",
    "    def save_ZNN_ti(self, i, path):\n",
    "        with open(path + '/Hyperparameters/arch_Z.pickle', 'wb') as f:\n",
    "            pickle.dump(self.arch_Z, f)\n",
    "        with open(path + '/Hyperparameters/act_Z.pickle', 'wb') as f:\n",
    "            pickle.dump(self.act_Z, f)\n",
    "        if i > 0:\n",
    "            torch.save(self.Z_NN_ti.state_dict(), path + '/Parameters/Z_NN_t_' + str(i) +'.pth')\n",
    "        else:\n",
    "            torch.save(self.Z0, path + '/Parameters/Z0.pt')\n",
    "\n",
    "    def save_YNN_ti(self, i, path):\n",
    "        with open(path + '/Hyperparameters/arch_Y.pickle', 'wb') as f:\n",
    "            pickle.dump(self.arch_Y, f)\n",
    "        with open(path + '/Hyperparameters/act_Y.pickle', 'wb') as f:\n",
    "            pickle.dump(self.act_Y, f)\n",
    "        if i > 0:\n",
    "            torch.save(self.Y_NN_ti.state_dict(), path + '/Parameters/Y_NN_t_' + str(i) +'.pth')\n",
    "        else:\n",
    "            torch.save(self.Y0, path + '/Parameters/Y0.pt')\n",
    "\n",
    "\n",
    "    #################################################################################################################\n",
    "    #################################################################################################################\n",
    "    #################################################################################################################\n",
    "\n",
    "    def geometric_Bm(self, i, N):\n",
    "        # i = self.n-1, ..., 0 \n",
    "        assert i < self.n, f\"Value of i is not smaller than n\"\n",
    "        assert i >= 0, f\"Value of i is not non-negative\"\n",
    "        B_ti = torch.randn((N, d), device=self.device, dtype=torch.float32)*torch.sqrt(torch.tensor(i*self.h))\n",
    "        DeltaBm_i = torch.randn((N, d), device=self.device, dtype=torch.float32)*torch.sqrt(torch.tensor(self.h))\n",
    "        B_ti_1 = B_ti + DeltaBm_i\n",
    "        X_ti = self.x*torch.exp(i*self.h*(self.mu-0.5*self.sigma**2) + self.sigma*B_ti)\n",
    "        X_ti_1 = self.x*torch.exp((i+1)*self.h*(self.mu-0.5*self.sigma**2) + self.sigma*B_ti_1)\n",
    "        return X_ti, X_ti_1, DeltaBm_i\n",
    "\n",
    "    def sample_for_training_Z_ti(self, i, N):\n",
    "        X_ti, X_ti_1, DeltaBm_i = self.geometric_Bm(i, N)\n",
    "        if i == self.n-1: Y_ti_1 = self.g(X_ti_1).unsqueeze(-1)  # (N, 1)\n",
    "        else: \n",
    "            with torch.no_grad():\n",
    "                Y_ti_1 = self.Y_NN_ti_1(X_ti_1) # (N, 1)\n",
    "        \n",
    "        if i > 0: Z_ti = self.Z_NN_ti(X_ti)  # (N, 1)\n",
    "        else: Z_ti = None\n",
    "\n",
    "        return Z_ti, Y_ti_1, DeltaBm_i\n",
    "\n",
    "    def sample_for_training_Y_ti(self, i, N):\n",
    "        with torch.no_grad():\n",
    "            X_ti, X_ti_1, DeltaBm_i = self.geometric_Bm(i, N)     \n",
    "            if i == self.n-1: Y_ti_1 = self.g(X_ti_1).unsqueeze(-1)   # (N,1)\n",
    "            else: \n",
    "                with torch.no_grad():\n",
    "                    Y_ti_1 = self.Y_NN_ti_1(X_ti_1)   #(N,1)\n",
    "                \n",
    "        if i > 0:\n",
    "            with torch.no_grad():\n",
    "                Z_ti = self.Z_NN_ti(X_ti)     #(N,1)\n",
    "            Y_ti = self.Y_NN_ti(X_ti)     #(N,1)\n",
    "        else:\n",
    "            Z_ti = self.Z0.unsqueeze(0).repeat(N, 1)  \n",
    "            Y_ti = None\n",
    "            \n",
    "        # We are using the explicit scheme  \n",
    "        f_ti = self.f(self.h*i, X_ti, Y_ti_1, Z_ti)\n",
    "        return Y_ti_1, Y_ti, f_ti\n",
    "\n",
    "    def sample_for_Euler_error(self, i, N):\n",
    "        with torch.no_grad():\n",
    "            X_ti, X_ti_1, DeltaBm_i = self.geometric_Bm(i, N)\n",
    "            if i == self.n-1: Y_ti_1 = self.g(X_ti_1).unsqueeze(-1)   # (N,1)\n",
    "            else: Y_ti_1 = self.Y_NN_ti_1(X_ti_1)   #(N,1)\n",
    "                \n",
    "            if i > 0:\n",
    "                Z_ti = self.Z_NN_ti(X_ti)     #(N,1)\n",
    "                Y_ti = self.Y_NN_ti(X_ti)     #(N,1)\n",
    "            else:\n",
    "                Z_ti = self.Z0.unsqueeze(0).repeat(N, 1)  \n",
    "                Y_ti = self.Y0.unsqueeze(0).repeat(N, 1)  \n",
    "                \n",
    "            f_ti = self.f(self.h*i, X_ti, Y_ti_1, Z_ti)\n",
    "        return Y_ti, Y_ti_1, Z_ti, f_ti, DeltaBm_i\n",
    "    \n",
    "\n",
    "    def train_ZNN_ti(self, i, batch_size = int(5e4), batch_size_test = int(1e5), n_steps = int(1e5), n_eval = 10, patience = 5, disable_progress=False):\n",
    "        \n",
    "        trange = tqdm(range(n_steps), bar_format=\"{l_bar}{bar:10}{r_bar}\", disable=disable_progress)\n",
    "        if i > 0:\n",
    "            patience_it = 0\n",
    "            Z_ti, Y_ti_1, DeltaBm_i = self.sample_for_training_Z_ti(i, batch_size)\n",
    "            loss_Z = loss_function_Z(Z_ti, Y_ti_1, DeltaBm_i, self.h)\n",
    "            best_loss = np.inf\n",
    "            for step in trange:\n",
    "                if ((step+1) % (n_steps // n_eval) == 0) or step == 0:\n",
    "                    with torch.no_grad():\n",
    "                        Z_ti, Y_ti_1, DeltaBm_i = self.sample_for_training_Z_ti(i, batch_size_test)\n",
    "                    loss_Z_test = loss_function_Z(Z_ti, Y_ti_1, DeltaBm_i, self.h)\n",
    "                    if loss_Z_test < best_loss: \n",
    "                        best_params = self.Z_NN_ti.state_dict()\n",
    "                        best_loss = loss_Z_test\n",
    "                        patience_it = 0\n",
    "                    else:\n",
    "                        patience_it += 1 \n",
    "                    \n",
    "                    loss_Z = format(loss_Z.item(), \".4f\")\n",
    "                    loss_Z_test = format(loss_Z_test.item(), \".4f\")\n",
    "\n",
    "                    if not disable_progress:\n",
    "                        tqdm.write(f'Step [{step}/{n_steps}], Training Loss: {loss_Z}, Validation Loss: {loss_Z_test}')    \n",
    "            \n",
    "                    if patience_it == patience: \n",
    "                        break\n",
    "            \n",
    "                self.opt_Z_ti.zero_grad()\n",
    "                Z_ti, Y_ti_1, DeltaBm_i = self.sample_for_training_Z_ti(i, batch_size)\n",
    "                loss_Z = loss_function_Z(Z_ti, Y_ti_1, DeltaBm_i, self.h)\n",
    "                loss_Z.backward()\n",
    "                self.opt_Z_ti.step()\n",
    "            \n",
    "            self.Z_NN_ti.load_state_dict(best_params)\n",
    "        \n",
    "        else:\n",
    "            Z0 = torch.zeros((n_steps, self.d), dtype=torch.float32, device=self.device)\n",
    "            for j in trange:\n",
    "                _, Y_ti_1, DeltaBm_i = self.sample_for_training_Z_ti(i, batch_size)\n",
    "                Z0[j] = torch.mean(Y_ti_1 * (DeltaBm_i/self.h), dim=0)\n",
    "            self.Z0 = torch.mean(Z0, dim=0)\n",
    "\n",
    "        with torch.no_grad():\n",
    "            Z_ti, Y_ti_1, DeltaBm_i = self.sample_for_training_Z_ti(i, batch_size_test)\n",
    "            if i == 0:\n",
    "                Z_ti = self.Z0.unsqueeze(0).repeat(batch_size_test, 1)  \n",
    "            loss_Z = loss_function_Z(Z_ti, Y_ti_1, DeltaBm_i, self.h)\n",
    "            self.errors[i, 1] = loss_Z\n",
    "            print(f'Training Loss: {loss_Z:.4f}')\n",
    "\n",
    "    def train_YNN_ti(self, i, batch_size = int(5e4), batch_size_test = int(1e5), n_steps = int(1e5), n_eval = 10, patience = 5, disable_progress=False):\n",
    "        \n",
    "        trange = tqdm(range(n_steps), bar_format=\"{l_bar}{bar:10}{r_bar}\", disable=disable_progress)\n",
    "\n",
    "        if i > 0:\n",
    "            patience_it = 0\n",
    "            Y_ti_1, Y_ti, f_ti = self.sample_for_training_Y_ti(i, batch_size)\n",
    "            loss_Y = loss_function_Y(Y_ti, Y_ti_1, f_ti, self.h)\n",
    "            best_loss = np.inf\n",
    "            for step in trange:\n",
    "            #for step in range(n_steps):\n",
    "                if ((step+1) % (n_steps // n_eval) == 0) or step == 0:\n",
    "                    with torch.no_grad():\n",
    "                        Y_ti_1, Y_ti, f_ti = self.sample_for_training_Y_ti(i, batch_size_test)\n",
    "                    loss_Y_test = loss_function_Y(Y_ti, Y_ti_1, f_ti, self.h)\n",
    "                    if loss_Y_test < best_loss: \n",
    "                        best_params = self.Y_NN_ti.state_dict()\n",
    "                        best_loss = loss_Y_test\n",
    "                        patience_it = 0\n",
    "                    else:\n",
    "                        patience_it += 1 \n",
    "                    \n",
    "                    loss_Y = format(loss_Y.item(), \".4f\")\n",
    "                    loss_Y_test = format(loss_Y_test.item(), \".4f\")\n",
    "\n",
    "                    if not disable_progress:\n",
    "                        tqdm.write(f'Step [{step}/{n_steps}], Training Loss: {loss_Y}, Validation Loss: {loss_Y_test}')    \n",
    "                \n",
    "                    if patience_it == patience: \n",
    "                        break\n",
    "    \n",
    "                self.opt_Y_ti.zero_grad()\n",
    "                Y_ti_1, Y_ti, f_ti = self.sample_for_training_Y_ti(i, batch_size)\n",
    "                loss_Y = loss_function_Y(Y_ti, Y_ti_1, f_ti, self.h)\n",
    "                loss_Y.backward()\n",
    "                self.opt_Y_ti.step()\n",
    "    \n",
    "            self.Y_NN_ti.load_state_dict(best_params)\n",
    "\n",
    "        else:\n",
    "            Y0 = torch.zeros((n_steps, 1), dtype=torch.float32, device=self.device)\n",
    "            for j in trange:\n",
    "                Y_ti_1, Y_ti, f_ti = self.sample_for_training_Y_ti(i, batch_size)\n",
    "                Y0[j] = torch.mean(Y_ti_1 + self.h * f_ti, dim=0)\n",
    "            self.Y0 = torch.mean(Y0, dim=0).to(self.device)\n",
    "\n",
    "        with torch.no_grad():\n",
    "            Y_ti_1, Y_ti, f_ti = self.sample_for_training_Y_ti(i, batch_size_test)\n",
    "            if i == 0:\n",
    "                Y_ti = self.Y0.unsqueeze(0).repeat(batch_size_test, 1)  \n",
    "            loss_Y = loss_function_Y(Y_ti, Y_ti_1, f_ti, self.h)\n",
    "            self.errors[i, 0] = loss_Y\n",
    "            print(f'Training Loss: {loss_Y:.4f}')\n",
    "    \n",
    "    def check_Euler_error(self, i, batch_size_test = int(1e5)):\n",
    "        with torch.no_grad():\n",
    "            Y_ti, Y_ti_1, Z_ti, f_ti, DeltaBm_i = self.sample_for_Euler_error(i, batch_size_test)\n",
    "            euler_error = torch.mean(torch.abs(Y_ti - Y_ti_1 - self.h*f_ti + torch.sum(Z_ti * DeltaBm_i, dim=1).unsqueeze(-1))**2)\n",
    "            self.errors[i, 2] = euler_error\n",
    "        print(f'Mean Euler Error: {euler_error:.4e}')\n",
    "        return euler_error\n",
    "\n",
    "    def summary_training(self):\n",
    "        for i in range(self.n-1, -1, -1):\n",
    "            #print(f'Loss at time t_{k} for Z: {self.loss_Z_history[k]: .6f}, Y: {self.loss_Y_history[k]: .6f},  Euler: {self.loss_Euler_history[k] : .6f}')\n",
    "            print(f'Loss at time t_{i} for Y: {self.errors[i, 0]: .5f}, for Z: {self.errors[i, 1]: .5f}, for Euler: {self.errors[i, 2] : .5e}')"
   ]
  },
  {
   "cell_type": "code",
   "execution_count": 7,
   "id": "832dd051-1bbd-4475-b128-4e73b86f5079",
   "metadata": {},
   "outputs": [],
   "source": [
    "eulerbsde = EulerBSDE(100, d, m, T, 0.05, 0.2, x, g, f, 'cuda')"
   ]
  },
  {
   "cell_type": "code",
   "execution_count": 8,
   "id": "bad7f2e9-a6f8-4636-83cf-388ec9ba1a25",
   "metadata": {},
   "outputs": [],
   "source": [
    "arch = [36]\n",
    "act = torch.nn.ReLU\n",
    "lr = 1e-4"
   ]
  },
  {
   "cell_type": "code",
   "execution_count": 9,
   "id": "095bd3b6-5356-4dac-8360-b270c377d2fb",
   "metadata": {
    "scrolled": true
   },
   "outputs": [
    {
     "name": "stdout",
     "output_type": "stream",
     "text": [
      "Number of parameters Z_t99: 109\n"
     ]
    },
    {
     "name": "stderr",
     "output_type": "stream",
     "text": [
      "  0%|          | 0/10000 [00:00<?, ?it/s]"
     ]
    },
    {
     "name": "stdout",
     "output_type": "stream",
     "text": [
      "Step [0/10000], Training Loss: 6.7826, Validation Loss: 6.9395\n"
     ]
    },
    {
     "name": "stderr",
     "output_type": "stream",
     "text": [
      " 11%|█         | 1103/10000 [00:05<00:19, 464.14it/s]"
     ]
    },
    {
     "name": "stdout",
     "output_type": "stream",
     "text": [
      "Step [999/10000], Training Loss: 6.4679, Validation Loss: 6.4579\n"
     ]
    },
    {
     "name": "stderr",
     "output_type": "stream",
     "text": [
      " 20%|██        | 2046/10000 [00:09<00:33, 234.39it/s]"
     ]
    },
    {
     "name": "stdout",
     "output_type": "stream",
     "text": [
      "Step [1999/10000], Training Loss: 6.5670, Validation Loss: 6.4636\n"
     ]
    },
    {
     "name": "stderr",
     "output_type": "stream",
     "text": [
      " 30%|███       | 3035/10000 [00:12<00:19, 355.06it/s]"
     ]
    },
    {
     "name": "stdout",
     "output_type": "stream",
     "text": [
      "Step [2999/10000], Training Loss: 6.4605, Validation Loss: 6.4945\n"
     ]
    },
    {
     "name": "stderr",
     "output_type": "stream",
     "text": [
      " 40%|████      | 4030/10000 [00:17<00:29, 202.99it/s]"
     ]
    },
    {
     "name": "stdout",
     "output_type": "stream",
     "text": [
      "Step [3999/10000], Training Loss: 6.5309, Validation Loss: 6.5189\n"
     ]
    },
    {
     "name": "stderr",
     "output_type": "stream",
     "text": [
      " 51%|█████     | 5077/10000 [00:21<00:13, 360.31it/s]"
     ]
    },
    {
     "name": "stdout",
     "output_type": "stream",
     "text": [
      "Step [4999/10000], Training Loss: 6.6213, Validation Loss: 6.4230\n"
     ]
    },
    {
     "name": "stderr",
     "output_type": "stream",
     "text": [
      " 60%|██████    | 6029/10000 [00:26<00:13, 305.07it/s]"
     ]
    },
    {
     "name": "stdout",
     "output_type": "stream",
     "text": [
      "Step [5999/10000], Training Loss: 6.4728, Validation Loss: 6.4867\n"
     ]
    },
    {
     "name": "stderr",
     "output_type": "stream",
     "text": [
      " 70%|███████   | 7042/10000 [00:29<00:08, 336.87it/s]"
     ]
    },
    {
     "name": "stdout",
     "output_type": "stream",
     "text": [
      "Step [6999/10000], Training Loss: 6.6596, Validation Loss: 6.4914\n"
     ]
    },
    {
     "name": "stderr",
     "output_type": "stream",
     "text": [
      " 80%|███████▉  | 7997/10000 [00:33<00:05, 344.68it/s]"
     ]
    },
    {
     "name": "stdout",
     "output_type": "stream",
     "text": [
      "Step [7999/10000], Training Loss: 6.4787, Validation Loss: 6.4788\n"
     ]
    },
    {
     "name": "stderr",
     "output_type": "stream",
     "text": [
      " 90%|█████████ | 9034/10000 [00:38<00:03, 250.99it/s]"
     ]
    },
    {
     "name": "stdout",
     "output_type": "stream",
     "text": [
      "Step [8999/10000], Training Loss: 6.4866, Validation Loss: 6.4238\n"
     ]
    },
    {
     "name": "stderr",
     "output_type": "stream",
     "text": [
      "100%|█████████▉| 9999/10000 [00:42<00:00, 237.16it/s]\n"
     ]
    },
    {
     "name": "stdout",
     "output_type": "stream",
     "text": [
      "Step [9999/10000], Training Loss: 6.6232, Validation Loss: 6.6604\n",
      "Training Loss: 6.4123\n",
      "Number of parameters Y_t99: 109\n"
     ]
    },
    {
     "name": "stderr",
     "output_type": "stream",
     "text": [
      "  0%|          | 4/10000 [00:00<04:11, 39.80it/s]"
     ]
    },
    {
     "name": "stdout",
     "output_type": "stream",
     "text": [
      "Step [0/10000], Training Loss: 0.6837, Validation Loss: 0.6840\n"
     ]
    },
    {
     "name": "stderr",
     "output_type": "stream",
     "text": [
      " 10%|█         | 1024/10000 [00:04<00:48, 184.11it/s]"
     ]
    },
    {
     "name": "stdout",
     "output_type": "stream",
     "text": [
      "Step [999/10000], Training Loss: 0.0139, Validation Loss: 0.0139\n"
     ]
    },
    {
     "name": "stderr",
     "output_type": "stream",
     "text": [
      " 20%|██        | 2000/10000 [00:09<00:37, 211.27it/s]"
     ]
    },
    {
     "name": "stdout",
     "output_type": "stream",
     "text": [
      "Step [1999/10000], Training Loss: 0.0092, Validation Loss: 0.0094\n"
     ]
    },
    {
     "name": "stderr",
     "output_type": "stream",
     "text": [
      " 30%|███       | 3038/10000 [00:14<00:32, 214.76it/s]"
     ]
    },
    {
     "name": "stdout",
     "output_type": "stream",
     "text": [
      "Step [2999/10000], Training Loss: 0.0044, Validation Loss: 0.0043\n"
     ]
    },
    {
     "name": "stderr",
     "output_type": "stream",
     "text": [
      " 40%|████      | 4020/10000 [00:20<00:34, 175.59it/s]"
     ]
    },
    {
     "name": "stdout",
     "output_type": "stream",
     "text": [
      "Step [3999/10000], Training Loss: 0.0021, Validation Loss: 0.0021\n"
     ]
    },
    {
     "name": "stderr",
     "output_type": "stream",
     "text": [
      " 50%|█████     | 5012/10000 [00:23<00:21, 231.10it/s]"
     ]
    },
    {
     "name": "stdout",
     "output_type": "stream",
     "text": [
      "Step [4999/10000], Training Loss: 0.0012, Validation Loss: 0.0012\n"
     ]
    },
    {
     "name": "stderr",
     "output_type": "stream",
     "text": [
      " 60%|██████    | 6016/10000 [00:27<00:23, 168.60it/s]"
     ]
    },
    {
     "name": "stdout",
     "output_type": "stream",
     "text": [
      "Step [5999/10000], Training Loss: 0.0008, Validation Loss: 0.0008\n"
     ]
    },
    {
     "name": "stderr",
     "output_type": "stream",
     "text": [
      " 70%|███████   | 7023/10000 [00:32<00:07, 388.50it/s]"
     ]
    },
    {
     "name": "stdout",
     "output_type": "stream",
     "text": [
      "Step [6999/10000], Training Loss: 0.0006, Validation Loss: 0.0005\n"
     ]
    },
    {
     "name": "stderr",
     "output_type": "stream",
     "text": [
      " 80%|████████  | 8030/10000 [00:36<00:10, 181.09it/s]"
     ]
    },
    {
     "name": "stdout",
     "output_type": "stream",
     "text": [
      "Step [7999/10000], Training Loss: 0.0004, Validation Loss: 0.0004\n"
     ]
    },
    {
     "name": "stderr",
     "output_type": "stream",
     "text": [
      " 91%|█████████ | 9070/10000 [00:41<00:03, 278.08it/s]"
     ]
    },
    {
     "name": "stdout",
     "output_type": "stream",
     "text": [
      "Step [8999/10000], Training Loss: 0.0004, Validation Loss: 0.0004\n"
     ]
    },
    {
     "name": "stderr",
     "output_type": "stream",
     "text": [
      "100%|██████████| 10000/10000 [00:46<00:00, 216.19it/s]\n"
     ]
    },
    {
     "name": "stdout",
     "output_type": "stream",
     "text": [
      "Step [9999/10000], Training Loss: 0.0004, Validation Loss: 0.0004\n",
      "Training Loss: 0.0004\n",
      "Mean Euler Error: 1.3331e-05\n",
      "Number of parameters Z_t98: 109\n"
     ]
    },
    {
     "name": "stderr",
     "output_type": "stream",
     "text": [
      "  0%|          | 0/10000 [00:00<?, ?it/s]"
     ]
    },
    {
     "name": "stdout",
     "output_type": "stream",
     "text": [
      "Step [0/10000], Training Loss: 6.3249, Validation Loss: 6.4306\n"
     ]
    },
    {
     "name": "stderr",
     "output_type": "stream",
     "text": [
      " 10%|█         | 1022/10000 [00:04<00:36, 245.02it/s]"
     ]
    },
    {
     "name": "stdout",
     "output_type": "stream",
     "text": [
      "Step [999/10000], Training Loss: 6.2994, Validation Loss: 6.4576\n"
     ]
    },
    {
     "name": "stderr",
     "output_type": "stream",
     "text": [
      " 20%|██        | 2044/10000 [00:08<00:26, 304.69it/s]"
     ]
    },
    {
     "name": "stdout",
     "output_type": "stream",
     "text": [
      "Step [1999/10000], Training Loss: 6.5310, Validation Loss: 6.4617\n"
     ]
    },
    {
     "name": "stderr",
     "output_type": "stream",
     "text": [
      " 31%|███       | 3058/10000 [00:12<00:24, 279.08it/s]"
     ]
    },
    {
     "name": "stdout",
     "output_type": "stream",
     "text": [
      "Step [2999/10000], Training Loss: 6.4514, Validation Loss: 6.4595\n"
     ]
    },
    {
     "name": "stderr",
     "output_type": "stream",
     "text": [
      " 40%|████      | 4008/10000 [00:16<00:28, 213.33it/s]"
     ]
    },
    {
     "name": "stdout",
     "output_type": "stream",
     "text": [
      "Step [3999/10000], Training Loss: 6.4489, Validation Loss: 6.4495\n"
     ]
    },
    {
     "name": "stderr",
     "output_type": "stream",
     "text": [
      " 50%|████▉     | 4999/10000 [00:20<00:20, 242.79it/s]\n"
     ]
    },
    {
     "name": "stdout",
     "output_type": "stream",
     "text": [
      "Step [4999/10000], Training Loss: 6.4525, Validation Loss: 6.4890\n",
      "Training Loss: 6.4140\n",
      "Number of parameters Y_t98: 109\n"
     ]
    },
    {
     "name": "stderr",
     "output_type": "stream",
     "text": [
      "  0%|          | 0/10000 [00:00<?, ?it/s]"
     ]
    },
    {
     "name": "stdout",
     "output_type": "stream",
     "text": [
      "Step [0/10000], Training Loss: 0.1447, Validation Loss: 0.1464\n"
     ]
    },
    {
     "name": "stderr",
     "output_type": "stream",
     "text": [
      " 11%|█         | 1098/10000 [00:03<00:18, 477.42it/s]"
     ]
    },
    {
     "name": "stdout",
     "output_type": "stream",
     "text": [
      "Step [999/10000], Training Loss: 0.0047, Validation Loss: 0.0046\n"
     ]
    },
    {
     "name": "stderr",
     "output_type": "stream",
     "text": [
      " 20%|██        | 2032/10000 [00:06<00:30, 259.81it/s]"
     ]
    },
    {
     "name": "stdout",
     "output_type": "stream",
     "text": [
      "Step [1999/10000], Training Loss: 0.0012, Validation Loss: 0.0011\n"
     ]
    },
    {
     "name": "stderr",
     "output_type": "stream",
     "text": [
      " 30%|███       | 3041/10000 [00:09<00:17, 390.30it/s]"
     ]
    },
    {
     "name": "stdout",
     "output_type": "stream",
     "text": [
      "Step [2999/10000], Training Loss: 0.0007, Validation Loss: 0.0007\n"
     ]
    },
    {
     "name": "stderr",
     "output_type": "stream",
     "text": [
      " 40%|████      | 4022/10000 [00:13<00:29, 200.34it/s]"
     ]
    },
    {
     "name": "stdout",
     "output_type": "stream",
     "text": [
      "Step [3999/10000], Training Loss: 0.0005, Validation Loss: 0.0005\n"
     ]
    },
    {
     "name": "stderr",
     "output_type": "stream",
     "text": [
      " 50%|█████     | 5028/10000 [00:17<00:20, 238.32it/s]"
     ]
    },
    {
     "name": "stdout",
     "output_type": "stream",
     "text": [
      "Step [4999/10000], Training Loss: 0.0004, Validation Loss: 0.0004\n"
     ]
    },
    {
     "name": "stderr",
     "output_type": "stream",
     "text": [
      " 61%|██████    | 6055/10000 [00:22<00:11, 333.83it/s]"
     ]
    },
    {
     "name": "stdout",
     "output_type": "stream",
     "text": [
      "Step [5999/10000], Training Loss: 0.0004, Validation Loss: 0.0004\n"
     ]
    },
    {
     "name": "stderr",
     "output_type": "stream",
     "text": [
      " 70%|███████   | 7002/10000 [00:27<00:14, 199.99it/s]"
     ]
    },
    {
     "name": "stdout",
     "output_type": "stream",
     "text": [
      "Step [6999/10000], Training Loss: 0.0004, Validation Loss: 0.0004\n"
     ]
    },
    {
     "name": "stderr",
     "output_type": "stream",
     "text": [
      " 80%|████████  | 8029/10000 [00:31<00:08, 242.29it/s]"
     ]
    },
    {
     "name": "stdout",
     "output_type": "stream",
     "text": [
      "Step [7999/10000], Training Loss: 0.0004, Validation Loss: 0.0004\n"
     ]
    },
    {
     "name": "stderr",
     "output_type": "stream",
     "text": [
      " 90%|█████████ | 9015/10000 [00:35<00:05, 177.60it/s]"
     ]
    },
    {
     "name": "stdout",
     "output_type": "stream",
     "text": [
      "Step [8999/10000], Training Loss: 0.0004, Validation Loss: 0.0004\n"
     ]
    },
    {
     "name": "stderr",
     "output_type": "stream",
     "text": [
      "100%|██████████| 10000/10000 [00:40<00:00, 248.65it/s]\n"
     ]
    },
    {
     "name": "stdout",
     "output_type": "stream",
     "text": [
      "Step [9999/10000], Training Loss: 0.0004, Validation Loss: 0.0004\n",
      "Training Loss: 0.0004\n",
      "Mean Euler Error: 1.8634e-05\n",
      "Number of parameters Z_t97: 109\n"
     ]
    },
    {
     "name": "stderr",
     "output_type": "stream",
     "text": [
      "  0%|          | 0/10000 [00:00<?, ?it/s]"
     ]
    },
    {
     "name": "stdout",
     "output_type": "stream",
     "text": [
      "Step [0/10000], Training Loss: 6.5483, Validation Loss: 6.4419\n"
     ]
    },
    {
     "name": "stderr",
     "output_type": "stream",
     "text": [
      " 10%|█         | 1022/10000 [00:04<00:44, 202.67it/s]"
     ]
    },
    {
     "name": "stdout",
     "output_type": "stream",
     "text": [
      "Step [999/10000], Training Loss: 6.5162, Validation Loss: 6.3142\n"
     ]
    },
    {
     "name": "stderr",
     "output_type": "stream",
     "text": [
      " 20%|██        | 2044/10000 [00:08<00:24, 322.63it/s]"
     ]
    },
    {
     "name": "stdout",
     "output_type": "stream",
     "text": [
      "Step [1999/10000], Training Loss: 6.5419, Validation Loss: 6.4499\n"
     ]
    },
    {
     "name": "stderr",
     "output_type": "stream",
     "text": [
      " 31%|███       | 3053/10000 [00:12<00:22, 313.58it/s]"
     ]
    },
    {
     "name": "stdout",
     "output_type": "stream",
     "text": [
      "Step [2999/10000], Training Loss: 6.6160, Validation Loss: 6.3556\n"
     ]
    },
    {
     "name": "stderr",
     "output_type": "stream",
     "text": [
      " 40%|████      | 4016/10000 [00:14<00:25, 234.97it/s]"
     ]
    },
    {
     "name": "stdout",
     "output_type": "stream",
     "text": [
      "Step [3999/10000], Training Loss: 6.5132, Validation Loss: 6.4042\n"
     ]
    },
    {
     "name": "stderr",
     "output_type": "stream",
     "text": [
      " 50%|█████     | 5033/10000 [00:18<00:18, 264.21it/s]"
     ]
    },
    {
     "name": "stdout",
     "output_type": "stream",
     "text": [
      "Step [4999/10000], Training Loss: 6.3319, Validation Loss: 6.5761\n"
     ]
    },
    {
     "name": "stderr",
     "output_type": "stream",
     "text": [
      " 60%|█████▉    | 5999/10000 [00:21<00:14, 275.68it/s]\n"
     ]
    },
    {
     "name": "stdout",
     "output_type": "stream",
     "text": [
      "Step [5999/10000], Training Loss: 6.3717, Validation Loss: 6.4940\n",
      "Training Loss: 6.3410\n",
      "Number of parameters Y_t97: 109\n"
     ]
    },
    {
     "name": "stderr",
     "output_type": "stream",
     "text": [
      "  0%|          | 0/10000 [00:00<?, ?it/s]"
     ]
    },
    {
     "name": "stdout",
     "output_type": "stream",
     "text": [
      "Step [0/10000], Training Loss: 0.0552, Validation Loss: 0.0553\n"
     ]
    },
    {
     "name": "stderr",
     "output_type": "stream",
     "text": [
      " 11%|█         | 1070/10000 [00:04<00:27, 326.54it/s]"
     ]
    },
    {
     "name": "stdout",
     "output_type": "stream",
     "text": [
      "Step [999/10000], Training Loss: 0.0029, Validation Loss: 0.0029\n"
     ]
    },
    {
     "name": "stderr",
     "output_type": "stream",
     "text": [
      " 20%|██        | 2015/10000 [00:08<00:42, 187.68it/s]"
     ]
    },
    {
     "name": "stdout",
     "output_type": "stream",
     "text": [
      "Step [1999/10000], Training Loss: 0.0009, Validation Loss: 0.0009\n"
     ]
    },
    {
     "name": "stderr",
     "output_type": "stream",
     "text": [
      " 30%|███       | 3023/10000 [00:13<00:43, 160.88it/s]"
     ]
    },
    {
     "name": "stdout",
     "output_type": "stream",
     "text": [
      "Step [2999/10000], Training Loss: 0.0005, Validation Loss: 0.0005\n"
     ]
    },
    {
     "name": "stderr",
     "output_type": "stream",
     "text": [
      " 41%|████      | 4061/10000 [00:16<00:21, 278.42it/s]"
     ]
    },
    {
     "name": "stdout",
     "output_type": "stream",
     "text": [
      "Step [3999/10000], Training Loss: 0.0004, Validation Loss: 0.0004\n"
     ]
    },
    {
     "name": "stderr",
     "output_type": "stream",
     "text": [
      " 50%|█████     | 5050/10000 [00:20<00:18, 271.46it/s]"
     ]
    },
    {
     "name": "stdout",
     "output_type": "stream",
     "text": [
      "Step [4999/10000], Training Loss: 0.0004, Validation Loss: 0.0004\n"
     ]
    },
    {
     "name": "stderr",
     "output_type": "stream",
     "text": [
      " 60%|██████    | 6042/10000 [00:24<00:11, 333.71it/s]"
     ]
    },
    {
     "name": "stdout",
     "output_type": "stream",
     "text": [
      "Step [5999/10000], Training Loss: 0.0004, Validation Loss: 0.0004\n"
     ]
    },
    {
     "name": "stderr",
     "output_type": "stream",
     "text": [
      " 71%|███████   | 7077/10000 [00:29<00:08, 360.95it/s]"
     ]
    },
    {
     "name": "stdout",
     "output_type": "stream",
     "text": [
      "Step [6999/10000], Training Loss: 0.0004, Validation Loss: 0.0004\n"
     ]
    },
    {
     "name": "stderr",
     "output_type": "stream",
     "text": [
      " 81%|████████  | 8064/10000 [00:32<00:05, 369.65it/s]"
     ]
    },
    {
     "name": "stdout",
     "output_type": "stream",
     "text": [
      "Step [7999/10000], Training Loss: 0.0004, Validation Loss: 0.0004\n"
     ]
    },
    {
     "name": "stderr",
     "output_type": "stream",
     "text": [
      " 90%|█████████ | 9029/10000 [00:36<00:04, 229.58it/s]"
     ]
    },
    {
     "name": "stdout",
     "output_type": "stream",
     "text": [
      "Step [8999/10000], Training Loss: 0.0004, Validation Loss: 0.0004\n"
     ]
    },
    {
     "name": "stderr",
     "output_type": "stream",
     "text": [
      "100%|██████████| 10000/10000 [00:40<00:00, 249.92it/s]\n"
     ]
    },
    {
     "name": "stdout",
     "output_type": "stream",
     "text": [
      "Step [9999/10000], Training Loss: 0.0004, Validation Loss: 0.0004\n",
      "Training Loss: 0.0004\n",
      "Mean Euler Error: 5.0517e-06\n",
      "Number of parameters Z_t96: 109\n"
     ]
    },
    {
     "name": "stderr",
     "output_type": "stream",
     "text": [
      "  0%|          | 0/10000 [00:00<?, ?it/s]"
     ]
    },
    {
     "name": "stdout",
     "output_type": "stream",
     "text": [
      "Step [0/10000], Training Loss: 6.3380, Validation Loss: 6.4738\n"
     ]
    },
    {
     "name": "stderr",
     "output_type": "stream",
     "text": [
      " 10%|█         | 1049/10000 [00:03<00:29, 308.51it/s]"
     ]
    },
    {
     "name": "stdout",
     "output_type": "stream",
     "text": [
      "Step [999/10000], Training Loss: 6.2595, Validation Loss: 6.3803\n"
     ]
    },
    {
     "name": "stderr",
     "output_type": "stream",
     "text": [
      " 20%|██        | 2018/10000 [00:06<00:23, 345.64it/s]"
     ]
    },
    {
     "name": "stdout",
     "output_type": "stream",
     "text": [
      "Step [1999/10000], Training Loss: 6.3813, Validation Loss: 6.3314\n"
     ]
    },
    {
     "name": "stderr",
     "output_type": "stream",
     "text": [
      " 30%|███       | 3039/10000 [00:10<00:19, 351.81it/s]"
     ]
    },
    {
     "name": "stdout",
     "output_type": "stream",
     "text": [
      "Step [2999/10000], Training Loss: 6.3972, Validation Loss: 6.3637\n"
     ]
    },
    {
     "name": "stderr",
     "output_type": "stream",
     "text": [
      " 41%|████      | 4052/10000 [00:13<00:18, 325.84it/s]"
     ]
    },
    {
     "name": "stdout",
     "output_type": "stream",
     "text": [
      "Step [3999/10000], Training Loss: 6.2977, Validation Loss: 6.4583\n"
     ]
    },
    {
     "name": "stderr",
     "output_type": "stream",
     "text": [
      " 50%|█████     | 5022/10000 [00:17<00:21, 229.68it/s]"
     ]
    },
    {
     "name": "stdout",
     "output_type": "stream",
     "text": [
      "Step [4999/10000], Training Loss: 6.4764, Validation Loss: 6.4432\n"
     ]
    },
    {
     "name": "stderr",
     "output_type": "stream",
     "text": [
      " 60%|██████    | 6036/10000 [00:20<00:15, 257.30it/s]"
     ]
    },
    {
     "name": "stdout",
     "output_type": "stream",
     "text": [
      "Step [5999/10000], Training Loss: 6.6561, Validation Loss: 6.4172\n"
     ]
    },
    {
     "name": "stderr",
     "output_type": "stream",
     "text": [
      " 70%|███████   | 7038/10000 [00:24<00:09, 302.72it/s]"
     ]
    },
    {
     "name": "stdout",
     "output_type": "stream",
     "text": [
      "Step [6999/10000], Training Loss: 6.4474, Validation Loss: 6.3107\n"
     ]
    },
    {
     "name": "stderr",
     "output_type": "stream",
     "text": [
      " 80%|████████  | 8036/10000 [00:28<00:05, 337.73it/s]"
     ]
    },
    {
     "name": "stdout",
     "output_type": "stream",
     "text": [
      "Step [7999/10000], Training Loss: 6.3425, Validation Loss: 6.4623\n"
     ]
    },
    {
     "name": "stderr",
     "output_type": "stream",
     "text": [
      " 91%|█████████ | 9064/10000 [00:31<00:02, 373.43it/s]"
     ]
    },
    {
     "name": "stdout",
     "output_type": "stream",
     "text": [
      "Step [8999/10000], Training Loss: 6.1543, Validation Loss: 6.4256\n"
     ]
    },
    {
     "name": "stderr",
     "output_type": "stream",
     "text": [
      "100%|██████████| 10000/10000 [00:34<00:00, 292.21it/s]\n"
     ]
    },
    {
     "name": "stdout",
     "output_type": "stream",
     "text": [
      "Step [9999/10000], Training Loss: 6.3727, Validation Loss: 6.4830\n",
      "Training Loss: 6.3789\n",
      "Number of parameters Y_t96: 109\n"
     ]
    },
    {
     "name": "stderr",
     "output_type": "stream",
     "text": [
      "  0%|          | 10/10000 [00:00<01:51, 89.35it/s]"
     ]
    },
    {
     "name": "stdout",
     "output_type": "stream",
     "text": [
      "Step [0/10000], Training Loss: 0.0317, Validation Loss: 0.0319\n"
     ]
    },
    {
     "name": "stderr",
     "output_type": "stream",
     "text": [
      " 10%|█         | 1039/10000 [00:03<00:29, 302.13it/s]"
     ]
    },
    {
     "name": "stdout",
     "output_type": "stream",
     "text": [
      "Step [999/10000], Training Loss: 0.0011, Validation Loss: 0.0011\n"
     ]
    },
    {
     "name": "stderr",
     "output_type": "stream",
     "text": [
      " 21%|██        | 2059/10000 [00:07<00:21, 369.63it/s]"
     ]
    },
    {
     "name": "stdout",
     "output_type": "stream",
     "text": [
      "Step [1999/10000], Training Loss: 0.0005, Validation Loss: 0.0005\n"
     ]
    },
    {
     "name": "stderr",
     "output_type": "stream",
     "text": [
      " 30%|███       | 3021/10000 [00:11<00:36, 193.61it/s]"
     ]
    },
    {
     "name": "stdout",
     "output_type": "stream",
     "text": [
      "Step [2999/10000], Training Loss: 0.0004, Validation Loss: 0.0004\n"
     ]
    },
    {
     "name": "stderr",
     "output_type": "stream",
     "text": [
      " 40%|████      | 4045/10000 [00:14<00:15, 384.45it/s]"
     ]
    },
    {
     "name": "stdout",
     "output_type": "stream",
     "text": [
      "Step [3999/10000], Training Loss: 0.0004, Validation Loss: 0.0004\n"
     ]
    },
    {
     "name": "stderr",
     "output_type": "stream",
     "text": [
      " 50%|█████     | 5032/10000 [00:18<00:14, 349.57it/s]"
     ]
    },
    {
     "name": "stdout",
     "output_type": "stream",
     "text": [
      "Step [4999/10000], Training Loss: 0.0004, Validation Loss: 0.0004\n"
     ]
    },
    {
     "name": "stderr",
     "output_type": "stream",
     "text": [
      " 61%|██████    | 6106/10000 [00:20<00:08, 453.99it/s]"
     ]
    },
    {
     "name": "stdout",
     "output_type": "stream",
     "text": [
      "Step [5999/10000], Training Loss: 0.0004, Validation Loss: 0.0004\n"
     ]
    },
    {
     "name": "stderr",
     "output_type": "stream",
     "text": [
      " 70%|███████   | 7039/10000 [00:24<00:13, 224.55it/s]"
     ]
    },
    {
     "name": "stdout",
     "output_type": "stream",
     "text": [
      "Step [6999/10000], Training Loss: 0.0004, Validation Loss: 0.0004\n"
     ]
    },
    {
     "name": "stderr",
     "output_type": "stream",
     "text": [
      " 80%|████████  | 8035/10000 [00:27<00:07, 247.25it/s]"
     ]
    },
    {
     "name": "stdout",
     "output_type": "stream",
     "text": [
      "Step [7999/10000], Training Loss: 0.0004, Validation Loss: 0.0004\n"
     ]
    },
    {
     "name": "stderr",
     "output_type": "stream",
     "text": [
      " 91%|█████████ | 9061/10000 [00:31<00:03, 303.38it/s]"
     ]
    },
    {
     "name": "stdout",
     "output_type": "stream",
     "text": [
      "Step [8999/10000], Training Loss: 0.0004, Validation Loss: 0.0004\n"
     ]
    },
    {
     "name": "stderr",
     "output_type": "stream",
     "text": [
      "100%|██████████| 10000/10000 [00:34<00:00, 291.80it/s]\n"
     ]
    },
    {
     "name": "stdout",
     "output_type": "stream",
     "text": [
      "Step [9999/10000], Training Loss: 0.0004, Validation Loss: 0.0004\n",
      "Training Loss: 0.0004\n",
      "Mean Euler Error: 6.8848e-06\n",
      "Number of parameters Z_t95: 109\n"
     ]
    },
    {
     "name": "stderr",
     "output_type": "stream",
     "text": [
      "  0%|          | 0/10000 [00:00<?, ?it/s]"
     ]
    },
    {
     "name": "stdout",
     "output_type": "stream",
     "text": [
      "Step [0/10000], Training Loss: 6.8958, Validation Loss: 6.8424\n"
     ]
    },
    {
     "name": "stderr",
     "output_type": "stream",
     "text": [
      " 10%|█         | 1040/10000 [00:03<00:26, 343.10it/s]"
     ]
    },
    {
     "name": "stdout",
     "output_type": "stream",
     "text": [
      "Step [999/10000], Training Loss: 6.4741, Validation Loss: 6.3373\n"
     ]
    },
    {
     "name": "stderr",
     "output_type": "stream",
     "text": [
      " 20%|██        | 2040/10000 [00:05<00:25, 317.93it/s]"
     ]
    },
    {
     "name": "stdout",
     "output_type": "stream",
     "text": [
      "Step [1999/10000], Training Loss: 6.3787, Validation Loss: 6.1863\n"
     ]
    },
    {
     "name": "stderr",
     "output_type": "stream",
     "text": [
      " 30%|███       | 3027/10000 [00:08<00:24, 285.00it/s]"
     ]
    },
    {
     "name": "stdout",
     "output_type": "stream",
     "text": [
      "Step [2999/10000], Training Loss: 6.3936, Validation Loss: 6.3089\n"
     ]
    },
    {
     "name": "stderr",
     "output_type": "stream",
     "text": [
      " 40%|████      | 4047/10000 [00:11<00:15, 373.09it/s]"
     ]
    },
    {
     "name": "stdout",
     "output_type": "stream",
     "text": [
      "Step [3999/10000], Training Loss: 6.1624, Validation Loss: 6.3857\n"
     ]
    },
    {
     "name": "stderr",
     "output_type": "stream",
     "text": [
      " 50%|█████     | 5023/10000 [00:14<00:13, 359.81it/s]"
     ]
    },
    {
     "name": "stdout",
     "output_type": "stream",
     "text": [
      "Step [4999/10000], Training Loss: 6.3028, Validation Loss: 6.4141\n"
     ]
    },
    {
     "name": "stderr",
     "output_type": "stream",
     "text": [
      " 60%|██████    | 6024/10000 [00:18<00:12, 307.89it/s]"
     ]
    },
    {
     "name": "stdout",
     "output_type": "stream",
     "text": [
      "Step [5999/10000], Training Loss: 6.3424, Validation Loss: 6.6083\n"
     ]
    },
    {
     "name": "stderr",
     "output_type": "stream",
     "text": [
      " 70%|██████▉   | 6999/10000 [00:22<00:09, 311.92it/s]\n"
     ]
    },
    {
     "name": "stdout",
     "output_type": "stream",
     "text": [
      "Step [6999/10000], Training Loss: 6.4032, Validation Loss: 6.4142\n",
      "Training Loss: 6.2917\n",
      "Number of parameters Y_t95: 109\n"
     ]
    },
    {
     "name": "stderr",
     "output_type": "stream",
     "text": [
      "  0%|          | 25/10000 [00:00<00:40, 249.36it/s]"
     ]
    },
    {
     "name": "stdout",
     "output_type": "stream",
     "text": [
      "Step [0/10000], Training Loss: 0.2482, Validation Loss: 0.2486\n"
     ]
    },
    {
     "name": "stderr",
     "output_type": "stream",
     "text": [
      " 10%|█         | 1032/10000 [00:04<00:38, 235.10it/s]"
     ]
    },
    {
     "name": "stdout",
     "output_type": "stream",
     "text": [
      "Step [999/10000], Training Loss: 0.0106, Validation Loss: 0.0106\n"
     ]
    },
    {
     "name": "stderr",
     "output_type": "stream",
     "text": [
      " 20%|██        | 2021/10000 [00:07<00:24, 329.45it/s]"
     ]
    },
    {
     "name": "stdout",
     "output_type": "stream",
     "text": [
      "Step [1999/10000], Training Loss: 0.0025, Validation Loss: 0.0026\n"
     ]
    },
    {
     "name": "stderr",
     "output_type": "stream",
     "text": [
      " 30%|███       | 3039/10000 [00:11<00:22, 305.80it/s]"
     ]
    },
    {
     "name": "stdout",
     "output_type": "stream",
     "text": [
      "Step [2999/10000], Training Loss: 0.0019, Validation Loss: 0.0019\n"
     ]
    },
    {
     "name": "stderr",
     "output_type": "stream",
     "text": [
      " 40%|███▉      | 3994/10000 [00:15<00:17, 338.88it/s]"
     ]
    },
    {
     "name": "stdout",
     "output_type": "stream",
     "text": [
      "Step [3999/10000], Training Loss: 0.0017, Validation Loss: 0.0017\n"
     ]
    },
    {
     "name": "stderr",
     "output_type": "stream",
     "text": [
      " 50%|█████     | 5042/10000 [00:19<00:21, 226.60it/s]"
     ]
    },
    {
     "name": "stdout",
     "output_type": "stream",
     "text": [
      "Step [4999/10000], Training Loss: 0.0015, Validation Loss: 0.0015\n"
     ]
    },
    {
     "name": "stderr",
     "output_type": "stream",
     "text": [
      " 61%|██████    | 6051/10000 [00:23<00:12, 311.32it/s]"
     ]
    },
    {
     "name": "stdout",
     "output_type": "stream",
     "text": [
      "Step [5999/10000], Training Loss: 0.0012, Validation Loss: 0.0012\n"
     ]
    },
    {
     "name": "stderr",
     "output_type": "stream",
     "text": [
      " 70%|███████   | 7013/10000 [00:27<00:12, 238.56it/s]"
     ]
    },
    {
     "name": "stdout",
     "output_type": "stream",
     "text": [
      "Step [6999/10000], Training Loss: 0.0008, Validation Loss: 0.0008\n"
     ]
    },
    {
     "name": "stderr",
     "output_type": "stream",
     "text": [
      " 80%|████████  | 8043/10000 [00:30<00:04, 408.17it/s]"
     ]
    },
    {
     "name": "stdout",
     "output_type": "stream",
     "text": [
      "Step [7999/10000], Training Loss: 0.0006, Validation Loss: 0.0006\n"
     ]
    },
    {
     "name": "stderr",
     "output_type": "stream",
     "text": [
      " 91%|█████████ | 9082/10000 [00:34<00:02, 411.67it/s]"
     ]
    },
    {
     "name": "stdout",
     "output_type": "stream",
     "text": [
      "Step [8999/10000], Training Loss: 0.0005, Validation Loss: 0.0005\n"
     ]
    },
    {
     "name": "stderr",
     "output_type": "stream",
     "text": [
      "100%|██████████| 10000/10000 [00:37<00:00, 265.23it/s]\n"
     ]
    },
    {
     "name": "stdout",
     "output_type": "stream",
     "text": [
      "Step [9999/10000], Training Loss: 0.0004, Validation Loss: 0.0004\n",
      "Training Loss: 0.0004\n",
      "Mean Euler Error: 5.1200e-05\n",
      "Number of parameters Z_t94: 109\n"
     ]
    },
    {
     "name": "stderr",
     "output_type": "stream",
     "text": [
      "  0%|          | 27/10000 [00:00<00:41, 240.93it/s]"
     ]
    },
    {
     "name": "stdout",
     "output_type": "stream",
     "text": [
      "Step [0/10000], Training Loss: 6.8216, Validation Loss: 6.7878\n"
     ]
    },
    {
     "name": "stderr",
     "output_type": "stream",
     "text": [
      " 10%|█         | 1039/10000 [00:03<00:37, 236.16it/s]"
     ]
    },
    {
     "name": "stdout",
     "output_type": "stream",
     "text": [
      "Step [999/10000], Training Loss: 6.2251, Validation Loss: 6.3019\n"
     ]
    },
    {
     "name": "stderr",
     "output_type": "stream",
     "text": [
      " 20%|██        | 2046/10000 [00:06<00:20, 382.10it/s]"
     ]
    },
    {
     "name": "stdout",
     "output_type": "stream",
     "text": [
      "Step [1999/10000], Training Loss: 6.2433, Validation Loss: 6.2756\n"
     ]
    },
    {
     "name": "stderr",
     "output_type": "stream",
     "text": [
      " 30%|███       | 3036/10000 [00:09<00:27, 256.03it/s]"
     ]
    },
    {
     "name": "stdout",
     "output_type": "stream",
     "text": [
      "Step [2999/10000], Training Loss: 6.5846, Validation Loss: 6.3235\n"
     ]
    },
    {
     "name": "stderr",
     "output_type": "stream",
     "text": [
      " 40%|████      | 4029/10000 [00:13<00:14, 398.44it/s]"
     ]
    },
    {
     "name": "stdout",
     "output_type": "stream",
     "text": [
      "Step [3999/10000], Training Loss: 6.3501, Validation Loss: 6.4041\n"
     ]
    },
    {
     "name": "stderr",
     "output_type": "stream",
     "text": [
      " 50%|█████     | 5033/10000 [00:16<00:16, 308.42it/s]"
     ]
    },
    {
     "name": "stdout",
     "output_type": "stream",
     "text": [
      "Step [4999/10000], Training Loss: 6.3350, Validation Loss: 6.3192\n"
     ]
    },
    {
     "name": "stderr",
     "output_type": "stream",
     "text": [
      " 60%|██████    | 6037/10000 [00:20<00:14, 269.33it/s]"
     ]
    },
    {
     "name": "stdout",
     "output_type": "stream",
     "text": [
      "Step [5999/10000], Training Loss: 6.3107, Validation Loss: 6.2696\n"
     ]
    },
    {
     "name": "stderr",
     "output_type": "stream",
     "text": [
      " 70%|███████   | 7049/10000 [00:24<00:10, 282.32it/s]"
     ]
    },
    {
     "name": "stdout",
     "output_type": "stream",
     "text": [
      "Step [6999/10000], Training Loss: 6.2880, Validation Loss: 6.2502\n"
     ]
    },
    {
     "name": "stderr",
     "output_type": "stream",
     "text": [
      " 80%|████████  | 8050/10000 [00:27<00:07, 256.14it/s]"
     ]
    },
    {
     "name": "stdout",
     "output_type": "stream",
     "text": [
      "Step [7999/10000], Training Loss: 6.3353, Validation Loss: 6.2106\n"
     ]
    },
    {
     "name": "stderr",
     "output_type": "stream",
     "text": [
      " 90%|█████████ | 9048/10000 [00:31<00:02, 318.46it/s]"
     ]
    },
    {
     "name": "stdout",
     "output_type": "stream",
     "text": [
      "Step [8999/10000], Training Loss: 6.3775, Validation Loss: 6.3500\n"
     ]
    },
    {
     "name": "stderr",
     "output_type": "stream",
     "text": [
      "100%|██████████| 10000/10000 [00:33<00:00, 298.21it/s]\n"
     ]
    },
    {
     "name": "stdout",
     "output_type": "stream",
     "text": [
      "Step [9999/10000], Training Loss: 6.3292, Validation Loss: 6.2561\n",
      "Training Loss: 6.4341\n",
      "Number of parameters Y_t94: 109\n"
     ]
    },
    {
     "name": "stderr",
     "output_type": "stream",
     "text": [
      "  0%|          | 0/10000 [00:00<?, ?it/s]"
     ]
    },
    {
     "name": "stdout",
     "output_type": "stream",
     "text": [
      "Step [0/10000], Training Loss: 0.3673, Validation Loss: 0.3695\n"
     ]
    },
    {
     "name": "stderr",
     "output_type": "stream",
     "text": [
      " 10%|█         | 1033/10000 [00:04<00:51, 174.34it/s]"
     ]
    },
    {
     "name": "stdout",
     "output_type": "stream",
     "text": [
      "Step [999/10000], Training Loss: 0.0079, Validation Loss: 0.0078\n"
     ]
    },
    {
     "name": "stderr",
     "output_type": "stream",
     "text": [
      " 20%|██        | 2027/10000 [00:08<00:35, 226.91it/s]"
     ]
    },
    {
     "name": "stdout",
     "output_type": "stream",
     "text": [
      "Step [1999/10000], Training Loss: 0.0008, Validation Loss: 0.0008\n"
     ]
    },
    {
     "name": "stderr",
     "output_type": "stream",
     "text": [
      " 31%|███       | 3058/10000 [00:11<00:19, 360.25it/s]"
     ]
    },
    {
     "name": "stdout",
     "output_type": "stream",
     "text": [
      "Step [2999/10000], Training Loss: 0.0005, Validation Loss: 0.0005\n"
     ]
    },
    {
     "name": "stderr",
     "output_type": "stream",
     "text": [
      " 40%|████      | 4048/10000 [00:14<00:12, 472.99it/s]"
     ]
    },
    {
     "name": "stdout",
     "output_type": "stream",
     "text": [
      "Step [3999/10000], Training Loss: 0.0004, Validation Loss: 0.0004\n"
     ]
    },
    {
     "name": "stderr",
     "output_type": "stream",
     "text": [
      " 51%|█████     | 5055/10000 [00:18<00:18, 268.43it/s]"
     ]
    },
    {
     "name": "stdout",
     "output_type": "stream",
     "text": [
      "Step [4999/10000], Training Loss: 0.0004, Validation Loss: 0.0004\n"
     ]
    },
    {
     "name": "stderr",
     "output_type": "stream",
     "text": [
      " 61%|██████    | 6088/10000 [00:22<00:10, 358.74it/s]"
     ]
    },
    {
     "name": "stdout",
     "output_type": "stream",
     "text": [
      "Step [5999/10000], Training Loss: 0.0004, Validation Loss: 0.0004\n"
     ]
    },
    {
     "name": "stderr",
     "output_type": "stream",
     "text": [
      " 71%|███████   | 7098/10000 [00:25<00:06, 417.72it/s]"
     ]
    },
    {
     "name": "stdout",
     "output_type": "stream",
     "text": [
      "Step [6999/10000], Training Loss: 0.0004, Validation Loss: 0.0004\n"
     ]
    },
    {
     "name": "stderr",
     "output_type": "stream",
     "text": [
      " 80%|████████  | 8019/10000 [00:29<00:07, 254.81it/s]"
     ]
    },
    {
     "name": "stdout",
     "output_type": "stream",
     "text": [
      "Step [7999/10000], Training Loss: 0.0004, Validation Loss: 0.0004\n"
     ]
    },
    {
     "name": "stderr",
     "output_type": "stream",
     "text": [
      " 90%|█████████ | 9029/10000 [00:33<00:03, 264.86it/s]"
     ]
    },
    {
     "name": "stdout",
     "output_type": "stream",
     "text": [
      "Step [8999/10000], Training Loss: 0.0004, Validation Loss: 0.0004\n"
     ]
    },
    {
     "name": "stderr",
     "output_type": "stream",
     "text": [
      "100%|██████████| 10000/10000 [00:37<00:00, 265.10it/s]\n"
     ]
    },
    {
     "name": "stdout",
     "output_type": "stream",
     "text": [
      "Step [9999/10000], Training Loss: 0.0004, Validation Loss: 0.0004\n",
      "Training Loss: 0.0004\n",
      "Mean Euler Error: 4.1778e-06\n",
      "Number of parameters Z_t93: 109\n"
     ]
    },
    {
     "name": "stderr",
     "output_type": "stream",
     "text": [
      "  0%|          | 44/10000 [00:00<00:22, 439.40it/s]"
     ]
    },
    {
     "name": "stdout",
     "output_type": "stream",
     "text": [
      "Step [0/10000], Training Loss: 6.4037, Validation Loss: 6.3619\n"
     ]
    },
    {
     "name": "stderr",
     "output_type": "stream",
     "text": [
      " 10%|█         | 1037/10000 [00:03<00:30, 296.84it/s]"
     ]
    },
    {
     "name": "stdout",
     "output_type": "stream",
     "text": [
      "Step [999/10000], Training Loss: 6.0910, Validation Loss: 6.2435\n"
     ]
    },
    {
     "name": "stderr",
     "output_type": "stream",
     "text": [
      " 20%|██        | 2011/10000 [00:07<00:26, 306.37it/s]"
     ]
    },
    {
     "name": "stdout",
     "output_type": "stream",
     "text": [
      "Step [1999/10000], Training Loss: 6.3487, Validation Loss: 6.2351\n"
     ]
    },
    {
     "name": "stderr",
     "output_type": "stream",
     "text": [
      " 30%|███       | 3041/10000 [00:11<00:27, 253.05it/s]"
     ]
    },
    {
     "name": "stdout",
     "output_type": "stream",
     "text": [
      "Step [2999/10000], Training Loss: 6.2878, Validation Loss: 6.3396\n"
     ]
    },
    {
     "name": "stderr",
     "output_type": "stream",
     "text": [
      " 40%|████      | 4042/10000 [00:14<00:21, 278.68it/s]"
     ]
    },
    {
     "name": "stdout",
     "output_type": "stream",
     "text": [
      "Step [3999/10000], Training Loss: 6.2943, Validation Loss: 6.1393\n"
     ]
    },
    {
     "name": "stderr",
     "output_type": "stream",
     "text": [
      " 50%|█████     | 5043/10000 [00:17<00:15, 321.12it/s]"
     ]
    },
    {
     "name": "stdout",
     "output_type": "stream",
     "text": [
      "Step [4999/10000], Training Loss: 6.1467, Validation Loss: 6.2803\n"
     ]
    },
    {
     "name": "stderr",
     "output_type": "stream",
     "text": [
      " 60%|██████    | 6024/10000 [00:21<00:16, 236.96it/s]"
     ]
    },
    {
     "name": "stdout",
     "output_type": "stream",
     "text": [
      "Step [5999/10000], Training Loss: 6.2864, Validation Loss: 6.1728\n"
     ]
    },
    {
     "name": "stderr",
     "output_type": "stream",
     "text": [
      " 70%|███████   | 7026/10000 [00:24<00:09, 311.62it/s]"
     ]
    },
    {
     "name": "stdout",
     "output_type": "stream",
     "text": [
      "Step [6999/10000], Training Loss: 6.1774, Validation Loss: 6.2344\n"
     ]
    },
    {
     "name": "stderr",
     "output_type": "stream",
     "text": [
      " 81%|████████  | 8090/10000 [00:28<00:04, 403.86it/s]"
     ]
    },
    {
     "name": "stdout",
     "output_type": "stream",
     "text": [
      "Step [7999/10000], Training Loss: 6.1199, Validation Loss: 6.2937\n"
     ]
    },
    {
     "name": "stderr",
     "output_type": "stream",
     "text": [
      " 90%|████████▉ | 8999/10000 [00:31<00:03, 285.08it/s]\n"
     ]
    },
    {
     "name": "stdout",
     "output_type": "stream",
     "text": [
      "Step [8999/10000], Training Loss: 6.2986, Validation Loss: 6.3508\n",
      "Training Loss: 6.2515\n",
      "Number of parameters Y_t93: 109\n"
     ]
    },
    {
     "name": "stderr",
     "output_type": "stream",
     "text": [
      "  0%|          | 45/10000 [00:00<00:23, 417.74it/s]"
     ]
    },
    {
     "name": "stdout",
     "output_type": "stream",
     "text": [
      "Step [0/10000], Training Loss: 0.1163, Validation Loss: 0.1166\n"
     ]
    },
    {
     "name": "stderr",
     "output_type": "stream",
     "text": [
      " 10%|█         | 1042/10000 [00:04<00:34, 256.37it/s]"
     ]
    },
    {
     "name": "stdout",
     "output_type": "stream",
     "text": [
      "Step [999/10000], Training Loss: 0.0037, Validation Loss: 0.0035\n"
     ]
    },
    {
     "name": "stderr",
     "output_type": "stream",
     "text": [
      " 20%|██        | 2049/10000 [00:08<00:32, 247.26it/s]"
     ]
    },
    {
     "name": "stdout",
     "output_type": "stream",
     "text": [
      "Step [1999/10000], Training Loss: 0.0006, Validation Loss: 0.0006\n"
     ]
    },
    {
     "name": "stderr",
     "output_type": "stream",
     "text": [
      " 30%|███       | 3032/10000 [00:13<00:24, 287.18it/s]"
     ]
    },
    {
     "name": "stdout",
     "output_type": "stream",
     "text": [
      "Step [2999/10000], Training Loss: 0.0004, Validation Loss: 0.0004\n"
     ]
    },
    {
     "name": "stderr",
     "output_type": "stream",
     "text": [
      " 41%|████      | 4063/10000 [00:16<00:17, 333.33it/s]"
     ]
    },
    {
     "name": "stdout",
     "output_type": "stream",
     "text": [
      "Step [3999/10000], Training Loss: 0.0004, Validation Loss: 0.0004\n"
     ]
    },
    {
     "name": "stderr",
     "output_type": "stream",
     "text": [
      " 50%|█████     | 5025/10000 [00:20<00:25, 192.83it/s]"
     ]
    },
    {
     "name": "stdout",
     "output_type": "stream",
     "text": [
      "Step [4999/10000], Training Loss: 0.0004, Validation Loss: 0.0004\n"
     ]
    },
    {
     "name": "stderr",
     "output_type": "stream",
     "text": [
      " 61%|██████    | 6101/10000 [00:24<00:08, 466.12it/s]"
     ]
    },
    {
     "name": "stdout",
     "output_type": "stream",
     "text": [
      "Step [5999/10000], Training Loss: 0.0004, Validation Loss: 0.0004\n"
     ]
    },
    {
     "name": "stderr",
     "output_type": "stream",
     "text": [
      " 71%|███████   | 7055/10000 [00:28<00:09, 315.89it/s]"
     ]
    },
    {
     "name": "stdout",
     "output_type": "stream",
     "text": [
      "Step [6999/10000], Training Loss: 0.0004, Validation Loss: 0.0004\n"
     ]
    },
    {
     "name": "stderr",
     "output_type": "stream",
     "text": [
      " 80%|████████  | 8046/10000 [00:31<00:07, 264.16it/s]"
     ]
    },
    {
     "name": "stdout",
     "output_type": "stream",
     "text": [
      "Step [7999/10000], Training Loss: 0.0004, Validation Loss: 0.0004\n"
     ]
    },
    {
     "name": "stderr",
     "output_type": "stream",
     "text": [
      " 90%|█████████ | 9020/10000 [00:35<00:05, 186.00it/s]"
     ]
    },
    {
     "name": "stdout",
     "output_type": "stream",
     "text": [
      "Step [8999/10000], Training Loss: 0.0004, Validation Loss: 0.0004\n"
     ]
    },
    {
     "name": "stderr",
     "output_type": "stream",
     "text": [
      "100%|██████████| 10000/10000 [00:39<00:00, 254.28it/s]\n"
     ]
    },
    {
     "name": "stdout",
     "output_type": "stream",
     "text": [
      "Step [9999/10000], Training Loss: 0.0004, Validation Loss: 0.0004\n",
      "Training Loss: 0.0004\n",
      "Mean Euler Error: 4.8776e-06\n",
      "Number of parameters Z_t92: 109\n"
     ]
    },
    {
     "name": "stderr",
     "output_type": "stream",
     "text": [
      "  0%|          | 0/10000 [00:00<?, ?it/s]"
     ]
    },
    {
     "name": "stdout",
     "output_type": "stream",
     "text": [
      "Step [0/10000], Training Loss: 6.3909, Validation Loss: 6.2199\n"
     ]
    },
    {
     "name": "stderr",
     "output_type": "stream",
     "text": [
      " 10%|█         | 1031/10000 [00:04<00:48, 184.17it/s]"
     ]
    },
    {
     "name": "stdout",
     "output_type": "stream",
     "text": [
      "Step [999/10000], Training Loss: 6.2478, Validation Loss: 6.2310\n"
     ]
    },
    {
     "name": "stderr",
     "output_type": "stream",
     "text": [
      " 20%|██        | 2021/10000 [00:08<00:33, 240.12it/s]"
     ]
    },
    {
     "name": "stdout",
     "output_type": "stream",
     "text": [
      "Step [1999/10000], Training Loss: 6.1814, Validation Loss: 6.2542\n"
     ]
    },
    {
     "name": "stderr",
     "output_type": "stream",
     "text": [
      " 31%|███       | 3079/10000 [00:12<00:20, 345.01it/s]"
     ]
    },
    {
     "name": "stdout",
     "output_type": "stream",
     "text": [
      "Step [2999/10000], Training Loss: 6.2295, Validation Loss: 6.1221\n"
     ]
    },
    {
     "name": "stderr",
     "output_type": "stream",
     "text": [
      " 40%|████      | 4035/10000 [00:15<00:19, 303.27it/s]"
     ]
    },
    {
     "name": "stdout",
     "output_type": "stream",
     "text": [
      "Step [3999/10000], Training Loss: 6.2309, Validation Loss: 6.2857\n"
     ]
    },
    {
     "name": "stderr",
     "output_type": "stream",
     "text": [
      " 50%|█████     | 5037/10000 [00:19<00:21, 228.53it/s]"
     ]
    },
    {
     "name": "stdout",
     "output_type": "stream",
     "text": [
      "Step [4999/10000], Training Loss: 6.1831, Validation Loss: 6.2804\n"
     ]
    },
    {
     "name": "stderr",
     "output_type": "stream",
     "text": [
      " 60%|██████    | 6050/10000 [00:23<00:15, 262.82it/s]"
     ]
    },
    {
     "name": "stdout",
     "output_type": "stream",
     "text": [
      "Step [5999/10000], Training Loss: 6.2457, Validation Loss: 6.2795\n"
     ]
    },
    {
     "name": "stderr",
     "output_type": "stream",
     "text": [
      " 70%|███████   | 7041/10000 [00:27<00:10, 287.89it/s]"
     ]
    },
    {
     "name": "stdout",
     "output_type": "stream",
     "text": [
      "Step [6999/10000], Training Loss: 6.3596, Validation Loss: 6.1437\n"
     ]
    },
    {
     "name": "stderr",
     "output_type": "stream",
     "text": [
      " 80%|███████▉  | 7999/10000 [00:31<00:07, 255.89it/s]\n"
     ]
    },
    {
     "name": "stdout",
     "output_type": "stream",
     "text": [
      "Step [7999/10000], Training Loss: 6.3221, Validation Loss: 6.2134\n",
      "Training Loss: 6.1378\n",
      "Number of parameters Y_t92: 109\n"
     ]
    },
    {
     "name": "stderr",
     "output_type": "stream",
     "text": [
      "  0%|          | 14/10000 [00:00<01:12, 137.45it/s]"
     ]
    },
    {
     "name": "stdout",
     "output_type": "stream",
     "text": [
      "Step [0/10000], Training Loss: 0.0607, Validation Loss: 0.0619\n"
     ]
    },
    {
     "name": "stderr",
     "output_type": "stream",
     "text": [
      " 10%|▉         | 999/10000 [00:03<00:36, 247.60it/s]"
     ]
    },
    {
     "name": "stdout",
     "output_type": "stream",
     "text": [
      "Step [999/10000], Training Loss: 0.0026, Validation Loss: 0.0026\n"
     ]
    },
    {
     "name": "stderr",
     "output_type": "stream",
     "text": [
      " 21%|██        | 2067/10000 [00:07<00:31, 255.06it/s]"
     ]
    },
    {
     "name": "stdout",
     "output_type": "stream",
     "text": [
      "Step [1999/10000], Training Loss: 0.0006, Validation Loss: 0.0006\n"
     ]
    },
    {
     "name": "stderr",
     "output_type": "stream",
     "text": [
      " 30%|███       | 3022/10000 [00:10<00:27, 250.30it/s]"
     ]
    },
    {
     "name": "stdout",
     "output_type": "stream",
     "text": [
      "Step [2999/10000], Training Loss: 0.0004, Validation Loss: 0.0004\n"
     ]
    },
    {
     "name": "stderr",
     "output_type": "stream",
     "text": [
      " 40%|████      | 4038/10000 [00:15<00:21, 280.59it/s]"
     ]
    },
    {
     "name": "stdout",
     "output_type": "stream",
     "text": [
      "Step [3999/10000], Training Loss: 0.0004, Validation Loss: 0.0004\n"
     ]
    },
    {
     "name": "stderr",
     "output_type": "stream",
     "text": [
      " 50%|█████     | 5017/10000 [00:18<00:24, 201.27it/s]"
     ]
    },
    {
     "name": "stdout",
     "output_type": "stream",
     "text": [
      "Step [4999/10000], Training Loss: 0.0004, Validation Loss: 0.0004\n"
     ]
    },
    {
     "name": "stderr",
     "output_type": "stream",
     "text": [
      " 60%|██████    | 6029/10000 [00:22<00:17, 229.67it/s]"
     ]
    },
    {
     "name": "stdout",
     "output_type": "stream",
     "text": [
      "Step [5999/10000], Training Loss: 0.0004, Validation Loss: 0.0004\n"
     ]
    },
    {
     "name": "stderr",
     "output_type": "stream",
     "text": [
      " 70%|███████   | 7049/10000 [00:26<00:08, 344.02it/s]"
     ]
    },
    {
     "name": "stdout",
     "output_type": "stream",
     "text": [
      "Step [6999/10000], Training Loss: 0.0004, Validation Loss: 0.0004\n"
     ]
    },
    {
     "name": "stderr",
     "output_type": "stream",
     "text": [
      " 80%|████████  | 8041/10000 [00:30<00:09, 209.68it/s]"
     ]
    },
    {
     "name": "stdout",
     "output_type": "stream",
     "text": [
      "Step [7999/10000], Training Loss: 0.0004, Validation Loss: 0.0004\n"
     ]
    },
    {
     "name": "stderr",
     "output_type": "stream",
     "text": [
      " 90%|█████████ | 9025/10000 [00:33<00:03, 245.23it/s]"
     ]
    },
    {
     "name": "stdout",
     "output_type": "stream",
     "text": [
      "Step [8999/10000], Training Loss: 0.0004, Validation Loss: 0.0004\n"
     ]
    },
    {
     "name": "stderr",
     "output_type": "stream",
     "text": [
      "100%|██████████| 10000/10000 [00:37<00:00, 266.06it/s]\n"
     ]
    },
    {
     "name": "stdout",
     "output_type": "stream",
     "text": [
      "Step [9999/10000], Training Loss: 0.0004, Validation Loss: 0.0004\n",
      "Training Loss: 0.0004\n",
      "Mean Euler Error: 2.4701e-06\n",
      "Number of parameters Z_t91: 109\n"
     ]
    },
    {
     "name": "stderr",
     "output_type": "stream",
     "text": [
      "  0%|          | 0/10000 [00:00<?, ?it/s]"
     ]
    },
    {
     "name": "stdout",
     "output_type": "stream",
     "text": [
      "Step [0/10000], Training Loss: 7.3511, Validation Loss: 7.4574\n"
     ]
    },
    {
     "name": "stderr",
     "output_type": "stream",
     "text": [
      " 11%|█         | 1062/10000 [00:03<00:28, 318.82it/s]"
     ]
    },
    {
     "name": "stdout",
     "output_type": "stream",
     "text": [
      "Step [999/10000], Training Loss: 6.2890, Validation Loss: 6.2530\n"
     ]
    },
    {
     "name": "stderr",
     "output_type": "stream",
     "text": [
      " 21%|██        | 2072/10000 [00:06<00:16, 487.73it/s]"
     ]
    },
    {
     "name": "stdout",
     "output_type": "stream",
     "text": [
      "Step [1999/10000], Training Loss: 6.0434, Validation Loss: 6.1507\n"
     ]
    },
    {
     "name": "stderr",
     "output_type": "stream",
     "text": [
      " 30%|███       | 3042/10000 [00:10<00:26, 262.09it/s]"
     ]
    },
    {
     "name": "stdout",
     "output_type": "stream",
     "text": [
      "Step [2999/10000], Training Loss: 6.2416, Validation Loss: 6.1990\n"
     ]
    },
    {
     "name": "stderr",
     "output_type": "stream",
     "text": [
      " 41%|████      | 4063/10000 [00:14<00:21, 270.29it/s]"
     ]
    },
    {
     "name": "stdout",
     "output_type": "stream",
     "text": [
      "Step [3999/10000], Training Loss: 6.1928, Validation Loss: 6.2268\n"
     ]
    },
    {
     "name": "stderr",
     "output_type": "stream",
     "text": [
      " 50%|█████     | 5040/10000 [00:17<00:14, 342.27it/s]"
     ]
    },
    {
     "name": "stdout",
     "output_type": "stream",
     "text": [
      "Step [4999/10000], Training Loss: 6.3395, Validation Loss: 6.2390\n"
     ]
    },
    {
     "name": "stderr",
     "output_type": "stream",
     "text": [
      " 61%|██████    | 6074/10000 [00:20<00:08, 441.28it/s]"
     ]
    },
    {
     "name": "stdout",
     "output_type": "stream",
     "text": [
      "Step [5999/10000], Training Loss: 6.2175, Validation Loss: 6.2226\n"
     ]
    },
    {
     "name": "stderr",
     "output_type": "stream",
     "text": [
      " 70%|██████▉   | 6999/10000 [00:23<00:10, 295.90it/s]\n"
     ]
    },
    {
     "name": "stdout",
     "output_type": "stream",
     "text": [
      "Step [6999/10000], Training Loss: 6.1664, Validation Loss: 6.2567\n",
      "Training Loss: 6.1000\n",
      "Number of parameters Y_t91: 109\n"
     ]
    },
    {
     "name": "stderr",
     "output_type": "stream",
     "text": [
      "  1%|          | 59/10000 [00:00<00:16, 589.30it/s]"
     ]
    },
    {
     "name": "stdout",
     "output_type": "stream",
     "text": [
      "Step [0/10000], Training Loss: 0.0357, Validation Loss: 0.0357\n"
     ]
    },
    {
     "name": "stderr",
     "output_type": "stream",
     "text": [
      " 10%|█         | 1039/10000 [00:03<00:28, 317.68it/s]"
     ]
    },
    {
     "name": "stdout",
     "output_type": "stream",
     "text": [
      "Step [999/10000], Training Loss: 0.0042, Validation Loss: 0.0042\n"
     ]
    },
    {
     "name": "stderr",
     "output_type": "stream",
     "text": [
      " 21%|██        | 2074/10000 [00:06<00:25, 305.56it/s]"
     ]
    },
    {
     "name": "stdout",
     "output_type": "stream",
     "text": [
      "Step [1999/10000], Training Loss: 0.0008, Validation Loss: 0.0008\n"
     ]
    },
    {
     "name": "stderr",
     "output_type": "stream",
     "text": [
      " 30%|███       | 3021/10000 [00:09<00:26, 260.31it/s]"
     ]
    },
    {
     "name": "stdout",
     "output_type": "stream",
     "text": [
      "Step [2999/10000], Training Loss: 0.0005, Validation Loss: 0.0005\n"
     ]
    },
    {
     "name": "stderr",
     "output_type": "stream",
     "text": [
      " 40%|████      | 4041/10000 [00:12<00:19, 311.65it/s]"
     ]
    },
    {
     "name": "stdout",
     "output_type": "stream",
     "text": [
      "Step [3999/10000], Training Loss: 0.0004, Validation Loss: 0.0004\n"
     ]
    },
    {
     "name": "stderr",
     "output_type": "stream",
     "text": [
      " 50%|█████     | 5045/10000 [00:16<00:15, 313.41it/s]"
     ]
    },
    {
     "name": "stdout",
     "output_type": "stream",
     "text": [
      "Step [4999/10000], Training Loss: 0.0004, Validation Loss: 0.0004\n"
     ]
    },
    {
     "name": "stderr",
     "output_type": "stream",
     "text": [
      " 60%|██████    | 6035/10000 [00:19<00:07, 516.88it/s]"
     ]
    },
    {
     "name": "stdout",
     "output_type": "stream",
     "text": [
      "Step [5999/10000], Training Loss: 0.0004, Validation Loss: 0.0004\n"
     ]
    },
    {
     "name": "stderr",
     "output_type": "stream",
     "text": [
      " 70%|███████   | 7025/10000 [00:21<00:06, 450.14it/s]"
     ]
    },
    {
     "name": "stdout",
     "output_type": "stream",
     "text": [
      "Step [6999/10000], Training Loss: 0.0004, Validation Loss: 0.0004\n"
     ]
    },
    {
     "name": "stderr",
     "output_type": "stream",
     "text": [
      " 80%|████████  | 8042/10000 [00:24<00:05, 332.28it/s]"
     ]
    },
    {
     "name": "stdout",
     "output_type": "stream",
     "text": [
      "Step [7999/10000], Training Loss: 0.0004, Validation Loss: 0.0004\n"
     ]
    },
    {
     "name": "stderr",
     "output_type": "stream",
     "text": [
      " 90%|█████████ | 9029/10000 [00:28<00:03, 267.66it/s]"
     ]
    },
    {
     "name": "stdout",
     "output_type": "stream",
     "text": [
      "Step [8999/10000], Training Loss: 0.0004, Validation Loss: 0.0004\n"
     ]
    },
    {
     "name": "stderr",
     "output_type": "stream",
     "text": [
      "100%|██████████| 10000/10000 [00:31<00:00, 320.73it/s]\n"
     ]
    },
    {
     "name": "stdout",
     "output_type": "stream",
     "text": [
      "Step [9999/10000], Training Loss: 0.0004, Validation Loss: 0.0004\n",
      "Training Loss: 0.0004\n",
      "Mean Euler Error: 6.0405e-06\n",
      "Number of parameters Z_t90: 109\n"
     ]
    },
    {
     "name": "stderr",
     "output_type": "stream",
     "text": [
      "  0%|          | 19/10000 [00:00<00:53, 188.28it/s]"
     ]
    },
    {
     "name": "stdout",
     "output_type": "stream",
     "text": [
      "Step [0/10000], Training Loss: 5.9455, Validation Loss: 6.1374\n"
     ]
    },
    {
     "name": "stderr",
     "output_type": "stream",
     "text": [
      " 10%|█         | 1037/10000 [00:03<00:26, 332.73it/s]"
     ]
    },
    {
     "name": "stdout",
     "output_type": "stream",
     "text": [
      "Step [999/10000], Training Loss: 6.2126, Validation Loss: 6.2533\n"
     ]
    },
    {
     "name": "stderr",
     "output_type": "stream",
     "text": [
      " 21%|██        | 2063/10000 [00:07<00:24, 323.22it/s]"
     ]
    },
    {
     "name": "stdout",
     "output_type": "stream",
     "text": [
      "Step [1999/10000], Training Loss: 6.2745, Validation Loss: 6.2188\n"
     ]
    },
    {
     "name": "stderr",
     "output_type": "stream",
     "text": [
      " 30%|███       | 3023/10000 [00:11<00:27, 253.14it/s]"
     ]
    },
    {
     "name": "stdout",
     "output_type": "stream",
     "text": [
      "Step [2999/10000], Training Loss: 6.2749, Validation Loss: 6.1527\n"
     ]
    },
    {
     "name": "stderr",
     "output_type": "stream",
     "text": [
      " 41%|████      | 4071/10000 [00:15<00:17, 337.16it/s]"
     ]
    },
    {
     "name": "stdout",
     "output_type": "stream",
     "text": [
      "Step [3999/10000], Training Loss: 6.1123, Validation Loss: 6.1486\n"
     ]
    },
    {
     "name": "stderr",
     "output_type": "stream",
     "text": [
      " 50%|████▉     | 4999/10000 [00:18<00:18, 267.51it/s]\n"
     ]
    },
    {
     "name": "stdout",
     "output_type": "stream",
     "text": [
      "Step [4999/10000], Training Loss: 6.1959, Validation Loss: 6.2319\n",
      "Training Loss: 6.2458\n",
      "Number of parameters Y_t90: 109\n"
     ]
    },
    {
     "name": "stderr",
     "output_type": "stream",
     "text": [
      "  0%|          | 0/10000 [00:00<?, ?it/s]"
     ]
    },
    {
     "name": "stdout",
     "output_type": "stream",
     "text": [
      "Step [0/10000], Training Loss: 0.1269, Validation Loss: 0.1269\n"
     ]
    },
    {
     "name": "stderr",
     "output_type": "stream",
     "text": [
      " 11%|█         | 1074/10000 [00:03<00:26, 339.22it/s]"
     ]
    },
    {
     "name": "stdout",
     "output_type": "stream",
     "text": [
      "Step [999/10000], Training Loss: 0.0082, Validation Loss: 0.0082\n"
     ]
    },
    {
     "name": "stderr",
     "output_type": "stream",
     "text": [
      " 20%|██        | 2042/10000 [00:07<00:33, 234.37it/s]"
     ]
    },
    {
     "name": "stdout",
     "output_type": "stream",
     "text": [
      "Step [1999/10000], Training Loss: 0.0012, Validation Loss: 0.0012\n"
     ]
    },
    {
     "name": "stderr",
     "output_type": "stream",
     "text": [
      " 31%|███       | 3060/10000 [00:10<00:18, 378.20it/s]"
     ]
    },
    {
     "name": "stdout",
     "output_type": "stream",
     "text": [
      "Step [2999/10000], Training Loss: 0.0006, Validation Loss: 0.0006\n"
     ]
    },
    {
     "name": "stderr",
     "output_type": "stream",
     "text": [
      " 40%|████      | 4043/10000 [00:13<00:22, 269.75it/s]"
     ]
    },
    {
     "name": "stdout",
     "output_type": "stream",
     "text": [
      "Step [3999/10000], Training Loss: 0.0004, Validation Loss: 0.0004\n"
     ]
    },
    {
     "name": "stderr",
     "output_type": "stream",
     "text": [
      " 50%|█████     | 5033/10000 [00:17<00:15, 315.23it/s]"
     ]
    },
    {
     "name": "stdout",
     "output_type": "stream",
     "text": [
      "Step [4999/10000], Training Loss: 0.0004, Validation Loss: 0.0004\n"
     ]
    },
    {
     "name": "stderr",
     "output_type": "stream",
     "text": [
      " 61%|██████    | 6053/10000 [00:20<00:11, 331.23it/s]"
     ]
    },
    {
     "name": "stdout",
     "output_type": "stream",
     "text": [
      "Step [5999/10000], Training Loss: 0.0004, Validation Loss: 0.0004\n"
     ]
    },
    {
     "name": "stderr",
     "output_type": "stream",
     "text": [
      " 71%|███████   | 7068/10000 [00:23<00:06, 470.05it/s]"
     ]
    },
    {
     "name": "stdout",
     "output_type": "stream",
     "text": [
      "Step [6999/10000], Training Loss: 0.0004, Validation Loss: 0.0004\n"
     ]
    },
    {
     "name": "stderr",
     "output_type": "stream",
     "text": [
      " 81%|████████  | 8060/10000 [00:25<00:04, 410.96it/s]"
     ]
    },
    {
     "name": "stdout",
     "output_type": "stream",
     "text": [
      "Step [7999/10000], Training Loss: 0.0004, Validation Loss: 0.0004\n"
     ]
    },
    {
     "name": "stderr",
     "output_type": "stream",
     "text": [
      " 90%|█████████ | 9049/10000 [00:28<00:02, 448.71it/s]"
     ]
    },
    {
     "name": "stdout",
     "output_type": "stream",
     "text": [
      "Step [8999/10000], Training Loss: 0.0004, Validation Loss: 0.0004\n"
     ]
    },
    {
     "name": "stderr",
     "output_type": "stream",
     "text": [
      "100%|██████████| 10000/10000 [00:31<00:00, 316.00it/s]\n"
     ]
    },
    {
     "name": "stdout",
     "output_type": "stream",
     "text": [
      "Step [9999/10000], Training Loss: 0.0004, Validation Loss: 0.0004\n",
      "Training Loss: 0.0004\n",
      "Mean Euler Error: 4.3547e-06\n",
      "Number of parameters Z_t89: 109\n"
     ]
    },
    {
     "name": "stderr",
     "output_type": "stream",
     "text": [
      "  0%|          | 0/10000 [00:00<?, ?it/s]"
     ]
    },
    {
     "name": "stdout",
     "output_type": "stream",
     "text": [
      "Step [0/10000], Training Loss: 6.1985, Validation Loss: 6.1315\n"
     ]
    },
    {
     "name": "stderr",
     "output_type": "stream",
     "text": [
      " 11%|█         | 1056/10000 [00:03<00:27, 329.55it/s]"
     ]
    },
    {
     "name": "stdout",
     "output_type": "stream",
     "text": [
      "Step [999/10000], Training Loss: 6.0372, Validation Loss: 6.1523\n"
     ]
    },
    {
     "name": "stderr",
     "output_type": "stream",
     "text": [
      " 21%|██        | 2063/10000 [00:07<00:27, 288.50it/s]"
     ]
    },
    {
     "name": "stdout",
     "output_type": "stream",
     "text": [
      "Step [1999/10000], Training Loss: 6.0815, Validation Loss: 6.2188\n"
     ]
    },
    {
     "name": "stderr",
     "output_type": "stream",
     "text": [
      " 31%|███       | 3051/10000 [00:10<00:20, 331.75it/s]"
     ]
    },
    {
     "name": "stdout",
     "output_type": "stream",
     "text": [
      "Step [2999/10000], Training Loss: 6.1587, Validation Loss: 6.0278\n"
     ]
    },
    {
     "name": "stderr",
     "output_type": "stream",
     "text": [
      " 40%|████      | 4030/10000 [00:14<00:25, 236.50it/s]"
     ]
    },
    {
     "name": "stdout",
     "output_type": "stream",
     "text": [
      "Step [3999/10000], Training Loss: 6.1168, Validation Loss: 6.1961\n"
     ]
    },
    {
     "name": "stderr",
     "output_type": "stream",
     "text": [
      " 51%|█████     | 5056/10000 [00:18<00:17, 284.86it/s]"
     ]
    },
    {
     "name": "stdout",
     "output_type": "stream",
     "text": [
      "Step [4999/10000], Training Loss: 6.0651, Validation Loss: 6.2623\n"
     ]
    },
    {
     "name": "stderr",
     "output_type": "stream",
     "text": [
      " 60%|██████    | 6027/10000 [00:21<00:16, 237.79it/s]"
     ]
    },
    {
     "name": "stdout",
     "output_type": "stream",
     "text": [
      "Step [5999/10000], Training Loss: 6.1905, Validation Loss: 6.1424\n"
     ]
    },
    {
     "name": "stderr",
     "output_type": "stream",
     "text": [
      " 71%|███████   | 7108/10000 [00:26<00:08, 347.40it/s]"
     ]
    },
    {
     "name": "stdout",
     "output_type": "stream",
     "text": [
      "Step [6999/10000], Training Loss: 6.1783, Validation Loss: 6.1097\n"
     ]
    },
    {
     "name": "stderr",
     "output_type": "stream",
     "text": [
      " 80%|███████▉  | 7999/10000 [00:29<00:07, 269.32it/s]\n"
     ]
    },
    {
     "name": "stdout",
     "output_type": "stream",
     "text": [
      "Step [7999/10000], Training Loss: 6.1972, Validation Loss: 6.1636\n",
      "Training Loss: 6.0629\n",
      "Number of parameters Y_t89: 109\n"
     ]
    },
    {
     "name": "stderr",
     "output_type": "stream",
     "text": [
      "  0%|          | 0/10000 [00:00<?, ?it/s]"
     ]
    },
    {
     "name": "stdout",
     "output_type": "stream",
     "text": [
      "Step [0/10000], Training Loss: 0.0692, Validation Loss: 0.0695\n"
     ]
    },
    {
     "name": "stderr",
     "output_type": "stream",
     "text": [
      " 10%|█         | 1000/10000 [00:03<00:18, 479.41it/s]"
     ]
    },
    {
     "name": "stdout",
     "output_type": "stream",
     "text": [
      "Step [999/10000], Training Loss: 0.0049, Validation Loss: 0.0048\n"
     ]
    },
    {
     "name": "stderr",
     "output_type": "stream",
     "text": [
      " 21%|██        | 2072/10000 [00:07<00:24, 323.99it/s]"
     ]
    },
    {
     "name": "stdout",
     "output_type": "stream",
     "text": [
      "Step [1999/10000], Training Loss: 0.0006, Validation Loss: 0.0006\n"
     ]
    },
    {
     "name": "stderr",
     "output_type": "stream",
     "text": [
      " 30%|███       | 3035/10000 [00:10<00:27, 249.43it/s]"
     ]
    },
    {
     "name": "stdout",
     "output_type": "stream",
     "text": [
      "Step [2999/10000], Training Loss: 0.0004, Validation Loss: 0.0004\n"
     ]
    },
    {
     "name": "stderr",
     "output_type": "stream",
     "text": [
      " 40%|████      | 4033/10000 [00:14<00:28, 207.59it/s]"
     ]
    },
    {
     "name": "stdout",
     "output_type": "stream",
     "text": [
      "Step [3999/10000], Training Loss: 0.0004, Validation Loss: 0.0004\n"
     ]
    },
    {
     "name": "stderr",
     "output_type": "stream",
     "text": [
      " 50%|█████     | 5007/10000 [00:17<00:12, 388.99it/s]"
     ]
    },
    {
     "name": "stdout",
     "output_type": "stream",
     "text": [
      "Step [4999/10000], Training Loss: 0.0004, Validation Loss: 0.0004\n"
     ]
    },
    {
     "name": "stderr",
     "output_type": "stream",
     "text": [
      " 61%|██████    | 6051/10000 [00:20<00:11, 330.83it/s]"
     ]
    },
    {
     "name": "stdout",
     "output_type": "stream",
     "text": [
      "Step [5999/10000], Training Loss: 0.0004, Validation Loss: 0.0004\n"
     ]
    },
    {
     "name": "stderr",
     "output_type": "stream",
     "text": [
      " 70%|███████   | 7026/10000 [00:23<00:07, 379.70it/s]"
     ]
    },
    {
     "name": "stdout",
     "output_type": "stream",
     "text": [
      "Step [6999/10000], Training Loss: 0.0004, Validation Loss: 0.0004\n"
     ]
    },
    {
     "name": "stderr",
     "output_type": "stream",
     "text": [
      " 80%|████████  | 8038/10000 [00:26<00:08, 239.78it/s]"
     ]
    },
    {
     "name": "stdout",
     "output_type": "stream",
     "text": [
      "Step [7999/10000], Training Loss: 0.0004, Validation Loss: 0.0004\n"
     ]
    },
    {
     "name": "stderr",
     "output_type": "stream",
     "text": [
      " 90%|█████████ | 9034/10000 [00:30<00:02, 341.44it/s]"
     ]
    },
    {
     "name": "stdout",
     "output_type": "stream",
     "text": [
      "Step [8999/10000], Training Loss: 0.0004, Validation Loss: 0.0004\n"
     ]
    },
    {
     "name": "stderr",
     "output_type": "stream",
     "text": [
      "100%|██████████| 10000/10000 [00:33<00:00, 294.19it/s]\n"
     ]
    },
    {
     "name": "stdout",
     "output_type": "stream",
     "text": [
      "Step [9999/10000], Training Loss: 0.0004, Validation Loss: 0.0004\n",
      "Training Loss: 0.0004\n",
      "Mean Euler Error: 5.1076e-06\n",
      "Number of parameters Z_t88: 109\n"
     ]
    },
    {
     "name": "stderr",
     "output_type": "stream",
     "text": [
      "  0%|          | 24/10000 [00:00<00:42, 237.38it/s]"
     ]
    },
    {
     "name": "stdout",
     "output_type": "stream",
     "text": [
      "Step [0/10000], Training Loss: 7.1765, Validation Loss: 7.0961\n"
     ]
    },
    {
     "name": "stderr",
     "output_type": "stream",
     "text": [
      " 10%|█         | 1005/10000 [00:03<00:24, 370.77it/s]"
     ]
    },
    {
     "name": "stdout",
     "output_type": "stream",
     "text": [
      "Step [999/10000], Training Loss: 6.1849, Validation Loss: 6.1977\n"
     ]
    },
    {
     "name": "stderr",
     "output_type": "stream",
     "text": [
      " 21%|██        | 2062/10000 [00:06<00:23, 342.43it/s]"
     ]
    },
    {
     "name": "stdout",
     "output_type": "stream",
     "text": [
      "Step [1999/10000], Training Loss: 5.9207, Validation Loss: 6.1288\n"
     ]
    },
    {
     "name": "stderr",
     "output_type": "stream",
     "text": [
      " 30%|███       | 3018/10000 [00:10<00:25, 269.90it/s]"
     ]
    },
    {
     "name": "stdout",
     "output_type": "stream",
     "text": [
      "Step [2999/10000], Training Loss: 5.9957, Validation Loss: 6.1893\n"
     ]
    },
    {
     "name": "stderr",
     "output_type": "stream",
     "text": [
      " 40%|████      | 4026/10000 [00:14<00:26, 221.69it/s]"
     ]
    },
    {
     "name": "stdout",
     "output_type": "stream",
     "text": [
      "Step [3999/10000], Training Loss: 6.1140, Validation Loss: 6.1895\n"
     ]
    },
    {
     "name": "stderr",
     "output_type": "stream",
     "text": [
      " 50%|█████     | 5038/10000 [00:17<00:15, 330.38it/s]"
     ]
    },
    {
     "name": "stdout",
     "output_type": "stream",
     "text": [
      "Step [4999/10000], Training Loss: 6.0972, Validation Loss: 6.1049\n"
     ]
    },
    {
     "name": "stderr",
     "output_type": "stream",
     "text": [
      " 60%|██████    | 6025/10000 [00:21<00:17, 223.52it/s]"
     ]
    },
    {
     "name": "stdout",
     "output_type": "stream",
     "text": [
      "Step [5999/10000], Training Loss: 6.1573, Validation Loss: 6.0142\n"
     ]
    },
    {
     "name": "stderr",
     "output_type": "stream",
     "text": [
      " 71%|███████   | 7077/10000 [00:24<00:07, 384.95it/s]"
     ]
    },
    {
     "name": "stdout",
     "output_type": "stream",
     "text": [
      "Step [6999/10000], Training Loss: 6.0775, Validation Loss: 6.1128\n"
     ]
    },
    {
     "name": "stderr",
     "output_type": "stream",
     "text": [
      " 81%|████████  | 8071/10000 [00:27<00:04, 402.70it/s]"
     ]
    },
    {
     "name": "stdout",
     "output_type": "stream",
     "text": [
      "Step [7999/10000], Training Loss: 6.4158, Validation Loss: 6.2937\n"
     ]
    },
    {
     "name": "stderr",
     "output_type": "stream",
     "text": [
      " 90%|█████████ | 9034/10000 [00:30<00:03, 307.51it/s]"
     ]
    },
    {
     "name": "stdout",
     "output_type": "stream",
     "text": [
      "Step [8999/10000], Training Loss: 6.1930, Validation Loss: 6.1092\n"
     ]
    },
    {
     "name": "stderr",
     "output_type": "stream",
     "text": [
      "100%|██████████| 10000/10000 [00:34<00:00, 291.67it/s]\n"
     ]
    },
    {
     "name": "stdout",
     "output_type": "stream",
     "text": [
      "Step [9999/10000], Training Loss: 6.1922, Validation Loss: 6.1838\n",
      "Training Loss: 6.1816\n",
      "Number of parameters Y_t88: 109\n"
     ]
    },
    {
     "name": "stderr",
     "output_type": "stream",
     "text": [
      "  0%|          | 0/10000 [00:00<?, ?it/s]"
     ]
    },
    {
     "name": "stdout",
     "output_type": "stream",
     "text": [
      "Step [0/10000], Training Loss: 0.0308, Validation Loss: 0.0309\n"
     ]
    },
    {
     "name": "stderr",
     "output_type": "stream",
     "text": [
      " 10%|█         | 1045/10000 [00:03<00:28, 319.05it/s]"
     ]
    },
    {
     "name": "stdout",
     "output_type": "stream",
     "text": [
      "Step [999/10000], Training Loss: 0.0018, Validation Loss: 0.0018\n"
     ]
    },
    {
     "name": "stderr",
     "output_type": "stream",
     "text": [
      " 21%|██        | 2096/10000 [00:07<00:21, 369.02it/s]"
     ]
    },
    {
     "name": "stdout",
     "output_type": "stream",
     "text": [
      "Step [1999/10000], Training Loss: 0.0007, Validation Loss: 0.0007\n"
     ]
    },
    {
     "name": "stderr",
     "output_type": "stream",
     "text": [
      " 30%|███       | 3028/10000 [00:10<00:40, 171.51it/s]"
     ]
    },
    {
     "name": "stdout",
     "output_type": "stream",
     "text": [
      "Step [2999/10000], Training Loss: 0.0006, Validation Loss: 0.0006\n"
     ]
    },
    {
     "name": "stderr",
     "output_type": "stream",
     "text": [
      " 40%|████      | 4008/10000 [00:14<00:25, 233.96it/s]"
     ]
    },
    {
     "name": "stdout",
     "output_type": "stream",
     "text": [
      "Step [3999/10000], Training Loss: 0.0005, Validation Loss: 0.0005\n"
     ]
    },
    {
     "name": "stderr",
     "output_type": "stream",
     "text": [
      " 50%|█████     | 5011/10000 [00:17<00:17, 285.02it/s]"
     ]
    },
    {
     "name": "stdout",
     "output_type": "stream",
     "text": [
      "Step [4999/10000], Training Loss: 0.0004, Validation Loss: 0.0004\n"
     ]
    },
    {
     "name": "stderr",
     "output_type": "stream",
     "text": [
      " 60%|██████    | 6030/10000 [00:22<00:16, 233.85it/s]"
     ]
    },
    {
     "name": "stdout",
     "output_type": "stream",
     "text": [
      "Step [5999/10000], Training Loss: 0.0004, Validation Loss: 0.0004\n"
     ]
    },
    {
     "name": "stderr",
     "output_type": "stream",
     "text": [
      " 70%|███████   | 7009/10000 [00:27<00:16, 183.90it/s]"
     ]
    },
    {
     "name": "stdout",
     "output_type": "stream",
     "text": [
      "Step [6999/10000], Training Loss: 0.0004, Validation Loss: 0.0004\n"
     ]
    },
    {
     "name": "stderr",
     "output_type": "stream",
     "text": [
      " 80%|████████  | 8023/10000 [00:31<00:08, 225.77it/s]"
     ]
    },
    {
     "name": "stdout",
     "output_type": "stream",
     "text": [
      "Step [7999/10000], Training Loss: 0.0004, Validation Loss: 0.0004\n"
     ]
    },
    {
     "name": "stderr",
     "output_type": "stream",
     "text": [
      " 90%|█████████ | 9034/10000 [00:35<00:04, 234.78it/s]"
     ]
    },
    {
     "name": "stdout",
     "output_type": "stream",
     "text": [
      "Step [8999/10000], Training Loss: 0.0004, Validation Loss: 0.0004\n"
     ]
    },
    {
     "name": "stderr",
     "output_type": "stream",
     "text": [
      "100%|██████████| 10000/10000 [00:39<00:00, 253.13it/s]\n"
     ]
    },
    {
     "name": "stdout",
     "output_type": "stream",
     "text": [
      "Step [9999/10000], Training Loss: 0.0004, Validation Loss: 0.0004\n",
      "Training Loss: 0.0004\n",
      "Mean Euler Error: 7.0997e-06\n",
      "Number of parameters Z_t87: 109\n"
     ]
    },
    {
     "name": "stderr",
     "output_type": "stream",
     "text": [
      "  0%|          | 48/10000 [00:00<00:42, 233.20it/s]"
     ]
    },
    {
     "name": "stdout",
     "output_type": "stream",
     "text": [
      "Step [0/10000], Training Loss: 6.5933, Validation Loss: 6.4495\n"
     ]
    },
    {
     "name": "stderr",
     "output_type": "stream",
     "text": [
      " 11%|█         | 1056/10000 [00:04<00:37, 240.74it/s]"
     ]
    },
    {
     "name": "stdout",
     "output_type": "stream",
     "text": [
      "Step [999/10000], Training Loss: 6.1172, Validation Loss: 6.1071\n"
     ]
    },
    {
     "name": "stderr",
     "output_type": "stream",
     "text": [
      " 20%|██        | 2039/10000 [00:08<00:35, 223.16it/s]"
     ]
    },
    {
     "name": "stdout",
     "output_type": "stream",
     "text": [
      "Step [1999/10000], Training Loss: 6.3099, Validation Loss: 6.1492\n"
     ]
    },
    {
     "name": "stderr",
     "output_type": "stream",
     "text": [
      " 30%|███       | 3038/10000 [00:11<00:23, 297.69it/s]"
     ]
    },
    {
     "name": "stdout",
     "output_type": "stream",
     "text": [
      "Step [2999/10000], Training Loss: 6.1970, Validation Loss: 5.9577\n"
     ]
    },
    {
     "name": "stderr",
     "output_type": "stream",
     "text": [
      " 40%|████      | 4021/10000 [00:15<00:25, 237.43it/s]"
     ]
    },
    {
     "name": "stdout",
     "output_type": "stream",
     "text": [
      "Step [3999/10000], Training Loss: 5.9975, Validation Loss: 6.1634\n"
     ]
    },
    {
     "name": "stderr",
     "output_type": "stream",
     "text": [
      " 50%|█████     | 5035/10000 [00:19<00:16, 302.85it/s]"
     ]
    },
    {
     "name": "stdout",
     "output_type": "stream",
     "text": [
      "Step [4999/10000], Training Loss: 6.2034, Validation Loss: 6.1085\n"
     ]
    },
    {
     "name": "stderr",
     "output_type": "stream",
     "text": [
      " 60%|██████    | 6040/10000 [00:22<00:14, 270.75it/s]"
     ]
    },
    {
     "name": "stdout",
     "output_type": "stream",
     "text": [
      "Step [5999/10000], Training Loss: 6.1175, Validation Loss: 6.1274\n"
     ]
    },
    {
     "name": "stderr",
     "output_type": "stream",
     "text": [
      " 70%|███████   | 7034/10000 [00:26<00:12, 240.53it/s]"
     ]
    },
    {
     "name": "stdout",
     "output_type": "stream",
     "text": [
      "Step [6999/10000], Training Loss: 6.0125, Validation Loss: 6.1809\n"
     ]
    },
    {
     "name": "stderr",
     "output_type": "stream",
     "text": [
      " 80%|███████▉  | 7999/10000 [00:30<00:07, 260.61it/s]\n"
     ]
    },
    {
     "name": "stdout",
     "output_type": "stream",
     "text": [
      "Step [7999/10000], Training Loss: 6.0421, Validation Loss: 6.1445\n",
      "Training Loss: 6.1435\n",
      "Number of parameters Y_t87: 109\n"
     ]
    },
    {
     "name": "stderr",
     "output_type": "stream",
     "text": [
      "  0%|          | 34/10000 [00:00<00:32, 311.18it/s]"
     ]
    },
    {
     "name": "stdout",
     "output_type": "stream",
     "text": [
      "Step [0/10000], Training Loss: 0.0439, Validation Loss: 0.0444\n"
     ]
    },
    {
     "name": "stderr",
     "output_type": "stream",
     "text": [
      " 10%|█         | 1028/10000 [00:03<00:27, 324.81it/s]"
     ]
    },
    {
     "name": "stdout",
     "output_type": "stream",
     "text": [
      "Step [999/10000], Training Loss: 0.0079, Validation Loss: 0.0079\n"
     ]
    },
    {
     "name": "stderr",
     "output_type": "stream",
     "text": [
      " 21%|██        | 2067/10000 [00:07<00:24, 320.22it/s]"
     ]
    },
    {
     "name": "stdout",
     "output_type": "stream",
     "text": [
      "Step [1999/10000], Training Loss: 0.0014, Validation Loss: 0.0015\n"
     ]
    },
    {
     "name": "stderr",
     "output_type": "stream",
     "text": [
      " 30%|███       | 3040/10000 [00:11<00:28, 246.95it/s]"
     ]
    },
    {
     "name": "stdout",
     "output_type": "stream",
     "text": [
      "Step [2999/10000], Training Loss: 0.0012, Validation Loss: 0.0011\n"
     ]
    },
    {
     "name": "stderr",
     "output_type": "stream",
     "text": [
      " 40%|████      | 4035/10000 [00:14<00:17, 335.54it/s]"
     ]
    },
    {
     "name": "stdout",
     "output_type": "stream",
     "text": [
      "Step [3999/10000], Training Loss: 0.0009, Validation Loss: 0.0009\n"
     ]
    },
    {
     "name": "stderr",
     "output_type": "stream",
     "text": [
      " 51%|█████     | 5058/10000 [00:18<00:16, 306.28it/s]"
     ]
    },
    {
     "name": "stdout",
     "output_type": "stream",
     "text": [
      "Step [4999/10000], Training Loss: 0.0007, Validation Loss: 0.0007\n"
     ]
    },
    {
     "name": "stderr",
     "output_type": "stream",
     "text": [
      " 60%|██████    | 6027/10000 [00:21<00:14, 273.89it/s]"
     ]
    },
    {
     "name": "stdout",
     "output_type": "stream",
     "text": [
      "Step [5999/10000], Training Loss: 0.0005, Validation Loss: 0.0005\n"
     ]
    },
    {
     "name": "stderr",
     "output_type": "stream",
     "text": [
      " 70%|███████   | 7027/10000 [00:25<00:14, 212.29it/s]"
     ]
    },
    {
     "name": "stdout",
     "output_type": "stream",
     "text": [
      "Step [6999/10000], Training Loss: 0.0004, Validation Loss: 0.0004\n"
     ]
    },
    {
     "name": "stderr",
     "output_type": "stream",
     "text": [
      " 80%|████████  | 8038/10000 [00:29<00:06, 313.77it/s]"
     ]
    },
    {
     "name": "stdout",
     "output_type": "stream",
     "text": [
      "Step [7999/10000], Training Loss: 0.0004, Validation Loss: 0.0004\n"
     ]
    },
    {
     "name": "stderr",
     "output_type": "stream",
     "text": [
      " 91%|█████████ | 9061/10000 [00:33<00:02, 338.66it/s]"
     ]
    },
    {
     "name": "stdout",
     "output_type": "stream",
     "text": [
      "Step [8999/10000], Training Loss: 0.0004, Validation Loss: 0.0004\n"
     ]
    },
    {
     "name": "stderr",
     "output_type": "stream",
     "text": [
      "100%|██████████| 10000/10000 [00:37<00:00, 268.67it/s]\n"
     ]
    },
    {
     "name": "stdout",
     "output_type": "stream",
     "text": [
      "Step [9999/10000], Training Loss: 0.0004, Validation Loss: 0.0004\n",
      "Training Loss: 0.0004\n",
      "Mean Euler Error: 4.0173e-06\n",
      "Number of parameters Z_t86: 109\n"
     ]
    },
    {
     "name": "stderr",
     "output_type": "stream",
     "text": [
      "  1%|          | 52/10000 [00:00<00:19, 516.37it/s]"
     ]
    },
    {
     "name": "stdout",
     "output_type": "stream",
     "text": [
      "Step [0/10000], Training Loss: 6.1221, Validation Loss: 6.1138\n"
     ]
    },
    {
     "name": "stderr",
     "output_type": "stream",
     "text": [
      " 10%|█         | 1036/10000 [00:03<00:32, 272.42it/s]"
     ]
    },
    {
     "name": "stdout",
     "output_type": "stream",
     "text": [
      "Step [999/10000], Training Loss: 6.1891, Validation Loss: 5.9513\n"
     ]
    },
    {
     "name": "stderr",
     "output_type": "stream",
     "text": [
      " 21%|██        | 2076/10000 [00:06<00:24, 324.16it/s]"
     ]
    },
    {
     "name": "stdout",
     "output_type": "stream",
     "text": [
      "Step [1999/10000], Training Loss: 6.0175, Validation Loss: 6.1119\n"
     ]
    },
    {
     "name": "stderr",
     "output_type": "stream",
     "text": [
      " 30%|███       | 3028/10000 [00:10<00:33, 206.36it/s]"
     ]
    },
    {
     "name": "stdout",
     "output_type": "stream",
     "text": [
      "Step [2999/10000], Training Loss: 6.0318, Validation Loss: 6.0584\n"
     ]
    },
    {
     "name": "stderr",
     "output_type": "stream",
     "text": [
      " 41%|████      | 4051/10000 [00:13<00:19, 312.70it/s]"
     ]
    },
    {
     "name": "stdout",
     "output_type": "stream",
     "text": [
      "Step [3999/10000], Training Loss: 6.0216, Validation Loss: 6.1321\n"
     ]
    },
    {
     "name": "stderr",
     "output_type": "stream",
     "text": [
      " 51%|█████     | 5065/10000 [00:16<00:14, 329.96it/s]"
     ]
    },
    {
     "name": "stdout",
     "output_type": "stream",
     "text": [
      "Step [4999/10000], Training Loss: 6.2828, Validation Loss: 6.0596\n"
     ]
    },
    {
     "name": "stderr",
     "output_type": "stream",
     "text": [
      " 60%|█████▉    | 5999/10000 [00:19<00:13, 300.77it/s]\n"
     ]
    },
    {
     "name": "stdout",
     "output_type": "stream",
     "text": [
      "Step [5999/10000], Training Loss: 6.1251, Validation Loss: 6.0361\n",
      "Training Loss: 6.0691\n",
      "Number of parameters Y_t86: 109\n"
     ]
    },
    {
     "name": "stderr",
     "output_type": "stream",
     "text": [
      "  0%|          | 35/10000 [00:00<00:28, 343.93it/s]"
     ]
    },
    {
     "name": "stdout",
     "output_type": "stream",
     "text": [
      "Step [0/10000], Training Loss: 0.3558, Validation Loss: 0.3580\n"
     ]
    },
    {
     "name": "stderr",
     "output_type": "stream",
     "text": [
      " 11%|█         | 1071/10000 [00:03<00:21, 410.05it/s]"
     ]
    },
    {
     "name": "stdout",
     "output_type": "stream",
     "text": [
      "Step [999/10000], Training Loss: 0.0075, Validation Loss: 0.0074\n"
     ]
    },
    {
     "name": "stderr",
     "output_type": "stream",
     "text": [
      " 20%|██        | 2044/10000 [00:06<00:26, 300.39it/s]"
     ]
    },
    {
     "name": "stdout",
     "output_type": "stream",
     "text": [
      "Step [1999/10000], Training Loss: 0.0019, Validation Loss: 0.0019\n"
     ]
    },
    {
     "name": "stderr",
     "output_type": "stream",
     "text": [
      " 30%|███       | 3038/10000 [00:09<00:26, 265.41it/s]"
     ]
    },
    {
     "name": "stdout",
     "output_type": "stream",
     "text": [
      "Step [2999/10000], Training Loss: 0.0007, Validation Loss: 0.0007\n"
     ]
    },
    {
     "name": "stderr",
     "output_type": "stream",
     "text": [
      " 40%|████      | 4005/10000 [00:13<00:24, 240.50it/s]"
     ]
    },
    {
     "name": "stdout",
     "output_type": "stream",
     "text": [
      "Step [3999/10000], Training Loss: 0.0004, Validation Loss: 0.0004\n"
     ]
    },
    {
     "name": "stderr",
     "output_type": "stream",
     "text": [
      " 51%|█████     | 5089/10000 [00:15<00:09, 523.31it/s]"
     ]
    },
    {
     "name": "stdout",
     "output_type": "stream",
     "text": [
      "Step [4999/10000], Training Loss: 0.0004, Validation Loss: 0.0004\n"
     ]
    },
    {
     "name": "stderr",
     "output_type": "stream",
     "text": [
      " 61%|██████    | 6081/10000 [00:19<00:11, 352.73it/s]"
     ]
    },
    {
     "name": "stdout",
     "output_type": "stream",
     "text": [
      "Step [5999/10000], Training Loss: 0.0004, Validation Loss: 0.0004\n"
     ]
    },
    {
     "name": "stderr",
     "output_type": "stream",
     "text": [
      " 70%|███████   | 7045/10000 [00:23<00:12, 244.89it/s]"
     ]
    },
    {
     "name": "stdout",
     "output_type": "stream",
     "text": [
      "Step [6999/10000], Training Loss: 0.0004, Validation Loss: 0.0004\n"
     ]
    },
    {
     "name": "stderr",
     "output_type": "stream",
     "text": [
      " 80%|████████  | 8043/10000 [00:26<00:06, 313.89it/s]"
     ]
    },
    {
     "name": "stdout",
     "output_type": "stream",
     "text": [
      "Step [7999/10000], Training Loss: 0.0004, Validation Loss: 0.0004\n"
     ]
    },
    {
     "name": "stderr",
     "output_type": "stream",
     "text": [
      " 90%|█████████ | 9023/10000 [00:30<00:04, 230.95it/s]"
     ]
    },
    {
     "name": "stdout",
     "output_type": "stream",
     "text": [
      "Step [8999/10000], Training Loss: 0.0004, Validation Loss: 0.0004\n"
     ]
    },
    {
     "name": "stderr",
     "output_type": "stream",
     "text": [
      "100%|██████████| 10000/10000 [00:33<00:00, 294.64it/s]\n"
     ]
    },
    {
     "name": "stdout",
     "output_type": "stream",
     "text": [
      "Step [9999/10000], Training Loss: 0.0004, Validation Loss: 0.0004\n",
      "Training Loss: 0.0004\n",
      "Mean Euler Error: 2.3052e-06\n",
      "Number of parameters Z_t85: 109\n"
     ]
    },
    {
     "name": "stderr",
     "output_type": "stream",
     "text": [
      "  0%|          | 15/10000 [00:00<01:22, 121.07it/s]"
     ]
    },
    {
     "name": "stdout",
     "output_type": "stream",
     "text": [
      "Step [0/10000], Training Loss: 6.2795, Validation Loss: 6.0675\n"
     ]
    },
    {
     "name": "stderr",
     "output_type": "stream",
     "text": [
      " 11%|█         | 1057/10000 [00:03<00:35, 249.34it/s]"
     ]
    },
    {
     "name": "stdout",
     "output_type": "stream",
     "text": [
      "Step [999/10000], Training Loss: 6.0595, Validation Loss: 5.9803\n"
     ]
    },
    {
     "name": "stderr",
     "output_type": "stream",
     "text": [
      " 21%|██        | 2069/10000 [00:06<00:14, 538.28it/s]"
     ]
    },
    {
     "name": "stdout",
     "output_type": "stream",
     "text": [
      "Step [1999/10000], Training Loss: 5.9686, Validation Loss: 5.9826\n"
     ]
    },
    {
     "name": "stderr",
     "output_type": "stream",
     "text": [
      " 30%|███       | 3034/10000 [00:08<00:18, 380.68it/s]"
     ]
    },
    {
     "name": "stdout",
     "output_type": "stream",
     "text": [
      "Step [2999/10000], Training Loss: 6.0718, Validation Loss: 6.1055\n"
     ]
    },
    {
     "name": "stderr",
     "output_type": "stream",
     "text": [
      " 40%|████      | 4029/10000 [00:12<00:22, 268.89it/s]"
     ]
    },
    {
     "name": "stdout",
     "output_type": "stream",
     "text": [
      "Step [3999/10000], Training Loss: 5.9687, Validation Loss: 6.0296\n"
     ]
    },
    {
     "name": "stderr",
     "output_type": "stream",
     "text": [
      " 50%|█████     | 5049/10000 [00:15<00:16, 292.95it/s]"
     ]
    },
    {
     "name": "stdout",
     "output_type": "stream",
     "text": [
      "Step [4999/10000], Training Loss: 6.0040, Validation Loss: 6.0489\n"
     ]
    },
    {
     "name": "stderr",
     "output_type": "stream",
     "text": [
      " 60%|█████▉    | 5999/10000 [00:19<00:12, 313.45it/s]\n"
     ]
    },
    {
     "name": "stdout",
     "output_type": "stream",
     "text": [
      "Step [5999/10000], Training Loss: 6.0735, Validation Loss: 5.9882\n",
      "Training Loss: 6.0421\n",
      "Number of parameters Y_t85: 109\n"
     ]
    },
    {
     "name": "stderr",
     "output_type": "stream",
     "text": [
      "  0%|          | 18/10000 [00:00<00:56, 175.35it/s]"
     ]
    },
    {
     "name": "stdout",
     "output_type": "stream",
     "text": [
      "Step [0/10000], Training Loss: 0.0338, Validation Loss: 0.0341\n"
     ]
    },
    {
     "name": "stderr",
     "output_type": "stream",
     "text": [
      " 11%|█         | 1054/10000 [00:03<00:22, 403.68it/s]"
     ]
    },
    {
     "name": "stdout",
     "output_type": "stream",
     "text": [
      "Step [999/10000], Training Loss: 0.0028, Validation Loss: 0.0028\n"
     ]
    },
    {
     "name": "stderr",
     "output_type": "stream",
     "text": [
      " 21%|██        | 2054/10000 [00:06<00:23, 333.64it/s]"
     ]
    },
    {
     "name": "stdout",
     "output_type": "stream",
     "text": [
      "Step [1999/10000], Training Loss: 0.0006, Validation Loss: 0.0006\n"
     ]
    },
    {
     "name": "stderr",
     "output_type": "stream",
     "text": [
      " 30%|███       | 3034/10000 [00:10<00:30, 224.96it/s]"
     ]
    },
    {
     "name": "stdout",
     "output_type": "stream",
     "text": [
      "Step [2999/10000], Training Loss: 0.0005, Validation Loss: 0.0005\n"
     ]
    },
    {
     "name": "stderr",
     "output_type": "stream",
     "text": [
      " 40%|████      | 4037/10000 [00:13<00:19, 309.49it/s]"
     ]
    },
    {
     "name": "stdout",
     "output_type": "stream",
     "text": [
      "Step [3999/10000], Training Loss: 0.0005, Validation Loss: 0.0005\n"
     ]
    },
    {
     "name": "stderr",
     "output_type": "stream",
     "text": [
      " 50%|█████     | 5041/10000 [00:16<00:15, 314.53it/s]"
     ]
    },
    {
     "name": "stdout",
     "output_type": "stream",
     "text": [
      "Step [4999/10000], Training Loss: 0.0004, Validation Loss: 0.0004\n"
     ]
    },
    {
     "name": "stderr",
     "output_type": "stream",
     "text": [
      " 60%|██████    | 6044/10000 [00:19<00:13, 295.98it/s]"
     ]
    },
    {
     "name": "stdout",
     "output_type": "stream",
     "text": [
      "Step [5999/10000], Training Loss: 0.0004, Validation Loss: 0.0004\n"
     ]
    },
    {
     "name": "stderr",
     "output_type": "stream",
     "text": [
      " 70%|███████   | 7050/10000 [00:23<00:08, 350.31it/s]"
     ]
    },
    {
     "name": "stdout",
     "output_type": "stream",
     "text": [
      "Step [6999/10000], Training Loss: 0.0004, Validation Loss: 0.0004\n"
     ]
    },
    {
     "name": "stderr",
     "output_type": "stream",
     "text": [
      " 80%|███████▉  | 7999/10000 [00:25<00:04, 467.26it/s]"
     ]
    },
    {
     "name": "stdout",
     "output_type": "stream",
     "text": [
      "Step [7999/10000], Training Loss: 0.0004, Validation Loss: 0.0004\n"
     ]
    },
    {
     "name": "stderr",
     "output_type": "stream",
     "text": [
      " 91%|█████████ | 9077/10000 [00:29<00:02, 417.54it/s]"
     ]
    },
    {
     "name": "stdout",
     "output_type": "stream",
     "text": [
      "Step [8999/10000], Training Loss: 0.0004, Validation Loss: 0.0004\n"
     ]
    },
    {
     "name": "stderr",
     "output_type": "stream",
     "text": [
      "100%|██████████| 10000/10000 [00:31<00:00, 314.72it/s]\n"
     ]
    },
    {
     "name": "stdout",
     "output_type": "stream",
     "text": [
      "Step [9999/10000], Training Loss: 0.0004, Validation Loss: 0.0004\n",
      "Training Loss: 0.0004\n",
      "Mean Euler Error: 1.9193e-06\n",
      "Number of parameters Z_t84: 109\n"
     ]
    },
    {
     "name": "stderr",
     "output_type": "stream",
     "text": [
      "  0%|          | 0/10000 [00:00<?, ?it/s]"
     ]
    },
    {
     "name": "stdout",
     "output_type": "stream",
     "text": [
      "Step [0/10000], Training Loss: 6.1706, Validation Loss: 6.0796\n"
     ]
    },
    {
     "name": "stderr",
     "output_type": "stream",
     "text": [
      " 11%|█         | 1058/10000 [00:03<00:24, 358.91it/s]"
     ]
    },
    {
     "name": "stdout",
     "output_type": "stream",
     "text": [
      "Step [999/10000], Training Loss: 5.8477, Validation Loss: 6.0979\n"
     ]
    },
    {
     "name": "stderr",
     "output_type": "stream",
     "text": [
      " 20%|██        | 2042/10000 [00:06<00:20, 394.15it/s]"
     ]
    },
    {
     "name": "stdout",
     "output_type": "stream",
     "text": [
      "Step [1999/10000], Training Loss: 5.9023, Validation Loss: 6.1758\n"
     ]
    },
    {
     "name": "stderr",
     "output_type": "stream",
     "text": [
      " 30%|███       | 3029/10000 [00:10<00:21, 318.35it/s]"
     ]
    },
    {
     "name": "stdout",
     "output_type": "stream",
     "text": [
      "Step [2999/10000], Training Loss: 5.9618, Validation Loss: 5.9678\n"
     ]
    },
    {
     "name": "stderr",
     "output_type": "stream",
     "text": [
      " 40%|████      | 4050/10000 [00:13<00:21, 275.51it/s]"
     ]
    },
    {
     "name": "stdout",
     "output_type": "stream",
     "text": [
      "Step [3999/10000], Training Loss: 5.9239, Validation Loss: 6.0280\n"
     ]
    },
    {
     "name": "stderr",
     "output_type": "stream",
     "text": [
      " 51%|█████     | 5061/10000 [00:17<00:16, 291.56it/s]"
     ]
    },
    {
     "name": "stdout",
     "output_type": "stream",
     "text": [
      "Step [4999/10000], Training Loss: 5.9576, Validation Loss: 6.0477\n"
     ]
    },
    {
     "name": "stderr",
     "output_type": "stream",
     "text": [
      " 60%|██████    | 6027/10000 [00:20<00:17, 221.98it/s]"
     ]
    },
    {
     "name": "stdout",
     "output_type": "stream",
     "text": [
      "Step [5999/10000], Training Loss: 5.9019, Validation Loss: 5.9876\n"
     ]
    },
    {
     "name": "stderr",
     "output_type": "stream",
     "text": [
      " 71%|███████   | 7086/10000 [00:24<00:07, 369.40it/s]"
     ]
    },
    {
     "name": "stdout",
     "output_type": "stream",
     "text": [
      "Step [6999/10000], Training Loss: 5.8706, Validation Loss: 5.9934\n"
     ]
    },
    {
     "name": "stderr",
     "output_type": "stream",
     "text": [
      " 80%|███████▉  | 7999/10000 [00:27<00:06, 290.38it/s]\n"
     ]
    },
    {
     "name": "stdout",
     "output_type": "stream",
     "text": [
      "Step [7999/10000], Training Loss: 5.9531, Validation Loss: 5.9756\n",
      "Training Loss: 5.9589\n",
      "Number of parameters Y_t84: 109\n"
     ]
    },
    {
     "name": "stderr",
     "output_type": "stream",
     "text": [
      "  0%|          | 11/10000 [00:00<01:50, 90.44it/s]"
     ]
    },
    {
     "name": "stdout",
     "output_type": "stream",
     "text": [
      "Step [0/10000], Training Loss: 0.0314, Validation Loss: 0.0310\n"
     ]
    },
    {
     "name": "stderr",
     "output_type": "stream",
     "text": [
      " 10%|█         | 1045/10000 [00:03<00:29, 301.75it/s]"
     ]
    },
    {
     "name": "stdout",
     "output_type": "stream",
     "text": [
      "Step [999/10000], Training Loss: 0.0015, Validation Loss: 0.0015\n"
     ]
    },
    {
     "name": "stderr",
     "output_type": "stream",
     "text": [
      " 21%|██        | 2058/10000 [00:07<00:32, 248.09it/s]"
     ]
    },
    {
     "name": "stdout",
     "output_type": "stream",
     "text": [
      "Step [1999/10000], Training Loss: 0.0005, Validation Loss: 0.0005\n"
     ]
    },
    {
     "name": "stderr",
     "output_type": "stream",
     "text": [
      " 31%|███       | 3057/10000 [00:10<00:21, 321.05it/s]"
     ]
    },
    {
     "name": "stdout",
     "output_type": "stream",
     "text": [
      "Step [2999/10000], Training Loss: 0.0004, Validation Loss: 0.0004\n"
     ]
    },
    {
     "name": "stderr",
     "output_type": "stream",
     "text": [
      " 40%|███▉      | 3995/10000 [00:14<00:15, 379.89it/s]"
     ]
    },
    {
     "name": "stdout",
     "output_type": "stream",
     "text": [
      "Step [3999/10000], Training Loss: 0.0004, Validation Loss: 0.0004\n"
     ]
    },
    {
     "name": "stderr",
     "output_type": "stream",
     "text": [
      " 50%|█████     | 5018/10000 [00:17<00:21, 235.16it/s]"
     ]
    },
    {
     "name": "stdout",
     "output_type": "stream",
     "text": [
      "Step [4999/10000], Training Loss: 0.0004, Validation Loss: 0.0004\n"
     ]
    },
    {
     "name": "stderr",
     "output_type": "stream",
     "text": [
      " 60%|██████    | 6023/10000 [00:21<00:19, 200.89it/s]"
     ]
    },
    {
     "name": "stdout",
     "output_type": "stream",
     "text": [
      "Step [5999/10000], Training Loss: 0.0004, Validation Loss: 0.0004\n"
     ]
    },
    {
     "name": "stderr",
     "output_type": "stream",
     "text": [
      " 70%|███████   | 7012/10000 [00:25<00:10, 273.30it/s]"
     ]
    },
    {
     "name": "stdout",
     "output_type": "stream",
     "text": [
      "Step [6999/10000], Training Loss: 0.0004, Validation Loss: 0.0004\n"
     ]
    },
    {
     "name": "stderr",
     "output_type": "stream",
     "text": [
      " 81%|████████  | 8060/10000 [00:29<00:06, 315.20it/s]"
     ]
    },
    {
     "name": "stdout",
     "output_type": "stream",
     "text": [
      "Step [7999/10000], Training Loss: 0.0004, Validation Loss: 0.0004\n"
     ]
    },
    {
     "name": "stderr",
     "output_type": "stream",
     "text": [
      " 90%|█████████ | 9034/10000 [00:34<00:04, 203.38it/s]"
     ]
    },
    {
     "name": "stdout",
     "output_type": "stream",
     "text": [
      "Step [8999/10000], Training Loss: 0.0004, Validation Loss: 0.0004\n"
     ]
    },
    {
     "name": "stderr",
     "output_type": "stream",
     "text": [
      "100%|██████████| 10000/10000 [00:38<00:00, 260.14it/s]\n"
     ]
    },
    {
     "name": "stdout",
     "output_type": "stream",
     "text": [
      "Step [9999/10000], Training Loss: 0.0004, Validation Loss: 0.0004\n",
      "Training Loss: 0.0004\n",
      "Mean Euler Error: 1.8901e-06\n",
      "Number of parameters Z_t83: 109\n"
     ]
    },
    {
     "name": "stderr",
     "output_type": "stream",
     "text": [
      "  0%|          | 22/10000 [00:00<00:47, 208.84it/s]"
     ]
    },
    {
     "name": "stdout",
     "output_type": "stream",
     "text": [
      "Step [0/10000], Training Loss: 5.9907, Validation Loss: 6.0461\n"
     ]
    },
    {
     "name": "stderr",
     "output_type": "stream",
     "text": [
      " 11%|█         | 1064/10000 [00:03<00:21, 425.17it/s]"
     ]
    },
    {
     "name": "stdout",
     "output_type": "stream",
     "text": [
      "Step [999/10000], Training Loss: 5.9935, Validation Loss: 5.9825\n"
     ]
    },
    {
     "name": "stderr",
     "output_type": "stream",
     "text": [
      " 21%|██        | 2100/10000 [00:06<00:16, 477.04it/s]"
     ]
    },
    {
     "name": "stdout",
     "output_type": "stream",
     "text": [
      "Step [1999/10000], Training Loss: 6.1606, Validation Loss: 5.8436\n"
     ]
    },
    {
     "name": "stderr",
     "output_type": "stream",
     "text": [
      " 30%|███       | 3045/10000 [00:08<00:23, 293.52it/s]"
     ]
    },
    {
     "name": "stdout",
     "output_type": "stream",
     "text": [
      "Step [2999/10000], Training Loss: 6.0270, Validation Loss: 5.9609\n"
     ]
    },
    {
     "name": "stderr",
     "output_type": "stream",
     "text": [
      " 41%|████      | 4075/10000 [00:12<00:13, 423.58it/s]"
     ]
    },
    {
     "name": "stdout",
     "output_type": "stream",
     "text": [
      "Step [3999/10000], Training Loss: 6.0937, Validation Loss: 5.9792\n"
     ]
    },
    {
     "name": "stderr",
     "output_type": "stream",
     "text": [
      " 51%|█████     | 5070/10000 [00:15<00:15, 312.58it/s]"
     ]
    },
    {
     "name": "stdout",
     "output_type": "stream",
     "text": [
      "Step [4999/10000], Training Loss: 5.8469, Validation Loss: 6.0762\n"
     ]
    },
    {
     "name": "stderr",
     "output_type": "stream",
     "text": [
      " 61%|██████    | 6071/10000 [00:17<00:07, 524.65it/s]"
     ]
    },
    {
     "name": "stdout",
     "output_type": "stream",
     "text": [
      "Step [5999/10000], Training Loss: 5.9472, Validation Loss: 5.9273\n"
     ]
    },
    {
     "name": "stderr",
     "output_type": "stream",
     "text": [
      " 70%|██████▉   | 6999/10000 [00:20<00:08, 342.13it/s]\n"
     ]
    },
    {
     "name": "stdout",
     "output_type": "stream",
     "text": [
      "Step [6999/10000], Training Loss: 5.8705, Validation Loss: 6.0484\n",
      "Training Loss: 5.9437\n",
      "Number of parameters Y_t83: 109\n"
     ]
    },
    {
     "name": "stderr",
     "output_type": "stream",
     "text": [
      "  0%|          | 49/10000 [00:00<00:20, 487.38it/s]"
     ]
    },
    {
     "name": "stdout",
     "output_type": "stream",
     "text": [
      "Step [0/10000], Training Loss: 0.0255, Validation Loss: 0.0255\n"
     ]
    },
    {
     "name": "stderr",
     "output_type": "stream",
     "text": [
      " 11%|█         | 1054/10000 [00:03<00:32, 278.90it/s]"
     ]
    },
    {
     "name": "stdout",
     "output_type": "stream",
     "text": [
      "Step [999/10000], Training Loss: 0.0009, Validation Loss: 0.0009\n"
     ]
    },
    {
     "name": "stderr",
     "output_type": "stream",
     "text": [
      " 20%|██        | 2031/10000 [00:08<00:27, 288.70it/s]"
     ]
    },
    {
     "name": "stdout",
     "output_type": "stream",
     "text": [
      "Step [1999/10000], Training Loss: 0.0004, Validation Loss: 0.0004\n"
     ]
    },
    {
     "name": "stderr",
     "output_type": "stream",
     "text": [
      " 30%|███       | 3014/10000 [00:12<00:35, 199.45it/s]"
     ]
    },
    {
     "name": "stdout",
     "output_type": "stream",
     "text": [
      "Step [2999/10000], Training Loss: 0.0004, Validation Loss: 0.0004\n"
     ]
    },
    {
     "name": "stderr",
     "output_type": "stream",
     "text": [
      " 41%|████      | 4076/10000 [00:16<00:11, 519.25it/s]"
     ]
    },
    {
     "name": "stdout",
     "output_type": "stream",
     "text": [
      "Step [3999/10000], Training Loss: 0.0004, Validation Loss: 0.0004\n"
     ]
    },
    {
     "name": "stderr",
     "output_type": "stream",
     "text": [
      " 50%|█████     | 5035/10000 [00:20<00:19, 258.97it/s]"
     ]
    },
    {
     "name": "stdout",
     "output_type": "stream",
     "text": [
      "Step [4999/10000], Training Loss: 0.0004, Validation Loss: 0.0004\n"
     ]
    },
    {
     "name": "stderr",
     "output_type": "stream",
     "text": [
      " 60%|██████    | 6022/10000 [00:23<00:16, 248.21it/s]"
     ]
    },
    {
     "name": "stdout",
     "output_type": "stream",
     "text": [
      "Step [5999/10000], Training Loss: 0.0004, Validation Loss: 0.0004\n"
     ]
    },
    {
     "name": "stderr",
     "output_type": "stream",
     "text": [
      " 71%|███████   | 7051/10000 [00:27<00:07, 407.24it/s]"
     ]
    },
    {
     "name": "stdout",
     "output_type": "stream",
     "text": [
      "Step [6999/10000], Training Loss: 0.0004, Validation Loss: 0.0004\n"
     ]
    },
    {
     "name": "stderr",
     "output_type": "stream",
     "text": [
      " 80%|████████  | 8044/10000 [00:31<00:07, 266.34it/s]"
     ]
    },
    {
     "name": "stdout",
     "output_type": "stream",
     "text": [
      "Step [7999/10000], Training Loss: 0.0004, Validation Loss: 0.0004\n"
     ]
    },
    {
     "name": "stderr",
     "output_type": "stream",
     "text": [
      " 90%|█████████ | 9042/10000 [00:34<00:02, 330.05it/s]"
     ]
    },
    {
     "name": "stdout",
     "output_type": "stream",
     "text": [
      "Step [8999/10000], Training Loss: 0.0004, Validation Loss: 0.0004\n"
     ]
    },
    {
     "name": "stderr",
     "output_type": "stream",
     "text": [
      "100%|██████████| 10000/10000 [00:37<00:00, 266.32it/s]\n"
     ]
    },
    {
     "name": "stdout",
     "output_type": "stream",
     "text": [
      "Step [9999/10000], Training Loss: 0.0004, Validation Loss: 0.0004\n",
      "Training Loss: 0.0004\n",
      "Mean Euler Error: 3.2539e-06\n",
      "Number of parameters Z_t82: 109\n"
     ]
    },
    {
     "name": "stderr",
     "output_type": "stream",
     "text": [
      "  0%|          | 0/10000 [00:00<?, ?it/s]"
     ]
    },
    {
     "name": "stdout",
     "output_type": "stream",
     "text": [
      "Step [0/10000], Training Loss: 5.9808, Validation Loss: 6.1148\n"
     ]
    },
    {
     "name": "stderr",
     "output_type": "stream",
     "text": [
      " 11%|█         | 1059/10000 [00:03<00:31, 287.37it/s]"
     ]
    },
    {
     "name": "stdout",
     "output_type": "stream",
     "text": [
      "Step [999/10000], Training Loss: 5.9321, Validation Loss: 5.9773\n"
     ]
    },
    {
     "name": "stderr",
     "output_type": "stream",
     "text": [
      " 21%|██        | 2104/10000 [00:06<00:14, 552.69it/s]"
     ]
    },
    {
     "name": "stdout",
     "output_type": "stream",
     "text": [
      "Step [1999/10000], Training Loss: 5.9104, Validation Loss: 6.0482\n"
     ]
    },
    {
     "name": "stderr",
     "output_type": "stream",
     "text": [
      " 30%|███       | 3044/10000 [00:09<00:18, 366.12it/s]"
     ]
    },
    {
     "name": "stdout",
     "output_type": "stream",
     "text": [
      "Step [2999/10000], Training Loss: 6.0196, Validation Loss: 5.9661\n"
     ]
    },
    {
     "name": "stderr",
     "output_type": "stream",
     "text": [
      " 41%|████      | 4084/10000 [00:12<00:14, 413.26it/s]"
     ]
    },
    {
     "name": "stdout",
     "output_type": "stream",
     "text": [
      "Step [3999/10000], Training Loss: 5.9491, Validation Loss: 5.9055\n"
     ]
    },
    {
     "name": "stderr",
     "output_type": "stream",
     "text": [
      " 50%|█████     | 5025/10000 [00:16<00:23, 210.33it/s]"
     ]
    },
    {
     "name": "stdout",
     "output_type": "stream",
     "text": [
      "Step [4999/10000], Training Loss: 5.9618, Validation Loss: 6.0544\n"
     ]
    },
    {
     "name": "stderr",
     "output_type": "stream",
     "text": [
      " 61%|██████    | 6069/10000 [00:20<00:10, 366.85it/s]"
     ]
    },
    {
     "name": "stdout",
     "output_type": "stream",
     "text": [
      "Step [5999/10000], Training Loss: 6.0444, Validation Loss: 5.9226\n"
     ]
    },
    {
     "name": "stderr",
     "output_type": "stream",
     "text": [
      " 71%|███████   | 7089/10000 [00:24<00:06, 420.93it/s]"
     ]
    },
    {
     "name": "stdout",
     "output_type": "stream",
     "text": [
      "Step [6999/10000], Training Loss: 6.0840, Validation Loss: 5.9894\n"
     ]
    },
    {
     "name": "stderr",
     "output_type": "stream",
     "text": [
      " 80%|████████  | 8012/10000 [00:27<00:08, 231.44it/s]"
     ]
    },
    {
     "name": "stdout",
     "output_type": "stream",
     "text": [
      "Step [7999/10000], Training Loss: 6.2616, Validation Loss: 5.9963\n"
     ]
    },
    {
     "name": "stderr",
     "output_type": "stream",
     "text": [
      " 90%|████████▉ | 8999/10000 [00:30<00:03, 290.41it/s]\n"
     ]
    },
    {
     "name": "stdout",
     "output_type": "stream",
     "text": [
      "Step [8999/10000], Training Loss: 5.9472, Validation Loss: 5.9718\n",
      "Training Loss: 6.0225\n",
      "Number of parameters Y_t82: 109\n"
     ]
    },
    {
     "name": "stderr",
     "output_type": "stream",
     "text": [
      "  0%|          | 0/10000 [00:00<?, ?it/s]"
     ]
    },
    {
     "name": "stdout",
     "output_type": "stream",
     "text": [
      "Step [0/10000], Training Loss: 0.0833, Validation Loss: 0.0832\n"
     ]
    },
    {
     "name": "stderr",
     "output_type": "stream",
     "text": [
      " 11%|█         | 1073/10000 [00:04<00:25, 354.69it/s]"
     ]
    },
    {
     "name": "stdout",
     "output_type": "stream",
     "text": [
      "Step [999/10000], Training Loss: 0.0133, Validation Loss: 0.0132\n"
     ]
    },
    {
     "name": "stderr",
     "output_type": "stream",
     "text": [
      " 21%|██        | 2088/10000 [00:06<00:20, 385.76it/s]"
     ]
    },
    {
     "name": "stdout",
     "output_type": "stream",
     "text": [
      "Step [1999/10000], Training Loss: 0.0032, Validation Loss: 0.0031\n"
     ]
    },
    {
     "name": "stderr",
     "output_type": "stream",
     "text": [
      " 30%|███       | 3034/10000 [00:10<00:27, 254.11it/s]"
     ]
    },
    {
     "name": "stdout",
     "output_type": "stream",
     "text": [
      "Step [2999/10000], Training Loss: 0.0011, Validation Loss: 0.0011\n"
     ]
    },
    {
     "name": "stderr",
     "output_type": "stream",
     "text": [
      " 41%|████      | 4088/10000 [00:14<00:18, 323.73it/s]"
     ]
    },
    {
     "name": "stdout",
     "output_type": "stream",
     "text": [
      "Step [3999/10000], Training Loss: 0.0005, Validation Loss: 0.0005\n"
     ]
    },
    {
     "name": "stderr",
     "output_type": "stream",
     "text": [
      " 50%|█████     | 5043/10000 [00:17<00:17, 288.68it/s]"
     ]
    },
    {
     "name": "stdout",
     "output_type": "stream",
     "text": [
      "Step [4999/10000], Training Loss: 0.0004, Validation Loss: 0.0004\n"
     ]
    },
    {
     "name": "stderr",
     "output_type": "stream",
     "text": [
      " 60%|██████    | 6048/10000 [00:19<00:09, 397.50it/s]"
     ]
    },
    {
     "name": "stdout",
     "output_type": "stream",
     "text": [
      "Step [5999/10000], Training Loss: 0.0004, Validation Loss: 0.0004\n"
     ]
    },
    {
     "name": "stderr",
     "output_type": "stream",
     "text": [
      " 71%|███████   | 7053/10000 [00:22<00:07, 369.68it/s]"
     ]
    },
    {
     "name": "stdout",
     "output_type": "stream",
     "text": [
      "Step [6999/10000], Training Loss: 0.0004, Validation Loss: 0.0004\n"
     ]
    },
    {
     "name": "stderr",
     "output_type": "stream",
     "text": [
      " 80%|████████  | 8035/10000 [00:26<00:09, 215.20it/s]"
     ]
    },
    {
     "name": "stdout",
     "output_type": "stream",
     "text": [
      "Step [7999/10000], Training Loss: 0.0004, Validation Loss: 0.0004\n"
     ]
    },
    {
     "name": "stderr",
     "output_type": "stream",
     "text": [
      " 90%|█████████ | 9027/10000 [00:30<00:04, 216.15it/s]"
     ]
    },
    {
     "name": "stdout",
     "output_type": "stream",
     "text": [
      "Step [8999/10000], Training Loss: 0.0004, Validation Loss: 0.0004\n"
     ]
    },
    {
     "name": "stderr",
     "output_type": "stream",
     "text": [
      "100%|██████████| 10000/10000 [00:34<00:00, 288.89it/s]\n"
     ]
    },
    {
     "name": "stdout",
     "output_type": "stream",
     "text": [
      "Step [9999/10000], Training Loss: 0.0004, Validation Loss: 0.0004\n",
      "Training Loss: 0.0004\n",
      "Mean Euler Error: 3.3492e-06\n",
      "Number of parameters Z_t81: 109\n"
     ]
    },
    {
     "name": "stderr",
     "output_type": "stream",
     "text": [
      "  0%|          | 0/10000 [00:00<?, ?it/s]"
     ]
    },
    {
     "name": "stdout",
     "output_type": "stream",
     "text": [
      "Step [0/10000], Training Loss: 6.3059, Validation Loss: 6.3786\n"
     ]
    },
    {
     "name": "stderr",
     "output_type": "stream",
     "text": [
      " 11%|█         | 1062/10000 [00:03<00:28, 309.79it/s]"
     ]
    },
    {
     "name": "stdout",
     "output_type": "stream",
     "text": [
      "Step [999/10000], Training Loss: 6.0893, Validation Loss: 6.0233\n"
     ]
    },
    {
     "name": "stderr",
     "output_type": "stream",
     "text": [
      " 21%|██        | 2068/10000 [00:06<00:17, 459.05it/s]"
     ]
    },
    {
     "name": "stdout",
     "output_type": "stream",
     "text": [
      "Step [1999/10000], Training Loss: 5.9796, Validation Loss: 6.0094\n"
     ]
    },
    {
     "name": "stderr",
     "output_type": "stream",
     "text": [
      " 30%|███       | 3040/10000 [00:09<00:27, 256.51it/s]"
     ]
    },
    {
     "name": "stdout",
     "output_type": "stream",
     "text": [
      "Step [2999/10000], Training Loss: 5.8838, Validation Loss: 6.0535\n"
     ]
    },
    {
     "name": "stderr",
     "output_type": "stream",
     "text": [
      " 41%|████      | 4114/10000 [00:12<00:12, 482.35it/s]"
     ]
    },
    {
     "name": "stdout",
     "output_type": "stream",
     "text": [
      "Step [3999/10000], Training Loss: 5.8993, Validation Loss: 5.9036\n"
     ]
    },
    {
     "name": "stderr",
     "output_type": "stream",
     "text": [
      " 51%|█████     | 5068/10000 [00:15<00:11, 413.10it/s]"
     ]
    },
    {
     "name": "stdout",
     "output_type": "stream",
     "text": [
      "Step [4999/10000], Training Loss: 6.0339, Validation Loss: 5.9762\n"
     ]
    },
    {
     "name": "stderr",
     "output_type": "stream",
     "text": [
      " 60%|██████    | 6047/10000 [00:18<00:10, 378.88it/s]"
     ]
    },
    {
     "name": "stdout",
     "output_type": "stream",
     "text": [
      "Step [5999/10000], Training Loss: 5.9560, Validation Loss: 5.9637\n"
     ]
    },
    {
     "name": "stderr",
     "output_type": "stream",
     "text": [
      " 71%|███████   | 7057/10000 [00:21<00:08, 338.54it/s]"
     ]
    },
    {
     "name": "stdout",
     "output_type": "stream",
     "text": [
      "Step [6999/10000], Training Loss: 6.0840, Validation Loss: 5.8815\n"
     ]
    },
    {
     "name": "stderr",
     "output_type": "stream",
     "text": [
      " 80%|████████  | 8049/10000 [00:24<00:06, 299.47it/s]"
     ]
    },
    {
     "name": "stdout",
     "output_type": "stream",
     "text": [
      "Step [7999/10000], Training Loss: 5.9726, Validation Loss: 6.0599\n"
     ]
    },
    {
     "name": "stderr",
     "output_type": "stream",
     "text": [
      " 91%|█████████ | 9069/10000 [00:27<00:02, 413.69it/s]"
     ]
    },
    {
     "name": "stdout",
     "output_type": "stream",
     "text": [
      "Step [8999/10000], Training Loss: 5.9882, Validation Loss: 6.0159\n"
     ]
    },
    {
     "name": "stderr",
     "output_type": "stream",
     "text": [
      "100%|██████████| 10000/10000 [00:31<00:00, 319.29it/s]\n"
     ]
    },
    {
     "name": "stdout",
     "output_type": "stream",
     "text": [
      "Step [9999/10000], Training Loss: 5.9079, Validation Loss: 5.9467\n",
      "Training Loss: 5.8718\n",
      "Number of parameters Y_t81: 109\n"
     ]
    },
    {
     "name": "stderr",
     "output_type": "stream",
     "text": [
      "  0%|          | 47/10000 [00:00<00:21, 466.99it/s]"
     ]
    },
    {
     "name": "stdout",
     "output_type": "stream",
     "text": [
      "Step [0/10000], Training Loss: 1.4587, Validation Loss: 1.4656\n"
     ]
    },
    {
     "name": "stderr",
     "output_type": "stream",
     "text": [
      " 11%|█         | 1076/10000 [00:03<00:25, 350.64it/s]"
     ]
    },
    {
     "name": "stdout",
     "output_type": "stream",
     "text": [
      "Step [999/10000], Training Loss: 0.0699, Validation Loss: 0.0697\n"
     ]
    },
    {
     "name": "stderr",
     "output_type": "stream",
     "text": [
      " 20%|██        | 2040/10000 [00:06<00:26, 296.19it/s]"
     ]
    },
    {
     "name": "stdout",
     "output_type": "stream",
     "text": [
      "Step [1999/10000], Training Loss: 0.0135, Validation Loss: 0.0135\n"
     ]
    },
    {
     "name": "stderr",
     "output_type": "stream",
     "text": [
      " 30%|███       | 3039/10000 [00:09<00:21, 321.21it/s]"
     ]
    },
    {
     "name": "stdout",
     "output_type": "stream",
     "text": [
      "Step [2999/10000], Training Loss: 0.0037, Validation Loss: 0.0036\n"
     ]
    },
    {
     "name": "stderr",
     "output_type": "stream",
     "text": [
      " 41%|████      | 4057/10000 [00:13<00:19, 301.57it/s]"
     ]
    },
    {
     "name": "stdout",
     "output_type": "stream",
     "text": [
      "Step [3999/10000], Training Loss: 0.0014, Validation Loss: 0.0014\n"
     ]
    },
    {
     "name": "stderr",
     "output_type": "stream",
     "text": [
      " 50%|█████     | 5031/10000 [00:18<00:22, 223.60it/s]"
     ]
    },
    {
     "name": "stdout",
     "output_type": "stream",
     "text": [
      "Step [4999/10000], Training Loss: 0.0008, Validation Loss: 0.0008\n"
     ]
    },
    {
     "name": "stderr",
     "output_type": "stream",
     "text": [
      " 61%|██████    | 6066/10000 [00:22<00:12, 316.05it/s]"
     ]
    },
    {
     "name": "stdout",
     "output_type": "stream",
     "text": [
      "Step [5999/10000], Training Loss: 0.0005, Validation Loss: 0.0005\n"
     ]
    },
    {
     "name": "stderr",
     "output_type": "stream",
     "text": [
      " 71%|███████   | 7071/10000 [00:25<00:08, 326.34it/s]"
     ]
    },
    {
     "name": "stdout",
     "output_type": "stream",
     "text": [
      "Step [6999/10000], Training Loss: 0.0004, Validation Loss: 0.0004\n"
     ]
    },
    {
     "name": "stderr",
     "output_type": "stream",
     "text": [
      " 80%|████████  | 8027/10000 [00:29<00:10, 197.24it/s]"
     ]
    },
    {
     "name": "stdout",
     "output_type": "stream",
     "text": [
      "Step [7999/10000], Training Loss: 0.0004, Validation Loss: 0.0004\n"
     ]
    },
    {
     "name": "stderr",
     "output_type": "stream",
     "text": [
      " 90%|█████████ | 9045/10000 [00:33<00:02, 362.81it/s]"
     ]
    },
    {
     "name": "stdout",
     "output_type": "stream",
     "text": [
      "Step [8999/10000], Training Loss: 0.0004, Validation Loss: 0.0004\n"
     ]
    },
    {
     "name": "stderr",
     "output_type": "stream",
     "text": [
      "100%|██████████| 10000/10000 [00:36<00:00, 274.87it/s]\n"
     ]
    },
    {
     "name": "stdout",
     "output_type": "stream",
     "text": [
      "Step [9999/10000], Training Loss: 0.0004, Validation Loss: 0.0004\n",
      "Training Loss: 0.0004\n",
      "Mean Euler Error: 9.6214e-06\n",
      "Number of parameters Z_t80: 109\n"
     ]
    },
    {
     "name": "stderr",
     "output_type": "stream",
     "text": [
      "  0%|          | 0/10000 [00:00<?, ?it/s]"
     ]
    },
    {
     "name": "stdout",
     "output_type": "stream",
     "text": [
      "Step [0/10000], Training Loss: 6.0430, Validation Loss: 5.9472\n"
     ]
    },
    {
     "name": "stderr",
     "output_type": "stream",
     "text": [
      " 11%|█         | 1075/10000 [00:02<00:22, 396.60it/s]"
     ]
    },
    {
     "name": "stdout",
     "output_type": "stream",
     "text": [
      "Step [999/10000], Training Loss: 5.9284, Validation Loss: 5.9574\n"
     ]
    },
    {
     "name": "stderr",
     "output_type": "stream",
     "text": [
      " 21%|██        | 2060/10000 [00:06<00:23, 334.49it/s]"
     ]
    },
    {
     "name": "stdout",
     "output_type": "stream",
     "text": [
      "Step [1999/10000], Training Loss: 5.9628, Validation Loss: 5.9427\n"
     ]
    },
    {
     "name": "stderr",
     "output_type": "stream",
     "text": [
      " 30%|███       | 3035/10000 [00:09<00:26, 261.39it/s]"
     ]
    },
    {
     "name": "stdout",
     "output_type": "stream",
     "text": [
      "Step [2999/10000], Training Loss: 5.9297, Validation Loss: 5.9936\n"
     ]
    },
    {
     "name": "stderr",
     "output_type": "stream",
     "text": [
      " 41%|████      | 4058/10000 [00:13<00:18, 323.98it/s]"
     ]
    },
    {
     "name": "stdout",
     "output_type": "stream",
     "text": [
      "Step [3999/10000], Training Loss: 6.0152, Validation Loss: 5.8953\n"
     ]
    },
    {
     "name": "stderr",
     "output_type": "stream",
     "text": [
      " 51%|█████     | 5068/10000 [00:16<00:14, 349.61it/s]"
     ]
    },
    {
     "name": "stdout",
     "output_type": "stream",
     "text": [
      "Step [4999/10000], Training Loss: 5.9521, Validation Loss: 5.9339\n"
     ]
    },
    {
     "name": "stderr",
     "output_type": "stream",
     "text": [
      " 61%|██████    | 6074/10000 [00:19<00:11, 353.26it/s]"
     ]
    },
    {
     "name": "stdout",
     "output_type": "stream",
     "text": [
      "Step [5999/10000], Training Loss: 6.0006, Validation Loss: 6.0521\n"
     ]
    },
    {
     "name": "stderr",
     "output_type": "stream",
     "text": [
      " 70%|███████   | 7030/10000 [00:23<00:10, 276.30it/s]"
     ]
    },
    {
     "name": "stdout",
     "output_type": "stream",
     "text": [
      "Step [6999/10000], Training Loss: 5.8538, Validation Loss: 5.8910\n"
     ]
    },
    {
     "name": "stderr",
     "output_type": "stream",
     "text": [
      " 80%|████████  | 8036/10000 [00:27<00:07, 254.57it/s]"
     ]
    },
    {
     "name": "stdout",
     "output_type": "stream",
     "text": [
      "Step [7999/10000], Training Loss: 5.9542, Validation Loss: 5.9726\n"
     ]
    },
    {
     "name": "stderr",
     "output_type": "stream",
     "text": [
      " 90%|█████████ | 9018/10000 [00:30<00:03, 299.71it/s]"
     ]
    },
    {
     "name": "stdout",
     "output_type": "stream",
     "text": [
      "Step [8999/10000], Training Loss: 5.8862, Validation Loss: 5.9501\n"
     ]
    },
    {
     "name": "stderr",
     "output_type": "stream",
     "text": [
      "100%|██████████| 10000/10000 [00:34<00:00, 290.15it/s]\n"
     ]
    },
    {
     "name": "stdout",
     "output_type": "stream",
     "text": [
      "Step [9999/10000], Training Loss: 6.0301, Validation Loss: 5.9423\n",
      "Training Loss: 5.9250\n",
      "Number of parameters Y_t80: 109\n"
     ]
    },
    {
     "name": "stderr",
     "output_type": "stream",
     "text": [
      "  0%|          | 47/10000 [00:00<00:21, 465.73it/s]"
     ]
    },
    {
     "name": "stdout",
     "output_type": "stream",
     "text": [
      "Step [0/10000], Training Loss: 0.3297, Validation Loss: 0.3284\n"
     ]
    },
    {
     "name": "stderr",
     "output_type": "stream",
     "text": [
      " 10%|█         | 1027/10000 [00:03<00:25, 345.97it/s]"
     ]
    },
    {
     "name": "stdout",
     "output_type": "stream",
     "text": [
      "Step [999/10000], Training Loss: 0.0064, Validation Loss: 0.0064\n"
     ]
    },
    {
     "name": "stderr",
     "output_type": "stream",
     "text": [
      " 20%|██        | 2010/10000 [00:07<00:30, 266.25it/s]"
     ]
    },
    {
     "name": "stdout",
     "output_type": "stream",
     "text": [
      "Step [1999/10000], Training Loss: 0.0008, Validation Loss: 0.0008\n"
     ]
    },
    {
     "name": "stderr",
     "output_type": "stream",
     "text": [
      " 30%|███       | 3033/10000 [00:11<00:24, 290.27it/s]"
     ]
    },
    {
     "name": "stdout",
     "output_type": "stream",
     "text": [
      "Step [2999/10000], Training Loss: 0.0005, Validation Loss: 0.0005\n"
     ]
    },
    {
     "name": "stderr",
     "output_type": "stream",
     "text": [
      " 41%|████      | 4070/10000 [00:15<00:18, 320.20it/s]"
     ]
    },
    {
     "name": "stdout",
     "output_type": "stream",
     "text": [
      "Step [3999/10000], Training Loss: 0.0004, Validation Loss: 0.0004\n"
     ]
    },
    {
     "name": "stderr",
     "output_type": "stream",
     "text": [
      " 51%|█████     | 5052/10000 [00:19<00:14, 338.97it/s]"
     ]
    },
    {
     "name": "stdout",
     "output_type": "stream",
     "text": [
      "Step [4999/10000], Training Loss: 0.0004, Validation Loss: 0.0004\n"
     ]
    },
    {
     "name": "stderr",
     "output_type": "stream",
     "text": [
      " 60%|██████    | 6019/10000 [00:22<00:15, 254.77it/s]"
     ]
    },
    {
     "name": "stdout",
     "output_type": "stream",
     "text": [
      "Step [5999/10000], Training Loss: 0.0004, Validation Loss: 0.0004\n"
     ]
    },
    {
     "name": "stderr",
     "output_type": "stream",
     "text": [
      " 70%|███████   | 7017/10000 [00:27<00:17, 169.46it/s]"
     ]
    },
    {
     "name": "stdout",
     "output_type": "stream",
     "text": [
      "Step [6999/10000], Training Loss: 0.0004, Validation Loss: 0.0004\n"
     ]
    },
    {
     "name": "stderr",
     "output_type": "stream",
     "text": [
      " 81%|████████  | 8074/10000 [00:30<00:03, 487.64it/s]"
     ]
    },
    {
     "name": "stdout",
     "output_type": "stream",
     "text": [
      "Step [7999/10000], Training Loss: 0.0004, Validation Loss: 0.0004\n"
     ]
    },
    {
     "name": "stderr",
     "output_type": "stream",
     "text": [
      " 90%|█████████ | 9030/10000 [00:34<00:03, 248.08it/s]"
     ]
    },
    {
     "name": "stdout",
     "output_type": "stream",
     "text": [
      "Step [8999/10000], Training Loss: 0.0004, Validation Loss: 0.0004\n"
     ]
    },
    {
     "name": "stderr",
     "output_type": "stream",
     "text": [
      "100%|██████████| 10000/10000 [00:39<00:00, 255.26it/s]\n"
     ]
    },
    {
     "name": "stdout",
     "output_type": "stream",
     "text": [
      "Step [9999/10000], Training Loss: 0.0004, Validation Loss: 0.0004\n",
      "Training Loss: 0.0004\n",
      "Mean Euler Error: 2.8349e-06\n",
      "Number of parameters Z_t79: 109\n"
     ]
    },
    {
     "name": "stderr",
     "output_type": "stream",
     "text": [
      "  0%|          | 0/10000 [00:00<?, ?it/s]"
     ]
    },
    {
     "name": "stdout",
     "output_type": "stream",
     "text": [
      "Step [0/10000], Training Loss: 5.8979, Validation Loss: 5.9116\n"
     ]
    },
    {
     "name": "stderr",
     "output_type": "stream",
     "text": [
      " 11%|█         | 1063/10000 [00:03<00:32, 273.04it/s]"
     ]
    },
    {
     "name": "stdout",
     "output_type": "stream",
     "text": [
      "Step [999/10000], Training Loss: 6.0333, Validation Loss: 5.8917\n"
     ]
    },
    {
     "name": "stderr",
     "output_type": "stream",
     "text": [
      " 20%|██        | 2048/10000 [00:07<00:33, 234.47it/s]"
     ]
    },
    {
     "name": "stdout",
     "output_type": "stream",
     "text": [
      "Step [1999/10000], Training Loss: 5.9243, Validation Loss: 5.8677\n"
     ]
    },
    {
     "name": "stderr",
     "output_type": "stream",
     "text": [
      " 30%|███       | 3035/10000 [00:11<00:27, 255.91it/s]"
     ]
    },
    {
     "name": "stdout",
     "output_type": "stream",
     "text": [
      "Step [2999/10000], Training Loss: 5.8377, Validation Loss: 5.8377\n"
     ]
    },
    {
     "name": "stderr",
     "output_type": "stream",
     "text": [
      " 40%|████      | 4022/10000 [00:15<00:27, 217.21it/s]"
     ]
    },
    {
     "name": "stdout",
     "output_type": "stream",
     "text": [
      "Step [3999/10000], Training Loss: 5.9309, Validation Loss: 5.8423\n"
     ]
    },
    {
     "name": "stderr",
     "output_type": "stream",
     "text": [
      " 50%|█████     | 5006/10000 [00:19<00:23, 213.84it/s]"
     ]
    },
    {
     "name": "stdout",
     "output_type": "stream",
     "text": [
      "Step [4999/10000], Training Loss: 6.0087, Validation Loss: 5.8668\n"
     ]
    },
    {
     "name": "stderr",
     "output_type": "stream",
     "text": [
      " 60%|██████    | 6033/10000 [00:23<00:11, 344.07it/s]"
     ]
    },
    {
     "name": "stdout",
     "output_type": "stream",
     "text": [
      "Step [5999/10000], Training Loss: 5.9584, Validation Loss: 5.9290\n"
     ]
    },
    {
     "name": "stderr",
     "output_type": "stream",
     "text": [
      " 70%|███████   | 7047/10000 [00:27<00:07, 398.25it/s]"
     ]
    },
    {
     "name": "stdout",
     "output_type": "stream",
     "text": [
      "Step [6999/10000], Training Loss: 5.8074, Validation Loss: 5.9826\n"
     ]
    },
    {
     "name": "stderr",
     "output_type": "stream",
     "text": [
      " 80%|███████▉  | 7999/10000 [00:30<00:07, 258.58it/s]\n"
     ]
    },
    {
     "name": "stdout",
     "output_type": "stream",
     "text": [
      "Step [7999/10000], Training Loss: 6.0427, Validation Loss: 5.9277\n",
      "Training Loss: 5.9135\n",
      "Number of parameters Y_t79: 109\n"
     ]
    },
    {
     "name": "stderr",
     "output_type": "stream",
     "text": [
      "  0%|          | 6/10000 [00:00<02:59, 55.53it/s]"
     ]
    },
    {
     "name": "stdout",
     "output_type": "stream",
     "text": [
      "Step [0/10000], Training Loss: 0.0223, Validation Loss: 0.0222\n"
     ]
    },
    {
     "name": "stderr",
     "output_type": "stream",
     "text": [
      " 10%|█         | 1024/10000 [00:03<00:38, 234.15it/s]"
     ]
    },
    {
     "name": "stdout",
     "output_type": "stream",
     "text": [
      "Step [999/10000], Training Loss: 0.0007, Validation Loss: 0.0007\n"
     ]
    },
    {
     "name": "stderr",
     "output_type": "stream",
     "text": [
      " 21%|██        | 2086/10000 [00:06<00:20, 387.32it/s]"
     ]
    },
    {
     "name": "stdout",
     "output_type": "stream",
     "text": [
      "Step [1999/10000], Training Loss: 0.0005, Validation Loss: 0.0005\n"
     ]
    },
    {
     "name": "stderr",
     "output_type": "stream",
     "text": [
      " 30%|███       | 3025/10000 [00:10<00:34, 204.83it/s]"
     ]
    },
    {
     "name": "stdout",
     "output_type": "stream",
     "text": [
      "Step [2999/10000], Training Loss: 0.0004, Validation Loss: 0.0004\n"
     ]
    },
    {
     "name": "stderr",
     "output_type": "stream",
     "text": [
      " 40%|████      | 4027/10000 [00:14<00:23, 252.65it/s]"
     ]
    },
    {
     "name": "stdout",
     "output_type": "stream",
     "text": [
      "Step [3999/10000], Training Loss: 0.0004, Validation Loss: 0.0004\n"
     ]
    },
    {
     "name": "stderr",
     "output_type": "stream",
     "text": [
      " 50%|█████     | 5030/10000 [00:18<00:25, 196.66it/s]"
     ]
    },
    {
     "name": "stdout",
     "output_type": "stream",
     "text": [
      "Step [4999/10000], Training Loss: 0.0004, Validation Loss: 0.0004\n"
     ]
    },
    {
     "name": "stderr",
     "output_type": "stream",
     "text": [
      " 60%|██████    | 6033/10000 [00:22<00:16, 237.95it/s]"
     ]
    },
    {
     "name": "stdout",
     "output_type": "stream",
     "text": [
      "Step [5999/10000], Training Loss: 0.0004, Validation Loss: 0.0004\n"
     ]
    },
    {
     "name": "stderr",
     "output_type": "stream",
     "text": [
      " 70%|███████   | 7035/10000 [00:27<00:11, 265.40it/s]"
     ]
    },
    {
     "name": "stdout",
     "output_type": "stream",
     "text": [
      "Step [6999/10000], Training Loss: 0.0004, Validation Loss: 0.0004\n"
     ]
    },
    {
     "name": "stderr",
     "output_type": "stream",
     "text": [
      " 81%|████████  | 8069/10000 [00:31<00:05, 344.59it/s]"
     ]
    },
    {
     "name": "stdout",
     "output_type": "stream",
     "text": [
      "Step [7999/10000], Training Loss: 0.0004, Validation Loss: 0.0004\n"
     ]
    },
    {
     "name": "stderr",
     "output_type": "stream",
     "text": [
      " 90%|█████████ | 9050/10000 [00:34<00:03, 294.15it/s]"
     ]
    },
    {
     "name": "stdout",
     "output_type": "stream",
     "text": [
      "Step [8999/10000], Training Loss: 0.0004, Validation Loss: 0.0004\n"
     ]
    },
    {
     "name": "stderr",
     "output_type": "stream",
     "text": [
      "100%|█████████▉| 9999/10000 [00:38<00:00, 260.82it/s]\n"
     ]
    },
    {
     "name": "stdout",
     "output_type": "stream",
     "text": [
      "Step [9999/10000], Training Loss: 0.0004, Validation Loss: 0.0004\n",
      "Training Loss: 0.0004\n",
      "Mean Euler Error: 3.6793e-06\n",
      "Number of parameters Z_t78: 109\n"
     ]
    },
    {
     "name": "stderr",
     "output_type": "stream",
     "text": [
      "  0%|          | 0/10000 [00:00<?, ?it/s]"
     ]
    },
    {
     "name": "stdout",
     "output_type": "stream",
     "text": [
      "Step [0/10000], Training Loss: 6.4836, Validation Loss: 6.4035\n"
     ]
    },
    {
     "name": "stderr",
     "output_type": "stream",
     "text": [
      " 11%|█         | 1054/10000 [00:03<00:28, 311.15it/s]"
     ]
    },
    {
     "name": "stdout",
     "output_type": "stream",
     "text": [
      "Step [999/10000], Training Loss: 5.9248, Validation Loss: 5.8635\n"
     ]
    },
    {
     "name": "stderr",
     "output_type": "stream",
     "text": [
      " 20%|██        | 2044/10000 [00:06<00:23, 333.45it/s]"
     ]
    },
    {
     "name": "stdout",
     "output_type": "stream",
     "text": [
      "Step [1999/10000], Training Loss: 5.8043, Validation Loss: 5.8477\n"
     ]
    },
    {
     "name": "stderr",
     "output_type": "stream",
     "text": [
      " 30%|███       | 3018/10000 [00:10<00:30, 231.49it/s]"
     ]
    },
    {
     "name": "stdout",
     "output_type": "stream",
     "text": [
      "Step [2999/10000], Training Loss: 5.9205, Validation Loss: 5.8110\n"
     ]
    },
    {
     "name": "stderr",
     "output_type": "stream",
     "text": [
      " 40%|████      | 4034/10000 [00:14<00:25, 235.02it/s]"
     ]
    },
    {
     "name": "stdout",
     "output_type": "stream",
     "text": [
      "Step [3999/10000], Training Loss: 5.8887, Validation Loss: 5.8836\n"
     ]
    },
    {
     "name": "stderr",
     "output_type": "stream",
     "text": [
      " 50%|█████     | 5050/10000 [00:17<00:15, 313.73it/s]"
     ]
    },
    {
     "name": "stdout",
     "output_type": "stream",
     "text": [
      "Step [4999/10000], Training Loss: 5.8842, Validation Loss: 5.8683\n"
     ]
    },
    {
     "name": "stderr",
     "output_type": "stream",
     "text": [
      " 60%|██████    | 6023/10000 [00:20<00:17, 233.31it/s]"
     ]
    },
    {
     "name": "stdout",
     "output_type": "stream",
     "text": [
      "Step [5999/10000], Training Loss: 6.0124, Validation Loss: 5.8777\n"
     ]
    },
    {
     "name": "stderr",
     "output_type": "stream",
     "text": [
      " 70%|███████   | 7023/10000 [00:25<00:15, 193.09it/s]"
     ]
    },
    {
     "name": "stdout",
     "output_type": "stream",
     "text": [
      "Step [6999/10000], Training Loss: 5.7618, Validation Loss: 5.9178\n"
     ]
    },
    {
     "name": "stderr",
     "output_type": "stream",
     "text": [
      " 80%|███████▉  | 7999/10000 [00:28<00:07, 280.37it/s]\n"
     ]
    },
    {
     "name": "stdout",
     "output_type": "stream",
     "text": [
      "Step [7999/10000], Training Loss: 5.8913, Validation Loss: 5.8780\n",
      "Training Loss: 5.8513\n",
      "Number of parameters Y_t78: 109\n"
     ]
    },
    {
     "name": "stderr",
     "output_type": "stream",
     "text": [
      "  0%|          | 0/10000 [00:00<?, ?it/s]"
     ]
    },
    {
     "name": "stdout",
     "output_type": "stream",
     "text": [
      "Step [0/10000], Training Loss: 0.2219, Validation Loss: 0.2222\n"
     ]
    },
    {
     "name": "stderr",
     "output_type": "stream",
     "text": [
      " 10%|█         | 1019/10000 [00:05<00:45, 197.75it/s]"
     ]
    },
    {
     "name": "stdout",
     "output_type": "stream",
     "text": [
      "Step [999/10000], Training Loss: 0.0078, Validation Loss: 0.0079\n"
     ]
    },
    {
     "name": "stderr",
     "output_type": "stream",
     "text": [
      " 20%|██        | 2021/10000 [00:08<00:39, 200.05it/s]"
     ]
    },
    {
     "name": "stdout",
     "output_type": "stream",
     "text": [
      "Step [1999/10000], Training Loss: 0.0020, Validation Loss: 0.0020\n"
     ]
    },
    {
     "name": "stderr",
     "output_type": "stream",
     "text": [
      " 30%|███       | 3040/10000 [00:13<00:31, 220.29it/s]"
     ]
    },
    {
     "name": "stdout",
     "output_type": "stream",
     "text": [
      "Step [2999/10000], Training Loss: 0.0009, Validation Loss: 0.0009\n"
     ]
    },
    {
     "name": "stderr",
     "output_type": "stream",
     "text": [
      " 40%|████      | 4028/10000 [00:17<00:25, 236.10it/s]"
     ]
    },
    {
     "name": "stdout",
     "output_type": "stream",
     "text": [
      "Step [3999/10000], Training Loss: 0.0007, Validation Loss: 0.0007\n"
     ]
    },
    {
     "name": "stderr",
     "output_type": "stream",
     "text": [
      " 50%|█████     | 5032/10000 [00:20<00:21, 232.44it/s]"
     ]
    },
    {
     "name": "stdout",
     "output_type": "stream",
     "text": [
      "Step [4999/10000], Training Loss: 0.0005, Validation Loss: 0.0005\n"
     ]
    },
    {
     "name": "stderr",
     "output_type": "stream",
     "text": [
      " 61%|██████    | 6088/10000 [00:24<00:12, 322.19it/s]"
     ]
    },
    {
     "name": "stdout",
     "output_type": "stream",
     "text": [
      "Step [5999/10000], Training Loss: 0.0005, Validation Loss: 0.0005\n"
     ]
    },
    {
     "name": "stderr",
     "output_type": "stream",
     "text": [
      " 71%|███████   | 7077/10000 [00:27<00:09, 313.19it/s]"
     ]
    },
    {
     "name": "stdout",
     "output_type": "stream",
     "text": [
      "Step [6999/10000], Training Loss: 0.0004, Validation Loss: 0.0004\n"
     ]
    },
    {
     "name": "stderr",
     "output_type": "stream",
     "text": [
      " 80%|████████  | 8048/10000 [00:31<00:07, 247.07it/s]"
     ]
    },
    {
     "name": "stdout",
     "output_type": "stream",
     "text": [
      "Step [7999/10000], Training Loss: 0.0004, Validation Loss: 0.0004\n"
     ]
    },
    {
     "name": "stderr",
     "output_type": "stream",
     "text": [
      " 91%|█████████ | 9059/10000 [00:35<00:03, 260.77it/s]"
     ]
    },
    {
     "name": "stdout",
     "output_type": "stream",
     "text": [
      "Step [8999/10000], Training Loss: 0.0004, Validation Loss: 0.0004\n"
     ]
    },
    {
     "name": "stderr",
     "output_type": "stream",
     "text": [
      "100%|██████████| 10000/10000 [00:37<00:00, 264.31it/s]\n"
     ]
    },
    {
     "name": "stdout",
     "output_type": "stream",
     "text": [
      "Step [9999/10000], Training Loss: 0.0004, Validation Loss: 0.0004\n",
      "Training Loss: 0.0004\n",
      "Mean Euler Error: 9.8898e-06\n",
      "Number of parameters Z_t77: 109\n"
     ]
    },
    {
     "name": "stderr",
     "output_type": "stream",
     "text": [
      "  0%|          | 0/10000 [00:00<?, ?it/s]"
     ]
    },
    {
     "name": "stdout",
     "output_type": "stream",
     "text": [
      "Step [0/10000], Training Loss: 6.4407, Validation Loss: 6.1344\n"
     ]
    },
    {
     "name": "stderr",
     "output_type": "stream",
     "text": [
      " 11%|█         | 1056/10000 [00:03<00:29, 301.61it/s]"
     ]
    },
    {
     "name": "stdout",
     "output_type": "stream",
     "text": [
      "Step [999/10000], Training Loss: 5.7046, Validation Loss: 5.8124\n"
     ]
    },
    {
     "name": "stderr",
     "output_type": "stream",
     "text": [
      " 21%|██        | 2086/10000 [00:07<00:16, 474.57it/s]"
     ]
    },
    {
     "name": "stdout",
     "output_type": "stream",
     "text": [
      "Step [1999/10000], Training Loss: 5.7899, Validation Loss: 5.8014\n"
     ]
    },
    {
     "name": "stderr",
     "output_type": "stream",
     "text": [
      " 31%|███       | 3074/10000 [00:10<00:18, 373.20it/s]"
     ]
    },
    {
     "name": "stdout",
     "output_type": "stream",
     "text": [
      "Step [2999/10000], Training Loss: 5.9163, Validation Loss: 5.9648\n"
     ]
    },
    {
     "name": "stderr",
     "output_type": "stream",
     "text": [
      " 41%|████      | 4059/10000 [00:12<00:19, 298.39it/s]"
     ]
    },
    {
     "name": "stdout",
     "output_type": "stream",
     "text": [
      "Step [3999/10000], Training Loss: 5.8826, Validation Loss: 5.8110\n"
     ]
    },
    {
     "name": "stderr",
     "output_type": "stream",
     "text": [
      " 50%|█████     | 5042/10000 [00:15<00:11, 418.53it/s]"
     ]
    },
    {
     "name": "stdout",
     "output_type": "stream",
     "text": [
      "Step [4999/10000], Training Loss: 5.7920, Validation Loss: 5.9135\n"
     ]
    },
    {
     "name": "stderr",
     "output_type": "stream",
     "text": [
      " 61%|██████    | 6052/10000 [00:18<00:11, 356.78it/s]"
     ]
    },
    {
     "name": "stdout",
     "output_type": "stream",
     "text": [
      "Step [5999/10000], Training Loss: 5.7375, Validation Loss: 5.7879\n"
     ]
    },
    {
     "name": "stderr",
     "output_type": "stream",
     "text": [
      " 71%|███████   | 7062/10000 [00:21<00:08, 337.29it/s]"
     ]
    },
    {
     "name": "stdout",
     "output_type": "stream",
     "text": [
      "Step [6999/10000], Training Loss: 5.9997, Validation Loss: 5.8208\n"
     ]
    },
    {
     "name": "stderr",
     "output_type": "stream",
     "text": [
      " 80%|████████  | 8049/10000 [00:24<00:05, 389.08it/s]"
     ]
    },
    {
     "name": "stdout",
     "output_type": "stream",
     "text": [
      "Step [7999/10000], Training Loss: 5.6629, Validation Loss: 5.8768\n"
     ]
    },
    {
     "name": "stderr",
     "output_type": "stream",
     "text": [
      " 91%|█████████ | 9055/10000 [00:27<00:02, 369.10it/s]"
     ]
    },
    {
     "name": "stdout",
     "output_type": "stream",
     "text": [
      "Step [8999/10000], Training Loss: 5.9050, Validation Loss: 5.8960\n"
     ]
    },
    {
     "name": "stderr",
     "output_type": "stream",
     "text": [
      "100%|██████████| 10000/10000 [00:29<00:00, 339.69it/s]\n"
     ]
    },
    {
     "name": "stdout",
     "output_type": "stream",
     "text": [
      "Step [9999/10000], Training Loss: 5.8180, Validation Loss: 5.8695\n",
      "Training Loss: 5.8770\n",
      "Number of parameters Y_t77: 109\n"
     ]
    },
    {
     "name": "stderr",
     "output_type": "stream",
     "text": [
      "  0%|          | 43/10000 [00:00<00:23, 429.77it/s]"
     ]
    },
    {
     "name": "stdout",
     "output_type": "stream",
     "text": [
      "Step [0/10000], Training Loss: 0.2092, Validation Loss: 0.2087\n"
     ]
    },
    {
     "name": "stderr",
     "output_type": "stream",
     "text": [
      " 10%|█         | 1028/10000 [00:03<00:24, 370.09it/s]"
     ]
    },
    {
     "name": "stdout",
     "output_type": "stream",
     "text": [
      "Step [999/10000], Training Loss: 0.0112, Validation Loss: 0.0112\n"
     ]
    },
    {
     "name": "stderr",
     "output_type": "stream",
     "text": [
      " 20%|██        | 2021/10000 [00:06<00:20, 392.61it/s]"
     ]
    },
    {
     "name": "stdout",
     "output_type": "stream",
     "text": [
      "Step [1999/10000], Training Loss: 0.0019, Validation Loss: 0.0019\n"
     ]
    },
    {
     "name": "stderr",
     "output_type": "stream",
     "text": [
      " 31%|███       | 3068/10000 [00:09<00:17, 396.76it/s]"
     ]
    },
    {
     "name": "stdout",
     "output_type": "stream",
     "text": [
      "Step [2999/10000], Training Loss: 0.0006, Validation Loss: 0.0006\n"
     ]
    },
    {
     "name": "stderr",
     "output_type": "stream",
     "text": [
      " 41%|████      | 4060/10000 [00:12<00:18, 327.43it/s]"
     ]
    },
    {
     "name": "stdout",
     "output_type": "stream",
     "text": [
      "Step [3999/10000], Training Loss: 0.0004, Validation Loss: 0.0004\n"
     ]
    },
    {
     "name": "stderr",
     "output_type": "stream",
     "text": [
      " 51%|█████     | 5060/10000 [00:15<00:15, 317.08it/s]"
     ]
    },
    {
     "name": "stdout",
     "output_type": "stream",
     "text": [
      "Step [4999/10000], Training Loss: 0.0004, Validation Loss: 0.0004\n"
     ]
    },
    {
     "name": "stderr",
     "output_type": "stream",
     "text": [
      " 60%|██████    | 6032/10000 [00:17<00:12, 309.94it/s]"
     ]
    },
    {
     "name": "stdout",
     "output_type": "stream",
     "text": [
      "Step [5999/10000], Training Loss: 0.0004, Validation Loss: 0.0004\n"
     ]
    },
    {
     "name": "stderr",
     "output_type": "stream",
     "text": [
      " 71%|███████   | 7071/10000 [00:21<00:07, 406.43it/s]"
     ]
    },
    {
     "name": "stdout",
     "output_type": "stream",
     "text": [
      "Step [6999/10000], Training Loss: 0.0004, Validation Loss: 0.0004\n"
     ]
    },
    {
     "name": "stderr",
     "output_type": "stream",
     "text": [
      " 80%|████████  | 8049/10000 [00:24<00:06, 286.78it/s]"
     ]
    },
    {
     "name": "stdout",
     "output_type": "stream",
     "text": [
      "Step [7999/10000], Training Loss: 0.0004, Validation Loss: 0.0004\n"
     ]
    },
    {
     "name": "stderr",
     "output_type": "stream",
     "text": [
      " 91%|█████████ | 9080/10000 [00:28<00:02, 406.79it/s]"
     ]
    },
    {
     "name": "stdout",
     "output_type": "stream",
     "text": [
      "Step [8999/10000], Training Loss: 0.0004, Validation Loss: 0.0004\n"
     ]
    },
    {
     "name": "stderr",
     "output_type": "stream",
     "text": [
      "100%|██████████| 10000/10000 [00:31<00:00, 315.38it/s]\n"
     ]
    },
    {
     "name": "stdout",
     "output_type": "stream",
     "text": [
      "Step [9999/10000], Training Loss: 0.0004, Validation Loss: 0.0004\n",
      "Training Loss: 0.0004\n",
      "Mean Euler Error: 3.7397e-06\n",
      "Number of parameters Z_t76: 109\n"
     ]
    },
    {
     "name": "stderr",
     "output_type": "stream",
     "text": [
      "  0%|          | 0/10000 [00:00<?, ?it/s]"
     ]
    },
    {
     "name": "stdout",
     "output_type": "stream",
     "text": [
      "Step [0/10000], Training Loss: 5.9340, Validation Loss: 5.8283\n"
     ]
    },
    {
     "name": "stderr",
     "output_type": "stream",
     "text": [
      " 10%|█         | 1037/10000 [00:03<00:29, 302.01it/s]"
     ]
    },
    {
     "name": "stdout",
     "output_type": "stream",
     "text": [
      "Step [999/10000], Training Loss: 5.9171, Validation Loss: 5.7065\n"
     ]
    },
    {
     "name": "stderr",
     "output_type": "stream",
     "text": [
      " 21%|██        | 2083/10000 [00:07<00:22, 350.03it/s]"
     ]
    },
    {
     "name": "stdout",
     "output_type": "stream",
     "text": [
      "Step [1999/10000], Training Loss: 5.7410, Validation Loss: 5.8105\n"
     ]
    },
    {
     "name": "stderr",
     "output_type": "stream",
     "text": [
      " 30%|███       | 3036/10000 [00:10<00:21, 320.95it/s]"
     ]
    },
    {
     "name": "stdout",
     "output_type": "stream",
     "text": [
      "Step [2999/10000], Training Loss: 5.9571, Validation Loss: 5.9496\n"
     ]
    },
    {
     "name": "stderr",
     "output_type": "stream",
     "text": [
      " 40%|████      | 4014/10000 [00:14<00:25, 231.98it/s]"
     ]
    },
    {
     "name": "stdout",
     "output_type": "stream",
     "text": [
      "Step [3999/10000], Training Loss: 5.8742, Validation Loss: 5.8631\n"
     ]
    },
    {
     "name": "stderr",
     "output_type": "stream",
     "text": [
      " 50%|█████     | 5044/10000 [00:17<00:15, 317.38it/s]"
     ]
    },
    {
     "name": "stdout",
     "output_type": "stream",
     "text": [
      "Step [4999/10000], Training Loss: 5.9829, Validation Loss: 5.8444\n"
     ]
    },
    {
     "name": "stderr",
     "output_type": "stream",
     "text": [
      " 60%|█████▉    | 5999/10000 [00:21<00:14, 283.84it/s]\n"
     ]
    },
    {
     "name": "stdout",
     "output_type": "stream",
     "text": [
      "Step [5999/10000], Training Loss: 5.7339, Validation Loss: 5.7864\n",
      "Training Loss: 5.8920\n",
      "Number of parameters Y_t76: 109\n"
     ]
    },
    {
     "name": "stderr",
     "output_type": "stream",
     "text": [
      "  0%|          | 35/10000 [00:00<00:28, 346.55it/s]"
     ]
    },
    {
     "name": "stdout",
     "output_type": "stream",
     "text": [
      "Step [0/10000], Training Loss: 1.0779, Validation Loss: 1.0748\n"
     ]
    },
    {
     "name": "stderr",
     "output_type": "stream",
     "text": [
      " 10%|█         | 1038/10000 [00:03<00:30, 295.06it/s]"
     ]
    },
    {
     "name": "stdout",
     "output_type": "stream",
     "text": [
      "Step [999/10000], Training Loss: 0.0031, Validation Loss: 0.0031\n"
     ]
    },
    {
     "name": "stderr",
     "output_type": "stream",
     "text": [
      " 20%|██        | 2036/10000 [00:06<00:22, 347.61it/s]"
     ]
    },
    {
     "name": "stdout",
     "output_type": "stream",
     "text": [
      "Step [1999/10000], Training Loss: 0.0017, Validation Loss: 0.0016\n"
     ]
    },
    {
     "name": "stderr",
     "output_type": "stream",
     "text": [
      " 30%|███       | 3022/10000 [00:09<00:21, 327.32it/s]"
     ]
    },
    {
     "name": "stdout",
     "output_type": "stream",
     "text": [
      "Step [2999/10000], Training Loss: 0.0009, Validation Loss: 0.0009\n"
     ]
    },
    {
     "name": "stderr",
     "output_type": "stream",
     "text": [
      " 40%|████      | 4031/10000 [00:13<00:24, 245.41it/s]"
     ]
    },
    {
     "name": "stdout",
     "output_type": "stream",
     "text": [
      "Step [3999/10000], Training Loss: 0.0006, Validation Loss: 0.0006\n"
     ]
    },
    {
     "name": "stderr",
     "output_type": "stream",
     "text": [
      " 51%|█████     | 5057/10000 [00:17<00:13, 358.17it/s]"
     ]
    },
    {
     "name": "stdout",
     "output_type": "stream",
     "text": [
      "Step [4999/10000], Training Loss: 0.0004, Validation Loss: 0.0004\n"
     ]
    },
    {
     "name": "stderr",
     "output_type": "stream",
     "text": [
      " 61%|██████    | 6062/10000 [00:20<00:12, 316.92it/s]"
     ]
    },
    {
     "name": "stdout",
     "output_type": "stream",
     "text": [
      "Step [5999/10000], Training Loss: 0.0004, Validation Loss: 0.0004\n"
     ]
    },
    {
     "name": "stderr",
     "output_type": "stream",
     "text": [
      " 70%|███████   | 7037/10000 [00:23<00:09, 309.46it/s]"
     ]
    },
    {
     "name": "stdout",
     "output_type": "stream",
     "text": [
      "Step [6999/10000], Training Loss: 0.0004, Validation Loss: 0.0004\n"
     ]
    },
    {
     "name": "stderr",
     "output_type": "stream",
     "text": [
      " 80%|████████  | 8019/10000 [00:27<00:07, 279.43it/s]"
     ]
    },
    {
     "name": "stdout",
     "output_type": "stream",
     "text": [
      "Step [7999/10000], Training Loss: 0.0004, Validation Loss: 0.0004\n"
     ]
    },
    {
     "name": "stderr",
     "output_type": "stream",
     "text": [
      " 91%|█████████ | 9053/10000 [00:30<00:03, 295.98it/s]"
     ]
    },
    {
     "name": "stdout",
     "output_type": "stream",
     "text": [
      "Step [8999/10000], Training Loss: 0.0004, Validation Loss: 0.0004\n"
     ]
    },
    {
     "name": "stderr",
     "output_type": "stream",
     "text": [
      "100%|██████████| 10000/10000 [00:33<00:00, 296.52it/s]\n"
     ]
    },
    {
     "name": "stdout",
     "output_type": "stream",
     "text": [
      "Step [9999/10000], Training Loss: 0.0004, Validation Loss: 0.0004\n",
      "Training Loss: 0.0004\n",
      "Mean Euler Error: 2.3928e-06\n",
      "Number of parameters Z_t75: 109\n"
     ]
    },
    {
     "name": "stderr",
     "output_type": "stream",
     "text": [
      "  0%|          | 0/10000 [00:00<?, ?it/s]"
     ]
    },
    {
     "name": "stdout",
     "output_type": "stream",
     "text": [
      "Step [0/10000], Training Loss: 5.9039, Validation Loss: 5.8682\n"
     ]
    },
    {
     "name": "stderr",
     "output_type": "stream",
     "text": [
      " 11%|█         | 1054/10000 [00:03<00:28, 316.08it/s]"
     ]
    },
    {
     "name": "stdout",
     "output_type": "stream",
     "text": [
      "Step [999/10000], Training Loss: 5.7865, Validation Loss: 5.8373\n"
     ]
    },
    {
     "name": "stderr",
     "output_type": "stream",
     "text": [
      " 20%|██        | 2038/10000 [00:06<00:24, 325.54it/s]"
     ]
    },
    {
     "name": "stdout",
     "output_type": "stream",
     "text": [
      "Step [1999/10000], Training Loss: 5.8056, Validation Loss: 5.7486\n"
     ]
    },
    {
     "name": "stderr",
     "output_type": "stream",
     "text": [
      " 30%|███       | 3048/10000 [00:10<00:18, 377.28it/s]"
     ]
    },
    {
     "name": "stdout",
     "output_type": "stream",
     "text": [
      "Step [2999/10000], Training Loss: 5.6881, Validation Loss: 5.7731\n"
     ]
    },
    {
     "name": "stderr",
     "output_type": "stream",
     "text": [
      " 40%|████      | 4005/10000 [00:13<00:15, 398.72it/s]"
     ]
    },
    {
     "name": "stdout",
     "output_type": "stream",
     "text": [
      "Step [3999/10000], Training Loss: 5.9612, Validation Loss: 5.6933\n"
     ]
    },
    {
     "name": "stderr",
     "output_type": "stream",
     "text": [
      " 51%|█████     | 5075/10000 [00:17<00:14, 343.79it/s]"
     ]
    },
    {
     "name": "stdout",
     "output_type": "stream",
     "text": [
      "Step [4999/10000], Training Loss: 5.7268, Validation Loss: 5.8276\n"
     ]
    },
    {
     "name": "stderr",
     "output_type": "stream",
     "text": [
      " 60%|██████    | 6005/10000 [00:20<00:09, 422.12it/s]"
     ]
    },
    {
     "name": "stdout",
     "output_type": "stream",
     "text": [
      "Step [5999/10000], Training Loss: 5.7947, Validation Loss: 5.8326\n"
     ]
    },
    {
     "name": "stderr",
     "output_type": "stream",
     "text": [
      " 71%|███████   | 7065/10000 [00:23<00:10, 278.55it/s]"
     ]
    },
    {
     "name": "stdout",
     "output_type": "stream",
     "text": [
      "Step [6999/10000], Training Loss: 5.8479, Validation Loss: 5.8054\n"
     ]
    },
    {
     "name": "stderr",
     "output_type": "stream",
     "text": [
      " 80%|████████  | 8029/10000 [00:26<00:06, 282.69it/s]"
     ]
    },
    {
     "name": "stdout",
     "output_type": "stream",
     "text": [
      "Step [7999/10000], Training Loss: 5.8132, Validation Loss: 5.7366\n"
     ]
    },
    {
     "name": "stderr",
     "output_type": "stream",
     "text": [
      " 90%|████████▉ | 8999/10000 [00:29<00:03, 303.20it/s]\n"
     ]
    },
    {
     "name": "stdout",
     "output_type": "stream",
     "text": [
      "Step [8999/10000], Training Loss: 5.7698, Validation Loss: 5.7154\n",
      "Training Loss: 5.7984\n",
      "Number of parameters Y_t75: 109\n"
     ]
    },
    {
     "name": "stderr",
     "output_type": "stream",
     "text": [
      "  0%|          | 42/10000 [00:00<00:24, 411.37it/s]"
     ]
    },
    {
     "name": "stdout",
     "output_type": "stream",
     "text": [
      "Step [0/10000], Training Loss: 0.0924, Validation Loss: 0.0936\n"
     ]
    },
    {
     "name": "stderr",
     "output_type": "stream",
     "text": [
      " 11%|█         | 1070/10000 [00:03<00:24, 357.78it/s]"
     ]
    },
    {
     "name": "stdout",
     "output_type": "stream",
     "text": [
      "Step [999/10000], Training Loss: 0.0104, Validation Loss: 0.0105\n"
     ]
    },
    {
     "name": "stderr",
     "output_type": "stream",
     "text": [
      " 20%|██        | 2046/10000 [00:06<00:24, 322.02it/s]"
     ]
    },
    {
     "name": "stdout",
     "output_type": "stream",
     "text": [
      "Step [1999/10000], Training Loss: 0.0041, Validation Loss: 0.0043\n"
     ]
    },
    {
     "name": "stderr",
     "output_type": "stream",
     "text": [
      " 31%|███       | 3085/10000 [00:09<00:17, 384.25it/s]"
     ]
    },
    {
     "name": "stdout",
     "output_type": "stream",
     "text": [
      "Step [2999/10000], Training Loss: 0.0017, Validation Loss: 0.0016\n"
     ]
    },
    {
     "name": "stderr",
     "output_type": "stream",
     "text": [
      " 41%|████      | 4081/10000 [00:12<00:13, 448.47it/s]"
     ]
    },
    {
     "name": "stdout",
     "output_type": "stream",
     "text": [
      "Step [3999/10000], Training Loss: 0.0010, Validation Loss: 0.0010\n"
     ]
    },
    {
     "name": "stderr",
     "output_type": "stream",
     "text": [
      " 50%|█████     | 5030/10000 [00:16<00:17, 291.27it/s]"
     ]
    },
    {
     "name": "stdout",
     "output_type": "stream",
     "text": [
      "Step [4999/10000], Training Loss: 0.0008, Validation Loss: 0.0008\n"
     ]
    },
    {
     "name": "stderr",
     "output_type": "stream",
     "text": [
      " 60%|██████    | 6037/10000 [00:20<00:13, 293.17it/s]"
     ]
    },
    {
     "name": "stdout",
     "output_type": "stream",
     "text": [
      "Step [5999/10000], Training Loss: 0.0007, Validation Loss: 0.0007\n"
     ]
    },
    {
     "name": "stderr",
     "output_type": "stream",
     "text": [
      " 70%|███████   | 7014/10000 [00:23<00:08, 372.46it/s]"
     ]
    },
    {
     "name": "stdout",
     "output_type": "stream",
     "text": [
      "Step [6999/10000], Training Loss: 0.0006, Validation Loss: 0.0006\n"
     ]
    },
    {
     "name": "stderr",
     "output_type": "stream",
     "text": [
      " 80%|████████  | 8026/10000 [00:26<00:05, 333.98it/s]"
     ]
    },
    {
     "name": "stdout",
     "output_type": "stream",
     "text": [
      "Step [7999/10000], Training Loss: 0.0005, Validation Loss: 0.0005\n"
     ]
    },
    {
     "name": "stderr",
     "output_type": "stream",
     "text": [
      " 91%|█████████ | 9058/10000 [00:30<00:03, 309.87it/s]"
     ]
    },
    {
     "name": "stdout",
     "output_type": "stream",
     "text": [
      "Step [8999/10000], Training Loss: 0.0004, Validation Loss: 0.0004\n"
     ]
    },
    {
     "name": "stderr",
     "output_type": "stream",
     "text": [
      "100%|██████████| 10000/10000 [00:33<00:00, 294.40it/s]\n"
     ]
    },
    {
     "name": "stdout",
     "output_type": "stream",
     "text": [
      "Step [9999/10000], Training Loss: 0.0004, Validation Loss: 0.0004\n",
      "Training Loss: 0.0004\n",
      "Mean Euler Error: 2.8309e-05\n",
      "Number of parameters Z_t74: 109\n"
     ]
    },
    {
     "name": "stderr",
     "output_type": "stream",
     "text": [
      "  0%|          | 0/10000 [00:00<?, ?it/s]"
     ]
    },
    {
     "name": "stdout",
     "output_type": "stream",
     "text": [
      "Step [0/10000], Training Loss: 5.8884, Validation Loss: 5.9248\n"
     ]
    },
    {
     "name": "stderr",
     "output_type": "stream",
     "text": [
      " 10%|█         | 1036/10000 [00:03<00:30, 289.79it/s]"
     ]
    },
    {
     "name": "stdout",
     "output_type": "stream",
     "text": [
      "Step [999/10000], Training Loss: 5.8506, Validation Loss: 5.7146\n"
     ]
    },
    {
     "name": "stderr",
     "output_type": "stream",
     "text": [
      " 20%|██        | 2049/10000 [00:07<00:34, 231.14it/s]"
     ]
    },
    {
     "name": "stdout",
     "output_type": "stream",
     "text": [
      "Step [1999/10000], Training Loss: 5.6637, Validation Loss: 5.7743\n"
     ]
    },
    {
     "name": "stderr",
     "output_type": "stream",
     "text": [
      " 30%|███       | 3041/10000 [00:10<00:21, 330.24it/s]"
     ]
    },
    {
     "name": "stdout",
     "output_type": "stream",
     "text": [
      "Step [2999/10000], Training Loss: 5.7726, Validation Loss: 5.6989\n"
     ]
    },
    {
     "name": "stderr",
     "output_type": "stream",
     "text": [
      " 40%|████      | 4035/10000 [00:14<00:22, 270.58it/s]"
     ]
    },
    {
     "name": "stdout",
     "output_type": "stream",
     "text": [
      "Step [3999/10000], Training Loss: 5.9656, Validation Loss: 5.7765\n"
     ]
    },
    {
     "name": "stderr",
     "output_type": "stream",
     "text": [
      " 50%|█████     | 5038/10000 [00:18<00:15, 319.21it/s]"
     ]
    },
    {
     "name": "stdout",
     "output_type": "stream",
     "text": [
      "Step [4999/10000], Training Loss: 5.8166, Validation Loss: 5.7470\n"
     ]
    },
    {
     "name": "stderr",
     "output_type": "stream",
     "text": [
      " 60%|██████    | 6044/10000 [00:21<00:10, 378.71it/s]"
     ]
    },
    {
     "name": "stdout",
     "output_type": "stream",
     "text": [
      "Step [5999/10000], Training Loss: 5.6486, Validation Loss: 5.7011\n"
     ]
    },
    {
     "name": "stderr",
     "output_type": "stream",
     "text": [
      " 71%|███████   | 7060/10000 [00:25<00:08, 356.51it/s]"
     ]
    },
    {
     "name": "stdout",
     "output_type": "stream",
     "text": [
      "Step [6999/10000], Training Loss: 5.7341, Validation Loss: 5.7188\n"
     ]
    },
    {
     "name": "stderr",
     "output_type": "stream",
     "text": [
      " 81%|████████  | 8059/10000 [00:29<00:07, 275.59it/s]"
     ]
    },
    {
     "name": "stdout",
     "output_type": "stream",
     "text": [
      "Step [7999/10000], Training Loss: 5.8299, Validation Loss: 5.6788\n"
     ]
    },
    {
     "name": "stderr",
     "output_type": "stream",
     "text": [
      " 90%|█████████ | 9030/10000 [00:32<00:03, 266.03it/s]"
     ]
    },
    {
     "name": "stdout",
     "output_type": "stream",
     "text": [
      "Step [8999/10000], Training Loss: 5.7294, Validation Loss: 5.7963\n"
     ]
    },
    {
     "name": "stderr",
     "output_type": "stream",
     "text": [
      "100%|██████████| 10000/10000 [00:35<00:00, 285.31it/s]\n"
     ]
    },
    {
     "name": "stdout",
     "output_type": "stream",
     "text": [
      "Step [9999/10000], Training Loss: 5.7880, Validation Loss: 5.7419\n",
      "Training Loss: 5.7396\n",
      "Number of parameters Y_t74: 109\n"
     ]
    },
    {
     "name": "stderr",
     "output_type": "stream",
     "text": [
      "  0%|          | 24/10000 [00:00<00:41, 239.25it/s]"
     ]
    },
    {
     "name": "stdout",
     "output_type": "stream",
     "text": [
      "Step [0/10000], Training Loss: 0.1444, Validation Loss: 0.1448\n"
     ]
    },
    {
     "name": "stderr",
     "output_type": "stream",
     "text": [
      " 10%|█         | 1033/10000 [00:03<00:21, 419.66it/s]"
     ]
    },
    {
     "name": "stdout",
     "output_type": "stream",
     "text": [
      "Step [999/10000], Training Loss: 0.0099, Validation Loss: 0.0098\n"
     ]
    },
    {
     "name": "stderr",
     "output_type": "stream",
     "text": [
      " 20%|██        | 2007/10000 [00:06<00:24, 332.30it/s]"
     ]
    },
    {
     "name": "stdout",
     "output_type": "stream",
     "text": [
      "Step [1999/10000], Training Loss: 0.0019, Validation Loss: 0.0019\n"
     ]
    },
    {
     "name": "stderr",
     "output_type": "stream",
     "text": [
      " 30%|███       | 3046/10000 [00:10<00:24, 280.50it/s]"
     ]
    },
    {
     "name": "stdout",
     "output_type": "stream",
     "text": [
      "Step [2999/10000], Training Loss: 0.0006, Validation Loss: 0.0006\n"
     ]
    },
    {
     "name": "stderr",
     "output_type": "stream",
     "text": [
      " 40%|████      | 4023/10000 [00:13<00:20, 288.12it/s]"
     ]
    },
    {
     "name": "stdout",
     "output_type": "stream",
     "text": [
      "Step [3999/10000], Training Loss: 0.0005, Validation Loss: 0.0005\n"
     ]
    },
    {
     "name": "stderr",
     "output_type": "stream",
     "text": [
      " 50%|████▉     | 4996/10000 [00:17<00:24, 206.61it/s]"
     ]
    },
    {
     "name": "stdout",
     "output_type": "stream",
     "text": [
      "Step [4999/10000], Training Loss: 0.0004, Validation Loss: 0.0004\n"
     ]
    },
    {
     "name": "stderr",
     "output_type": "stream",
     "text": [
      " 60%|██████    | 6027/10000 [00:21<00:16, 235.37it/s]"
     ]
    },
    {
     "name": "stdout",
     "output_type": "stream",
     "text": [
      "Step [5999/10000], Training Loss: 0.0004, Validation Loss: 0.0004\n"
     ]
    },
    {
     "name": "stderr",
     "output_type": "stream",
     "text": [
      " 70%|███████   | 7022/10000 [00:24<00:11, 248.95it/s]"
     ]
    },
    {
     "name": "stdout",
     "output_type": "stream",
     "text": [
      "Step [6999/10000], Training Loss: 0.0004, Validation Loss: 0.0004\n"
     ]
    },
    {
     "name": "stderr",
     "output_type": "stream",
     "text": [
      " 81%|████████  | 8058/10000 [00:28<00:06, 277.58it/s]"
     ]
    },
    {
     "name": "stdout",
     "output_type": "stream",
     "text": [
      "Step [7999/10000], Training Loss: 0.0004, Validation Loss: 0.0004\n"
     ]
    },
    {
     "name": "stderr",
     "output_type": "stream",
     "text": [
      " 91%|█████████ | 9051/10000 [00:32<00:03, 315.45it/s]"
     ]
    },
    {
     "name": "stdout",
     "output_type": "stream",
     "text": [
      "Step [8999/10000], Training Loss: 0.0004, Validation Loss: 0.0004\n"
     ]
    },
    {
     "name": "stderr",
     "output_type": "stream",
     "text": [
      "100%|██████████| 10000/10000 [00:35<00:00, 281.42it/s]\n"
     ]
    },
    {
     "name": "stdout",
     "output_type": "stream",
     "text": [
      "Step [9999/10000], Training Loss: 0.0004, Validation Loss: 0.0004\n",
      "Training Loss: 0.0004\n",
      "Mean Euler Error: 3.0017e-06\n",
      "Number of parameters Z_t73: 109\n"
     ]
    },
    {
     "name": "stderr",
     "output_type": "stream",
     "text": [
      "  0%|          | 0/10000 [00:00<?, ?it/s]"
     ]
    },
    {
     "name": "stdout",
     "output_type": "stream",
     "text": [
      "Step [0/10000], Training Loss: 5.7553, Validation Loss: 5.7844\n"
     ]
    },
    {
     "name": "stderr",
     "output_type": "stream",
     "text": [
      " 10%|█         | 1029/10000 [00:04<00:26, 335.07it/s]"
     ]
    },
    {
     "name": "stdout",
     "output_type": "stream",
     "text": [
      "Step [999/10000], Training Loss: 5.6529, Validation Loss: 5.7706\n"
     ]
    },
    {
     "name": "stderr",
     "output_type": "stream",
     "text": [
      " 20%|██        | 2050/10000 [00:08<00:29, 267.81it/s]"
     ]
    },
    {
     "name": "stdout",
     "output_type": "stream",
     "text": [
      "Step [1999/10000], Training Loss: 5.7888, Validation Loss: 5.7837\n"
     ]
    },
    {
     "name": "stderr",
     "output_type": "stream",
     "text": [
      " 31%|███       | 3052/10000 [00:11<00:17, 387.31it/s]"
     ]
    },
    {
     "name": "stdout",
     "output_type": "stream",
     "text": [
      "Step [2999/10000], Training Loss: 5.5305, Validation Loss: 5.6480\n"
     ]
    },
    {
     "name": "stderr",
     "output_type": "stream",
     "text": [
      " 40%|████      | 4029/10000 [00:14<00:20, 297.23it/s]"
     ]
    },
    {
     "name": "stdout",
     "output_type": "stream",
     "text": [
      "Step [3999/10000], Training Loss: 5.6293, Validation Loss: 5.7201\n"
     ]
    },
    {
     "name": "stderr",
     "output_type": "stream",
     "text": [
      " 51%|█████     | 5064/10000 [00:17<00:11, 428.56it/s]"
     ]
    },
    {
     "name": "stdout",
     "output_type": "stream",
     "text": [
      "Step [4999/10000], Training Loss: 5.7166, Validation Loss: 5.6165\n"
     ]
    },
    {
     "name": "stderr",
     "output_type": "stream",
     "text": [
      " 61%|██████    | 6062/10000 [00:20<00:13, 290.99it/s]"
     ]
    },
    {
     "name": "stdout",
     "output_type": "stream",
     "text": [
      "Step [5999/10000], Training Loss: 5.7057, Validation Loss: 5.7357\n"
     ]
    },
    {
     "name": "stderr",
     "output_type": "stream",
     "text": [
      " 70%|███████   | 7026/10000 [00:24<00:13, 217.63it/s]"
     ]
    },
    {
     "name": "stdout",
     "output_type": "stream",
     "text": [
      "Step [6999/10000], Training Loss: 5.7130, Validation Loss: 5.6498\n"
     ]
    },
    {
     "name": "stderr",
     "output_type": "stream",
     "text": [
      " 80%|████████  | 8045/10000 [00:27<00:06, 293.11it/s]"
     ]
    },
    {
     "name": "stdout",
     "output_type": "stream",
     "text": [
      "Step [7999/10000], Training Loss: 5.8115, Validation Loss: 5.7518\n"
     ]
    },
    {
     "name": "stderr",
     "output_type": "stream",
     "text": [
      " 91%|█████████ | 9058/10000 [00:30<00:02, 343.67it/s]"
     ]
    },
    {
     "name": "stdout",
     "output_type": "stream",
     "text": [
      "Step [8999/10000], Training Loss: 5.7073, Validation Loss: 5.7261\n"
     ]
    },
    {
     "name": "stderr",
     "output_type": "stream",
     "text": [
      "100%|█████████▉| 9999/10000 [00:34<00:00, 292.66it/s]\n"
     ]
    },
    {
     "name": "stdout",
     "output_type": "stream",
     "text": [
      "Step [9999/10000], Training Loss: 5.6960, Validation Loss: 5.7125\n",
      "Training Loss: 5.7954\n",
      "Number of parameters Y_t73: 109\n"
     ]
    },
    {
     "name": "stderr",
     "output_type": "stream",
     "text": [
      "  0%|          | 0/10000 [00:00<?, ?it/s]"
     ]
    },
    {
     "name": "stdout",
     "output_type": "stream",
     "text": [
      "Step [0/10000], Training Loss: 0.1067, Validation Loss: 0.1069\n"
     ]
    },
    {
     "name": "stderr",
     "output_type": "stream",
     "text": [
      " 11%|█         | 1055/10000 [00:03<00:28, 319.15it/s]"
     ]
    },
    {
     "name": "stdout",
     "output_type": "stream",
     "text": [
      "Step [999/10000], Training Loss: 0.0038, Validation Loss: 0.0038\n"
     ]
    },
    {
     "name": "stderr",
     "output_type": "stream",
     "text": [
      " 20%|██        | 2028/10000 [00:07<00:50, 158.22it/s]"
     ]
    },
    {
     "name": "stdout",
     "output_type": "stream",
     "text": [
      "Step [1999/10000], Training Loss: 0.0010, Validation Loss: 0.0010\n"
     ]
    },
    {
     "name": "stderr",
     "output_type": "stream",
     "text": [
      " 30%|███       | 3048/10000 [00:12<00:28, 240.72it/s]"
     ]
    },
    {
     "name": "stdout",
     "output_type": "stream",
     "text": [
      "Step [2999/10000], Training Loss: 0.0004, Validation Loss: 0.0004\n"
     ]
    },
    {
     "name": "stderr",
     "output_type": "stream",
     "text": [
      " 40%|████      | 4008/10000 [00:16<00:23, 255.11it/s]"
     ]
    },
    {
     "name": "stdout",
     "output_type": "stream",
     "text": [
      "Step [3999/10000], Training Loss: 0.0004, Validation Loss: 0.0004\n"
     ]
    },
    {
     "name": "stderr",
     "output_type": "stream",
     "text": [
      " 51%|█████     | 5077/10000 [00:18<00:11, 422.71it/s]"
     ]
    },
    {
     "name": "stdout",
     "output_type": "stream",
     "text": [
      "Step [4999/10000], Training Loss: 0.0004, Validation Loss: 0.0004\n"
     ]
    },
    {
     "name": "stderr",
     "output_type": "stream",
     "text": [
      " 61%|██████    | 6072/10000 [00:21<00:09, 395.55it/s]"
     ]
    },
    {
     "name": "stdout",
     "output_type": "stream",
     "text": [
      "Step [5999/10000], Training Loss: 0.0004, Validation Loss: 0.0004\n"
     ]
    },
    {
     "name": "stderr",
     "output_type": "stream",
     "text": [
      " 70%|███████   | 7036/10000 [00:24<00:09, 324.20it/s]"
     ]
    },
    {
     "name": "stdout",
     "output_type": "stream",
     "text": [
      "Step [6999/10000], Training Loss: 0.0004, Validation Loss: 0.0004\n"
     ]
    },
    {
     "name": "stderr",
     "output_type": "stream",
     "text": [
      " 81%|████████  | 8068/10000 [00:27<00:05, 341.28it/s]"
     ]
    },
    {
     "name": "stdout",
     "output_type": "stream",
     "text": [
      "Step [7999/10000], Training Loss: 0.0004, Validation Loss: 0.0004\n"
     ]
    },
    {
     "name": "stderr",
     "output_type": "stream",
     "text": [
      " 91%|█████████ | 9055/10000 [00:30<00:02, 369.03it/s]"
     ]
    },
    {
     "name": "stdout",
     "output_type": "stream",
     "text": [
      "Step [8999/10000], Training Loss: 0.0004, Validation Loss: 0.0004\n"
     ]
    },
    {
     "name": "stderr",
     "output_type": "stream",
     "text": [
      "100%|██████████| 10000/10000 [00:33<00:00, 298.78it/s]\n"
     ]
    },
    {
     "name": "stdout",
     "output_type": "stream",
     "text": [
      "Step [9999/10000], Training Loss: 0.0003, Validation Loss: 0.0003\n",
      "Training Loss: 0.0003\n",
      "Mean Euler Error: 5.9241e-06\n",
      "Number of parameters Z_t72: 109\n"
     ]
    },
    {
     "name": "stderr",
     "output_type": "stream",
     "text": [
      "  0%|          | 36/10000 [00:00<00:27, 359.53it/s]"
     ]
    },
    {
     "name": "stdout",
     "output_type": "stream",
     "text": [
      "Step [0/10000], Training Loss: 5.7052, Validation Loss: 5.6350\n"
     ]
    },
    {
     "name": "stderr",
     "output_type": "stream",
     "text": [
      " 11%|█         | 1098/10000 [00:02<00:18, 493.44it/s]"
     ]
    },
    {
     "name": "stdout",
     "output_type": "stream",
     "text": [
      "Step [999/10000], Training Loss: 5.7188, Validation Loss: 5.6931\n"
     ]
    },
    {
     "name": "stderr",
     "output_type": "stream",
     "text": [
      " 20%|██        | 2012/10000 [00:05<00:43, 183.68it/s]"
     ]
    },
    {
     "name": "stdout",
     "output_type": "stream",
     "text": [
      "Step [1999/10000], Training Loss: 5.5082, Validation Loss: 5.6223\n"
     ]
    },
    {
     "name": "stderr",
     "output_type": "stream",
     "text": [
      " 30%|███       | 3034/10000 [00:08<00:22, 312.92it/s]"
     ]
    },
    {
     "name": "stdout",
     "output_type": "stream",
     "text": [
      "Step [2999/10000], Training Loss: 5.5983, Validation Loss: 5.6904\n"
     ]
    },
    {
     "name": "stderr",
     "output_type": "stream",
     "text": [
      " 41%|████      | 4055/10000 [00:11<00:15, 379.03it/s]"
     ]
    },
    {
     "name": "stdout",
     "output_type": "stream",
     "text": [
      "Step [3999/10000], Training Loss: 5.7162, Validation Loss: 5.6684\n"
     ]
    },
    {
     "name": "stderr",
     "output_type": "stream",
     "text": [
      " 51%|█████     | 5053/10000 [00:14<00:16, 291.90it/s]"
     ]
    },
    {
     "name": "stdout",
     "output_type": "stream",
     "text": [
      "Step [4999/10000], Training Loss: 5.7113, Validation Loss: 5.7466\n"
     ]
    },
    {
     "name": "stderr",
     "output_type": "stream",
     "text": [
      " 60%|██████    | 6046/10000 [00:17<00:10, 385.55it/s]"
     ]
    },
    {
     "name": "stdout",
     "output_type": "stream",
     "text": [
      "Step [5999/10000], Training Loss: 5.5138, Validation Loss: 5.7735\n"
     ]
    },
    {
     "name": "stderr",
     "output_type": "stream",
     "text": [
      " 70%|██████▉   | 6999/10000 [00:20<00:08, 348.36it/s]\n"
     ]
    },
    {
     "name": "stdout",
     "output_type": "stream",
     "text": [
      "Step [6999/10000], Training Loss: 5.6342, Validation Loss: 5.7957\n",
      "Training Loss: 5.6720\n",
      "Number of parameters Y_t72: 109\n"
     ]
    },
    {
     "name": "stderr",
     "output_type": "stream",
     "text": [
      "  0%|          | 9/10000 [00:00<01:54, 86.98it/s]"
     ]
    },
    {
     "name": "stdout",
     "output_type": "stream",
     "text": [
      "Step [0/10000], Training Loss: 0.0869, Validation Loss: 0.0863\n"
     ]
    },
    {
     "name": "stderr",
     "output_type": "stream",
     "text": [
      " 11%|█         | 1082/10000 [00:03<00:22, 404.86it/s]"
     ]
    },
    {
     "name": "stdout",
     "output_type": "stream",
     "text": [
      "Step [999/10000], Training Loss: 0.0048, Validation Loss: 0.0047\n"
     ]
    },
    {
     "name": "stderr",
     "output_type": "stream",
     "text": [
      " 20%|██        | 2042/10000 [00:06<00:24, 321.22it/s]"
     ]
    },
    {
     "name": "stdout",
     "output_type": "stream",
     "text": [
      "Step [1999/10000], Training Loss: 0.0010, Validation Loss: 0.0011\n"
     ]
    },
    {
     "name": "stderr",
     "output_type": "stream",
     "text": [
      " 31%|███       | 3054/10000 [00:09<00:21, 329.99it/s]"
     ]
    },
    {
     "name": "stdout",
     "output_type": "stream",
     "text": [
      "Step [2999/10000], Training Loss: 0.0008, Validation Loss: 0.0008\n"
     ]
    },
    {
     "name": "stderr",
     "output_type": "stream",
     "text": [
      " 41%|████      | 4062/10000 [00:12<00:16, 354.45it/s]"
     ]
    },
    {
     "name": "stdout",
     "output_type": "stream",
     "text": [
      "Step [3999/10000], Training Loss: 0.0007, Validation Loss: 0.0007\n"
     ]
    },
    {
     "name": "stderr",
     "output_type": "stream",
     "text": [
      " 51%|█████     | 5088/10000 [00:16<00:13, 370.97it/s]"
     ]
    },
    {
     "name": "stdout",
     "output_type": "stream",
     "text": [
      "Step [4999/10000], Training Loss: 0.0006, Validation Loss: 0.0006\n"
     ]
    },
    {
     "name": "stderr",
     "output_type": "stream",
     "text": [
      " 60%|██████    | 6047/10000 [00:19<00:10, 360.67it/s]"
     ]
    },
    {
     "name": "stdout",
     "output_type": "stream",
     "text": [
      "Step [5999/10000], Training Loss: 0.0006, Validation Loss: 0.0006\n"
     ]
    },
    {
     "name": "stderr",
     "output_type": "stream",
     "text": [
      " 70%|███████   | 7034/10000 [00:23<00:13, 221.26it/s]"
     ]
    },
    {
     "name": "stdout",
     "output_type": "stream",
     "text": [
      "Step [6999/10000], Training Loss: 0.0005, Validation Loss: 0.0005\n"
     ]
    },
    {
     "name": "stderr",
     "output_type": "stream",
     "text": [
      " 80%|████████  | 8036/10000 [00:26<00:06, 291.16it/s]"
     ]
    },
    {
     "name": "stdout",
     "output_type": "stream",
     "text": [
      "Step [7999/10000], Training Loss: 0.0004, Validation Loss: 0.0004\n"
     ]
    },
    {
     "name": "stderr",
     "output_type": "stream",
     "text": [
      " 90%|█████████ | 9036/10000 [00:29<00:03, 313.36it/s]"
     ]
    },
    {
     "name": "stdout",
     "output_type": "stream",
     "text": [
      "Step [8999/10000], Training Loss: 0.0004, Validation Loss: 0.0004\n"
     ]
    },
    {
     "name": "stderr",
     "output_type": "stream",
     "text": [
      "100%|██████████| 10000/10000 [00:32<00:00, 304.55it/s]\n"
     ]
    },
    {
     "name": "stdout",
     "output_type": "stream",
     "text": [
      "Step [9999/10000], Training Loss: 0.0004, Validation Loss: 0.0004\n",
      "Training Loss: 0.0004\n",
      "Mean Euler Error: 1.1351e-05\n",
      "Number of parameters Z_t71: 109\n"
     ]
    },
    {
     "name": "stderr",
     "output_type": "stream",
     "text": [
      "  0%|          | 0/10000 [00:00<?, ?it/s]"
     ]
    },
    {
     "name": "stdout",
     "output_type": "stream",
     "text": [
      "Step [0/10000], Training Loss: 5.8711, Validation Loss: 5.7518\n"
     ]
    },
    {
     "name": "stderr",
     "output_type": "stream",
     "text": [
      " 10%|█         | 1039/10000 [00:03<00:35, 252.50it/s]"
     ]
    },
    {
     "name": "stdout",
     "output_type": "stream",
     "text": [
      "Step [999/10000], Training Loss: 5.6936, Validation Loss: 5.6639\n"
     ]
    },
    {
     "name": "stderr",
     "output_type": "stream",
     "text": [
      " 21%|██        | 2062/10000 [00:07<00:17, 454.90it/s]"
     ]
    },
    {
     "name": "stdout",
     "output_type": "stream",
     "text": [
      "Step [1999/10000], Training Loss: 5.7066, Validation Loss: 5.7295\n"
     ]
    },
    {
     "name": "stderr",
     "output_type": "stream",
     "text": [
      " 30%|███       | 3033/10000 [00:10<00:19, 361.02it/s]"
     ]
    },
    {
     "name": "stdout",
     "output_type": "stream",
     "text": [
      "Step [2999/10000], Training Loss: 5.7072, Validation Loss: 5.6195\n"
     ]
    },
    {
     "name": "stderr",
     "output_type": "stream",
     "text": [
      " 40%|████      | 4021/10000 [00:13<00:28, 209.62it/s]"
     ]
    },
    {
     "name": "stdout",
     "output_type": "stream",
     "text": [
      "Step [3999/10000], Training Loss: 5.5913, Validation Loss: 5.6834\n"
     ]
    },
    {
     "name": "stderr",
     "output_type": "stream",
     "text": [
      " 50%|█████     | 5042/10000 [00:17<00:17, 286.88it/s]"
     ]
    },
    {
     "name": "stdout",
     "output_type": "stream",
     "text": [
      "Step [4999/10000], Training Loss: 5.6561, Validation Loss: 5.7558\n"
     ]
    },
    {
     "name": "stderr",
     "output_type": "stream",
     "text": [
      " 60%|██████    | 6050/10000 [00:20<00:12, 314.17it/s]"
     ]
    },
    {
     "name": "stdout",
     "output_type": "stream",
     "text": [
      "Step [5999/10000], Training Loss: 5.6335, Validation Loss: 5.6710\n"
     ]
    },
    {
     "name": "stderr",
     "output_type": "stream",
     "text": [
      " 71%|███████   | 7103/10000 [00:23<00:06, 464.32it/s]"
     ]
    },
    {
     "name": "stdout",
     "output_type": "stream",
     "text": [
      "Step [6999/10000], Training Loss: 5.7677, Validation Loss: 5.6621\n"
     ]
    },
    {
     "name": "stderr",
     "output_type": "stream",
     "text": [
      " 80%|████████  | 8039/10000 [00:27<00:07, 269.28it/s]"
     ]
    },
    {
     "name": "stdout",
     "output_type": "stream",
     "text": [
      "Step [7999/10000], Training Loss: 5.7494, Validation Loss: 5.5870\n"
     ]
    },
    {
     "name": "stderr",
     "output_type": "stream",
     "text": [
      " 91%|█████████ | 9065/10000 [00:30<00:02, 368.27it/s]"
     ]
    },
    {
     "name": "stdout",
     "output_type": "stream",
     "text": [
      "Step [8999/10000], Training Loss: 5.7132, Validation Loss: 5.6912\n"
     ]
    },
    {
     "name": "stderr",
     "output_type": "stream",
     "text": [
      "100%|██████████| 10000/10000 [00:33<00:00, 296.39it/s]\n"
     ]
    },
    {
     "name": "stdout",
     "output_type": "stream",
     "text": [
      "Step [9999/10000], Training Loss: 5.6554, Validation Loss: 5.5573\n",
      "Training Loss: 5.6858\n",
      "Number of parameters Y_t71: 109\n"
     ]
    },
    {
     "name": "stderr",
     "output_type": "stream",
     "text": [
      "  0%|          | 0/10000 [00:00<?, ?it/s]"
     ]
    },
    {
     "name": "stdout",
     "output_type": "stream",
     "text": [
      "Step [0/10000], Training Loss: 0.5106, Validation Loss: 0.5113\n"
     ]
    },
    {
     "name": "stderr",
     "output_type": "stream",
     "text": [
      " 11%|█         | 1053/10000 [00:03<00:34, 259.63it/s]"
     ]
    },
    {
     "name": "stdout",
     "output_type": "stream",
     "text": [
      "Step [999/10000], Training Loss: 0.0078, Validation Loss: 0.0077\n"
     ]
    },
    {
     "name": "stderr",
     "output_type": "stream",
     "text": [
      " 21%|██        | 2061/10000 [00:07<00:29, 270.21it/s]"
     ]
    },
    {
     "name": "stdout",
     "output_type": "stream",
     "text": [
      "Step [1999/10000], Training Loss: 0.0018, Validation Loss: 0.0018\n"
     ]
    },
    {
     "name": "stderr",
     "output_type": "stream",
     "text": [
      " 31%|███       | 3051/10000 [00:11<00:25, 276.22it/s]"
     ]
    },
    {
     "name": "stdout",
     "output_type": "stream",
     "text": [
      "Step [2999/10000], Training Loss: 0.0006, Validation Loss: 0.0006\n"
     ]
    },
    {
     "name": "stderr",
     "output_type": "stream",
     "text": [
      " 40%|████      | 4040/10000 [00:14<00:23, 250.22it/s]"
     ]
    },
    {
     "name": "stdout",
     "output_type": "stream",
     "text": [
      "Step [3999/10000], Training Loss: 0.0005, Validation Loss: 0.0005\n"
     ]
    },
    {
     "name": "stderr",
     "output_type": "stream",
     "text": [
      " 51%|█████     | 5062/10000 [00:17<00:11, 441.53it/s]"
     ]
    },
    {
     "name": "stdout",
     "output_type": "stream",
     "text": [
      "Step [4999/10000], Training Loss: 0.0004, Validation Loss: 0.0004\n"
     ]
    },
    {
     "name": "stderr",
     "output_type": "stream",
     "text": [
      " 60%|██████    | 6046/10000 [00:20<00:13, 302.30it/s]"
     ]
    },
    {
     "name": "stdout",
     "output_type": "stream",
     "text": [
      "Step [5999/10000], Training Loss: 0.0004, Validation Loss: 0.0004\n"
     ]
    },
    {
     "name": "stderr",
     "output_type": "stream",
     "text": [
      " 70%|███████   | 7048/10000 [00:23<00:10, 282.66it/s]"
     ]
    },
    {
     "name": "stdout",
     "output_type": "stream",
     "text": [
      "Step [6999/10000], Training Loss: 0.0004, Validation Loss: 0.0004\n"
     ]
    },
    {
     "name": "stderr",
     "output_type": "stream",
     "text": [
      " 80%|████████  | 8026/10000 [00:27<00:07, 247.04it/s]"
     ]
    },
    {
     "name": "stdout",
     "output_type": "stream",
     "text": [
      "Step [7999/10000], Training Loss: 0.0004, Validation Loss: 0.0004\n"
     ]
    },
    {
     "name": "stderr",
     "output_type": "stream",
     "text": [
      " 90%|█████████ | 9034/10000 [00:31<00:03, 259.15it/s]"
     ]
    },
    {
     "name": "stdout",
     "output_type": "stream",
     "text": [
      "Step [8999/10000], Training Loss: 0.0003, Validation Loss: 0.0003\n"
     ]
    },
    {
     "name": "stderr",
     "output_type": "stream",
     "text": [
      "100%|██████████| 10000/10000 [00:35<00:00, 278.86it/s]\n"
     ]
    },
    {
     "name": "stdout",
     "output_type": "stream",
     "text": [
      "Step [9999/10000], Training Loss: 0.0003, Validation Loss: 0.0003\n",
      "Training Loss: 0.0003\n",
      "Mean Euler Error: 6.2129e-06\n",
      "Number of parameters Z_t70: 109\n"
     ]
    },
    {
     "name": "stderr",
     "output_type": "stream",
     "text": [
      "  0%|          | 0/10000 [00:00<?, ?it/s]"
     ]
    },
    {
     "name": "stdout",
     "output_type": "stream",
     "text": [
      "Step [0/10000], Training Loss: 5.8197, Validation Loss: 5.7392\n"
     ]
    },
    {
     "name": "stderr",
     "output_type": "stream",
     "text": [
      " 11%|█         | 1075/10000 [00:03<00:23, 382.28it/s]"
     ]
    },
    {
     "name": "stdout",
     "output_type": "stream",
     "text": [
      "Step [999/10000], Training Loss: 5.5999, Validation Loss: 5.5192\n"
     ]
    },
    {
     "name": "stderr",
     "output_type": "stream",
     "text": [
      " 20%|██        | 2036/10000 [00:07<00:27, 293.70it/s]"
     ]
    },
    {
     "name": "stdout",
     "output_type": "stream",
     "text": [
      "Step [1999/10000], Training Loss: 5.6555, Validation Loss: 5.5974\n"
     ]
    },
    {
     "name": "stderr",
     "output_type": "stream",
     "text": [
      " 30%|███       | 3040/10000 [00:10<00:20, 336.35it/s]"
     ]
    },
    {
     "name": "stdout",
     "output_type": "stream",
     "text": [
      "Step [2999/10000], Training Loss: 5.5442, Validation Loss: 5.6536\n"
     ]
    },
    {
     "name": "stderr",
     "output_type": "stream",
     "text": [
      " 40%|████      | 4032/10000 [00:14<00:28, 210.75it/s]"
     ]
    },
    {
     "name": "stdout",
     "output_type": "stream",
     "text": [
      "Step [3999/10000], Training Loss: 5.6209, Validation Loss: 5.6432\n"
     ]
    },
    {
     "name": "stderr",
     "output_type": "stream",
     "text": [
      " 51%|█████     | 5053/10000 [00:17<00:15, 315.63it/s]"
     ]
    },
    {
     "name": "stdout",
     "output_type": "stream",
     "text": [
      "Step [4999/10000], Training Loss: 5.5726, Validation Loss: 5.4991\n"
     ]
    },
    {
     "name": "stderr",
     "output_type": "stream",
     "text": [
      " 60%|██████    | 6043/10000 [00:21<00:13, 291.98it/s]"
     ]
    },
    {
     "name": "stdout",
     "output_type": "stream",
     "text": [
      "Step [5999/10000], Training Loss: 5.5936, Validation Loss: 5.6552\n"
     ]
    },
    {
     "name": "stderr",
     "output_type": "stream",
     "text": [
      " 71%|███████   | 7062/10000 [00:24<00:09, 299.48it/s]"
     ]
    },
    {
     "name": "stdout",
     "output_type": "stream",
     "text": [
      "Step [6999/10000], Training Loss: 5.6208, Validation Loss: 5.6645\n"
     ]
    },
    {
     "name": "stderr",
     "output_type": "stream",
     "text": [
      " 80%|████████  | 8031/10000 [00:27<00:06, 292.58it/s]"
     ]
    },
    {
     "name": "stdout",
     "output_type": "stream",
     "text": [
      "Step [7999/10000], Training Loss: 5.5784, Validation Loss: 5.5143\n"
     ]
    },
    {
     "name": "stderr",
     "output_type": "stream",
     "text": [
      " 91%|█████████ | 9053/10000 [00:30<00:02, 330.52it/s]"
     ]
    },
    {
     "name": "stdout",
     "output_type": "stream",
     "text": [
      "Step [8999/10000], Training Loss: 5.5018, Validation Loss: 5.6686\n"
     ]
    },
    {
     "name": "stderr",
     "output_type": "stream",
     "text": [
      "100%|█████████▉| 9999/10000 [00:33<00:00, 296.64it/s]\n"
     ]
    },
    {
     "name": "stdout",
     "output_type": "stream",
     "text": [
      "Step [9999/10000], Training Loss: 5.6582, Validation Loss: 5.6128\n",
      "Training Loss: 5.6442\n",
      "Number of parameters Y_t70: 109\n"
     ]
    },
    {
     "name": "stderr",
     "output_type": "stream",
     "text": [
      "  0%|          | 0/10000 [00:00<?, ?it/s]"
     ]
    },
    {
     "name": "stdout",
     "output_type": "stream",
     "text": [
      "Step [0/10000], Training Loss: 0.2881, Validation Loss: 0.2887\n"
     ]
    },
    {
     "name": "stderr",
     "output_type": "stream",
     "text": [
      " 10%|█         | 1027/10000 [00:03<00:29, 308.08it/s]"
     ]
    },
    {
     "name": "stdout",
     "output_type": "stream",
     "text": [
      "Step [999/10000], Training Loss: 0.0048, Validation Loss: 0.0048\n"
     ]
    },
    {
     "name": "stderr",
     "output_type": "stream",
     "text": [
      " 20%|██        | 2038/10000 [00:07<00:25, 310.22it/s]"
     ]
    },
    {
     "name": "stdout",
     "output_type": "stream",
     "text": [
      "Step [1999/10000], Training Loss: 0.0007, Validation Loss: 0.0007\n"
     ]
    },
    {
     "name": "stderr",
     "output_type": "stream",
     "text": [
      " 30%|███       | 3026/10000 [00:10<00:19, 358.69it/s]"
     ]
    },
    {
     "name": "stdout",
     "output_type": "stream",
     "text": [
      "Step [2999/10000], Training Loss: 0.0004, Validation Loss: 0.0004\n"
     ]
    },
    {
     "name": "stderr",
     "output_type": "stream",
     "text": [
      " 40%|████      | 4025/10000 [00:14<00:24, 248.71it/s]"
     ]
    },
    {
     "name": "stdout",
     "output_type": "stream",
     "text": [
      "Step [3999/10000], Training Loss: 0.0004, Validation Loss: 0.0004\n"
     ]
    },
    {
     "name": "stderr",
     "output_type": "stream",
     "text": [
      " 50%|█████     | 5021/10000 [00:17<00:15, 311.74it/s]"
     ]
    },
    {
     "name": "stdout",
     "output_type": "stream",
     "text": [
      "Step [4999/10000], Training Loss: 0.0004, Validation Loss: 0.0004\n"
     ]
    },
    {
     "name": "stderr",
     "output_type": "stream",
     "text": [
      " 60%|██████    | 6026/10000 [00:21<00:16, 242.69it/s]"
     ]
    },
    {
     "name": "stdout",
     "output_type": "stream",
     "text": [
      "Step [5999/10000], Training Loss: 0.0004, Validation Loss: 0.0004\n"
     ]
    },
    {
     "name": "stderr",
     "output_type": "stream",
     "text": [
      " 70%|███████   | 7040/10000 [00:24<00:08, 342.22it/s]"
     ]
    },
    {
     "name": "stdout",
     "output_type": "stream",
     "text": [
      "Step [6999/10000], Training Loss: 0.0003, Validation Loss: 0.0003\n"
     ]
    },
    {
     "name": "stderr",
     "output_type": "stream",
     "text": [
      " 80%|████████  | 8000/10000 [00:28<00:04, 421.94it/s]"
     ]
    },
    {
     "name": "stdout",
     "output_type": "stream",
     "text": [
      "Step [7999/10000], Training Loss: 0.0004, Validation Loss: 0.0003\n"
     ]
    },
    {
     "name": "stderr",
     "output_type": "stream",
     "text": [
      " 91%|█████████ | 9051/10000 [00:31<00:02, 400.87it/s]"
     ]
    },
    {
     "name": "stdout",
     "output_type": "stream",
     "text": [
      "Step [8999/10000], Training Loss: 0.0003, Validation Loss: 0.0003\n"
     ]
    },
    {
     "name": "stderr",
     "output_type": "stream",
     "text": [
      "100%|██████████| 10000/10000 [00:34<00:00, 291.17it/s]\n"
     ]
    },
    {
     "name": "stdout",
     "output_type": "stream",
     "text": [
      "Step [9999/10000], Training Loss: 0.0003, Validation Loss: 0.0003\n",
      "Training Loss: 0.0003\n",
      "Mean Euler Error: 3.4865e-06\n",
      "Number of parameters Z_t69: 109\n"
     ]
    },
    {
     "name": "stderr",
     "output_type": "stream",
     "text": [
      "  0%|          | 0/10000 [00:00<?, ?it/s]"
     ]
    },
    {
     "name": "stdout",
     "output_type": "stream",
     "text": [
      "Step [0/10000], Training Loss: 5.7197, Validation Loss: 5.6951\n"
     ]
    },
    {
     "name": "stderr",
     "output_type": "stream",
     "text": [
      " 10%|█         | 1022/10000 [00:02<00:22, 398.93it/s]"
     ]
    },
    {
     "name": "stdout",
     "output_type": "stream",
     "text": [
      "Step [999/10000], Training Loss: 5.4915, Validation Loss: 5.6412\n"
     ]
    },
    {
     "name": "stderr",
     "output_type": "stream",
     "text": [
      " 20%|██        | 2043/10000 [00:06<00:33, 240.05it/s]"
     ]
    },
    {
     "name": "stdout",
     "output_type": "stream",
     "text": [
      "Step [1999/10000], Training Loss: 5.7227, Validation Loss: 5.5628\n"
     ]
    },
    {
     "name": "stderr",
     "output_type": "stream",
     "text": [
      " 31%|███       | 3060/10000 [00:09<00:21, 322.52it/s]"
     ]
    },
    {
     "name": "stdout",
     "output_type": "stream",
     "text": [
      "Step [2999/10000], Training Loss: 5.5113, Validation Loss: 5.5133\n"
     ]
    },
    {
     "name": "stderr",
     "output_type": "stream",
     "text": [
      " 40%|████      | 4047/10000 [00:12<00:19, 305.31it/s]"
     ]
    },
    {
     "name": "stdout",
     "output_type": "stream",
     "text": [
      "Step [3999/10000], Training Loss: 5.7563, Validation Loss: 5.6159\n"
     ]
    },
    {
     "name": "stderr",
     "output_type": "stream",
     "text": [
      " 50%|█████     | 5028/10000 [00:16<00:24, 202.88it/s]"
     ]
    },
    {
     "name": "stdout",
     "output_type": "stream",
     "text": [
      "Step [4999/10000], Training Loss: 5.6359, Validation Loss: 5.5888\n"
     ]
    },
    {
     "name": "stderr",
     "output_type": "stream",
     "text": [
      " 61%|██████    | 6080/10000 [00:20<00:12, 320.62it/s]"
     ]
    },
    {
     "name": "stdout",
     "output_type": "stream",
     "text": [
      "Step [5999/10000], Training Loss: 5.6078, Validation Loss: 5.5696\n"
     ]
    },
    {
     "name": "stderr",
     "output_type": "stream",
     "text": [
      " 70%|███████   | 7043/10000 [00:23<00:08, 347.33it/s]"
     ]
    },
    {
     "name": "stdout",
     "output_type": "stream",
     "text": [
      "Step [6999/10000], Training Loss: 5.6502, Validation Loss: 5.5172\n"
     ]
    },
    {
     "name": "stderr",
     "output_type": "stream",
     "text": [
      " 80%|███████▉  | 7999/10000 [00:27<00:06, 295.18it/s]\n"
     ]
    },
    {
     "name": "stdout",
     "output_type": "stream",
     "text": [
      "Step [7999/10000], Training Loss: 5.6509, Validation Loss: 5.6577\n",
      "Training Loss: 5.5805\n",
      "Number of parameters Y_t69: 109\n"
     ]
    },
    {
     "name": "stderr",
     "output_type": "stream",
     "text": [
      "  0%|          | 39/10000 [00:00<00:26, 371.34it/s]"
     ]
    },
    {
     "name": "stdout",
     "output_type": "stream",
     "text": [
      "Step [0/10000], Training Loss: 0.0337, Validation Loss: 0.0340\n"
     ]
    },
    {
     "name": "stderr",
     "output_type": "stream",
     "text": [
      " 10%|█         | 1026/10000 [00:03<00:36, 244.38it/s]"
     ]
    },
    {
     "name": "stdout",
     "output_type": "stream",
     "text": [
      "Step [999/10000], Training Loss: 0.0012, Validation Loss: 0.0012\n"
     ]
    },
    {
     "name": "stderr",
     "output_type": "stream",
     "text": [
      " 20%|██        | 2042/10000 [00:07<00:38, 204.08it/s]"
     ]
    },
    {
     "name": "stdout",
     "output_type": "stream",
     "text": [
      "Step [1999/10000], Training Loss: 0.0004, Validation Loss: 0.0004\n"
     ]
    },
    {
     "name": "stderr",
     "output_type": "stream",
     "text": [
      " 30%|███       | 3022/10000 [00:11<00:27, 252.09it/s]"
     ]
    },
    {
     "name": "stdout",
     "output_type": "stream",
     "text": [
      "Step [2999/10000], Training Loss: 0.0004, Validation Loss: 0.0004\n"
     ]
    },
    {
     "name": "stderr",
     "output_type": "stream",
     "text": [
      " 40%|████      | 4039/10000 [00:14<00:25, 230.49it/s]"
     ]
    },
    {
     "name": "stdout",
     "output_type": "stream",
     "text": [
      "Step [3999/10000], Training Loss: 0.0003, Validation Loss: 0.0003\n"
     ]
    },
    {
     "name": "stderr",
     "output_type": "stream",
     "text": [
      " 50%|█████     | 5027/10000 [00:18<00:20, 246.01it/s]"
     ]
    },
    {
     "name": "stdout",
     "output_type": "stream",
     "text": [
      "Step [4999/10000], Training Loss: 0.0003, Validation Loss: 0.0003\n"
     ]
    },
    {
     "name": "stderr",
     "output_type": "stream",
     "text": [
      " 61%|██████    | 6062/10000 [00:22<00:11, 353.35it/s]"
     ]
    },
    {
     "name": "stdout",
     "output_type": "stream",
     "text": [
      "Step [5999/10000], Training Loss: 0.0003, Validation Loss: 0.0003\n"
     ]
    },
    {
     "name": "stderr",
     "output_type": "stream",
     "text": [
      " 70%|███████   | 7017/10000 [00:25<00:15, 188.20it/s]"
     ]
    },
    {
     "name": "stdout",
     "output_type": "stream",
     "text": [
      "Step [6999/10000], Training Loss: 0.0003, Validation Loss: 0.0003\n"
     ]
    },
    {
     "name": "stderr",
     "output_type": "stream",
     "text": [
      " 80%|████████  | 8044/10000 [00:29<00:05, 333.53it/s]"
     ]
    },
    {
     "name": "stdout",
     "output_type": "stream",
     "text": [
      "Step [7999/10000], Training Loss: 0.0003, Validation Loss: 0.0003\n"
     ]
    },
    {
     "name": "stderr",
     "output_type": "stream",
     "text": [
      " 90%|█████████ | 9021/10000 [00:33<00:05, 174.42it/s]"
     ]
    },
    {
     "name": "stdout",
     "output_type": "stream",
     "text": [
      "Step [8999/10000], Training Loss: 0.0003, Validation Loss: 0.0003\n"
     ]
    },
    {
     "name": "stderr",
     "output_type": "stream",
     "text": [
      "100%|██████████| 10000/10000 [00:37<00:00, 266.00it/s]\n"
     ]
    },
    {
     "name": "stdout",
     "output_type": "stream",
     "text": [
      "Step [9999/10000], Training Loss: 0.0003, Validation Loss: 0.0003\n",
      "Training Loss: 0.0003\n",
      "Mean Euler Error: 8.0682e-07\n",
      "Number of parameters Z_t68: 109\n"
     ]
    },
    {
     "name": "stderr",
     "output_type": "stream",
     "text": [
      "  0%|          | 0/10000 [00:00<?, ?it/s]"
     ]
    },
    {
     "name": "stdout",
     "output_type": "stream",
     "text": [
      "Step [0/10000], Training Loss: 5.7435, Validation Loss: 5.5194\n"
     ]
    },
    {
     "name": "stderr",
     "output_type": "stream",
     "text": [
      " 10%|█         | 1007/10000 [00:03<00:29, 307.48it/s]"
     ]
    },
    {
     "name": "stdout",
     "output_type": "stream",
     "text": [
      "Step [999/10000], Training Loss: 5.7118, Validation Loss: 5.4996\n"
     ]
    },
    {
     "name": "stderr",
     "output_type": "stream",
     "text": [
      " 20%|██        | 2038/10000 [00:07<00:23, 336.94it/s]"
     ]
    },
    {
     "name": "stdout",
     "output_type": "stream",
     "text": [
      "Step [1999/10000], Training Loss: 5.5539, Validation Loss: 5.5850\n"
     ]
    },
    {
     "name": "stderr",
     "output_type": "stream",
     "text": [
      " 31%|███       | 3058/10000 [00:10<00:23, 298.75it/s]"
     ]
    },
    {
     "name": "stdout",
     "output_type": "stream",
     "text": [
      "Step [2999/10000], Training Loss: 5.6205, Validation Loss: 5.5199\n"
     ]
    },
    {
     "name": "stderr",
     "output_type": "stream",
     "text": [
      " 40%|████      | 4029/10000 [00:14<00:16, 372.72it/s]"
     ]
    },
    {
     "name": "stdout",
     "output_type": "stream",
     "text": [
      "Step [3999/10000], Training Loss: 5.5887, Validation Loss: 5.5901\n"
     ]
    },
    {
     "name": "stderr",
     "output_type": "stream",
     "text": [
      " 50%|█████     | 5035/10000 [00:18<00:15, 326.54it/s]"
     ]
    },
    {
     "name": "stdout",
     "output_type": "stream",
     "text": [
      "Step [4999/10000], Training Loss: 5.5646, Validation Loss: 5.6038\n"
     ]
    },
    {
     "name": "stderr",
     "output_type": "stream",
     "text": [
      " 60%|█████▉    | 5999/10000 [00:21<00:14, 278.17it/s]\n"
     ]
    },
    {
     "name": "stdout",
     "output_type": "stream",
     "text": [
      "Step [5999/10000], Training Loss: 5.4868, Validation Loss: 5.5287\n",
      "Training Loss: 5.5722\n",
      "Number of parameters Y_t68: 109\n"
     ]
    },
    {
     "name": "stderr",
     "output_type": "stream",
     "text": [
      "  0%|          | 0/10000 [00:00<?, ?it/s]"
     ]
    },
    {
     "name": "stdout",
     "output_type": "stream",
     "text": [
      "Step [0/10000], Training Loss: 0.0814, Validation Loss: 0.0815\n"
     ]
    },
    {
     "name": "stderr",
     "output_type": "stream",
     "text": [
      " 10%|█         | 1027/10000 [00:04<00:41, 215.23it/s]"
     ]
    },
    {
     "name": "stdout",
     "output_type": "stream",
     "text": [
      "Step [999/10000], Training Loss: 0.0052, Validation Loss: 0.0052\n"
     ]
    },
    {
     "name": "stderr",
     "output_type": "stream",
     "text": [
      " 20%|██        | 2013/10000 [00:07<00:22, 352.37it/s]"
     ]
    },
    {
     "name": "stdout",
     "output_type": "stream",
     "text": [
      "Step [1999/10000], Training Loss: 0.0006, Validation Loss: 0.0006\n"
     ]
    },
    {
     "name": "stderr",
     "output_type": "stream",
     "text": [
      " 31%|███       | 3059/10000 [00:11<00:21, 322.70it/s]"
     ]
    },
    {
     "name": "stdout",
     "output_type": "stream",
     "text": [
      "Step [2999/10000], Training Loss: 0.0004, Validation Loss: 0.0004\n"
     ]
    },
    {
     "name": "stderr",
     "output_type": "stream",
     "text": [
      " 40%|████      | 4033/10000 [00:15<00:22, 261.63it/s]"
     ]
    },
    {
     "name": "stdout",
     "output_type": "stream",
     "text": [
      "Step [3999/10000], Training Loss: 0.0004, Validation Loss: 0.0004\n"
     ]
    },
    {
     "name": "stderr",
     "output_type": "stream",
     "text": [
      " 51%|█████     | 5058/10000 [00:17<00:10, 488.44it/s]"
     ]
    },
    {
     "name": "stdout",
     "output_type": "stream",
     "text": [
      "Step [4999/10000], Training Loss: 0.0004, Validation Loss: 0.0003\n"
     ]
    },
    {
     "name": "stderr",
     "output_type": "stream",
     "text": [
      " 61%|██████    | 6056/10000 [00:20<00:11, 343.08it/s]"
     ]
    },
    {
     "name": "stdout",
     "output_type": "stream",
     "text": [
      "Step [5999/10000], Training Loss: 0.0003, Validation Loss: 0.0003\n"
     ]
    },
    {
     "name": "stderr",
     "output_type": "stream",
     "text": [
      " 71%|███████   | 7060/10000 [00:23<00:07, 392.24it/s]"
     ]
    },
    {
     "name": "stdout",
     "output_type": "stream",
     "text": [
      "Step [6999/10000], Training Loss: 0.0003, Validation Loss: 0.0003\n"
     ]
    },
    {
     "name": "stderr",
     "output_type": "stream",
     "text": [
      " 81%|████████  | 8068/10000 [00:26<00:06, 316.74it/s]"
     ]
    },
    {
     "name": "stdout",
     "output_type": "stream",
     "text": [
      "Step [7999/10000], Training Loss: 0.0003, Validation Loss: 0.0003\n"
     ]
    },
    {
     "name": "stderr",
     "output_type": "stream",
     "text": [
      " 91%|█████████ | 9078/10000 [00:29<00:02, 415.12it/s]"
     ]
    },
    {
     "name": "stdout",
     "output_type": "stream",
     "text": [
      "Step [8999/10000], Training Loss: 0.0003, Validation Loss: 0.0003\n"
     ]
    },
    {
     "name": "stderr",
     "output_type": "stream",
     "text": [
      "100%|██████████| 10000/10000 [00:32<00:00, 305.10it/s]\n"
     ]
    },
    {
     "name": "stdout",
     "output_type": "stream",
     "text": [
      "Step [9999/10000], Training Loss: 0.0003, Validation Loss: 0.0003\n",
      "Training Loss: 0.0003\n",
      "Mean Euler Error: 1.9426e-06\n",
      "Number of parameters Z_t67: 109\n"
     ]
    },
    {
     "name": "stderr",
     "output_type": "stream",
     "text": [
      "  0%|          | 0/10000 [00:00<?, ?it/s]"
     ]
    },
    {
     "name": "stdout",
     "output_type": "stream",
     "text": [
      "Step [0/10000], Training Loss: 5.5559, Validation Loss: 5.5611\n"
     ]
    },
    {
     "name": "stderr",
     "output_type": "stream",
     "text": [
      " 10%|█         | 1030/10000 [00:03<00:28, 312.80it/s]"
     ]
    },
    {
     "name": "stdout",
     "output_type": "stream",
     "text": [
      "Step [999/10000], Training Loss: 5.5386, Validation Loss: 5.5602\n"
     ]
    },
    {
     "name": "stderr",
     "output_type": "stream",
     "text": [
      " 20%|██        | 2031/10000 [00:06<00:41, 191.37it/s]"
     ]
    },
    {
     "name": "stdout",
     "output_type": "stream",
     "text": [
      "Step [1999/10000], Training Loss: 5.5434, Validation Loss: 5.5220\n"
     ]
    },
    {
     "name": "stderr",
     "output_type": "stream",
     "text": [
      " 31%|███       | 3078/10000 [00:10<00:14, 465.37it/s]"
     ]
    },
    {
     "name": "stdout",
     "output_type": "stream",
     "text": [
      "Step [2999/10000], Training Loss: 5.4050, Validation Loss: 5.6187\n"
     ]
    },
    {
     "name": "stderr",
     "output_type": "stream",
     "text": [
      " 40%|████      | 4043/10000 [00:12<00:20, 287.31it/s]"
     ]
    },
    {
     "name": "stdout",
     "output_type": "stream",
     "text": [
      "Step [3999/10000], Training Loss: 5.5519, Validation Loss: 5.5443\n"
     ]
    },
    {
     "name": "stderr",
     "output_type": "stream",
     "text": [
      " 50%|█████     | 5037/10000 [00:16<00:21, 227.45it/s]"
     ]
    },
    {
     "name": "stdout",
     "output_type": "stream",
     "text": [
      "Step [4999/10000], Training Loss: 5.4898, Validation Loss: 5.5326\n"
     ]
    },
    {
     "name": "stderr",
     "output_type": "stream",
     "text": [
      " 60%|██████    | 6047/10000 [00:19<00:13, 296.46it/s]"
     ]
    },
    {
     "name": "stdout",
     "output_type": "stream",
     "text": [
      "Step [5999/10000], Training Loss: 5.5279, Validation Loss: 5.5136\n"
     ]
    },
    {
     "name": "stderr",
     "output_type": "stream",
     "text": [
      " 71%|███████   | 7053/10000 [00:22<00:06, 427.10it/s]"
     ]
    },
    {
     "name": "stdout",
     "output_type": "stream",
     "text": [
      "Step [6999/10000], Training Loss: 5.5240, Validation Loss: 5.4897\n"
     ]
    },
    {
     "name": "stderr",
     "output_type": "stream",
     "text": [
      " 80%|████████  | 8041/10000 [00:25<00:06, 282.31it/s]"
     ]
    },
    {
     "name": "stdout",
     "output_type": "stream",
     "text": [
      "Step [7999/10000], Training Loss: 5.4026, Validation Loss: 5.5685\n"
     ]
    },
    {
     "name": "stderr",
     "output_type": "stream",
     "text": [
      " 90%|█████████ | 9022/10000 [00:29<00:03, 321.31it/s]"
     ]
    },
    {
     "name": "stdout",
     "output_type": "stream",
     "text": [
      "Step [8999/10000], Training Loss: 5.5610, Validation Loss: 5.4933\n"
     ]
    },
    {
     "name": "stderr",
     "output_type": "stream",
     "text": [
      "100%|██████████| 10000/10000 [00:32<00:00, 308.24it/s]\n"
     ]
    },
    {
     "name": "stdout",
     "output_type": "stream",
     "text": [
      "Step [9999/10000], Training Loss: 5.5278, Validation Loss: 5.5762\n",
      "Training Loss: 5.4542\n",
      "Number of parameters Y_t67: 109\n"
     ]
    },
    {
     "name": "stderr",
     "output_type": "stream",
     "text": [
      "  0%|          | 47/10000 [00:00<00:40, 248.01it/s]"
     ]
    },
    {
     "name": "stdout",
     "output_type": "stream",
     "text": [
      "Step [0/10000], Training Loss: 0.0305, Validation Loss: 0.0307\n"
     ]
    },
    {
     "name": "stderr",
     "output_type": "stream",
     "text": [
      " 10%|█         | 1031/10000 [00:04<00:43, 204.22it/s]"
     ]
    },
    {
     "name": "stdout",
     "output_type": "stream",
     "text": [
      "Step [999/10000], Training Loss: 0.0026, Validation Loss: 0.0027\n"
     ]
    },
    {
     "name": "stderr",
     "output_type": "stream",
     "text": [
      " 20%|██        | 2031/10000 [00:08<00:43, 182.59it/s]"
     ]
    },
    {
     "name": "stdout",
     "output_type": "stream",
     "text": [
      "Step [1999/10000], Training Loss: 0.0006, Validation Loss: 0.0006\n"
     ]
    },
    {
     "name": "stderr",
     "output_type": "stream",
     "text": [
      " 31%|███       | 3064/10000 [00:13<00:24, 283.82it/s]"
     ]
    },
    {
     "name": "stdout",
     "output_type": "stream",
     "text": [
      "Step [2999/10000], Training Loss: 0.0004, Validation Loss: 0.0004\n"
     ]
    },
    {
     "name": "stderr",
     "output_type": "stream",
     "text": [
      " 40%|████      | 4037/10000 [00:16<00:28, 212.04it/s]"
     ]
    },
    {
     "name": "stdout",
     "output_type": "stream",
     "text": [
      "Step [3999/10000], Training Loss: 0.0004, Validation Loss: 0.0003\n"
     ]
    },
    {
     "name": "stderr",
     "output_type": "stream",
     "text": [
      " 50%|█████     | 5049/10000 [00:21<00:18, 268.83it/s]"
     ]
    },
    {
     "name": "stdout",
     "output_type": "stream",
     "text": [
      "Step [4999/10000], Training Loss: 0.0003, Validation Loss: 0.0003\n"
     ]
    },
    {
     "name": "stderr",
     "output_type": "stream",
     "text": [
      " 60%|██████    | 6046/10000 [00:24<00:11, 339.26it/s]"
     ]
    },
    {
     "name": "stdout",
     "output_type": "stream",
     "text": [
      "Step [5999/10000], Training Loss: 0.0003, Validation Loss: 0.0003\n"
     ]
    },
    {
     "name": "stderr",
     "output_type": "stream",
     "text": [
      " 70%|███████   | 7036/10000 [00:28<00:11, 265.32it/s]"
     ]
    },
    {
     "name": "stdout",
     "output_type": "stream",
     "text": [
      "Step [6999/10000], Training Loss: 0.0003, Validation Loss: 0.0003\n"
     ]
    },
    {
     "name": "stderr",
     "output_type": "stream",
     "text": [
      " 80%|████████  | 8037/10000 [00:32<00:07, 274.67it/s]"
     ]
    },
    {
     "name": "stdout",
     "output_type": "stream",
     "text": [
      "Step [7999/10000], Training Loss: 0.0003, Validation Loss: 0.0003\n"
     ]
    },
    {
     "name": "stderr",
     "output_type": "stream",
     "text": [
      " 90%|█████████ | 9012/10000 [00:36<00:05, 175.58it/s]"
     ]
    },
    {
     "name": "stdout",
     "output_type": "stream",
     "text": [
      "Step [8999/10000], Training Loss: 0.0003, Validation Loss: 0.0003\n"
     ]
    },
    {
     "name": "stderr",
     "output_type": "stream",
     "text": [
      "100%|█████████▉| 9999/10000 [00:40<00:00, 247.89it/s]\n"
     ]
    },
    {
     "name": "stdout",
     "output_type": "stream",
     "text": [
      "Step [9999/10000], Training Loss: 0.0003, Validation Loss: 0.0003\n",
      "Training Loss: 0.0003\n",
      "Mean Euler Error: 1.4105e-06\n",
      "Number of parameters Z_t66: 109\n"
     ]
    },
    {
     "name": "stderr",
     "output_type": "stream",
     "text": [
      "  1%|          | 54/10000 [00:00<00:38, 255.22it/s]"
     ]
    },
    {
     "name": "stdout",
     "output_type": "stream",
     "text": [
      "Step [0/10000], Training Loss: 5.7596, Validation Loss: 5.5749\n"
     ]
    },
    {
     "name": "stderr",
     "output_type": "stream",
     "text": [
      " 11%|█         | 1064/10000 [00:03<00:30, 297.57it/s]"
     ]
    },
    {
     "name": "stdout",
     "output_type": "stream",
     "text": [
      "Step [999/10000], Training Loss: 5.5761, Validation Loss: 5.5566\n"
     ]
    },
    {
     "name": "stderr",
     "output_type": "stream",
     "text": [
      " 21%|██        | 2077/10000 [00:07<00:27, 285.28it/s]"
     ]
    },
    {
     "name": "stdout",
     "output_type": "stream",
     "text": [
      "Step [1999/10000], Training Loss: 5.4390, Validation Loss: 5.5039\n"
     ]
    },
    {
     "name": "stderr",
     "output_type": "stream",
     "text": [
      " 31%|███       | 3056/10000 [00:11<00:25, 272.92it/s]"
     ]
    },
    {
     "name": "stdout",
     "output_type": "stream",
     "text": [
      "Step [2999/10000], Training Loss: 5.5721, Validation Loss: 5.4952\n"
     ]
    },
    {
     "name": "stderr",
     "output_type": "stream",
     "text": [
      " 41%|████      | 4086/10000 [00:15<00:15, 381.93it/s]"
     ]
    },
    {
     "name": "stdout",
     "output_type": "stream",
     "text": [
      "Step [3999/10000], Training Loss: 5.6243, Validation Loss: 5.4661\n"
     ]
    },
    {
     "name": "stderr",
     "output_type": "stream",
     "text": [
      " 50%|█████     | 5049/10000 [00:18<00:17, 281.49it/s]"
     ]
    },
    {
     "name": "stdout",
     "output_type": "stream",
     "text": [
      "Step [4999/10000], Training Loss: 5.5690, Validation Loss: 5.5844\n"
     ]
    },
    {
     "name": "stderr",
     "output_type": "stream",
     "text": [
      " 60%|██████    | 6041/10000 [00:21<00:12, 312.43it/s]"
     ]
    },
    {
     "name": "stdout",
     "output_type": "stream",
     "text": [
      "Step [5999/10000], Training Loss: 5.4611, Validation Loss: 5.4778\n"
     ]
    },
    {
     "name": "stderr",
     "output_type": "stream",
     "text": [
      " 71%|███████   | 7071/10000 [00:24<00:07, 388.38it/s]"
     ]
    },
    {
     "name": "stdout",
     "output_type": "stream",
     "text": [
      "Step [6999/10000], Training Loss: 5.6380, Validation Loss: 5.4876\n"
     ]
    },
    {
     "name": "stderr",
     "output_type": "stream",
     "text": [
      " 80%|████████  | 8024/10000 [00:27<00:06, 303.55it/s]"
     ]
    },
    {
     "name": "stdout",
     "output_type": "stream",
     "text": [
      "Step [7999/10000], Training Loss: 5.5351, Validation Loss: 5.5102\n"
     ]
    },
    {
     "name": "stderr",
     "output_type": "stream",
     "text": [
      " 90%|████████▉ | 8999/10000 [00:31<00:03, 284.68it/s]\n"
     ]
    },
    {
     "name": "stdout",
     "output_type": "stream",
     "text": [
      "Step [8999/10000], Training Loss: 5.5568, Validation Loss: 5.5443\n",
      "Training Loss: 5.4664\n",
      "Number of parameters Y_t66: 109\n"
     ]
    },
    {
     "name": "stderr",
     "output_type": "stream",
     "text": [
      "  0%|          | 0/10000 [00:00<?, ?it/s]"
     ]
    },
    {
     "name": "stdout",
     "output_type": "stream",
     "text": [
      "Step [0/10000], Training Loss: 0.1440, Validation Loss: 0.1433\n"
     ]
    },
    {
     "name": "stderr",
     "output_type": "stream",
     "text": [
      " 10%|█         | 1043/10000 [00:04<00:38, 233.09it/s]"
     ]
    },
    {
     "name": "stdout",
     "output_type": "stream",
     "text": [
      "Step [999/10000], Training Loss: 0.0058, Validation Loss: 0.0058\n"
     ]
    },
    {
     "name": "stderr",
     "output_type": "stream",
     "text": [
      " 21%|██        | 2064/10000 [00:07<00:21, 365.22it/s]"
     ]
    },
    {
     "name": "stdout",
     "output_type": "stream",
     "text": [
      "Step [1999/10000], Training Loss: 0.0010, Validation Loss: 0.0010\n"
     ]
    },
    {
     "name": "stderr",
     "output_type": "stream",
     "text": [
      " 30%|███       | 3036/10000 [00:11<00:22, 309.60it/s]"
     ]
    },
    {
     "name": "stdout",
     "output_type": "stream",
     "text": [
      "Step [2999/10000], Training Loss: 0.0004, Validation Loss: 0.0004\n"
     ]
    },
    {
     "name": "stderr",
     "output_type": "stream",
     "text": [
      " 40%|████      | 4027/10000 [00:15<00:26, 226.03it/s]"
     ]
    },
    {
     "name": "stdout",
     "output_type": "stream",
     "text": [
      "Step [3999/10000], Training Loss: 0.0004, Validation Loss: 0.0004\n"
     ]
    },
    {
     "name": "stderr",
     "output_type": "stream",
     "text": [
      " 50%|█████     | 5045/10000 [00:18<00:12, 405.40it/s]"
     ]
    },
    {
     "name": "stdout",
     "output_type": "stream",
     "text": [
      "Step [4999/10000], Training Loss: 0.0003, Validation Loss: 0.0003\n"
     ]
    },
    {
     "name": "stderr",
     "output_type": "stream",
     "text": [
      " 60%|██████    | 6036/10000 [00:22<00:14, 276.92it/s]"
     ]
    },
    {
     "name": "stdout",
     "output_type": "stream",
     "text": [
      "Step [5999/10000], Training Loss: 0.0003, Validation Loss: 0.0003\n"
     ]
    },
    {
     "name": "stderr",
     "output_type": "stream",
     "text": [
      " 70%|███████   | 7028/10000 [00:25<00:12, 238.00it/s]"
     ]
    },
    {
     "name": "stdout",
     "output_type": "stream",
     "text": [
      "Step [6999/10000], Training Loss: 0.0003, Validation Loss: 0.0003\n"
     ]
    },
    {
     "name": "stderr",
     "output_type": "stream",
     "text": [
      " 80%|████████  | 8045/10000 [00:29<00:06, 306.00it/s]"
     ]
    },
    {
     "name": "stdout",
     "output_type": "stream",
     "text": [
      "Step [7999/10000], Training Loss: 0.0003, Validation Loss: 0.0003\n"
     ]
    },
    {
     "name": "stderr",
     "output_type": "stream",
     "text": [
      " 90%|█████████ | 9027/10000 [00:34<00:03, 276.93it/s]"
     ]
    },
    {
     "name": "stdout",
     "output_type": "stream",
     "text": [
      "Step [8999/10000], Training Loss: 0.0003, Validation Loss: 0.0003\n"
     ]
    },
    {
     "name": "stderr",
     "output_type": "stream",
     "text": [
      "100%|██████████| 10000/10000 [00:38<00:00, 262.84it/s]\n"
     ]
    },
    {
     "name": "stdout",
     "output_type": "stream",
     "text": [
      "Step [9999/10000], Training Loss: 0.0003, Validation Loss: 0.0003\n",
      "Training Loss: 0.0003\n",
      "Mean Euler Error: 1.3760e-06\n",
      "Number of parameters Z_t65: 109\n"
     ]
    },
    {
     "name": "stderr",
     "output_type": "stream",
     "text": [
      "  0%|          | 31/10000 [00:00<00:33, 297.03it/s]"
     ]
    },
    {
     "name": "stdout",
     "output_type": "stream",
     "text": [
      "Step [0/10000], Training Loss: 5.4472, Validation Loss: 5.5473\n"
     ]
    },
    {
     "name": "stderr",
     "output_type": "stream",
     "text": [
      " 11%|█         | 1051/10000 [00:02<00:21, 420.68it/s]"
     ]
    },
    {
     "name": "stdout",
     "output_type": "stream",
     "text": [
      "Step [999/10000], Training Loss: 5.4541, Validation Loss: 5.5587\n"
     ]
    },
    {
     "name": "stderr",
     "output_type": "stream",
     "text": [
      " 21%|██        | 2091/10000 [00:06<00:20, 380.70it/s]"
     ]
    },
    {
     "name": "stdout",
     "output_type": "stream",
     "text": [
      "Step [1999/10000], Training Loss: 5.5881, Validation Loss: 5.4895\n"
     ]
    },
    {
     "name": "stderr",
     "output_type": "stream",
     "text": [
      " 31%|███       | 3052/10000 [00:09<00:20, 334.22it/s]"
     ]
    },
    {
     "name": "stdout",
     "output_type": "stream",
     "text": [
      "Step [2999/10000], Training Loss: 5.4680, Validation Loss: 5.5063\n"
     ]
    },
    {
     "name": "stderr",
     "output_type": "stream",
     "text": [
      " 40%|████      | 4050/10000 [00:12<00:19, 308.68it/s]"
     ]
    },
    {
     "name": "stdout",
     "output_type": "stream",
     "text": [
      "Step [3999/10000], Training Loss: 5.5061, Validation Loss: 5.4687\n"
     ]
    },
    {
     "name": "stderr",
     "output_type": "stream",
     "text": [
      " 51%|█████     | 5051/10000 [00:16<00:19, 252.76it/s]"
     ]
    },
    {
     "name": "stdout",
     "output_type": "stream",
     "text": [
      "Step [4999/10000], Training Loss: 5.4213, Validation Loss: 5.5164\n"
     ]
    },
    {
     "name": "stderr",
     "output_type": "stream",
     "text": [
      " 61%|██████    | 6057/10000 [00:20<00:15, 262.37it/s]"
     ]
    },
    {
     "name": "stdout",
     "output_type": "stream",
     "text": [
      "Step [5999/10000], Training Loss: 5.5333, Validation Loss: 5.4417\n"
     ]
    },
    {
     "name": "stderr",
     "output_type": "stream",
     "text": [
      " 71%|███████   | 7085/10000 [00:24<00:08, 340.53it/s]"
     ]
    },
    {
     "name": "stdout",
     "output_type": "stream",
     "text": [
      "Step [6999/10000], Training Loss: 5.4320, Validation Loss: 5.5518\n"
     ]
    },
    {
     "name": "stderr",
     "output_type": "stream",
     "text": [
      " 80%|████████  | 8017/10000 [00:27<00:07, 273.60it/s]"
     ]
    },
    {
     "name": "stdout",
     "output_type": "stream",
     "text": [
      "Step [7999/10000], Training Loss: 5.4728, Validation Loss: 5.5340\n"
     ]
    },
    {
     "name": "stderr",
     "output_type": "stream",
     "text": [
      " 90%|█████████ | 9037/10000 [00:30<00:03, 311.01it/s]"
     ]
    },
    {
     "name": "stdout",
     "output_type": "stream",
     "text": [
      "Step [8999/10000], Training Loss: 5.4962, Validation Loss: 5.4908\n"
     ]
    },
    {
     "name": "stderr",
     "output_type": "stream",
     "text": [
      "100%|██████████| 10000/10000 [00:33<00:00, 298.35it/s]\n"
     ]
    },
    {
     "name": "stdout",
     "output_type": "stream",
     "text": [
      "Step [9999/10000], Training Loss: 5.5434, Validation Loss: 5.4996\n",
      "Training Loss: 5.4589\n",
      "Number of parameters Y_t65: 109\n"
     ]
    },
    {
     "name": "stderr",
     "output_type": "stream",
     "text": [
      "  0%|          | 26/10000 [00:00<00:41, 240.45it/s]"
     ]
    },
    {
     "name": "stdout",
     "output_type": "stream",
     "text": [
      "Step [0/10000], Training Loss: 0.4950, Validation Loss: 0.4959\n"
     ]
    },
    {
     "name": "stderr",
     "output_type": "stream",
     "text": [
      " 10%|█         | 1006/10000 [00:03<00:23, 388.76it/s]"
     ]
    },
    {
     "name": "stdout",
     "output_type": "stream",
     "text": [
      "Step [999/10000], Training Loss: 0.0104, Validation Loss: 0.0101\n"
     ]
    },
    {
     "name": "stderr",
     "output_type": "stream",
     "text": [
      " 20%|██        | 2029/10000 [00:07<00:30, 264.49it/s]"
     ]
    },
    {
     "name": "stdout",
     "output_type": "stream",
     "text": [
      "Step [1999/10000], Training Loss: 0.0014, Validation Loss: 0.0015\n"
     ]
    },
    {
     "name": "stderr",
     "output_type": "stream",
     "text": [
      " 30%|███       | 3045/10000 [00:11<00:20, 337.75it/s]"
     ]
    },
    {
     "name": "stdout",
     "output_type": "stream",
     "text": [
      "Step [2999/10000], Training Loss: 0.0005, Validation Loss: 0.0005\n"
     ]
    },
    {
     "name": "stderr",
     "output_type": "stream",
     "text": [
      " 40%|████      | 4039/10000 [00:14<00:17, 338.65it/s]"
     ]
    },
    {
     "name": "stdout",
     "output_type": "stream",
     "text": [
      "Step [3999/10000], Training Loss: 0.0004, Validation Loss: 0.0004\n"
     ]
    },
    {
     "name": "stderr",
     "output_type": "stream",
     "text": [
      " 50%|█████     | 5047/10000 [00:17<00:16, 292.13it/s]"
     ]
    },
    {
     "name": "stdout",
     "output_type": "stream",
     "text": [
      "Step [4999/10000], Training Loss: 0.0003, Validation Loss: 0.0004\n"
     ]
    },
    {
     "name": "stderr",
     "output_type": "stream",
     "text": [
      " 60%|██████    | 6035/10000 [00:20<00:17, 228.31it/s]"
     ]
    },
    {
     "name": "stdout",
     "output_type": "stream",
     "text": [
      "Step [5999/10000], Training Loss: 0.0004, Validation Loss: 0.0003\n"
     ]
    },
    {
     "name": "stderr",
     "output_type": "stream",
     "text": [
      " 70%|███████   | 7021/10000 [00:24<00:11, 256.04it/s]"
     ]
    },
    {
     "name": "stdout",
     "output_type": "stream",
     "text": [
      "Step [6999/10000], Training Loss: 0.0003, Validation Loss: 0.0003\n"
     ]
    },
    {
     "name": "stderr",
     "output_type": "stream",
     "text": [
      " 80%|████████  | 8020/10000 [00:27<00:06, 286.60it/s]"
     ]
    },
    {
     "name": "stdout",
     "output_type": "stream",
     "text": [
      "Step [7999/10000], Training Loss: 0.0003, Validation Loss: 0.0003\n"
     ]
    },
    {
     "name": "stderr",
     "output_type": "stream",
     "text": [
      " 90%|█████████ | 9047/10000 [00:30<00:02, 374.72it/s]"
     ]
    },
    {
     "name": "stdout",
     "output_type": "stream",
     "text": [
      "Step [8999/10000], Training Loss: 0.0003, Validation Loss: 0.0003\n"
     ]
    },
    {
     "name": "stderr",
     "output_type": "stream",
     "text": [
      "100%|██████████| 10000/10000 [00:34<00:00, 293.03it/s]\n"
     ]
    },
    {
     "name": "stdout",
     "output_type": "stream",
     "text": [
      "Step [9999/10000], Training Loss: 0.0003, Validation Loss: 0.0003\n",
      "Training Loss: 0.0003\n",
      "Mean Euler Error: 2.7090e-06\n",
      "Number of parameters Z_t64: 109\n"
     ]
    },
    {
     "name": "stderr",
     "output_type": "stream",
     "text": [
      "  0%|          | 0/10000 [00:00<?, ?it/s]"
     ]
    },
    {
     "name": "stdout",
     "output_type": "stream",
     "text": [
      "Step [0/10000], Training Loss: 5.7286, Validation Loss: 5.5118\n"
     ]
    },
    {
     "name": "stderr",
     "output_type": "stream",
     "text": [
      " 10%|█         | 1033/10000 [00:03<00:36, 246.42it/s]"
     ]
    },
    {
     "name": "stdout",
     "output_type": "stream",
     "text": [
      "Step [999/10000], Training Loss: 5.5120, Validation Loss: 5.4842\n"
     ]
    },
    {
     "name": "stderr",
     "output_type": "stream",
     "text": [
      " 21%|██        | 2052/10000 [00:07<00:29, 272.30it/s]"
     ]
    },
    {
     "name": "stdout",
     "output_type": "stream",
     "text": [
      "Step [1999/10000], Training Loss: 5.4683, Validation Loss: 5.4010\n"
     ]
    },
    {
     "name": "stderr",
     "output_type": "stream",
     "text": [
      " 30%|███       | 3039/10000 [00:11<00:26, 263.33it/s]"
     ]
    },
    {
     "name": "stdout",
     "output_type": "stream",
     "text": [
      "Step [2999/10000], Training Loss: 5.5718, Validation Loss: 5.5187\n"
     ]
    },
    {
     "name": "stderr",
     "output_type": "stream",
     "text": [
      " 41%|████      | 4071/10000 [00:14<00:13, 432.24it/s]"
     ]
    },
    {
     "name": "stdout",
     "output_type": "stream",
     "text": [
      "Step [3999/10000], Training Loss: 5.4815, Validation Loss: 5.5314\n"
     ]
    },
    {
     "name": "stderr",
     "output_type": "stream",
     "text": [
      " 51%|█████     | 5075/10000 [00:16<00:11, 440.14it/s]"
     ]
    },
    {
     "name": "stdout",
     "output_type": "stream",
     "text": [
      "Step [4999/10000], Training Loss: 5.6375, Validation Loss: 5.4440\n"
     ]
    },
    {
     "name": "stderr",
     "output_type": "stream",
     "text": [
      " 60%|██████    | 6044/10000 [00:19<00:11, 357.85it/s]"
     ]
    },
    {
     "name": "stdout",
     "output_type": "stream",
     "text": [
      "Step [5999/10000], Training Loss: 5.5036, Validation Loss: 5.4916\n"
     ]
    },
    {
     "name": "stderr",
     "output_type": "stream",
     "text": [
      " 70%|██████▉   | 6999/10000 [00:23<00:09, 301.85it/s]\n"
     ]
    },
    {
     "name": "stdout",
     "output_type": "stream",
     "text": [
      "Step [6999/10000], Training Loss: 5.5043, Validation Loss: 5.4675\n",
      "Training Loss: 5.4892\n",
      "Number of parameters Y_t64: 109\n"
     ]
    },
    {
     "name": "stderr",
     "output_type": "stream",
     "text": [
      "  0%|          | 0/10000 [00:00<?, ?it/s]"
     ]
    },
    {
     "name": "stdout",
     "output_type": "stream",
     "text": [
      "Step [0/10000], Training Loss: 0.1513, Validation Loss: 0.1518\n"
     ]
    },
    {
     "name": "stderr",
     "output_type": "stream",
     "text": [
      " 10%|█         | 1030/10000 [00:03<00:32, 273.58it/s]"
     ]
    },
    {
     "name": "stdout",
     "output_type": "stream",
     "text": [
      "Step [999/10000], Training Loss: 0.0154, Validation Loss: 0.0154\n"
     ]
    },
    {
     "name": "stderr",
     "output_type": "stream",
     "text": [
      " 21%|██        | 2079/10000 [00:08<00:20, 379.21it/s]"
     ]
    },
    {
     "name": "stdout",
     "output_type": "stream",
     "text": [
      "Step [1999/10000], Training Loss: 0.0040, Validation Loss: 0.0039\n"
     ]
    },
    {
     "name": "stderr",
     "output_type": "stream",
     "text": [
      " 30%|███       | 3024/10000 [00:12<00:33, 206.55it/s]"
     ]
    },
    {
     "name": "stdout",
     "output_type": "stream",
     "text": [
      "Step [2999/10000], Training Loss: 0.0008, Validation Loss: 0.0008\n"
     ]
    },
    {
     "name": "stderr",
     "output_type": "stream",
     "text": [
      " 41%|████      | 4100/10000 [00:15<00:12, 456.92it/s]"
     ]
    },
    {
     "name": "stdout",
     "output_type": "stream",
     "text": [
      "Step [3999/10000], Training Loss: 0.0005, Validation Loss: 0.0005\n"
     ]
    },
    {
     "name": "stderr",
     "output_type": "stream",
     "text": [
      " 50%|█████     | 5047/10000 [00:18<00:15, 321.93it/s]"
     ]
    },
    {
     "name": "stdout",
     "output_type": "stream",
     "text": [
      "Step [4999/10000], Training Loss: 0.0004, Validation Loss: 0.0004\n"
     ]
    },
    {
     "name": "stderr",
     "output_type": "stream",
     "text": [
      " 60%|██████    | 6045/10000 [00:21<00:10, 365.02it/s]"
     ]
    },
    {
     "name": "stdout",
     "output_type": "stream",
     "text": [
      "Step [5999/10000], Training Loss: 0.0004, Validation Loss: 0.0004\n"
     ]
    },
    {
     "name": "stderr",
     "output_type": "stream",
     "text": [
      " 71%|███████   | 7083/10000 [00:23<00:07, 398.90it/s]"
     ]
    },
    {
     "name": "stdout",
     "output_type": "stream",
     "text": [
      "Step [6999/10000], Training Loss: 0.0004, Validation Loss: 0.0004\n"
     ]
    },
    {
     "name": "stderr",
     "output_type": "stream",
     "text": [
      " 81%|████████  | 8059/10000 [00:26<00:04, 439.70it/s]"
     ]
    },
    {
     "name": "stdout",
     "output_type": "stream",
     "text": [
      "Step [7999/10000], Training Loss: 0.0004, Validation Loss: 0.0004\n"
     ]
    },
    {
     "name": "stderr",
     "output_type": "stream",
     "text": [
      " 90%|█████████ | 9030/10000 [00:28<00:03, 317.44it/s]"
     ]
    },
    {
     "name": "stdout",
     "output_type": "stream",
     "text": [
      "Step [8999/10000], Training Loss: 0.0003, Validation Loss: 0.0003\n"
     ]
    },
    {
     "name": "stderr",
     "output_type": "stream",
     "text": [
      "100%|██████████| 10000/10000 [00:31<00:00, 316.66it/s]\n"
     ]
    },
    {
     "name": "stdout",
     "output_type": "stream",
     "text": [
      "Step [9999/10000], Training Loss: 0.0003, Validation Loss: 0.0003\n",
      "Training Loss: 0.0003\n",
      "Mean Euler Error: 4.1380e-06\n",
      "Number of parameters Z_t63: 109\n"
     ]
    },
    {
     "name": "stderr",
     "output_type": "stream",
     "text": [
      "  0%|          | 30/10000 [00:00<00:35, 283.98it/s]"
     ]
    },
    {
     "name": "stdout",
     "output_type": "stream",
     "text": [
      "Step [0/10000], Training Loss: 5.5775, Validation Loss: 5.4713\n"
     ]
    },
    {
     "name": "stderr",
     "output_type": "stream",
     "text": [
      " 11%|█         | 1089/10000 [00:02<00:18, 473.28it/s]"
     ]
    },
    {
     "name": "stdout",
     "output_type": "stream",
     "text": [
      "Step [999/10000], Training Loss: 5.4627, Validation Loss: 5.5182\n"
     ]
    },
    {
     "name": "stderr",
     "output_type": "stream",
     "text": [
      " 21%|██        | 2057/10000 [00:05<00:22, 353.77it/s]"
     ]
    },
    {
     "name": "stdout",
     "output_type": "stream",
     "text": [
      "Step [1999/10000], Training Loss: 5.4826, Validation Loss: 5.4390\n"
     ]
    },
    {
     "name": "stderr",
     "output_type": "stream",
     "text": [
      " 30%|███       | 3024/10000 [00:07<00:24, 281.34it/s]"
     ]
    },
    {
     "name": "stdout",
     "output_type": "stream",
     "text": [
      "Step [2999/10000], Training Loss: 5.4767, Validation Loss: 5.4983\n"
     ]
    },
    {
     "name": "stderr",
     "output_type": "stream",
     "text": [
      " 40%|████      | 4047/10000 [00:10<00:12, 464.85it/s]"
     ]
    },
    {
     "name": "stdout",
     "output_type": "stream",
     "text": [
      "Step [3999/10000], Training Loss: 5.5137, Validation Loss: 5.4554\n"
     ]
    },
    {
     "name": "stderr",
     "output_type": "stream",
     "text": [
      " 51%|█████     | 5051/10000 [00:12<00:11, 412.73it/s]"
     ]
    },
    {
     "name": "stdout",
     "output_type": "stream",
     "text": [
      "Step [4999/10000], Training Loss: 5.4262, Validation Loss: 5.4985\n"
     ]
    },
    {
     "name": "stderr",
     "output_type": "stream",
     "text": [
      " 60%|██████    | 6006/10000 [00:15<00:13, 299.62it/s]"
     ]
    },
    {
     "name": "stdout",
     "output_type": "stream",
     "text": [
      "Step [5999/10000], Training Loss: 5.4864, Validation Loss: 5.5032\n"
     ]
    },
    {
     "name": "stderr",
     "output_type": "stream",
     "text": [
      " 71%|███████   | 7062/10000 [00:18<00:07, 401.29it/s]"
     ]
    },
    {
     "name": "stdout",
     "output_type": "stream",
     "text": [
      "Step [6999/10000], Training Loss: 5.5937, Validation Loss: 5.4177\n"
     ]
    },
    {
     "name": "stderr",
     "output_type": "stream",
     "text": [
      " 81%|████████  | 8061/10000 [00:22<00:04, 394.68it/s]"
     ]
    },
    {
     "name": "stdout",
     "output_type": "stream",
     "text": [
      "Step [7999/10000], Training Loss: 5.3455, Validation Loss: 5.4587\n"
     ]
    },
    {
     "name": "stderr",
     "output_type": "stream",
     "text": [
      " 90%|█████████ | 9046/10000 [00:24<00:03, 278.44it/s]"
     ]
    },
    {
     "name": "stdout",
     "output_type": "stream",
     "text": [
      "Step [8999/10000], Training Loss: 5.5063, Validation Loss: 5.4652\n"
     ]
    },
    {
     "name": "stderr",
     "output_type": "stream",
     "text": [
      "100%|██████████| 10000/10000 [00:27<00:00, 364.08it/s]\n"
     ]
    },
    {
     "name": "stdout",
     "output_type": "stream",
     "text": [
      "Step [9999/10000], Training Loss: 5.4852, Validation Loss: 5.3860\n",
      "Training Loss: 5.4831\n",
      "Number of parameters Y_t63: 109\n"
     ]
    },
    {
     "name": "stderr",
     "output_type": "stream",
     "text": [
      "  0%|          | 0/10000 [00:00<?, ?it/s]"
     ]
    },
    {
     "name": "stdout",
     "output_type": "stream",
     "text": [
      "Step [0/10000], Training Loss: 0.0433, Validation Loss: 0.0431\n"
     ]
    },
    {
     "name": "stderr",
     "output_type": "stream",
     "text": [
      " 10%|█         | 1040/10000 [00:03<00:26, 343.59it/s]"
     ]
    },
    {
     "name": "stdout",
     "output_type": "stream",
     "text": [
      "Step [999/10000], Training Loss: 0.0014, Validation Loss: 0.0014\n"
     ]
    },
    {
     "name": "stderr",
     "output_type": "stream",
     "text": [
      " 20%|██        | 2018/10000 [00:07<00:40, 196.74it/s]"
     ]
    },
    {
     "name": "stdout",
     "output_type": "stream",
     "text": [
      "Step [1999/10000], Training Loss: 0.0006, Validation Loss: 0.0007\n"
     ]
    },
    {
     "name": "stderr",
     "output_type": "stream",
     "text": [
      " 31%|███       | 3055/10000 [00:11<00:25, 275.70it/s]"
     ]
    },
    {
     "name": "stdout",
     "output_type": "stream",
     "text": [
      "Step [2999/10000], Training Loss: 0.0004, Validation Loss: 0.0004\n"
     ]
    },
    {
     "name": "stderr",
     "output_type": "stream",
     "text": [
      " 41%|████      | 4056/10000 [00:14<00:18, 323.74it/s]"
     ]
    },
    {
     "name": "stdout",
     "output_type": "stream",
     "text": [
      "Step [3999/10000], Training Loss: 0.0004, Validation Loss: 0.0004\n"
     ]
    },
    {
     "name": "stderr",
     "output_type": "stream",
     "text": [
      " 50%|█████     | 5043/10000 [00:18<00:16, 301.75it/s]"
     ]
    },
    {
     "name": "stdout",
     "output_type": "stream",
     "text": [
      "Step [4999/10000], Training Loss: 0.0004, Validation Loss: 0.0004\n"
     ]
    },
    {
     "name": "stderr",
     "output_type": "stream",
     "text": [
      " 60%|██████    | 6041/10000 [00:21<00:13, 304.54it/s]"
     ]
    },
    {
     "name": "stdout",
     "output_type": "stream",
     "text": [
      "Step [5999/10000], Training Loss: 0.0004, Validation Loss: 0.0004\n"
     ]
    },
    {
     "name": "stderr",
     "output_type": "stream",
     "text": [
      " 70%|███████   | 7031/10000 [00:25<00:13, 220.07it/s]"
     ]
    },
    {
     "name": "stdout",
     "output_type": "stream",
     "text": [
      "Step [6999/10000], Training Loss: 0.0003, Validation Loss: 0.0003\n"
     ]
    },
    {
     "name": "stderr",
     "output_type": "stream",
     "text": [
      " 80%|████████  | 8020/10000 [00:29<00:10, 180.92it/s]"
     ]
    },
    {
     "name": "stdout",
     "output_type": "stream",
     "text": [
      "Step [7999/10000], Training Loss: 0.0003, Validation Loss: 0.0003\n"
     ]
    },
    {
     "name": "stderr",
     "output_type": "stream",
     "text": [
      " 90%|█████████ | 9048/10000 [00:32<00:02, 355.87it/s]"
     ]
    },
    {
     "name": "stdout",
     "output_type": "stream",
     "text": [
      "Step [8999/10000], Training Loss: 0.0003, Validation Loss: 0.0003\n"
     ]
    },
    {
     "name": "stderr",
     "output_type": "stream",
     "text": [
      "100%|██████████| 10000/10000 [00:35<00:00, 280.48it/s]\n"
     ]
    },
    {
     "name": "stdout",
     "output_type": "stream",
     "text": [
      "Step [9999/10000], Training Loss: 0.0003, Validation Loss: 0.0003\n",
      "Training Loss: 0.0003\n",
      "Mean Euler Error: 4.5518e-06\n",
      "Number of parameters Z_t62: 109\n"
     ]
    },
    {
     "name": "stderr",
     "output_type": "stream",
     "text": [
      "  0%|          | 0/10000 [00:00<?, ?it/s]"
     ]
    },
    {
     "name": "stdout",
     "output_type": "stream",
     "text": [
      "Step [0/10000], Training Loss: 5.4501, Validation Loss: 5.4682\n"
     ]
    },
    {
     "name": "stderr",
     "output_type": "stream",
     "text": [
      " 10%|█         | 1011/10000 [00:03<00:32, 275.81it/s]"
     ]
    },
    {
     "name": "stdout",
     "output_type": "stream",
     "text": [
      "Step [999/10000], Training Loss: 5.5336, Validation Loss: 5.4486\n"
     ]
    },
    {
     "name": "stderr",
     "output_type": "stream",
     "text": [
      " 20%|██        | 2040/10000 [00:06<00:30, 262.65it/s]"
     ]
    },
    {
     "name": "stdout",
     "output_type": "stream",
     "text": [
      "Step [1999/10000], Training Loss: 5.5019, Validation Loss: 5.4316\n"
     ]
    },
    {
     "name": "stderr",
     "output_type": "stream",
     "text": [
      " 31%|███       | 3053/10000 [00:10<00:27, 251.49it/s]"
     ]
    },
    {
     "name": "stdout",
     "output_type": "stream",
     "text": [
      "Step [2999/10000], Training Loss: 5.6617, Validation Loss: 5.4461\n"
     ]
    },
    {
     "name": "stderr",
     "output_type": "stream",
     "text": [
      " 41%|████      | 4057/10000 [00:14<00:22, 265.52it/s]"
     ]
    },
    {
     "name": "stdout",
     "output_type": "stream",
     "text": [
      "Step [3999/10000], Training Loss: 5.4578, Validation Loss: 5.4618\n"
     ]
    },
    {
     "name": "stderr",
     "output_type": "stream",
     "text": [
      " 51%|█████     | 5085/10000 [00:17<00:12, 386.69it/s]"
     ]
    },
    {
     "name": "stdout",
     "output_type": "stream",
     "text": [
      "Step [4999/10000], Training Loss: 5.3720, Validation Loss: 5.4940\n"
     ]
    },
    {
     "name": "stderr",
     "output_type": "stream",
     "text": [
      " 60%|██████    | 6030/10000 [00:20<00:13, 286.22it/s]"
     ]
    },
    {
     "name": "stdout",
     "output_type": "stream",
     "text": [
      "Step [5999/10000], Training Loss: 5.5139, Validation Loss: 5.3714\n"
     ]
    },
    {
     "name": "stderr",
     "output_type": "stream",
     "text": [
      " 70%|███████   | 7036/10000 [00:24<00:09, 322.71it/s]"
     ]
    },
    {
     "name": "stdout",
     "output_type": "stream",
     "text": [
      "Step [6999/10000], Training Loss: 5.4488, Validation Loss: 5.4775\n"
     ]
    },
    {
     "name": "stderr",
     "output_type": "stream",
     "text": [
      " 81%|████████  | 8087/10000 [00:27<00:04, 427.49it/s]"
     ]
    },
    {
     "name": "stdout",
     "output_type": "stream",
     "text": [
      "Step [7999/10000], Training Loss: 5.3452, Validation Loss: 5.5074\n"
     ]
    },
    {
     "name": "stderr",
     "output_type": "stream",
     "text": [
      " 91%|█████████ | 9098/10000 [00:30<00:02, 427.75it/s]"
     ]
    },
    {
     "name": "stdout",
     "output_type": "stream",
     "text": [
      "Step [8999/10000], Training Loss: 5.4197, Validation Loss: 5.4678\n"
     ]
    },
    {
     "name": "stderr",
     "output_type": "stream",
     "text": [
      "100%|██████████| 10000/10000 [00:33<00:00, 297.12it/s]\n"
     ]
    },
    {
     "name": "stdout",
     "output_type": "stream",
     "text": [
      "Step [9999/10000], Training Loss: 5.4347, Validation Loss: 5.4622\n",
      "Training Loss: 5.3405\n",
      "Number of parameters Y_t62: 109\n"
     ]
    },
    {
     "name": "stderr",
     "output_type": "stream",
     "text": [
      "  1%|          | 57/10000 [00:00<00:17, 566.08it/s]"
     ]
    },
    {
     "name": "stdout",
     "output_type": "stream",
     "text": [
      "Step [0/10000], Training Loss: 0.0195, Validation Loss: 0.0195\n"
     ]
    },
    {
     "name": "stderr",
     "output_type": "stream",
     "text": [
      " 10%|█         | 1036/10000 [00:03<00:25, 354.83it/s]"
     ]
    },
    {
     "name": "stdout",
     "output_type": "stream",
     "text": [
      "Step [999/10000], Training Loss: 0.0013, Validation Loss: 0.0013\n"
     ]
    },
    {
     "name": "stderr",
     "output_type": "stream",
     "text": [
      " 21%|██        | 2051/10000 [00:07<00:28, 276.41it/s]"
     ]
    },
    {
     "name": "stdout",
     "output_type": "stream",
     "text": [
      "Step [1999/10000], Training Loss: 0.0005, Validation Loss: 0.0005\n"
     ]
    },
    {
     "name": "stderr",
     "output_type": "stream",
     "text": [
      " 30%|███       | 3029/10000 [00:11<00:26, 266.89it/s]"
     ]
    },
    {
     "name": "stdout",
     "output_type": "stream",
     "text": [
      "Step [2999/10000], Training Loss: 0.0004, Validation Loss: 0.0004\n"
     ]
    },
    {
     "name": "stderr",
     "output_type": "stream",
     "text": [
      " 40%|████      | 4033/10000 [00:16<00:24, 244.58it/s]"
     ]
    },
    {
     "name": "stdout",
     "output_type": "stream",
     "text": [
      "Step [3999/10000], Training Loss: 0.0003, Validation Loss: 0.0003\n"
     ]
    },
    {
     "name": "stderr",
     "output_type": "stream",
     "text": [
      " 50%|█████     | 5020/10000 [00:19<00:16, 302.93it/s]"
     ]
    },
    {
     "name": "stdout",
     "output_type": "stream",
     "text": [
      "Step [4999/10000], Training Loss: 0.0003, Validation Loss: 0.0003\n"
     ]
    },
    {
     "name": "stderr",
     "output_type": "stream",
     "text": [
      " 60%|██████    | 6050/10000 [00:23<00:13, 294.61it/s]"
     ]
    },
    {
     "name": "stdout",
     "output_type": "stream",
     "text": [
      "Step [5999/10000], Training Loss: 0.0003, Validation Loss: 0.0003\n"
     ]
    },
    {
     "name": "stderr",
     "output_type": "stream",
     "text": [
      " 70%|███████   | 7041/10000 [00:26<00:09, 298.84it/s]"
     ]
    },
    {
     "name": "stdout",
     "output_type": "stream",
     "text": [
      "Step [6999/10000], Training Loss: 0.0003, Validation Loss: 0.0003\n"
     ]
    },
    {
     "name": "stderr",
     "output_type": "stream",
     "text": [
      " 80%|████████  | 8046/10000 [00:30<00:05, 353.51it/s]"
     ]
    },
    {
     "name": "stdout",
     "output_type": "stream",
     "text": [
      "Step [7999/10000], Training Loss: 0.0003, Validation Loss: 0.0003\n"
     ]
    },
    {
     "name": "stderr",
     "output_type": "stream",
     "text": [
      " 90%|█████████ | 9013/10000 [00:33<00:03, 265.55it/s]"
     ]
    },
    {
     "name": "stdout",
     "output_type": "stream",
     "text": [
      "Step [8999/10000], Training Loss: 0.0003, Validation Loss: 0.0003\n"
     ]
    },
    {
     "name": "stderr",
     "output_type": "stream",
     "text": [
      "100%|██████████| 10000/10000 [00:38<00:00, 261.88it/s]\n"
     ]
    },
    {
     "name": "stdout",
     "output_type": "stream",
     "text": [
      "Step [9999/10000], Training Loss: 0.0003, Validation Loss: 0.0003\n",
      "Training Loss: 0.0003\n",
      "Mean Euler Error: 9.2000e-07\n",
      "Number of parameters Z_t61: 109\n"
     ]
    },
    {
     "name": "stderr",
     "output_type": "stream",
     "text": [
      "  0%|          | 0/10000 [00:00<?, ?it/s]"
     ]
    },
    {
     "name": "stdout",
     "output_type": "stream",
     "text": [
      "Step [0/10000], Training Loss: 5.4755, Validation Loss: 5.6439\n"
     ]
    },
    {
     "name": "stderr",
     "output_type": "stream",
     "text": [
      " 10%|█         | 1049/10000 [00:03<00:27, 322.10it/s]"
     ]
    },
    {
     "name": "stdout",
     "output_type": "stream",
     "text": [
      "Step [999/10000], Training Loss: 5.3959, Validation Loss: 5.4205\n"
     ]
    },
    {
     "name": "stderr",
     "output_type": "stream",
     "text": [
      " 21%|██        | 2054/10000 [00:07<00:25, 307.16it/s]"
     ]
    },
    {
     "name": "stdout",
     "output_type": "stream",
     "text": [
      "Step [1999/10000], Training Loss: 5.4275, Validation Loss: 5.3950\n"
     ]
    },
    {
     "name": "stderr",
     "output_type": "stream",
     "text": [
      " 31%|███       | 3052/10000 [00:10<00:21, 322.13it/s]"
     ]
    },
    {
     "name": "stdout",
     "output_type": "stream",
     "text": [
      "Step [2999/10000], Training Loss: 5.4785, Validation Loss: 5.4792\n"
     ]
    },
    {
     "name": "stderr",
     "output_type": "stream",
     "text": [
      " 40%|████      | 4033/10000 [00:13<00:20, 297.61it/s]"
     ]
    },
    {
     "name": "stdout",
     "output_type": "stream",
     "text": [
      "Step [3999/10000], Training Loss: 5.4076, Validation Loss: 5.4610\n"
     ]
    },
    {
     "name": "stderr",
     "output_type": "stream",
     "text": [
      " 50%|█████     | 5040/10000 [00:17<00:19, 255.56it/s]"
     ]
    },
    {
     "name": "stdout",
     "output_type": "stream",
     "text": [
      "Step [4999/10000], Training Loss: 5.4652, Validation Loss: 5.4405\n"
     ]
    },
    {
     "name": "stderr",
     "output_type": "stream",
     "text": [
      " 61%|██████    | 6056/10000 [00:20<00:13, 303.31it/s]"
     ]
    },
    {
     "name": "stdout",
     "output_type": "stream",
     "text": [
      "Step [5999/10000], Training Loss: 5.3823, Validation Loss: 5.4287\n"
     ]
    },
    {
     "name": "stderr",
     "output_type": "stream",
     "text": [
      " 70%|██████▉   | 6999/10000 [00:24<00:10, 282.50it/s]\n"
     ]
    },
    {
     "name": "stdout",
     "output_type": "stream",
     "text": [
      "Step [6999/10000], Training Loss: 5.6119, Validation Loss: 5.4772\n",
      "Training Loss: 5.3941\n",
      "Number of parameters Y_t61: 109\n"
     ]
    },
    {
     "name": "stderr",
     "output_type": "stream",
     "text": [
      "  0%|          | 0/10000 [00:00<?, ?it/s]"
     ]
    },
    {
     "name": "stdout",
     "output_type": "stream",
     "text": [
      "Step [0/10000], Training Loss: 0.1162, Validation Loss: 0.1160\n"
     ]
    },
    {
     "name": "stderr",
     "output_type": "stream",
     "text": [
      " 10%|█         | 1018/10000 [00:03<00:39, 224.72it/s]"
     ]
    },
    {
     "name": "stdout",
     "output_type": "stream",
     "text": [
      "Step [999/10000], Training Loss: 0.0052, Validation Loss: 0.0052\n"
     ]
    },
    {
     "name": "stderr",
     "output_type": "stream",
     "text": [
      " 20%|██        | 2031/10000 [00:07<00:37, 212.10it/s]"
     ]
    },
    {
     "name": "stdout",
     "output_type": "stream",
     "text": [
      "Step [1999/10000], Training Loss: 0.0007, Validation Loss: 0.0008\n"
     ]
    },
    {
     "name": "stderr",
     "output_type": "stream",
     "text": [
      " 31%|███       | 3086/10000 [00:11<00:17, 390.92it/s]"
     ]
    },
    {
     "name": "stdout",
     "output_type": "stream",
     "text": [
      "Step [2999/10000], Training Loss: 0.0004, Validation Loss: 0.0004\n"
     ]
    },
    {
     "name": "stderr",
     "output_type": "stream",
     "text": [
      " 40%|████      | 4031/10000 [00:15<00:33, 179.07it/s]"
     ]
    },
    {
     "name": "stdout",
     "output_type": "stream",
     "text": [
      "Step [3999/10000], Training Loss: 0.0004, Validation Loss: 0.0004\n"
     ]
    },
    {
     "name": "stderr",
     "output_type": "stream",
     "text": [
      " 50%|████▉     | 4997/10000 [00:18<00:15, 317.33it/s]"
     ]
    },
    {
     "name": "stdout",
     "output_type": "stream",
     "text": [
      "Step [4999/10000], Training Loss: 0.0003, Validation Loss: 0.0003\n"
     ]
    },
    {
     "name": "stderr",
     "output_type": "stream",
     "text": [
      " 60%|██████    | 6016/10000 [00:22<00:10, 363.65it/s]"
     ]
    },
    {
     "name": "stdout",
     "output_type": "stream",
     "text": [
      "Step [5999/10000], Training Loss: 0.0003, Validation Loss: 0.0003\n"
     ]
    },
    {
     "name": "stderr",
     "output_type": "stream",
     "text": [
      " 70%|███████   | 7048/10000 [00:26<00:11, 251.48it/s]"
     ]
    },
    {
     "name": "stdout",
     "output_type": "stream",
     "text": [
      "Step [6999/10000], Training Loss: 0.0003, Validation Loss: 0.0003\n"
     ]
    },
    {
     "name": "stderr",
     "output_type": "stream",
     "text": [
      " 80%|████████  | 8046/10000 [00:31<00:09, 211.32it/s]"
     ]
    },
    {
     "name": "stdout",
     "output_type": "stream",
     "text": [
      "Step [7999/10000], Training Loss: 0.0003, Validation Loss: 0.0003\n"
     ]
    },
    {
     "name": "stderr",
     "output_type": "stream",
     "text": [
      " 91%|█████████ | 9058/10000 [00:35<00:03, 289.19it/s]"
     ]
    },
    {
     "name": "stdout",
     "output_type": "stream",
     "text": [
      "Step [8999/10000], Training Loss: 0.0003, Validation Loss: 0.0003\n"
     ]
    },
    {
     "name": "stderr",
     "output_type": "stream",
     "text": [
      "100%|██████████| 10000/10000 [00:39<00:00, 255.45it/s]\n"
     ]
    },
    {
     "name": "stdout",
     "output_type": "stream",
     "text": [
      "Step [9999/10000], Training Loss: 0.0003, Validation Loss: 0.0003\n",
      "Training Loss: 0.0003\n",
      "Mean Euler Error: 7.9178e-07\n",
      "Number of parameters Z_t60: 109\n"
     ]
    },
    {
     "name": "stderr",
     "output_type": "stream",
     "text": [
      "  0%|          | 0/10000 [00:00<?, ?it/s]"
     ]
    },
    {
     "name": "stdout",
     "output_type": "stream",
     "text": [
      "Step [0/10000], Training Loss: 5.6753, Validation Loss: 5.5547\n"
     ]
    },
    {
     "name": "stderr",
     "output_type": "stream",
     "text": [
      " 10%|█         | 1035/10000 [00:03<00:36, 245.46it/s]"
     ]
    },
    {
     "name": "stdout",
     "output_type": "stream",
     "text": [
      "Step [999/10000], Training Loss: 5.4269, Validation Loss: 5.4459\n"
     ]
    },
    {
     "name": "stderr",
     "output_type": "stream",
     "text": [
      " 20%|██        | 2009/10000 [00:07<00:32, 246.66it/s]"
     ]
    },
    {
     "name": "stdout",
     "output_type": "stream",
     "text": [
      "Step [1999/10000], Training Loss: 5.2320, Validation Loss: 5.3113\n"
     ]
    },
    {
     "name": "stderr",
     "output_type": "stream",
     "text": [
      " 30%|███       | 3024/10000 [00:10<00:35, 198.94it/s]"
     ]
    },
    {
     "name": "stdout",
     "output_type": "stream",
     "text": [
      "Step [2999/10000], Training Loss: 5.3566, Validation Loss: 5.3460\n"
     ]
    },
    {
     "name": "stderr",
     "output_type": "stream",
     "text": [
      " 40%|████      | 4024/10000 [00:14<00:24, 243.02it/s]"
     ]
    },
    {
     "name": "stdout",
     "output_type": "stream",
     "text": [
      "Step [3999/10000], Training Loss: 5.2614, Validation Loss: 5.4530\n"
     ]
    },
    {
     "name": "stderr",
     "output_type": "stream",
     "text": [
      " 50%|█████     | 5033/10000 [00:18<00:19, 252.93it/s]"
     ]
    },
    {
     "name": "stdout",
     "output_type": "stream",
     "text": [
      "Step [4999/10000], Training Loss: 5.3581, Validation Loss: 5.4468\n"
     ]
    },
    {
     "name": "stderr",
     "output_type": "stream",
     "text": [
      " 61%|██████    | 6065/10000 [00:21<00:09, 425.56it/s]"
     ]
    },
    {
     "name": "stdout",
     "output_type": "stream",
     "text": [
      "Step [5999/10000], Training Loss: 5.4741, Validation Loss: 5.4629\n"
     ]
    },
    {
     "name": "stderr",
     "output_type": "stream",
     "text": [
      " 70%|██████▉   | 6999/10000 [00:24<00:10, 280.92it/s]\n"
     ]
    },
    {
     "name": "stdout",
     "output_type": "stream",
     "text": [
      "Step [6999/10000], Training Loss: 5.4484, Validation Loss: 5.4811\n",
      "Training Loss: 5.3453\n",
      "Number of parameters Y_t60: 109\n"
     ]
    },
    {
     "name": "stderr",
     "output_type": "stream",
     "text": [
      "  0%|          | 28/10000 [00:00<00:37, 265.58it/s]"
     ]
    },
    {
     "name": "stdout",
     "output_type": "stream",
     "text": [
      "Step [0/10000], Training Loss: 0.1956, Validation Loss: 0.1959\n"
     ]
    },
    {
     "name": "stderr",
     "output_type": "stream",
     "text": [
      " 10%|█         | 1018/10000 [00:04<00:37, 237.56it/s]"
     ]
    },
    {
     "name": "stdout",
     "output_type": "stream",
     "text": [
      "Step [999/10000], Training Loss: 0.0104, Validation Loss: 0.0104\n"
     ]
    },
    {
     "name": "stderr",
     "output_type": "stream",
     "text": [
      " 20%|██        | 2034/10000 [00:08<00:35, 227.15it/s]"
     ]
    },
    {
     "name": "stdout",
     "output_type": "stream",
     "text": [
      "Step [1999/10000], Training Loss: 0.0024, Validation Loss: 0.0024\n"
     ]
    },
    {
     "name": "stderr",
     "output_type": "stream",
     "text": [
      " 30%|███       | 3019/10000 [00:11<00:22, 306.91it/s]"
     ]
    },
    {
     "name": "stdout",
     "output_type": "stream",
     "text": [
      "Step [2999/10000], Training Loss: 0.0006, Validation Loss: 0.0005\n"
     ]
    },
    {
     "name": "stderr",
     "output_type": "stream",
     "text": [
      " 40%|████      | 4035/10000 [00:14<00:20, 294.20it/s]"
     ]
    },
    {
     "name": "stdout",
     "output_type": "stream",
     "text": [
      "Step [3999/10000], Training Loss: 0.0004, Validation Loss: 0.0004\n"
     ]
    },
    {
     "name": "stderr",
     "output_type": "stream",
     "text": [
      " 51%|█████     | 5057/10000 [00:19<00:15, 316.00it/s]"
     ]
    },
    {
     "name": "stdout",
     "output_type": "stream",
     "text": [
      "Step [4999/10000], Training Loss: 0.0004, Validation Loss: 0.0004\n"
     ]
    },
    {
     "name": "stderr",
     "output_type": "stream",
     "text": [
      " 61%|██████    | 6053/10000 [00:22<00:15, 247.24it/s]"
     ]
    },
    {
     "name": "stdout",
     "output_type": "stream",
     "text": [
      "Step [5999/10000], Training Loss: 0.0003, Validation Loss: 0.0003\n"
     ]
    },
    {
     "name": "stderr",
     "output_type": "stream",
     "text": [
      " 70%|███████   | 7043/10000 [00:25<00:07, 418.66it/s]"
     ]
    },
    {
     "name": "stdout",
     "output_type": "stream",
     "text": [
      "Step [6999/10000], Training Loss: 0.0003, Validation Loss: 0.0003\n"
     ]
    },
    {
     "name": "stderr",
     "output_type": "stream",
     "text": [
      " 81%|████████  | 8062/10000 [00:30<00:06, 288.00it/s]"
     ]
    },
    {
     "name": "stdout",
     "output_type": "stream",
     "text": [
      "Step [7999/10000], Training Loss: 0.0003, Validation Loss: 0.0003\n"
     ]
    },
    {
     "name": "stderr",
     "output_type": "stream",
     "text": [
      " 90%|█████████ | 9046/10000 [00:33<00:03, 285.90it/s]"
     ]
    },
    {
     "name": "stdout",
     "output_type": "stream",
     "text": [
      "Step [8999/10000], Training Loss: 0.0003, Validation Loss: 0.0003\n"
     ]
    },
    {
     "name": "stderr",
     "output_type": "stream",
     "text": [
      "100%|██████████| 10000/10000 [00:36<00:00, 276.56it/s]\n"
     ]
    },
    {
     "name": "stdout",
     "output_type": "stream",
     "text": [
      "Step [9999/10000], Training Loss: 0.0003, Validation Loss: 0.0003\n",
      "Training Loss: 0.0003\n",
      "Mean Euler Error: 2.3017e-06\n",
      "Number of parameters Z_t59: 109\n"
     ]
    },
    {
     "name": "stderr",
     "output_type": "stream",
     "text": [
      "  0%|          | 0/10000 [00:00<?, ?it/s]"
     ]
    },
    {
     "name": "stdout",
     "output_type": "stream",
     "text": [
      "Step [0/10000], Training Loss: 5.8383, Validation Loss: 5.8392\n"
     ]
    },
    {
     "name": "stderr",
     "output_type": "stream",
     "text": [
      " 10%|█         | 1047/10000 [00:03<00:28, 318.97it/s]"
     ]
    },
    {
     "name": "stdout",
     "output_type": "stream",
     "text": [
      "Step [999/10000], Training Loss: 5.2754, Validation Loss: 5.4988\n"
     ]
    },
    {
     "name": "stderr",
     "output_type": "stream",
     "text": [
      " 20%|██        | 2022/10000 [00:06<00:23, 338.46it/s]"
     ]
    },
    {
     "name": "stdout",
     "output_type": "stream",
     "text": [
      "Step [1999/10000], Training Loss: 5.4358, Validation Loss: 5.3222\n"
     ]
    },
    {
     "name": "stderr",
     "output_type": "stream",
     "text": [
      " 30%|███       | 3033/10000 [00:09<00:18, 377.05it/s]"
     ]
    },
    {
     "name": "stdout",
     "output_type": "stream",
     "text": [
      "Step [2999/10000], Training Loss: 5.4687, Validation Loss: 5.3303\n"
     ]
    },
    {
     "name": "stderr",
     "output_type": "stream",
     "text": [
      " 40%|████      | 4031/10000 [00:13<00:26, 224.88it/s]"
     ]
    },
    {
     "name": "stdout",
     "output_type": "stream",
     "text": [
      "Step [3999/10000], Training Loss: 5.2284, Validation Loss: 5.4265\n"
     ]
    },
    {
     "name": "stderr",
     "output_type": "stream",
     "text": [
      " 50%|█████     | 5027/10000 [00:16<00:20, 241.02it/s]"
     ]
    },
    {
     "name": "stdout",
     "output_type": "stream",
     "text": [
      "Step [4999/10000], Training Loss: 5.3344, Validation Loss: 5.3690\n"
     ]
    },
    {
     "name": "stderr",
     "output_type": "stream",
     "text": [
      " 61%|██████    | 6088/10000 [00:20<00:10, 380.30it/s]"
     ]
    },
    {
     "name": "stdout",
     "output_type": "stream",
     "text": [
      "Step [5999/10000], Training Loss: 5.4143, Validation Loss: 5.3292\n"
     ]
    },
    {
     "name": "stderr",
     "output_type": "stream",
     "text": [
      " 70%|██████▉   | 6999/10000 [00:23<00:09, 301.20it/s]\n"
     ]
    },
    {
     "name": "stdout",
     "output_type": "stream",
     "text": [
      "Step [6999/10000], Training Loss: 5.4771, Validation Loss: 5.3555\n",
      "Training Loss: 5.4486\n",
      "Number of parameters Y_t59: 109\n"
     ]
    },
    {
     "name": "stderr",
     "output_type": "stream",
     "text": [
      "  0%|          | 32/10000 [00:00<00:31, 317.01it/s]"
     ]
    },
    {
     "name": "stdout",
     "output_type": "stream",
     "text": [
      "Step [0/10000], Training Loss: 0.3479, Validation Loss: 0.3469\n"
     ]
    },
    {
     "name": "stderr",
     "output_type": "stream",
     "text": [
      " 10%|█         | 1039/10000 [00:03<00:32, 277.90it/s]"
     ]
    },
    {
     "name": "stdout",
     "output_type": "stream",
     "text": [
      "Step [999/10000], Training Loss: 0.0382, Validation Loss: 0.0381\n"
     ]
    },
    {
     "name": "stderr",
     "output_type": "stream",
     "text": [
      " 20%|██        | 2036/10000 [00:06<00:20, 381.68it/s]"
     ]
    },
    {
     "name": "stdout",
     "output_type": "stream",
     "text": [
      "Step [1999/10000], Training Loss: 0.0243, Validation Loss: 0.0239\n"
     ]
    },
    {
     "name": "stderr",
     "output_type": "stream",
     "text": [
      " 30%|███       | 3038/10000 [00:10<00:25, 273.09it/s]"
     ]
    },
    {
     "name": "stdout",
     "output_type": "stream",
     "text": [
      "Step [2999/10000], Training Loss: 0.0067, Validation Loss: 0.0067\n"
     ]
    },
    {
     "name": "stderr",
     "output_type": "stream",
     "text": [
      " 40%|████      | 4021/10000 [00:14<00:28, 207.64it/s]"
     ]
    },
    {
     "name": "stdout",
     "output_type": "stream",
     "text": [
      "Step [3999/10000], Training Loss: 0.0015, Validation Loss: 0.0015\n"
     ]
    },
    {
     "name": "stderr",
     "output_type": "stream",
     "text": [
      " 50%|█████     | 5008/10000 [00:18<00:19, 251.93it/s]"
     ]
    },
    {
     "name": "stdout",
     "output_type": "stream",
     "text": [
      "Step [4999/10000], Training Loss: 0.0006, Validation Loss: 0.0006\n"
     ]
    },
    {
     "name": "stderr",
     "output_type": "stream",
     "text": [
      " 60%|██████    | 6033/10000 [00:21<00:13, 295.49it/s]"
     ]
    },
    {
     "name": "stdout",
     "output_type": "stream",
     "text": [
      "Step [5999/10000], Training Loss: 0.0005, Validation Loss: 0.0005\n"
     ]
    },
    {
     "name": "stderr",
     "output_type": "stream",
     "text": [
      " 70%|███████   | 7045/10000 [00:24<00:09, 307.38it/s]"
     ]
    },
    {
     "name": "stdout",
     "output_type": "stream",
     "text": [
      "Step [6999/10000], Training Loss: 0.0004, Validation Loss: 0.0004\n"
     ]
    },
    {
     "name": "stderr",
     "output_type": "stream",
     "text": [
      " 80%|████████  | 8049/10000 [00:28<00:07, 265.73it/s]"
     ]
    },
    {
     "name": "stdout",
     "output_type": "stream",
     "text": [
      "Step [7999/10000], Training Loss: 0.0004, Validation Loss: 0.0004\n"
     ]
    },
    {
     "name": "stderr",
     "output_type": "stream",
     "text": [
      " 91%|█████████ | 9058/10000 [00:31<00:02, 326.20it/s]"
     ]
    },
    {
     "name": "stdout",
     "output_type": "stream",
     "text": [
      "Step [8999/10000], Training Loss: 0.0003, Validation Loss: 0.0003\n"
     ]
    },
    {
     "name": "stderr",
     "output_type": "stream",
     "text": [
      "100%|██████████| 10000/10000 [00:35<00:00, 279.52it/s]\n"
     ]
    },
    {
     "name": "stdout",
     "output_type": "stream",
     "text": [
      "Step [9999/10000], Training Loss: 0.0003, Validation Loss: 0.0003\n",
      "Training Loss: 0.0003\n",
      "Mean Euler Error: 2.1573e-06\n",
      "Number of parameters Z_t58: 109\n"
     ]
    },
    {
     "name": "stderr",
     "output_type": "stream",
     "text": [
      "  0%|          | 21/10000 [00:00<00:49, 203.26it/s]"
     ]
    },
    {
     "name": "stdout",
     "output_type": "stream",
     "text": [
      "Step [0/10000], Training Loss: 5.3891, Validation Loss: 5.3935\n"
     ]
    },
    {
     "name": "stderr",
     "output_type": "stream",
     "text": [
      " 10%|█         | 1007/10000 [00:03<00:26, 336.18it/s]"
     ]
    },
    {
     "name": "stdout",
     "output_type": "stream",
     "text": [
      "Step [999/10000], Training Loss: 5.4088, Validation Loss: 5.3583\n"
     ]
    },
    {
     "name": "stderr",
     "output_type": "stream",
     "text": [
      " 20%|██        | 2029/10000 [00:07<00:43, 183.31it/s]"
     ]
    },
    {
     "name": "stdout",
     "output_type": "stream",
     "text": [
      "Step [1999/10000], Training Loss: 5.3196, Validation Loss: 5.4187\n"
     ]
    },
    {
     "name": "stderr",
     "output_type": "stream",
     "text": [
      " 31%|███       | 3077/10000 [00:11<00:20, 341.08it/s]"
     ]
    },
    {
     "name": "stdout",
     "output_type": "stream",
     "text": [
      "Step [2999/10000], Training Loss: 5.2985, Validation Loss: 5.3186\n"
     ]
    },
    {
     "name": "stderr",
     "output_type": "stream",
     "text": [
      " 40%|████      | 4026/10000 [00:14<00:16, 368.56it/s]"
     ]
    },
    {
     "name": "stdout",
     "output_type": "stream",
     "text": [
      "Step [3999/10000], Training Loss: 5.2868, Validation Loss: 5.3254\n"
     ]
    },
    {
     "name": "stderr",
     "output_type": "stream",
     "text": [
      " 50%|█████     | 5047/10000 [00:18<00:15, 324.78it/s]"
     ]
    },
    {
     "name": "stdout",
     "output_type": "stream",
     "text": [
      "Step [4999/10000], Training Loss: 5.2946, Validation Loss: 5.3605\n"
     ]
    },
    {
     "name": "stderr",
     "output_type": "stream",
     "text": [
      " 60%|██████    | 6048/10000 [00:22<00:13, 302.89it/s]"
     ]
    },
    {
     "name": "stdout",
     "output_type": "stream",
     "text": [
      "Step [5999/10000], Training Loss: 5.2969, Validation Loss: 5.2585\n"
     ]
    },
    {
     "name": "stderr",
     "output_type": "stream",
     "text": [
      " 71%|███████   | 7055/10000 [00:25<00:07, 369.16it/s]"
     ]
    },
    {
     "name": "stdout",
     "output_type": "stream",
     "text": [
      "Step [6999/10000], Training Loss: 5.3169, Validation Loss: 5.3381\n"
     ]
    },
    {
     "name": "stderr",
     "output_type": "stream",
     "text": [
      " 81%|████████  | 8051/10000 [00:28<00:07, 245.54it/s]"
     ]
    },
    {
     "name": "stdout",
     "output_type": "stream",
     "text": [
      "Step [7999/10000], Training Loss: 5.4576, Validation Loss: 5.3618\n"
     ]
    },
    {
     "name": "stderr",
     "output_type": "stream",
     "text": [
      " 90%|█████████ | 9029/10000 [00:31<00:03, 320.31it/s]"
     ]
    },
    {
     "name": "stdout",
     "output_type": "stream",
     "text": [
      "Step [8999/10000], Training Loss: 5.3034, Validation Loss: 5.3464\n"
     ]
    },
    {
     "name": "stderr",
     "output_type": "stream",
     "text": [
      "100%|██████████| 10000/10000 [00:34<00:00, 287.21it/s]\n"
     ]
    },
    {
     "name": "stdout",
     "output_type": "stream",
     "text": [
      "Step [9999/10000], Training Loss: 5.2616, Validation Loss: 5.3536\n",
      "Training Loss: 5.3832\n",
      "Number of parameters Y_t58: 109\n"
     ]
    },
    {
     "name": "stderr",
     "output_type": "stream",
     "text": [
      "  0%|          | 0/10000 [00:00<?, ?it/s]"
     ]
    },
    {
     "name": "stdout",
     "output_type": "stream",
     "text": [
      "Step [0/10000], Training Loss: 0.2318, Validation Loss: 0.2334\n"
     ]
    },
    {
     "name": "stderr",
     "output_type": "stream",
     "text": [
      " 11%|█         | 1075/10000 [00:03<00:26, 337.93it/s]"
     ]
    },
    {
     "name": "stdout",
     "output_type": "stream",
     "text": [
      "Step [999/10000], Training Loss: 0.0091, Validation Loss: 0.0090\n"
     ]
    },
    {
     "name": "stderr",
     "output_type": "stream",
     "text": [
      " 20%|██        | 2041/10000 [00:06<00:20, 391.25it/s]"
     ]
    },
    {
     "name": "stdout",
     "output_type": "stream",
     "text": [
      "Step [1999/10000], Training Loss: 0.0019, Validation Loss: 0.0019\n"
     ]
    },
    {
     "name": "stderr",
     "output_type": "stream",
     "text": [
      " 31%|███       | 3080/10000 [00:08<00:13, 517.83it/s]"
     ]
    },
    {
     "name": "stdout",
     "output_type": "stream",
     "text": [
      "Step [2999/10000], Training Loss: 0.0006, Validation Loss: 0.0006\n"
     ]
    },
    {
     "name": "stderr",
     "output_type": "stream",
     "text": [
      " 40%|████      | 4031/10000 [00:11<00:28, 206.39it/s]"
     ]
    },
    {
     "name": "stdout",
     "output_type": "stream",
     "text": [
      "Step [3999/10000], Training Loss: 0.0005, Validation Loss: 0.0005\n"
     ]
    },
    {
     "name": "stderr",
     "output_type": "stream",
     "text": [
      " 50%|█████     | 5049/10000 [00:15<00:14, 336.81it/s]"
     ]
    },
    {
     "name": "stdout",
     "output_type": "stream",
     "text": [
      "Step [4999/10000], Training Loss: 0.0005, Validation Loss: 0.0005\n"
     ]
    },
    {
     "name": "stderr",
     "output_type": "stream",
     "text": [
      " 61%|██████    | 6082/10000 [00:18<00:09, 411.54it/s]"
     ]
    },
    {
     "name": "stdout",
     "output_type": "stream",
     "text": [
      "Step [5999/10000], Training Loss: 0.0004, Validation Loss: 0.0004\n"
     ]
    },
    {
     "name": "stderr",
     "output_type": "stream",
     "text": [
      " 70%|███████   | 7044/10000 [00:20<00:09, 295.71it/s]"
     ]
    },
    {
     "name": "stdout",
     "output_type": "stream",
     "text": [
      "Step [6999/10000], Training Loss: 0.0004, Validation Loss: 0.0003\n"
     ]
    },
    {
     "name": "stderr",
     "output_type": "stream",
     "text": [
      " 80%|████████  | 8050/10000 [00:23<00:07, 263.55it/s]"
     ]
    },
    {
     "name": "stdout",
     "output_type": "stream",
     "text": [
      "Step [7999/10000], Training Loss: 0.0003, Validation Loss: 0.0003\n"
     ]
    },
    {
     "name": "stderr",
     "output_type": "stream",
     "text": [
      " 91%|█████████ | 9069/10000 [00:27<00:02, 343.48it/s]"
     ]
    },
    {
     "name": "stdout",
     "output_type": "stream",
     "text": [
      "Step [8999/10000], Training Loss: 0.0003, Validation Loss: 0.0003\n"
     ]
    },
    {
     "name": "stderr",
     "output_type": "stream",
     "text": [
      "100%|██████████| 10000/10000 [00:30<00:00, 324.11it/s]\n"
     ]
    },
    {
     "name": "stdout",
     "output_type": "stream",
     "text": [
      "Step [9999/10000], Training Loss: 0.0003, Validation Loss: 0.0003\n",
      "Training Loss: 0.0003\n",
      "Mean Euler Error: 4.7019e-06\n",
      "Number of parameters Z_t57: 109\n"
     ]
    },
    {
     "name": "stderr",
     "output_type": "stream",
     "text": [
      "  0%|          | 0/10000 [00:00<?, ?it/s]"
     ]
    },
    {
     "name": "stdout",
     "output_type": "stream",
     "text": [
      "Step [0/10000], Training Loss: 5.6784, Validation Loss: 5.6721\n"
     ]
    },
    {
     "name": "stderr",
     "output_type": "stream",
     "text": [
      " 10%|█         | 1025/10000 [00:04<00:42, 212.07it/s]"
     ]
    },
    {
     "name": "stdout",
     "output_type": "stream",
     "text": [
      "Step [999/10000], Training Loss: 5.2435, Validation Loss: 5.3118\n"
     ]
    },
    {
     "name": "stderr",
     "output_type": "stream",
     "text": [
      " 20%|██        | 2032/10000 [00:06<00:27, 290.21it/s]"
     ]
    },
    {
     "name": "stdout",
     "output_type": "stream",
     "text": [
      "Step [1999/10000], Training Loss: 5.3714, Validation Loss: 5.3966\n"
     ]
    },
    {
     "name": "stderr",
     "output_type": "stream",
     "text": [
      " 30%|███       | 3030/10000 [00:10<00:32, 215.71it/s]"
     ]
    },
    {
     "name": "stdout",
     "output_type": "stream",
     "text": [
      "Step [2999/10000], Training Loss: 5.2276, Validation Loss: 5.3733\n"
     ]
    },
    {
     "name": "stderr",
     "output_type": "stream",
     "text": [
      " 40%|████      | 4045/10000 [00:13<00:18, 321.27it/s]"
     ]
    },
    {
     "name": "stdout",
     "output_type": "stream",
     "text": [
      "Step [3999/10000], Training Loss: 5.3119, Validation Loss: 5.2775\n"
     ]
    },
    {
     "name": "stderr",
     "output_type": "stream",
     "text": [
      " 50%|█████     | 5030/10000 [00:17<00:18, 266.69it/s]"
     ]
    },
    {
     "name": "stdout",
     "output_type": "stream",
     "text": [
      "Step [4999/10000], Training Loss: 5.2585, Validation Loss: 5.3850\n"
     ]
    },
    {
     "name": "stderr",
     "output_type": "stream",
     "text": [
      " 60%|██████    | 6043/10000 [00:20<00:13, 290.72it/s]"
     ]
    },
    {
     "name": "stdout",
     "output_type": "stream",
     "text": [
      "Step [5999/10000], Training Loss: 5.4546, Validation Loss: 5.2771\n"
     ]
    },
    {
     "name": "stderr",
     "output_type": "stream",
     "text": [
      " 70%|███████   | 7006/10000 [00:23<00:10, 280.92it/s]"
     ]
    },
    {
     "name": "stdout",
     "output_type": "stream",
     "text": [
      "Step [6999/10000], Training Loss: 5.3423, Validation Loss: 5.1908\n"
     ]
    },
    {
     "name": "stderr",
     "output_type": "stream",
     "text": [
      " 80%|████████  | 8005/10000 [00:27<00:06, 311.10it/s]"
     ]
    },
    {
     "name": "stdout",
     "output_type": "stream",
     "text": [
      "Step [7999/10000], Training Loss: 5.2847, Validation Loss: 5.2938\n"
     ]
    },
    {
     "name": "stderr",
     "output_type": "stream",
     "text": [
      " 90%|████████▉ | 8983/10000 [00:30<00:02, 475.75it/s]"
     ]
    },
    {
     "name": "stdout",
     "output_type": "stream",
     "text": [
      "Step [8999/10000], Training Loss: 5.2202, Validation Loss: 5.2843\n"
     ]
    },
    {
     "name": "stderr",
     "output_type": "stream",
     "text": [
      "100%|██████████| 10000/10000 [00:34<00:00, 292.82it/s]\n"
     ]
    },
    {
     "name": "stdout",
     "output_type": "stream",
     "text": [
      "Step [9999/10000], Training Loss: 5.3534, Validation Loss: 5.3274\n",
      "Training Loss: 5.3447\n",
      "Number of parameters Y_t57: 109\n"
     ]
    },
    {
     "name": "stderr",
     "output_type": "stream",
     "text": [
      "  0%|          | 29/10000 [00:00<00:34, 288.17it/s]"
     ]
    },
    {
     "name": "stdout",
     "output_type": "stream",
     "text": [
      "Step [0/10000], Training Loss: 0.0122, Validation Loss: 0.0122\n"
     ]
    },
    {
     "name": "stderr",
     "output_type": "stream",
     "text": [
      " 10%|█         | 1033/10000 [00:04<00:38, 235.56it/s]"
     ]
    },
    {
     "name": "stdout",
     "output_type": "stream",
     "text": [
      "Step [999/10000], Training Loss: 0.0006, Validation Loss: 0.0006\n"
     ]
    },
    {
     "name": "stderr",
     "output_type": "stream",
     "text": [
      " 21%|██        | 2058/10000 [00:08<00:36, 215.90it/s]"
     ]
    },
    {
     "name": "stdout",
     "output_type": "stream",
     "text": [
      "Step [1999/10000], Training Loss: 0.0004, Validation Loss: 0.0004\n"
     ]
    },
    {
     "name": "stderr",
     "output_type": "stream",
     "text": [
      " 30%|███       | 3026/10000 [00:11<00:22, 312.76it/s]"
     ]
    },
    {
     "name": "stdout",
     "output_type": "stream",
     "text": [
      "Step [2999/10000], Training Loss: 0.0003, Validation Loss: 0.0003\n"
     ]
    },
    {
     "name": "stderr",
     "output_type": "stream",
     "text": [
      " 40%|████      | 4032/10000 [00:15<00:24, 241.23it/s]"
     ]
    },
    {
     "name": "stdout",
     "output_type": "stream",
     "text": [
      "Step [3999/10000], Training Loss: 0.0003, Validation Loss: 0.0003\n"
     ]
    },
    {
     "name": "stderr",
     "output_type": "stream",
     "text": [
      " 50%|█████     | 5000/10000 [00:18<00:21, 232.03it/s]"
     ]
    },
    {
     "name": "stdout",
     "output_type": "stream",
     "text": [
      "Step [4999/10000], Training Loss: 0.0003, Validation Loss: 0.0003\n"
     ]
    },
    {
     "name": "stderr",
     "output_type": "stream",
     "text": [
      " 60%|██████    | 6031/10000 [00:22<00:17, 224.62it/s]"
     ]
    },
    {
     "name": "stdout",
     "output_type": "stream",
     "text": [
      "Step [5999/10000], Training Loss: 0.0003, Validation Loss: 0.0003\n"
     ]
    },
    {
     "name": "stderr",
     "output_type": "stream",
     "text": [
      " 71%|███████   | 7057/10000 [00:26<00:08, 327.58it/s]"
     ]
    },
    {
     "name": "stdout",
     "output_type": "stream",
     "text": [
      "Step [6999/10000], Training Loss: 0.0003, Validation Loss: 0.0003\n"
     ]
    },
    {
     "name": "stderr",
     "output_type": "stream",
     "text": [
      " 80%|████████  | 8033/10000 [00:30<00:07, 269.44it/s]"
     ]
    },
    {
     "name": "stdout",
     "output_type": "stream",
     "text": [
      "Step [7999/10000], Training Loss: 0.0003, Validation Loss: 0.0003\n"
     ]
    },
    {
     "name": "stderr",
     "output_type": "stream",
     "text": [
      " 91%|█████████ | 9069/10000 [00:34<00:03, 291.12it/s]"
     ]
    },
    {
     "name": "stdout",
     "output_type": "stream",
     "text": [
      "Step [8999/10000], Training Loss: 0.0003, Validation Loss: 0.0003\n"
     ]
    },
    {
     "name": "stderr",
     "output_type": "stream",
     "text": [
      "100%|██████████| 10000/10000 [00:38<00:00, 262.55it/s]\n"
     ]
    },
    {
     "name": "stdout",
     "output_type": "stream",
     "text": [
      "Step [9999/10000], Training Loss: 0.0003, Validation Loss: 0.0003\n",
      "Training Loss: 0.0003\n",
      "Mean Euler Error: 1.6758e-06\n",
      "Number of parameters Z_t56: 109\n"
     ]
    },
    {
     "name": "stderr",
     "output_type": "stream",
     "text": [
      "  0%|          | 0/10000 [00:00<?, ?it/s]"
     ]
    },
    {
     "name": "stdout",
     "output_type": "stream",
     "text": [
      "Step [0/10000], Training Loss: 5.6953, Validation Loss: 5.6489\n"
     ]
    },
    {
     "name": "stderr",
     "output_type": "stream",
     "text": [
      " 10%|█         | 1028/10000 [00:03<00:38, 233.90it/s]"
     ]
    },
    {
     "name": "stdout",
     "output_type": "stream",
     "text": [
      "Step [999/10000], Training Loss: 5.1909, Validation Loss: 5.3419\n"
     ]
    },
    {
     "name": "stderr",
     "output_type": "stream",
     "text": [
      " 20%|██        | 2025/10000 [00:07<00:30, 259.62it/s]"
     ]
    },
    {
     "name": "stdout",
     "output_type": "stream",
     "text": [
      "Step [1999/10000], Training Loss: 5.3404, Validation Loss: 5.3828\n"
     ]
    },
    {
     "name": "stderr",
     "output_type": "stream",
     "text": [
      " 30%|███       | 3040/10000 [00:10<00:28, 240.84it/s]"
     ]
    },
    {
     "name": "stdout",
     "output_type": "stream",
     "text": [
      "Step [2999/10000], Training Loss: 5.3494, Validation Loss: 5.2577\n"
     ]
    },
    {
     "name": "stderr",
     "output_type": "stream",
     "text": [
      " 41%|████      | 4070/10000 [00:14<00:17, 343.79it/s]"
     ]
    },
    {
     "name": "stdout",
     "output_type": "stream",
     "text": [
      "Step [3999/10000], Training Loss: 5.3108, Validation Loss: 5.3506\n"
     ]
    },
    {
     "name": "stderr",
     "output_type": "stream",
     "text": [
      " 50%|█████     | 5034/10000 [00:18<00:15, 317.47it/s]"
     ]
    },
    {
     "name": "stdout",
     "output_type": "stream",
     "text": [
      "Step [4999/10000], Training Loss: 5.1815, Validation Loss: 5.3165\n"
     ]
    },
    {
     "name": "stderr",
     "output_type": "stream",
     "text": [
      " 61%|██████    | 6085/10000 [00:22<00:09, 406.38it/s]"
     ]
    },
    {
     "name": "stdout",
     "output_type": "stream",
     "text": [
      "Step [5999/10000], Training Loss: 5.1382, Validation Loss: 5.2730\n"
     ]
    },
    {
     "name": "stderr",
     "output_type": "stream",
     "text": [
      " 70%|███████   | 7046/10000 [00:25<00:11, 249.97it/s]"
     ]
    },
    {
     "name": "stdout",
     "output_type": "stream",
     "text": [
      "Step [6999/10000], Training Loss: 5.2222, Validation Loss: 5.2325\n"
     ]
    },
    {
     "name": "stderr",
     "output_type": "stream",
     "text": [
      " 80%|████████  | 8013/10000 [00:29<00:07, 249.84it/s]"
     ]
    },
    {
     "name": "stdout",
     "output_type": "stream",
     "text": [
      "Step [7999/10000], Training Loss: 5.3256, Validation Loss: 5.3380\n"
     ]
    },
    {
     "name": "stderr",
     "output_type": "stream",
     "text": [
      " 91%|█████████ | 9061/10000 [00:32<00:02, 322.36it/s]"
     ]
    },
    {
     "name": "stdout",
     "output_type": "stream",
     "text": [
      "Step [8999/10000], Training Loss: 5.3319, Validation Loss: 5.3713\n"
     ]
    },
    {
     "name": "stderr",
     "output_type": "stream",
     "text": [
      "100%|██████████| 10000/10000 [00:35<00:00, 278.34it/s]\n"
     ]
    },
    {
     "name": "stdout",
     "output_type": "stream",
     "text": [
      "Step [9999/10000], Training Loss: 5.2848, Validation Loss: 5.2556\n",
      "Training Loss: 5.2718\n",
      "Number of parameters Y_t56: 109\n"
     ]
    },
    {
     "name": "stderr",
     "output_type": "stream",
     "text": [
      "  0%|          | 16/10000 [00:00<01:03, 156.48it/s]"
     ]
    },
    {
     "name": "stdout",
     "output_type": "stream",
     "text": [
      "Step [0/10000], Training Loss: 0.3283, Validation Loss: 0.3253\n"
     ]
    },
    {
     "name": "stderr",
     "output_type": "stream",
     "text": [
      " 11%|█         | 1072/10000 [00:03<00:28, 308.86it/s]"
     ]
    },
    {
     "name": "stdout",
     "output_type": "stream",
     "text": [
      "Step [999/10000], Training Loss: 0.0159, Validation Loss: 0.0161\n"
     ]
    },
    {
     "name": "stderr",
     "output_type": "stream",
     "text": [
      " 20%|██        | 2029/10000 [00:07<00:29, 271.12it/s]"
     ]
    },
    {
     "name": "stdout",
     "output_type": "stream",
     "text": [
      "Step [1999/10000], Training Loss: 0.0052, Validation Loss: 0.0052\n"
     ]
    },
    {
     "name": "stderr",
     "output_type": "stream",
     "text": [
      " 31%|███       | 3060/10000 [00:11<00:25, 274.37it/s]"
     ]
    },
    {
     "name": "stdout",
     "output_type": "stream",
     "text": [
      "Step [2999/10000], Training Loss: 0.0014, Validation Loss: 0.0014\n"
     ]
    },
    {
     "name": "stderr",
     "output_type": "stream",
     "text": [
      " 40%|████      | 4012/10000 [00:15<00:16, 362.77it/s]"
     ]
    },
    {
     "name": "stdout",
     "output_type": "stream",
     "text": [
      "Step [3999/10000], Training Loss: 0.0006, Validation Loss: 0.0006\n"
     ]
    },
    {
     "name": "stderr",
     "output_type": "stream",
     "text": [
      " 51%|█████     | 5078/10000 [00:20<00:15, 325.02it/s]"
     ]
    },
    {
     "name": "stdout",
     "output_type": "stream",
     "text": [
      "Step [4999/10000], Training Loss: 0.0004, Validation Loss: 0.0004\n"
     ]
    },
    {
     "name": "stderr",
     "output_type": "stream",
     "text": [
      " 61%|██████    | 6059/10000 [00:22<00:09, 428.30it/s]"
     ]
    },
    {
     "name": "stdout",
     "output_type": "stream",
     "text": [
      "Step [5999/10000], Training Loss: 0.0004, Validation Loss: 0.0004\n"
     ]
    },
    {
     "name": "stderr",
     "output_type": "stream",
     "text": [
      " 71%|███████   | 7071/10000 [00:26<00:05, 520.93it/s]"
     ]
    },
    {
     "name": "stdout",
     "output_type": "stream",
     "text": [
      "Step [6999/10000], Training Loss: 0.0003, Validation Loss: 0.0003\n"
     ]
    },
    {
     "name": "stderr",
     "output_type": "stream",
     "text": [
      " 81%|████████  | 8051/10000 [00:29<00:05, 330.48it/s]"
     ]
    },
    {
     "name": "stdout",
     "output_type": "stream",
     "text": [
      "Step [7999/10000], Training Loss: 0.0003, Validation Loss: 0.0003\n"
     ]
    },
    {
     "name": "stderr",
     "output_type": "stream",
     "text": [
      " 90%|█████████ | 9041/10000 [00:32<00:03, 269.05it/s]"
     ]
    },
    {
     "name": "stdout",
     "output_type": "stream",
     "text": [
      "Step [8999/10000], Training Loss: 0.0003, Validation Loss: 0.0003\n"
     ]
    },
    {
     "name": "stderr",
     "output_type": "stream",
     "text": [
      "100%|██████████| 10000/10000 [00:36<00:00, 274.77it/s]\n"
     ]
    },
    {
     "name": "stdout",
     "output_type": "stream",
     "text": [
      "Step [9999/10000], Training Loss: 0.0003, Validation Loss: 0.0003\n",
      "Training Loss: 0.0003\n",
      "Mean Euler Error: 1.6331e-06\n",
      "Number of parameters Z_t55: 109\n"
     ]
    },
    {
     "name": "stderr",
     "output_type": "stream",
     "text": [
      "  0%|          | 16/10000 [00:00<01:03, 158.40it/s]"
     ]
    },
    {
     "name": "stdout",
     "output_type": "stream",
     "text": [
      "Step [0/10000], Training Loss: 5.5477, Validation Loss: 5.4244\n"
     ]
    },
    {
     "name": "stderr",
     "output_type": "stream",
     "text": [
      " 10%|█         | 1011/10000 [00:03<00:25, 346.89it/s]"
     ]
    },
    {
     "name": "stdout",
     "output_type": "stream",
     "text": [
      "Step [999/10000], Training Loss: 5.3074, Validation Loss: 5.2607\n"
     ]
    },
    {
     "name": "stderr",
     "output_type": "stream",
     "text": [
      " 20%|██        | 2026/10000 [00:06<00:35, 226.88it/s]"
     ]
    },
    {
     "name": "stdout",
     "output_type": "stream",
     "text": [
      "Step [1999/10000], Training Loss: 5.3295, Validation Loss: 5.2454\n"
     ]
    },
    {
     "name": "stderr",
     "output_type": "stream",
     "text": [
      " 31%|███       | 3121/10000 [00:10<00:15, 432.37it/s]"
     ]
    },
    {
     "name": "stdout",
     "output_type": "stream",
     "text": [
      "Step [2999/10000], Training Loss: 5.2911, Validation Loss: 5.2868\n"
     ]
    },
    {
     "name": "stderr",
     "output_type": "stream",
     "text": [
      " 40%|████      | 4032/10000 [00:12<00:20, 291.77it/s]"
     ]
    },
    {
     "name": "stdout",
     "output_type": "stream",
     "text": [
      "Step [3999/10000], Training Loss: 5.1151, Validation Loss: 5.3058\n"
     ]
    },
    {
     "name": "stderr",
     "output_type": "stream",
     "text": [
      " 50%|█████     | 5044/10000 [00:16<00:13, 375.51it/s]"
     ]
    },
    {
     "name": "stdout",
     "output_type": "stream",
     "text": [
      "Step [4999/10000], Training Loss: 5.2939, Validation Loss: 5.2771\n"
     ]
    },
    {
     "name": "stderr",
     "output_type": "stream",
     "text": [
      " 61%|██████    | 6056/10000 [00:20<00:15, 257.87it/s]"
     ]
    },
    {
     "name": "stdout",
     "output_type": "stream",
     "text": [
      "Step [5999/10000], Training Loss: 5.2704, Validation Loss: 5.2132\n"
     ]
    },
    {
     "name": "stderr",
     "output_type": "stream",
     "text": [
      " 71%|███████   | 7074/10000 [00:22<00:06, 467.87it/s]"
     ]
    },
    {
     "name": "stdout",
     "output_type": "stream",
     "text": [
      "Step [6999/10000], Training Loss: 5.3451, Validation Loss: 5.2401\n"
     ]
    },
    {
     "name": "stderr",
     "output_type": "stream",
     "text": [
      " 81%|████████  | 8055/10000 [00:25<00:07, 260.72it/s]"
     ]
    },
    {
     "name": "stdout",
     "output_type": "stream",
     "text": [
      "Step [7999/10000], Training Loss: 5.3099, Validation Loss: 5.2588\n"
     ]
    },
    {
     "name": "stderr",
     "output_type": "stream",
     "text": [
      " 90%|█████████ | 9037/10000 [00:29<00:03, 316.80it/s]"
     ]
    },
    {
     "name": "stdout",
     "output_type": "stream",
     "text": [
      "Step [8999/10000], Training Loss: 5.1794, Validation Loss: 5.2317\n"
     ]
    },
    {
     "name": "stderr",
     "output_type": "stream",
     "text": [
      "100%|██████████| 10000/10000 [00:32<00:00, 307.46it/s]\n"
     ]
    },
    {
     "name": "stdout",
     "output_type": "stream",
     "text": [
      "Step [9999/10000], Training Loss: 5.3106, Validation Loss: 5.2777\n",
      "Training Loss: 5.1910\n",
      "Number of parameters Y_t55: 109\n"
     ]
    },
    {
     "name": "stderr",
     "output_type": "stream",
     "text": [
      "  0%|          | 0/10000 [00:00<?, ?it/s]"
     ]
    },
    {
     "name": "stdout",
     "output_type": "stream",
     "text": [
      "Step [0/10000], Training Loss: 0.3162, Validation Loss: 0.3174\n"
     ]
    },
    {
     "name": "stderr",
     "output_type": "stream",
     "text": [
      " 11%|█         | 1062/10000 [00:03<00:27, 326.72it/s]"
     ]
    },
    {
     "name": "stdout",
     "output_type": "stream",
     "text": [
      "Step [999/10000], Training Loss: 0.0033, Validation Loss: 0.0033\n"
     ]
    },
    {
     "name": "stderr",
     "output_type": "stream",
     "text": [
      " 20%|██        | 2043/10000 [00:06<00:29, 271.32it/s]"
     ]
    },
    {
     "name": "stdout",
     "output_type": "stream",
     "text": [
      "Step [1999/10000], Training Loss: 0.0006, Validation Loss: 0.0006\n"
     ]
    },
    {
     "name": "stderr",
     "output_type": "stream",
     "text": [
      " 30%|███       | 3023/10000 [00:10<00:24, 286.91it/s]"
     ]
    },
    {
     "name": "stdout",
     "output_type": "stream",
     "text": [
      "Step [2999/10000], Training Loss: 0.0004, Validation Loss: 0.0004\n"
     ]
    },
    {
     "name": "stderr",
     "output_type": "stream",
     "text": [
      " 40%|████      | 4025/10000 [00:14<00:31, 187.36it/s]"
     ]
    },
    {
     "name": "stdout",
     "output_type": "stream",
     "text": [
      "Step [3999/10000], Training Loss: 0.0004, Validation Loss: 0.0004\n"
     ]
    },
    {
     "name": "stderr",
     "output_type": "stream",
     "text": [
      " 51%|█████     | 5058/10000 [00:18<00:14, 343.91it/s]"
     ]
    },
    {
     "name": "stdout",
     "output_type": "stream",
     "text": [
      "Step [4999/10000], Training Loss: 0.0004, Validation Loss: 0.0004\n"
     ]
    },
    {
     "name": "stderr",
     "output_type": "stream",
     "text": [
      " 60%|█████▉    | 5992/10000 [00:22<00:12, 314.21it/s]"
     ]
    },
    {
     "name": "stdout",
     "output_type": "stream",
     "text": [
      "Step [5999/10000], Training Loss: 0.0003, Validation Loss: 0.0003\n"
     ]
    },
    {
     "name": "stderr",
     "output_type": "stream",
     "text": [
      " 70%|███████   | 7019/10000 [00:26<00:10, 287.28it/s]"
     ]
    },
    {
     "name": "stdout",
     "output_type": "stream",
     "text": [
      "Step [6999/10000], Training Loss: 0.0003, Validation Loss: 0.0003\n"
     ]
    },
    {
     "name": "stderr",
     "output_type": "stream",
     "text": [
      " 81%|████████  | 8109/10000 [00:29<00:04, 436.52it/s]"
     ]
    },
    {
     "name": "stdout",
     "output_type": "stream",
     "text": [
      "Step [7999/10000], Training Loss: 0.0003, Validation Loss: 0.0003\n"
     ]
    },
    {
     "name": "stderr",
     "output_type": "stream",
     "text": [
      " 91%|█████████ | 9082/10000 [00:33<00:02, 394.94it/s]"
     ]
    },
    {
     "name": "stdout",
     "output_type": "stream",
     "text": [
      "Step [8999/10000], Training Loss: 0.0003, Validation Loss: 0.0003\n"
     ]
    },
    {
     "name": "stderr",
     "output_type": "stream",
     "text": [
      "100%|██████████| 10000/10000 [00:37<00:00, 266.79it/s]\n"
     ]
    },
    {
     "name": "stdout",
     "output_type": "stream",
     "text": [
      "Step [9999/10000], Training Loss: 0.0003, Validation Loss: 0.0003\n",
      "Training Loss: 0.0003\n",
      "Mean Euler Error: 1.6219e-06\n",
      "Number of parameters Z_t54: 109\n"
     ]
    },
    {
     "name": "stderr",
     "output_type": "stream",
     "text": [
      "  0%|          | 0/10000 [00:00<?, ?it/s]"
     ]
    },
    {
     "name": "stdout",
     "output_type": "stream",
     "text": [
      "Step [0/10000], Training Loss: 5.3049, Validation Loss: 5.2644\n"
     ]
    },
    {
     "name": "stderr",
     "output_type": "stream",
     "text": [
      " 11%|█         | 1077/10000 [00:03<00:27, 321.25it/s]"
     ]
    },
    {
     "name": "stdout",
     "output_type": "stream",
     "text": [
      "Step [999/10000], Training Loss: 5.2100, Validation Loss: 5.1417\n"
     ]
    },
    {
     "name": "stderr",
     "output_type": "stream",
     "text": [
      " 20%|██        | 2024/10000 [00:05<00:26, 304.33it/s]"
     ]
    },
    {
     "name": "stdout",
     "output_type": "stream",
     "text": [
      "Step [1999/10000], Training Loss: 5.2256, Validation Loss: 5.1721\n"
     ]
    },
    {
     "name": "stderr",
     "output_type": "stream",
     "text": [
      " 30%|███       | 3024/10000 [00:09<00:25, 269.23it/s]"
     ]
    },
    {
     "name": "stdout",
     "output_type": "stream",
     "text": [
      "Step [2999/10000], Training Loss: 5.1753, Validation Loss: 5.1415\n"
     ]
    },
    {
     "name": "stderr",
     "output_type": "stream",
     "text": [
      " 40%|████      | 4039/10000 [00:12<00:16, 372.39it/s]"
     ]
    },
    {
     "name": "stdout",
     "output_type": "stream",
     "text": [
      "Step [3999/10000], Training Loss: 5.2909, Validation Loss: 5.2301\n"
     ]
    },
    {
     "name": "stderr",
     "output_type": "stream",
     "text": [
      " 51%|█████     | 5059/10000 [00:16<00:16, 299.40it/s]"
     ]
    },
    {
     "name": "stdout",
     "output_type": "stream",
     "text": [
      "Step [4999/10000], Training Loss: 5.2779, Validation Loss: 5.1209\n"
     ]
    },
    {
     "name": "stderr",
     "output_type": "stream",
     "text": [
      " 60%|██████    | 6045/10000 [00:20<00:16, 244.12it/s]"
     ]
    },
    {
     "name": "stdout",
     "output_type": "stream",
     "text": [
      "Step [5999/10000], Training Loss: 5.2496, Validation Loss: 5.2620\n"
     ]
    },
    {
     "name": "stderr",
     "output_type": "stream",
     "text": [
      " 71%|███████   | 7058/10000 [00:23<00:09, 323.79it/s]"
     ]
    },
    {
     "name": "stdout",
     "output_type": "stream",
     "text": [
      "Step [6999/10000], Training Loss: 5.2602, Validation Loss: 5.2796\n"
     ]
    },
    {
     "name": "stderr",
     "output_type": "stream",
     "text": [
      " 80%|████████  | 8035/10000 [00:27<00:07, 274.86it/s]"
     ]
    },
    {
     "name": "stdout",
     "output_type": "stream",
     "text": [
      "Step [7999/10000], Training Loss: 5.2342, Validation Loss: 5.1448\n"
     ]
    },
    {
     "name": "stderr",
     "output_type": "stream",
     "text": [
      " 90%|█████████ | 9026/10000 [00:31<00:04, 241.86it/s]"
     ]
    },
    {
     "name": "stdout",
     "output_type": "stream",
     "text": [
      "Step [8999/10000], Training Loss: 5.1946, Validation Loss: 5.3047\n"
     ]
    },
    {
     "name": "stderr",
     "output_type": "stream",
     "text": [
      "100%|█████████▉| 9999/10000 [00:35<00:00, 283.68it/s]\n"
     ]
    },
    {
     "name": "stdout",
     "output_type": "stream",
     "text": [
      "Step [9999/10000], Training Loss: 5.2229, Validation Loss: 5.2354\n",
      "Training Loss: 5.2027\n",
      "Number of parameters Y_t54: 109\n"
     ]
    },
    {
     "name": "stderr",
     "output_type": "stream",
     "text": [
      "  0%|          | 0/10000 [00:00<?, ?it/s]"
     ]
    },
    {
     "name": "stdout",
     "output_type": "stream",
     "text": [
      "Step [0/10000], Training Loss: 0.0283, Validation Loss: 0.0280\n"
     ]
    },
    {
     "name": "stderr",
     "output_type": "stream",
     "text": [
      " 10%|█         | 1041/10000 [00:02<00:30, 290.07it/s]"
     ]
    },
    {
     "name": "stdout",
     "output_type": "stream",
     "text": [
      "Step [999/10000], Training Loss: 0.0013, Validation Loss: 0.0013\n"
     ]
    },
    {
     "name": "stderr",
     "output_type": "stream",
     "text": [
      " 20%|██        | 2042/10000 [00:06<00:31, 255.42it/s]"
     ]
    },
    {
     "name": "stdout",
     "output_type": "stream",
     "text": [
      "Step [1999/10000], Training Loss: 0.0004, Validation Loss: 0.0004\n"
     ]
    },
    {
     "name": "stderr",
     "output_type": "stream",
     "text": [
      " 31%|███       | 3104/10000 [00:10<00:16, 422.54it/s]"
     ]
    },
    {
     "name": "stdout",
     "output_type": "stream",
     "text": [
      "Step [2999/10000], Training Loss: 0.0004, Validation Loss: 0.0004\n"
     ]
    },
    {
     "name": "stderr",
     "output_type": "stream",
     "text": [
      " 40%|████      | 4041/10000 [00:13<00:20, 288.51it/s]"
     ]
    },
    {
     "name": "stdout",
     "output_type": "stream",
     "text": [
      "Step [3999/10000], Training Loss: 0.0003, Validation Loss: 0.0003\n"
     ]
    },
    {
     "name": "stderr",
     "output_type": "stream",
     "text": [
      " 50%|█████     | 5024/10000 [00:17<00:22, 222.92it/s]"
     ]
    },
    {
     "name": "stdout",
     "output_type": "stream",
     "text": [
      "Step [4999/10000], Training Loss: 0.0003, Validation Loss: 0.0003\n"
     ]
    },
    {
     "name": "stderr",
     "output_type": "stream",
     "text": [
      " 60%|██████    | 6010/10000 [00:20<00:11, 334.70it/s]"
     ]
    },
    {
     "name": "stdout",
     "output_type": "stream",
     "text": [
      "Step [5999/10000], Training Loss: 0.0003, Validation Loss: 0.0003\n"
     ]
    },
    {
     "name": "stderr",
     "output_type": "stream",
     "text": [
      " 71%|███████   | 7054/10000 [00:24<00:08, 344.54it/s]"
     ]
    },
    {
     "name": "stdout",
     "output_type": "stream",
     "text": [
      "Step [6999/10000], Training Loss: 0.0003, Validation Loss: 0.0003\n"
     ]
    },
    {
     "name": "stderr",
     "output_type": "stream",
     "text": [
      " 80%|████████  | 8017/10000 [00:27<00:07, 272.56it/s]"
     ]
    },
    {
     "name": "stdout",
     "output_type": "stream",
     "text": [
      "Step [7999/10000], Training Loss: 0.0003, Validation Loss: 0.0003\n"
     ]
    },
    {
     "name": "stderr",
     "output_type": "stream",
     "text": [
      " 90%|█████████ | 9041/10000 [00:30<00:03, 297.45it/s]"
     ]
    },
    {
     "name": "stdout",
     "output_type": "stream",
     "text": [
      "Step [8999/10000], Training Loss: 0.0003, Validation Loss: 0.0003\n"
     ]
    },
    {
     "name": "stderr",
     "output_type": "stream",
     "text": [
      "100%|██████████| 10000/10000 [00:34<00:00, 292.06it/s]\n"
     ]
    },
    {
     "name": "stdout",
     "output_type": "stream",
     "text": [
      "Step [9999/10000], Training Loss: 0.0003, Validation Loss: 0.0003\n",
      "Training Loss: 0.0003\n",
      "Mean Euler Error: 7.8359e-07\n",
      "Number of parameters Z_t53: 109\n"
     ]
    },
    {
     "name": "stderr",
     "output_type": "stream",
     "text": [
      "  0%|          | 0/10000 [00:00<?, ?it/s]"
     ]
    },
    {
     "name": "stdout",
     "output_type": "stream",
     "text": [
      "Step [0/10000], Training Loss: 5.6759, Validation Loss: 5.5885\n"
     ]
    },
    {
     "name": "stderr",
     "output_type": "stream",
     "text": [
      " 11%|█         | 1057/10000 [00:04<00:26, 339.66it/s]"
     ]
    },
    {
     "name": "stdout",
     "output_type": "stream",
     "text": [
      "Step [999/10000], Training Loss: 5.3029, Validation Loss: 5.2510\n"
     ]
    },
    {
     "name": "stderr",
     "output_type": "stream",
     "text": [
      " 20%|██        | 2044/10000 [00:07<00:32, 244.62it/s]"
     ]
    },
    {
     "name": "stdout",
     "output_type": "stream",
     "text": [
      "Step [1999/10000], Training Loss: 5.2098, Validation Loss: 5.1868\n"
     ]
    },
    {
     "name": "stderr",
     "output_type": "stream",
     "text": [
      " 30%|███       | 3028/10000 [00:10<00:29, 239.49it/s]"
     ]
    },
    {
     "name": "stdout",
     "output_type": "stream",
     "text": [
      "Step [2999/10000], Training Loss: 5.2178, Validation Loss: 5.1757\n"
     ]
    },
    {
     "name": "stderr",
     "output_type": "stream",
     "text": [
      " 40%|████      | 4018/10000 [00:13<00:23, 257.61it/s]"
     ]
    },
    {
     "name": "stdout",
     "output_type": "stream",
     "text": [
      "Step [3999/10000], Training Loss: 5.2325, Validation Loss: 5.2024\n"
     ]
    },
    {
     "name": "stderr",
     "output_type": "stream",
     "text": [
      " 50%|█████     | 5018/10000 [00:17<00:21, 236.22it/s]"
     ]
    },
    {
     "name": "stdout",
     "output_type": "stream",
     "text": [
      "Step [4999/10000], Training Loss: 5.3090, Validation Loss: 5.1657\n"
     ]
    },
    {
     "name": "stderr",
     "output_type": "stream",
     "text": [
      " 61%|██████    | 6055/10000 [00:21<00:13, 282.13it/s]"
     ]
    },
    {
     "name": "stdout",
     "output_type": "stream",
     "text": [
      "Step [5999/10000], Training Loss: 5.2477, Validation Loss: 5.2213\n"
     ]
    },
    {
     "name": "stderr",
     "output_type": "stream",
     "text": [
      " 70%|███████   | 7005/10000 [00:23<00:08, 347.71it/s]"
     ]
    },
    {
     "name": "stdout",
     "output_type": "stream",
     "text": [
      "Step [6999/10000], Training Loss: 5.1390, Validation Loss: 5.1651\n"
     ]
    },
    {
     "name": "stderr",
     "output_type": "stream",
     "text": [
      " 81%|████████  | 8078/10000 [00:27<00:04, 411.97it/s]"
     ]
    },
    {
     "name": "stdout",
     "output_type": "stream",
     "text": [
      "Step [7999/10000], Training Loss: 5.2731, Validation Loss: 5.1283\n"
     ]
    },
    {
     "name": "stderr",
     "output_type": "stream",
     "text": [
      " 90%|█████████ | 9038/10000 [00:31<00:03, 286.52it/s]"
     ]
    },
    {
     "name": "stdout",
     "output_type": "stream",
     "text": [
      "Step [8999/10000], Training Loss: 5.1852, Validation Loss: 5.1856\n"
     ]
    },
    {
     "name": "stderr",
     "output_type": "stream",
     "text": [
      "100%|██████████| 10000/10000 [00:34<00:00, 292.62it/s]\n"
     ]
    },
    {
     "name": "stdout",
     "output_type": "stream",
     "text": [
      "Step [9999/10000], Training Loss: 5.1662, Validation Loss: 5.2055\n",
      "Training Loss: 5.2085\n",
      "Number of parameters Y_t53: 109\n"
     ]
    },
    {
     "name": "stderr",
     "output_type": "stream",
     "text": [
      "  0%|          | 0/10000 [00:00<?, ?it/s]"
     ]
    },
    {
     "name": "stdout",
     "output_type": "stream",
     "text": [
      "Step [0/10000], Training Loss: 0.0175, Validation Loss: 0.0175\n"
     ]
    },
    {
     "name": "stderr",
     "output_type": "stream",
     "text": [
      " 11%|█         | 1055/10000 [00:03<00:28, 317.99it/s]"
     ]
    },
    {
     "name": "stdout",
     "output_type": "stream",
     "text": [
      "Step [999/10000], Training Loss: 0.0022, Validation Loss: 0.0021\n"
     ]
    },
    {
     "name": "stderr",
     "output_type": "stream",
     "text": [
      " 20%|██        | 2047/10000 [00:07<00:33, 237.29it/s]"
     ]
    },
    {
     "name": "stdout",
     "output_type": "stream",
     "text": [
      "Step [1999/10000], Training Loss: 0.0005, Validation Loss: 0.0005\n"
     ]
    },
    {
     "name": "stderr",
     "output_type": "stream",
     "text": [
      " 30%|███       | 3029/10000 [00:10<00:14, 466.46it/s]"
     ]
    },
    {
     "name": "stdout",
     "output_type": "stream",
     "text": [
      "Step [2999/10000], Training Loss: 0.0004, Validation Loss: 0.0004\n"
     ]
    },
    {
     "name": "stderr",
     "output_type": "stream",
     "text": [
      " 40%|████      | 4021/10000 [00:13<00:17, 333.75it/s]"
     ]
    },
    {
     "name": "stdout",
     "output_type": "stream",
     "text": [
      "Step [3999/10000], Training Loss: 0.0003, Validation Loss: 0.0003\n"
     ]
    },
    {
     "name": "stderr",
     "output_type": "stream",
     "text": [
      " 51%|█████     | 5054/10000 [00:17<00:16, 306.33it/s]"
     ]
    },
    {
     "name": "stdout",
     "output_type": "stream",
     "text": [
      "Step [4999/10000], Training Loss: 0.0003, Validation Loss: 0.0003\n"
     ]
    },
    {
     "name": "stderr",
     "output_type": "stream",
     "text": [
      " 60%|██████    | 6026/10000 [00:20<00:10, 373.78it/s]"
     ]
    },
    {
     "name": "stdout",
     "output_type": "stream",
     "text": [
      "Step [5999/10000], Training Loss: 0.0003, Validation Loss: 0.0003\n"
     ]
    },
    {
     "name": "stderr",
     "output_type": "stream",
     "text": [
      " 71%|███████   | 7066/10000 [00:24<00:07, 370.04it/s]"
     ]
    },
    {
     "name": "stdout",
     "output_type": "stream",
     "text": [
      "Step [6999/10000], Training Loss: 0.0003, Validation Loss: 0.0003\n"
     ]
    },
    {
     "name": "stderr",
     "output_type": "stream",
     "text": [
      " 80%|████████  | 8024/10000 [00:27<00:06, 326.84it/s]"
     ]
    },
    {
     "name": "stdout",
     "output_type": "stream",
     "text": [
      "Step [7999/10000], Training Loss: 0.0003, Validation Loss: 0.0003\n"
     ]
    },
    {
     "name": "stderr",
     "output_type": "stream",
     "text": [
      " 90%|█████████ | 9048/10000 [00:31<00:03, 316.60it/s]"
     ]
    },
    {
     "name": "stdout",
     "output_type": "stream",
     "text": [
      "Step [8999/10000], Training Loss: 0.0003, Validation Loss: 0.0003\n"
     ]
    },
    {
     "name": "stderr",
     "output_type": "stream",
     "text": [
      "100%|██████████| 10000/10000 [00:35<00:00, 279.99it/s]\n"
     ]
    },
    {
     "name": "stdout",
     "output_type": "stream",
     "text": [
      "Step [9999/10000], Training Loss: 0.0003, Validation Loss: 0.0003\n",
      "Training Loss: 0.0003\n",
      "Mean Euler Error: 9.5280e-07\n",
      "Number of parameters Z_t52: 109\n"
     ]
    },
    {
     "name": "stderr",
     "output_type": "stream",
     "text": [
      "  0%|          | 0/10000 [00:00<?, ?it/s]"
     ]
    },
    {
     "name": "stdout",
     "output_type": "stream",
     "text": [
      "Step [0/10000], Training Loss: 5.3191, Validation Loss: 5.2174\n"
     ]
    },
    {
     "name": "stderr",
     "output_type": "stream",
     "text": [
      " 10%|█         | 1022/10000 [00:03<00:38, 234.54it/s]"
     ]
    },
    {
     "name": "stdout",
     "output_type": "stream",
     "text": [
      "Step [999/10000], Training Loss: 5.1392, Validation Loss: 5.2876\n"
     ]
    },
    {
     "name": "stderr",
     "output_type": "stream",
     "text": [
      " 20%|██        | 2045/10000 [00:07<00:33, 240.37it/s]"
     ]
    },
    {
     "name": "stdout",
     "output_type": "stream",
     "text": [
      "Step [1999/10000], Training Loss: 5.2034, Validation Loss: 5.2606\n"
     ]
    },
    {
     "name": "stderr",
     "output_type": "stream",
     "text": [
      " 30%|███       | 3044/10000 [00:10<00:25, 274.39it/s]"
     ]
    },
    {
     "name": "stdout",
     "output_type": "stream",
     "text": [
      "Step [2999/10000], Training Loss: 5.1866, Validation Loss: 5.2084\n"
     ]
    },
    {
     "name": "stderr",
     "output_type": "stream",
     "text": [
      " 41%|████      | 4064/10000 [00:13<00:17, 348.66it/s]"
     ]
    },
    {
     "name": "stdout",
     "output_type": "stream",
     "text": [
      "Step [3999/10000], Training Loss: 5.1554, Validation Loss: 5.2093\n"
     ]
    },
    {
     "name": "stderr",
     "output_type": "stream",
     "text": [
      " 51%|█████     | 5056/10000 [00:17<00:19, 251.85it/s]"
     ]
    },
    {
     "name": "stdout",
     "output_type": "stream",
     "text": [
      "Step [4999/10000], Training Loss: 5.2647, Validation Loss: 5.1962\n"
     ]
    },
    {
     "name": "stderr",
     "output_type": "stream",
     "text": [
      " 60%|██████    | 6023/10000 [00:21<00:21, 182.99it/s]"
     ]
    },
    {
     "name": "stdout",
     "output_type": "stream",
     "text": [
      "Step [5999/10000], Training Loss: 5.1599, Validation Loss: 5.1578\n"
     ]
    },
    {
     "name": "stderr",
     "output_type": "stream",
     "text": [
      " 70%|███████   | 7017/10000 [00:25<00:13, 217.41it/s]"
     ]
    },
    {
     "name": "stdout",
     "output_type": "stream",
     "text": [
      "Step [6999/10000], Training Loss: 5.2696, Validation Loss: 5.1626\n"
     ]
    },
    {
     "name": "stderr",
     "output_type": "stream",
     "text": [
      " 80%|████████  | 8033/10000 [00:29<00:08, 220.33it/s]"
     ]
    },
    {
     "name": "stdout",
     "output_type": "stream",
     "text": [
      "Step [7999/10000], Training Loss: 5.1713, Validation Loss: 5.2790\n"
     ]
    },
    {
     "name": "stderr",
     "output_type": "stream",
     "text": [
      " 90%|█████████ | 9033/10000 [00:33<00:03, 260.48it/s]"
     ]
    },
    {
     "name": "stdout",
     "output_type": "stream",
     "text": [
      "Step [8999/10000], Training Loss: 5.1880, Validation Loss: 5.1915\n"
     ]
    },
    {
     "name": "stderr",
     "output_type": "stream",
     "text": [
      "100%|██████████| 10000/10000 [00:36<00:00, 271.32it/s]\n"
     ]
    },
    {
     "name": "stdout",
     "output_type": "stream",
     "text": [
      "Step [9999/10000], Training Loss: 5.1936, Validation Loss: 5.2317\n",
      "Training Loss: 5.1741\n",
      "Number of parameters Y_t52: 109\n"
     ]
    },
    {
     "name": "stderr",
     "output_type": "stream",
     "text": [
      "  0%|          | 0/10000 [00:00<?, ?it/s]"
     ]
    },
    {
     "name": "stdout",
     "output_type": "stream",
     "text": [
      "Step [0/10000], Training Loss: 0.2800, Validation Loss: 0.2793\n"
     ]
    },
    {
     "name": "stderr",
     "output_type": "stream",
     "text": [
      " 10%|█         | 1033/10000 [00:04<00:55, 162.11it/s]"
     ]
    },
    {
     "name": "stdout",
     "output_type": "stream",
     "text": [
      "Step [999/10000], Training Loss: 0.0013, Validation Loss: 0.0013\n"
     ]
    },
    {
     "name": "stderr",
     "output_type": "stream",
     "text": [
      " 20%|██        | 2046/10000 [00:09<00:38, 205.02it/s]"
     ]
    },
    {
     "name": "stdout",
     "output_type": "stream",
     "text": [
      "Step [1999/10000], Training Loss: 0.0004, Validation Loss: 0.0004\n"
     ]
    },
    {
     "name": "stderr",
     "output_type": "stream",
     "text": [
      " 30%|███       | 3042/10000 [00:12<00:24, 281.62it/s]"
     ]
    },
    {
     "name": "stdout",
     "output_type": "stream",
     "text": [
      "Step [2999/10000], Training Loss: 0.0003, Validation Loss: 0.0003\n"
     ]
    },
    {
     "name": "stderr",
     "output_type": "stream",
     "text": [
      " 41%|████      | 4059/10000 [00:16<00:16, 361.42it/s]"
     ]
    },
    {
     "name": "stdout",
     "output_type": "stream",
     "text": [
      "Step [3999/10000], Training Loss: 0.0003, Validation Loss: 0.0003\n"
     ]
    },
    {
     "name": "stderr",
     "output_type": "stream",
     "text": [
      " 50%|█████     | 5041/10000 [00:20<00:21, 231.33it/s]"
     ]
    },
    {
     "name": "stdout",
     "output_type": "stream",
     "text": [
      "Step [4999/10000], Training Loss: 0.0003, Validation Loss: 0.0003\n"
     ]
    },
    {
     "name": "stderr",
     "output_type": "stream",
     "text": [
      " 60%|██████    | 6006/10000 [00:24<00:12, 317.21it/s]"
     ]
    },
    {
     "name": "stdout",
     "output_type": "stream",
     "text": [
      "Step [5999/10000], Training Loss: 0.0003, Validation Loss: 0.0003\n"
     ]
    },
    {
     "name": "stderr",
     "output_type": "stream",
     "text": [
      " 70%|███████   | 7037/10000 [00:27<00:10, 289.99it/s]"
     ]
    },
    {
     "name": "stdout",
     "output_type": "stream",
     "text": [
      "Step [6999/10000], Training Loss: 0.0003, Validation Loss: 0.0003\n"
     ]
    },
    {
     "name": "stderr",
     "output_type": "stream",
     "text": [
      " 80%|████████  | 8039/10000 [00:31<00:06, 304.54it/s]"
     ]
    },
    {
     "name": "stdout",
     "output_type": "stream",
     "text": [
      "Step [7999/10000], Training Loss: 0.0003, Validation Loss: 0.0003\n"
     ]
    },
    {
     "name": "stderr",
     "output_type": "stream",
     "text": [
      " 90%|█████████ | 9012/10000 [00:35<00:04, 203.65it/s]"
     ]
    },
    {
     "name": "stdout",
     "output_type": "stream",
     "text": [
      "Step [8999/10000], Training Loss: 0.0003, Validation Loss: 0.0003\n"
     ]
    },
    {
     "name": "stderr",
     "output_type": "stream",
     "text": [
      "100%|██████████| 10000/10000 [00:39<00:00, 255.57it/s]\n"
     ]
    },
    {
     "name": "stdout",
     "output_type": "stream",
     "text": [
      "Step [9999/10000], Training Loss: 0.0003, Validation Loss: 0.0003\n",
      "Training Loss: 0.0003\n",
      "Mean Euler Error: 2.7943e-06\n",
      "Number of parameters Z_t51: 109\n"
     ]
    },
    {
     "name": "stderr",
     "output_type": "stream",
     "text": [
      "  0%|          | 17/10000 [00:00<00:59, 168.48it/s]"
     ]
    },
    {
     "name": "stdout",
     "output_type": "stream",
     "text": [
      "Step [0/10000], Training Loss: 5.1060, Validation Loss: 5.1939\n"
     ]
    },
    {
     "name": "stderr",
     "output_type": "stream",
     "text": [
      " 11%|█         | 1060/10000 [00:03<00:21, 406.53it/s]"
     ]
    },
    {
     "name": "stdout",
     "output_type": "stream",
     "text": [
      "Step [999/10000], Training Loss: 5.1990, Validation Loss: 5.1608\n"
     ]
    },
    {
     "name": "stderr",
     "output_type": "stream",
     "text": [
      " 20%|██        | 2043/10000 [00:07<00:27, 287.91it/s]"
     ]
    },
    {
     "name": "stdout",
     "output_type": "stream",
     "text": [
      "Step [1999/10000], Training Loss: 5.1906, Validation Loss: 5.1346\n"
     ]
    },
    {
     "name": "stderr",
     "output_type": "stream",
     "text": [
      " 30%|███       | 3039/10000 [00:10<00:23, 297.17it/s]"
     ]
    },
    {
     "name": "stdout",
     "output_type": "stream",
     "text": [
      "Step [2999/10000], Training Loss: 5.1943, Validation Loss: 5.1765\n"
     ]
    },
    {
     "name": "stderr",
     "output_type": "stream",
     "text": [
      " 40%|████      | 4034/10000 [00:13<00:18, 320.27it/s]"
     ]
    },
    {
     "name": "stdout",
     "output_type": "stream",
     "text": [
      "Step [3999/10000], Training Loss: 5.1646, Validation Loss: 5.1311\n"
     ]
    },
    {
     "name": "stderr",
     "output_type": "stream",
     "text": [
      " 50%|█████     | 5047/10000 [00:17<00:15, 317.23it/s]"
     ]
    },
    {
     "name": "stdout",
     "output_type": "stream",
     "text": [
      "Step [4999/10000], Training Loss: 5.2481, Validation Loss: 5.1842\n"
     ]
    },
    {
     "name": "stderr",
     "output_type": "stream",
     "text": [
      " 60%|██████    | 6031/10000 [00:20<00:10, 377.88it/s]"
     ]
    },
    {
     "name": "stdout",
     "output_type": "stream",
     "text": [
      "Step [5999/10000], Training Loss: 5.0733, Validation Loss: 5.2335\n"
     ]
    },
    {
     "name": "stderr",
     "output_type": "stream",
     "text": [
      " 70%|███████   | 7041/10000 [00:24<00:10, 272.73it/s]"
     ]
    },
    {
     "name": "stdout",
     "output_type": "stream",
     "text": [
      "Step [6999/10000], Training Loss: 5.1133, Validation Loss: 5.1760\n"
     ]
    },
    {
     "name": "stderr",
     "output_type": "stream",
     "text": [
      " 80%|████████  | 8038/10000 [00:28<00:07, 245.70it/s]"
     ]
    },
    {
     "name": "stdout",
     "output_type": "stream",
     "text": [
      "Step [7999/10000], Training Loss: 5.1854, Validation Loss: 5.2137\n"
     ]
    },
    {
     "name": "stderr",
     "output_type": "stream",
     "text": [
      " 90%|████████▉ | 8999/10000 [00:32<00:03, 277.32it/s]\n"
     ]
    },
    {
     "name": "stdout",
     "output_type": "stream",
     "text": [
      "Step [8999/10000], Training Loss: 5.2043, Validation Loss: 5.1748\n",
      "Training Loss: 5.1054\n",
      "Number of parameters Y_t51: 109\n"
     ]
    },
    {
     "name": "stderr",
     "output_type": "stream",
     "text": [
      "  0%|          | 46/10000 [00:00<00:25, 395.91it/s]"
     ]
    },
    {
     "name": "stdout",
     "output_type": "stream",
     "text": [
      "Step [0/10000], Training Loss: 0.1204, Validation Loss: 0.1195\n"
     ]
    },
    {
     "name": "stderr",
     "output_type": "stream",
     "text": [
      " 10%|█         | 1026/10000 [00:04<00:30, 298.98it/s]"
     ]
    },
    {
     "name": "stdout",
     "output_type": "stream",
     "text": [
      "Step [999/10000], Training Loss: 0.0066, Validation Loss: 0.0065\n"
     ]
    },
    {
     "name": "stderr",
     "output_type": "stream",
     "text": [
      " 21%|██        | 2066/10000 [00:08<00:22, 356.71it/s]"
     ]
    },
    {
     "name": "stdout",
     "output_type": "stream",
     "text": [
      "Step [1999/10000], Training Loss: 0.0012, Validation Loss: 0.0012\n"
     ]
    },
    {
     "name": "stderr",
     "output_type": "stream",
     "text": [
      " 31%|███       | 3060/10000 [00:12<00:23, 292.10it/s]"
     ]
    },
    {
     "name": "stdout",
     "output_type": "stream",
     "text": [
      "Step [2999/10000], Training Loss: 0.0005, Validation Loss: 0.0005\n"
     ]
    },
    {
     "name": "stderr",
     "output_type": "stream",
     "text": [
      " 40%|████      | 4039/10000 [00:16<00:19, 299.87it/s]"
     ]
    },
    {
     "name": "stdout",
     "output_type": "stream",
     "text": [
      "Step [3999/10000], Training Loss: 0.0004, Validation Loss: 0.0004\n"
     ]
    },
    {
     "name": "stderr",
     "output_type": "stream",
     "text": [
      " 50%|█████     | 5047/10000 [00:20<00:22, 216.64it/s]"
     ]
    },
    {
     "name": "stdout",
     "output_type": "stream",
     "text": [
      "Step [4999/10000], Training Loss: 0.0004, Validation Loss: 0.0004\n"
     ]
    },
    {
     "name": "stderr",
     "output_type": "stream",
     "text": [
      " 60%|██████    | 6029/10000 [00:24<00:15, 250.96it/s]"
     ]
    },
    {
     "name": "stdout",
     "output_type": "stream",
     "text": [
      "Step [5999/10000], Training Loss: 0.0003, Validation Loss: 0.0003\n"
     ]
    },
    {
     "name": "stderr",
     "output_type": "stream",
     "text": [
      " 71%|███████   | 7074/10000 [00:28<00:06, 427.50it/s]"
     ]
    },
    {
     "name": "stdout",
     "output_type": "stream",
     "text": [
      "Step [6999/10000], Training Loss: 0.0003, Validation Loss: 0.0003\n"
     ]
    },
    {
     "name": "stderr",
     "output_type": "stream",
     "text": [
      " 81%|████████  | 8055/10000 [00:31<00:07, 273.38it/s]"
     ]
    },
    {
     "name": "stdout",
     "output_type": "stream",
     "text": [
      "Step [7999/10000], Training Loss: 0.0003, Validation Loss: 0.0003\n"
     ]
    },
    {
     "name": "stderr",
     "output_type": "stream",
     "text": [
      " 90%|█████████ | 9035/10000 [00:35<00:04, 193.61it/s]"
     ]
    },
    {
     "name": "stdout",
     "output_type": "stream",
     "text": [
      "Step [8999/10000], Training Loss: 0.0003, Validation Loss: 0.0003\n"
     ]
    },
    {
     "name": "stderr",
     "output_type": "stream",
     "text": [
      "100%|██████████| 10000/10000 [00:39<00:00, 251.17it/s]\n"
     ]
    },
    {
     "name": "stdout",
     "output_type": "stream",
     "text": [
      "Step [9999/10000], Training Loss: 0.0003, Validation Loss: 0.0003\n",
      "Training Loss: 0.0003\n",
      "Mean Euler Error: 3.2030e-06\n",
      "Number of parameters Z_t50: 109\n"
     ]
    },
    {
     "name": "stderr",
     "output_type": "stream",
     "text": [
      "  0%|          | 0/10000 [00:00<?, ?it/s]"
     ]
    },
    {
     "name": "stdout",
     "output_type": "stream",
     "text": [
      "Step [0/10000], Training Loss: 5.2473, Validation Loss: 5.3009\n"
     ]
    },
    {
     "name": "stderr",
     "output_type": "stream",
     "text": [
      " 10%|█         | 1041/10000 [00:03<00:26, 343.36it/s]"
     ]
    },
    {
     "name": "stdout",
     "output_type": "stream",
     "text": [
      "Step [999/10000], Training Loss: 5.1124, Validation Loss: 5.1973\n"
     ]
    },
    {
     "name": "stderr",
     "output_type": "stream",
     "text": [
      " 21%|██        | 2052/10000 [00:06<00:21, 368.98it/s]"
     ]
    },
    {
     "name": "stdout",
     "output_type": "stream",
     "text": [
      "Step [1999/10000], Training Loss: 5.2198, Validation Loss: 5.2184\n"
     ]
    },
    {
     "name": "stderr",
     "output_type": "stream",
     "text": [
      " 30%|███       | 3023/10000 [00:09<00:21, 317.80it/s]"
     ]
    },
    {
     "name": "stdout",
     "output_type": "stream",
     "text": [
      "Step [2999/10000], Training Loss: 5.2270, Validation Loss: 5.1932\n"
     ]
    },
    {
     "name": "stderr",
     "output_type": "stream",
     "text": [
      " 40%|████      | 4003/10000 [00:12<00:27, 216.13it/s]"
     ]
    },
    {
     "name": "stdout",
     "output_type": "stream",
     "text": [
      "Step [3999/10000], Training Loss: 5.1860, Validation Loss: 5.0954\n"
     ]
    },
    {
     "name": "stderr",
     "output_type": "stream",
     "text": [
      " 50%|█████     | 5013/10000 [00:17<00:26, 189.32it/s]"
     ]
    },
    {
     "name": "stdout",
     "output_type": "stream",
     "text": [
      "Step [4999/10000], Training Loss: 5.1211, Validation Loss: 5.1656\n"
     ]
    },
    {
     "name": "stderr",
     "output_type": "stream",
     "text": [
      " 60%|██████    | 6019/10000 [00:21<00:12, 321.38it/s]"
     ]
    },
    {
     "name": "stdout",
     "output_type": "stream",
     "text": [
      "Step [5999/10000], Training Loss: 5.0113, Validation Loss: 5.0460\n"
     ]
    },
    {
     "name": "stderr",
     "output_type": "stream",
     "text": [
      " 70%|███████   | 7043/10000 [00:24<00:09, 314.01it/s]"
     ]
    },
    {
     "name": "stdout",
     "output_type": "stream",
     "text": [
      "Step [6999/10000], Training Loss: 5.2036, Validation Loss: 5.1231\n"
     ]
    },
    {
     "name": "stderr",
     "output_type": "stream",
     "text": [
      " 80%|████████  | 8035/10000 [00:28<00:06, 293.16it/s]"
     ]
    },
    {
     "name": "stdout",
     "output_type": "stream",
     "text": [
      "Step [7999/10000], Training Loss: 5.1935, Validation Loss: 5.0849\n"
     ]
    },
    {
     "name": "stderr",
     "output_type": "stream",
     "text": [
      " 91%|█████████ | 9068/10000 [00:32<00:03, 285.92it/s]"
     ]
    },
    {
     "name": "stdout",
     "output_type": "stream",
     "text": [
      "Step [8999/10000], Training Loss: 5.1851, Validation Loss: 5.0944\n"
     ]
    },
    {
     "name": "stderr",
     "output_type": "stream",
     "text": [
      "100%|██████████| 10000/10000 [00:35<00:00, 281.32it/s]\n"
     ]
    },
    {
     "name": "stdout",
     "output_type": "stream",
     "text": [
      "Step [9999/10000], Training Loss: 5.1330, Validation Loss: 5.1259\n",
      "Training Loss: 5.2496\n",
      "Number of parameters Y_t50: 109\n"
     ]
    },
    {
     "name": "stderr",
     "output_type": "stream",
     "text": [
      "  0%|          | 19/10000 [00:00<00:52, 189.28it/s]"
     ]
    },
    {
     "name": "stdout",
     "output_type": "stream",
     "text": [
      "Step [0/10000], Training Loss: 0.1343, Validation Loss: 0.1344\n"
     ]
    },
    {
     "name": "stderr",
     "output_type": "stream",
     "text": [
      " 11%|█         | 1079/10000 [00:03<00:23, 378.92it/s]"
     ]
    },
    {
     "name": "stdout",
     "output_type": "stream",
     "text": [
      "Step [999/10000], Training Loss: 0.0172, Validation Loss: 0.0172\n"
     ]
    },
    {
     "name": "stderr",
     "output_type": "stream",
     "text": [
      " 20%|██        | 2039/10000 [00:06<00:19, 401.40it/s]"
     ]
    },
    {
     "name": "stdout",
     "output_type": "stream",
     "text": [
      "Step [1999/10000], Training Loss: 0.0048, Validation Loss: 0.0048\n"
     ]
    },
    {
     "name": "stderr",
     "output_type": "stream",
     "text": [
      " 31%|███       | 3072/10000 [00:09<00:18, 378.01it/s]"
     ]
    },
    {
     "name": "stdout",
     "output_type": "stream",
     "text": [
      "Step [2999/10000], Training Loss: 0.0011, Validation Loss: 0.0011\n"
     ]
    },
    {
     "name": "stderr",
     "output_type": "stream",
     "text": [
      " 40%|████      | 4024/10000 [00:12<00:19, 306.18it/s]"
     ]
    },
    {
     "name": "stdout",
     "output_type": "stream",
     "text": [
      "Step [3999/10000], Training Loss: 0.0004, Validation Loss: 0.0004\n"
     ]
    },
    {
     "name": "stderr",
     "output_type": "stream",
     "text": [
      " 50%|█████     | 5047/10000 [00:16<00:16, 298.34it/s]"
     ]
    },
    {
     "name": "stdout",
     "output_type": "stream",
     "text": [
      "Step [4999/10000], Training Loss: 0.0004, Validation Loss: 0.0004\n"
     ]
    },
    {
     "name": "stderr",
     "output_type": "stream",
     "text": [
      " 60%|██████    | 6027/10000 [00:19<00:23, 165.72it/s]"
     ]
    },
    {
     "name": "stdout",
     "output_type": "stream",
     "text": [
      "Step [5999/10000], Training Loss: 0.0004, Validation Loss: 0.0004\n"
     ]
    },
    {
     "name": "stderr",
     "output_type": "stream",
     "text": [
      " 71%|███████   | 7053/10000 [00:23<00:08, 354.18it/s]"
     ]
    },
    {
     "name": "stdout",
     "output_type": "stream",
     "text": [
      "Step [6999/10000], Training Loss: 0.0003, Validation Loss: 0.0003\n"
     ]
    },
    {
     "name": "stderr",
     "output_type": "stream",
     "text": [
      " 80%|████████  | 8049/10000 [00:26<00:05, 363.81it/s]"
     ]
    },
    {
     "name": "stdout",
     "output_type": "stream",
     "text": [
      "Step [7999/10000], Training Loss: 0.0003, Validation Loss: 0.0003\n"
     ]
    },
    {
     "name": "stderr",
     "output_type": "stream",
     "text": [
      " 91%|█████████ | 9056/10000 [00:29<00:02, 346.77it/s]"
     ]
    },
    {
     "name": "stdout",
     "output_type": "stream",
     "text": [
      "Step [8999/10000], Training Loss: 0.0003, Validation Loss: 0.0003\n"
     ]
    },
    {
     "name": "stderr",
     "output_type": "stream",
     "text": [
      "100%|██████████| 10000/10000 [00:32<00:00, 306.34it/s]\n"
     ]
    },
    {
     "name": "stdout",
     "output_type": "stream",
     "text": [
      "Step [9999/10000], Training Loss: 0.0003, Validation Loss: 0.0003\n",
      "Training Loss: 0.0003\n",
      "Mean Euler Error: 6.2524e-06\n",
      "Number of parameters Z_t49: 109\n"
     ]
    },
    {
     "name": "stderr",
     "output_type": "stream",
     "text": [
      "  0%|          | 0/10000 [00:00<?, ?it/s]"
     ]
    },
    {
     "name": "stdout",
     "output_type": "stream",
     "text": [
      "Step [0/10000], Training Loss: 5.0834, Validation Loss: 5.1147\n"
     ]
    },
    {
     "name": "stderr",
     "output_type": "stream",
     "text": [
      " 11%|█         | 1076/10000 [00:02<00:16, 537.80it/s]"
     ]
    },
    {
     "name": "stdout",
     "output_type": "stream",
     "text": [
      "Step [999/10000], Training Loss: 5.1065, Validation Loss: 5.1433\n"
     ]
    },
    {
     "name": "stderr",
     "output_type": "stream",
     "text": [
      " 21%|██        | 2060/10000 [00:05<00:18, 419.85it/s]"
     ]
    },
    {
     "name": "stdout",
     "output_type": "stream",
     "text": [
      "Step [1999/10000], Training Loss: 5.0657, Validation Loss: 5.1992\n"
     ]
    },
    {
     "name": "stderr",
     "output_type": "stream",
     "text": [
      " 30%|███       | 3039/10000 [00:07<00:20, 338.89it/s]"
     ]
    },
    {
     "name": "stdout",
     "output_type": "stream",
     "text": [
      "Step [2999/10000], Training Loss: 5.1410, Validation Loss: 5.1993\n"
     ]
    },
    {
     "name": "stderr",
     "output_type": "stream",
     "text": [
      " 40%|████      | 4031/10000 [00:11<00:21, 273.40it/s]"
     ]
    },
    {
     "name": "stdout",
     "output_type": "stream",
     "text": [
      "Step [3999/10000], Training Loss: 5.1288, Validation Loss: 5.1547\n"
     ]
    },
    {
     "name": "stderr",
     "output_type": "stream",
     "text": [
      " 50%|████▉     | 4999/10000 [00:15<00:15, 332.92it/s]\n"
     ]
    },
    {
     "name": "stdout",
     "output_type": "stream",
     "text": [
      "Step [4999/10000], Training Loss: 5.1245, Validation Loss: 5.1296\n",
      "Training Loss: 5.1555\n",
      "Number of parameters Y_t49: 109\n"
     ]
    },
    {
     "name": "stderr",
     "output_type": "stream",
     "text": [
      "  1%|          | 62/10000 [00:00<00:16, 613.02it/s]"
     ]
    },
    {
     "name": "stdout",
     "output_type": "stream",
     "text": [
      "Step [0/10000], Training Loss: 0.9175, Validation Loss: 0.9194\n"
     ]
    },
    {
     "name": "stderr",
     "output_type": "stream",
     "text": [
      " 10%|█         | 1017/10000 [00:04<00:38, 235.90it/s]"
     ]
    },
    {
     "name": "stdout",
     "output_type": "stream",
     "text": [
      "Step [999/10000], Training Loss: 0.0191, Validation Loss: 0.0194\n"
     ]
    },
    {
     "name": "stderr",
     "output_type": "stream",
     "text": [
      " 20%|██        | 2024/10000 [00:08<00:26, 305.01it/s]"
     ]
    },
    {
     "name": "stdout",
     "output_type": "stream",
     "text": [
      "Step [1999/10000], Training Loss: 0.0117, Validation Loss: 0.0116\n"
     ]
    },
    {
     "name": "stderr",
     "output_type": "stream",
     "text": [
      " 30%|███       | 3033/10000 [00:11<00:15, 437.52it/s]"
     ]
    },
    {
     "name": "stdout",
     "output_type": "stream",
     "text": [
      "Step [2999/10000], Training Loss: 0.0064, Validation Loss: 0.0064\n"
     ]
    },
    {
     "name": "stderr",
     "output_type": "stream",
     "text": [
      " 40%|████      | 4031/10000 [00:14<00:24, 241.85it/s]"
     ]
    },
    {
     "name": "stdout",
     "output_type": "stream",
     "text": [
      "Step [3999/10000], Training Loss: 0.0027, Validation Loss: 0.0027\n"
     ]
    },
    {
     "name": "stderr",
     "output_type": "stream",
     "text": [
      " 50%|█████     | 5050/10000 [00:19<00:16, 296.32it/s]"
     ]
    },
    {
     "name": "stdout",
     "output_type": "stream",
     "text": [
      "Step [4999/10000], Training Loss: 0.0009, Validation Loss: 0.0009\n"
     ]
    },
    {
     "name": "stderr",
     "output_type": "stream",
     "text": [
      " 60%|██████    | 6031/10000 [00:23<00:17, 228.00it/s]"
     ]
    },
    {
     "name": "stdout",
     "output_type": "stream",
     "text": [
      "Step [5999/10000], Training Loss: 0.0005, Validation Loss: 0.0005\n"
     ]
    },
    {
     "name": "stderr",
     "output_type": "stream",
     "text": [
      " 70%|███████   | 7037/10000 [00:26<00:08, 330.65it/s]"
     ]
    },
    {
     "name": "stdout",
     "output_type": "stream",
     "text": [
      "Step [6999/10000], Training Loss: 0.0004, Validation Loss: 0.0004\n"
     ]
    },
    {
     "name": "stderr",
     "output_type": "stream",
     "text": [
      " 80%|████████  | 8036/10000 [00:30<00:07, 262.96it/s]"
     ]
    },
    {
     "name": "stdout",
     "output_type": "stream",
     "text": [
      "Step [7999/10000], Training Loss: 0.0004, Validation Loss: 0.0004\n"
     ]
    },
    {
     "name": "stderr",
     "output_type": "stream",
     "text": [
      " 90%|█████████ | 9036/10000 [00:33<00:02, 340.98it/s]"
     ]
    },
    {
     "name": "stdout",
     "output_type": "stream",
     "text": [
      "Step [8999/10000], Training Loss: 0.0004, Validation Loss: 0.0004\n"
     ]
    },
    {
     "name": "stderr",
     "output_type": "stream",
     "text": [
      "100%|██████████| 10000/10000 [00:37<00:00, 267.05it/s]\n"
     ]
    },
    {
     "name": "stdout",
     "output_type": "stream",
     "text": [
      "Step [9999/10000], Training Loss: 0.0004, Validation Loss: 0.0004\n",
      "Training Loss: 0.0004\n",
      "Mean Euler Error: 3.8152e-05\n",
      "Number of parameters Z_t48: 109\n"
     ]
    },
    {
     "name": "stderr",
     "output_type": "stream",
     "text": [
      "  0%|          | 0/10000 [00:00<?, ?it/s]"
     ]
    },
    {
     "name": "stdout",
     "output_type": "stream",
     "text": [
      "Step [0/10000], Training Loss: 5.3788, Validation Loss: 5.4466\n"
     ]
    },
    {
     "name": "stderr",
     "output_type": "stream",
     "text": [
      " 10%|█         | 1038/10000 [00:03<00:31, 284.44it/s]"
     ]
    },
    {
     "name": "stdout",
     "output_type": "stream",
     "text": [
      "Step [999/10000], Training Loss: 5.0946, Validation Loss: 5.1057\n"
     ]
    },
    {
     "name": "stderr",
     "output_type": "stream",
     "text": [
      " 20%|██        | 2042/10000 [00:07<00:20, 381.83it/s]"
     ]
    },
    {
     "name": "stdout",
     "output_type": "stream",
     "text": [
      "Step [1999/10000], Training Loss: 5.0431, Validation Loss: 5.1037\n"
     ]
    },
    {
     "name": "stderr",
     "output_type": "stream",
     "text": [
      " 31%|███       | 3066/10000 [00:11<00:22, 312.94it/s]"
     ]
    },
    {
     "name": "stdout",
     "output_type": "stream",
     "text": [
      "Step [2999/10000], Training Loss: 5.0618, Validation Loss: 5.0978\n"
     ]
    },
    {
     "name": "stderr",
     "output_type": "stream",
     "text": [
      " 40%|████      | 4046/10000 [00:14<00:19, 308.04it/s]"
     ]
    },
    {
     "name": "stdout",
     "output_type": "stream",
     "text": [
      "Step [3999/10000], Training Loss: 5.0680, Validation Loss: 5.0614\n"
     ]
    },
    {
     "name": "stderr",
     "output_type": "stream",
     "text": [
      " 50%|█████     | 5018/10000 [00:18<00:18, 264.17it/s]"
     ]
    },
    {
     "name": "stdout",
     "output_type": "stream",
     "text": [
      "Step [4999/10000], Training Loss: 5.0424, Validation Loss: 5.0690\n"
     ]
    },
    {
     "name": "stderr",
     "output_type": "stream",
     "text": [
      " 61%|██████    | 6096/10000 [00:21<00:06, 565.78it/s]"
     ]
    },
    {
     "name": "stdout",
     "output_type": "stream",
     "text": [
      "Step [5999/10000], Training Loss: 5.0339, Validation Loss: 5.0686\n"
     ]
    },
    {
     "name": "stderr",
     "output_type": "stream",
     "text": [
      " 70%|███████   | 7044/10000 [00:25<00:09, 303.14it/s]"
     ]
    },
    {
     "name": "stdout",
     "output_type": "stream",
     "text": [
      "Step [6999/10000], Training Loss: 5.0642, Validation Loss: 5.0371\n"
     ]
    },
    {
     "name": "stderr",
     "output_type": "stream",
     "text": [
      " 80%|████████  | 8021/10000 [00:28<00:09, 202.44it/s]"
     ]
    },
    {
     "name": "stdout",
     "output_type": "stream",
     "text": [
      "Step [7999/10000], Training Loss: 5.0486, Validation Loss: 5.0750\n"
     ]
    },
    {
     "name": "stderr",
     "output_type": "stream",
     "text": [
      " 90%|█████████ | 9035/10000 [00:32<00:03, 267.90it/s]"
     ]
    },
    {
     "name": "stdout",
     "output_type": "stream",
     "text": [
      "Step [8999/10000], Training Loss: 5.0794, Validation Loss: 5.0594\n"
     ]
    },
    {
     "name": "stderr",
     "output_type": "stream",
     "text": [
      "100%|██████████| 10000/10000 [00:36<00:00, 274.26it/s]\n"
     ]
    },
    {
     "name": "stdout",
     "output_type": "stream",
     "text": [
      "Step [9999/10000], Training Loss: 5.1098, Validation Loss: 5.0891\n",
      "Training Loss: 5.1309\n",
      "Number of parameters Y_t48: 109\n"
     ]
    },
    {
     "name": "stderr",
     "output_type": "stream",
     "text": [
      "  0%|          | 0/10000 [00:00<?, ?it/s]"
     ]
    },
    {
     "name": "stdout",
     "output_type": "stream",
     "text": [
      "Step [0/10000], Training Loss: 0.2091, Validation Loss: 0.2081\n"
     ]
    },
    {
     "name": "stderr",
     "output_type": "stream",
     "text": [
      " 10%|█         | 1047/10000 [00:03<00:28, 318.81it/s]"
     ]
    },
    {
     "name": "stdout",
     "output_type": "stream",
     "text": [
      "Step [999/10000], Training Loss: 0.0089, Validation Loss: 0.0091\n"
     ]
    },
    {
     "name": "stderr",
     "output_type": "stream",
     "text": [
      " 20%|██        | 2020/10000 [00:07<00:33, 238.82it/s]"
     ]
    },
    {
     "name": "stdout",
     "output_type": "stream",
     "text": [
      "Step [1999/10000], Training Loss: 0.0044, Validation Loss: 0.0044\n"
     ]
    },
    {
     "name": "stderr",
     "output_type": "stream",
     "text": [
      " 30%|███       | 3009/10000 [00:10<00:21, 320.21it/s]"
     ]
    },
    {
     "name": "stdout",
     "output_type": "stream",
     "text": [
      "Step [2999/10000], Training Loss: 0.0006, Validation Loss: 0.0006\n"
     ]
    },
    {
     "name": "stderr",
     "output_type": "stream",
     "text": [
      " 40%|████      | 4043/10000 [00:14<00:22, 266.43it/s]"
     ]
    },
    {
     "name": "stdout",
     "output_type": "stream",
     "text": [
      "Step [3999/10000], Training Loss: 0.0004, Validation Loss: 0.0004\n"
     ]
    },
    {
     "name": "stderr",
     "output_type": "stream",
     "text": [
      " 50%|█████     | 5021/10000 [00:17<00:16, 296.95it/s]"
     ]
    },
    {
     "name": "stdout",
     "output_type": "stream",
     "text": [
      "Step [4999/10000], Training Loss: 0.0003, Validation Loss: 0.0003\n"
     ]
    },
    {
     "name": "stderr",
     "output_type": "stream",
     "text": [
      " 60%|██████    | 6035/10000 [00:21<00:15, 251.58it/s]"
     ]
    },
    {
     "name": "stdout",
     "output_type": "stream",
     "text": [
      "Step [5999/10000], Training Loss: 0.0003, Validation Loss: 0.0003\n"
     ]
    },
    {
     "name": "stderr",
     "output_type": "stream",
     "text": [
      " 70%|███████   | 7040/10000 [00:25<00:10, 288.07it/s]"
     ]
    },
    {
     "name": "stdout",
     "output_type": "stream",
     "text": [
      "Step [6999/10000], Training Loss: 0.0003, Validation Loss: 0.0003\n"
     ]
    },
    {
     "name": "stderr",
     "output_type": "stream",
     "text": [
      " 81%|████████  | 8062/10000 [00:29<00:04, 393.05it/s]"
     ]
    },
    {
     "name": "stdout",
     "output_type": "stream",
     "text": [
      "Step [7999/10000], Training Loss: 0.0003, Validation Loss: 0.0003\n"
     ]
    },
    {
     "name": "stderr",
     "output_type": "stream",
     "text": [
      " 90%|█████████ | 9045/10000 [00:32<00:02, 345.53it/s]"
     ]
    },
    {
     "name": "stdout",
     "output_type": "stream",
     "text": [
      "Step [8999/10000], Training Loss: 0.0003, Validation Loss: 0.0003\n"
     ]
    },
    {
     "name": "stderr",
     "output_type": "stream",
     "text": [
      "100%|██████████| 10000/10000 [00:37<00:00, 267.49it/s]\n"
     ]
    },
    {
     "name": "stdout",
     "output_type": "stream",
     "text": [
      "Step [9999/10000], Training Loss: 0.0003, Validation Loss: 0.0003\n",
      "Training Loss: 0.0003\n",
      "Mean Euler Error: 4.3813e-06\n",
      "Number of parameters Z_t47: 109\n"
     ]
    },
    {
     "name": "stderr",
     "output_type": "stream",
     "text": [
      "  0%|          | 0/10000 [00:00<?, ?it/s]"
     ]
    },
    {
     "name": "stdout",
     "output_type": "stream",
     "text": [
      "Step [0/10000], Training Loss: 5.1532, Validation Loss: 5.1804\n"
     ]
    },
    {
     "name": "stderr",
     "output_type": "stream",
     "text": [
      " 11%|█         | 1065/10000 [00:03<00:25, 354.13it/s]"
     ]
    },
    {
     "name": "stdout",
     "output_type": "stream",
     "text": [
      "Step [999/10000], Training Loss: 5.1656, Validation Loss: 5.0373\n"
     ]
    },
    {
     "name": "stderr",
     "output_type": "stream",
     "text": [
      " 21%|██        | 2105/10000 [00:06<00:14, 545.29it/s]"
     ]
    },
    {
     "name": "stdout",
     "output_type": "stream",
     "text": [
      "Step [1999/10000], Training Loss: 5.0483, Validation Loss: 5.0531\n"
     ]
    },
    {
     "name": "stderr",
     "output_type": "stream",
     "text": [
      " 30%|███       | 3026/10000 [00:09<00:28, 248.68it/s]"
     ]
    },
    {
     "name": "stdout",
     "output_type": "stream",
     "text": [
      "Step [2999/10000], Training Loss: 5.0016, Validation Loss: 5.0850\n"
     ]
    },
    {
     "name": "stderr",
     "output_type": "stream",
     "text": [
      " 41%|████      | 4070/10000 [00:12<00:15, 375.44it/s]"
     ]
    },
    {
     "name": "stdout",
     "output_type": "stream",
     "text": [
      "Step [3999/10000], Training Loss: 5.1451, Validation Loss: 4.9971\n"
     ]
    },
    {
     "name": "stderr",
     "output_type": "stream",
     "text": [
      " 50%|█████     | 5042/10000 [00:16<00:18, 270.09it/s]"
     ]
    },
    {
     "name": "stdout",
     "output_type": "stream",
     "text": [
      "Step [4999/10000], Training Loss: 5.0444, Validation Loss: 5.0999\n"
     ]
    },
    {
     "name": "stderr",
     "output_type": "stream",
     "text": [
      " 60%|██████    | 6044/10000 [00:20<00:14, 265.40it/s]"
     ]
    },
    {
     "name": "stdout",
     "output_type": "stream",
     "text": [
      "Step [5999/10000], Training Loss: 5.0881, Validation Loss: 5.0978\n"
     ]
    },
    {
     "name": "stderr",
     "output_type": "stream",
     "text": [
      " 70%|███████   | 7023/10000 [00:23<00:13, 220.25it/s]"
     ]
    },
    {
     "name": "stdout",
     "output_type": "stream",
     "text": [
      "Step [6999/10000], Training Loss: 5.1248, Validation Loss: 5.0319\n"
     ]
    },
    {
     "name": "stderr",
     "output_type": "stream",
     "text": [
      " 81%|████████  | 8064/10000 [00:26<00:04, 409.88it/s]"
     ]
    },
    {
     "name": "stdout",
     "output_type": "stream",
     "text": [
      "Step [7999/10000], Training Loss: 5.1382, Validation Loss: 5.0847\n"
     ]
    },
    {
     "name": "stderr",
     "output_type": "stream",
     "text": [
      " 90%|████████▉ | 8999/10000 [00:29<00:03, 300.63it/s]\n"
     ]
    },
    {
     "name": "stdout",
     "output_type": "stream",
     "text": [
      "Step [8999/10000], Training Loss: 5.0300, Validation Loss: 5.0590\n",
      "Training Loss: 5.0079\n",
      "Number of parameters Y_t47: 109\n"
     ]
    },
    {
     "name": "stderr",
     "output_type": "stream",
     "text": [
      "  0%|          | 33/10000 [00:00<00:31, 318.80it/s]"
     ]
    },
    {
     "name": "stdout",
     "output_type": "stream",
     "text": [
      "Step [0/10000], Training Loss: 0.8630, Validation Loss: 0.8647\n"
     ]
    },
    {
     "name": "stderr",
     "output_type": "stream",
     "text": [
      " 11%|█         | 1063/10000 [00:04<00:21, 411.44it/s]"
     ]
    },
    {
     "name": "stdout",
     "output_type": "stream",
     "text": [
      "Step [999/10000], Training Loss: 0.0251, Validation Loss: 0.0248\n"
     ]
    },
    {
     "name": "stderr",
     "output_type": "stream",
     "text": [
      " 20%|██        | 2024/10000 [00:07<00:35, 226.23it/s]"
     ]
    },
    {
     "name": "stdout",
     "output_type": "stream",
     "text": [
      "Step [1999/10000], Training Loss: 0.0206, Validation Loss: 0.0206\n"
     ]
    },
    {
     "name": "stderr",
     "output_type": "stream",
     "text": [
      " 30%|███       | 3024/10000 [00:11<00:27, 250.75it/s]"
     ]
    },
    {
     "name": "stdout",
     "output_type": "stream",
     "text": [
      "Step [2999/10000], Training Loss: 0.0156, Validation Loss: 0.0157\n"
     ]
    },
    {
     "name": "stderr",
     "output_type": "stream",
     "text": [
      " 40%|████      | 4038/10000 [00:15<00:16, 356.07it/s]"
     ]
    },
    {
     "name": "stdout",
     "output_type": "stream",
     "text": [
      "Step [3999/10000], Training Loss: 0.0073, Validation Loss: 0.0073\n"
     ]
    },
    {
     "name": "stderr",
     "output_type": "stream",
     "text": [
      " 50%|█████     | 5016/10000 [00:18<00:19, 257.86it/s]"
     ]
    },
    {
     "name": "stdout",
     "output_type": "stream",
     "text": [
      "Step [4999/10000], Training Loss: 0.0023, Validation Loss: 0.0023\n"
     ]
    },
    {
     "name": "stderr",
     "output_type": "stream",
     "text": [
      " 60%|██████    | 6031/10000 [00:22<00:15, 255.29it/s]"
     ]
    },
    {
     "name": "stdout",
     "output_type": "stream",
     "text": [
      "Step [5999/10000], Training Loss: 0.0008, Validation Loss: 0.0008\n"
     ]
    },
    {
     "name": "stderr",
     "output_type": "stream",
     "text": [
      " 71%|███████   | 7058/10000 [00:25<00:09, 324.73it/s]"
     ]
    },
    {
     "name": "stdout",
     "output_type": "stream",
     "text": [
      "Step [6999/10000], Training Loss: 0.0005, Validation Loss: 0.0005\n"
     ]
    },
    {
     "name": "stderr",
     "output_type": "stream",
     "text": [
      " 80%|████████  | 8034/10000 [00:29<00:07, 258.16it/s]"
     ]
    },
    {
     "name": "stdout",
     "output_type": "stream",
     "text": [
      "Step [7999/10000], Training Loss: 0.0004, Validation Loss: 0.0004\n"
     ]
    },
    {
     "name": "stderr",
     "output_type": "stream",
     "text": [
      " 90%|█████████ | 9034/10000 [00:33<00:04, 218.35it/s]"
     ]
    },
    {
     "name": "stdout",
     "output_type": "stream",
     "text": [
      "Step [8999/10000], Training Loss: 0.0004, Validation Loss: 0.0004\n"
     ]
    },
    {
     "name": "stderr",
     "output_type": "stream",
     "text": [
      "100%|██████████| 10000/10000 [00:37<00:00, 268.45it/s]\n"
     ]
    },
    {
     "name": "stdout",
     "output_type": "stream",
     "text": [
      "Step [9999/10000], Training Loss: 0.0004, Validation Loss: 0.0004\n",
      "Training Loss: 0.0004\n",
      "Mean Euler Error: 1.4191e-05\n",
      "Number of parameters Z_t46: 109\n"
     ]
    },
    {
     "name": "stderr",
     "output_type": "stream",
     "text": [
      "  0%|          | 0/10000 [00:00<?, ?it/s]"
     ]
    },
    {
     "name": "stdout",
     "output_type": "stream",
     "text": [
      "Step [0/10000], Training Loss: 5.1413, Validation Loss: 5.1775\n"
     ]
    },
    {
     "name": "stderr",
     "output_type": "stream",
     "text": [
      " 10%|█         | 1029/10000 [00:02<00:36, 248.27it/s]"
     ]
    },
    {
     "name": "stdout",
     "output_type": "stream",
     "text": [
      "Step [999/10000], Training Loss: 5.1048, Validation Loss: 5.0128\n"
     ]
    },
    {
     "name": "stderr",
     "output_type": "stream",
     "text": [
      " 20%|██        | 2043/10000 [00:06<00:23, 335.86it/s]"
     ]
    },
    {
     "name": "stdout",
     "output_type": "stream",
     "text": [
      "Step [1999/10000], Training Loss: 4.9493, Validation Loss: 5.0445\n"
     ]
    },
    {
     "name": "stderr",
     "output_type": "stream",
     "text": [
      " 30%|███       | 3024/10000 [00:10<00:35, 199.06it/s]"
     ]
    },
    {
     "name": "stdout",
     "output_type": "stream",
     "text": [
      "Step [2999/10000], Training Loss: 4.9337, Validation Loss: 5.0711\n"
     ]
    },
    {
     "name": "stderr",
     "output_type": "stream",
     "text": [
      " 40%|████      | 4033/10000 [00:13<00:21, 280.61it/s]"
     ]
    },
    {
     "name": "stdout",
     "output_type": "stream",
     "text": [
      "Step [3999/10000], Training Loss: 5.0248, Validation Loss: 5.0147\n"
     ]
    },
    {
     "name": "stderr",
     "output_type": "stream",
     "text": [
      " 50%|█████     | 5048/10000 [00:17<00:16, 300.10it/s]"
     ]
    },
    {
     "name": "stdout",
     "output_type": "stream",
     "text": [
      "Step [4999/10000], Training Loss: 4.9923, Validation Loss: 5.0298\n"
     ]
    },
    {
     "name": "stderr",
     "output_type": "stream",
     "text": [
      " 60%|█████▉    | 5999/10000 [00:20<00:13, 292.24it/s]\n"
     ]
    },
    {
     "name": "stdout",
     "output_type": "stream",
     "text": [
      "Step [5999/10000], Training Loss: 4.9573, Validation Loss: 5.0286\n",
      "Training Loss: 5.0321\n",
      "Number of parameters Y_t46: 109\n"
     ]
    },
    {
     "name": "stderr",
     "output_type": "stream",
     "text": [
      "  0%|          | 14/10000 [00:00<01:22, 121.32it/s]"
     ]
    },
    {
     "name": "stdout",
     "output_type": "stream",
     "text": [
      "Step [0/10000], Training Loss: 0.1477, Validation Loss: 0.1472\n"
     ]
    },
    {
     "name": "stderr",
     "output_type": "stream",
     "text": [
      " 10%|█         | 1048/10000 [00:03<00:28, 319.15it/s]"
     ]
    },
    {
     "name": "stdout",
     "output_type": "stream",
     "text": [
      "Step [999/10000], Training Loss: 0.0070, Validation Loss: 0.0068\n"
     ]
    },
    {
     "name": "stderr",
     "output_type": "stream",
     "text": [
      " 20%|██        | 2045/10000 [00:07<00:29, 272.76it/s]"
     ]
    },
    {
     "name": "stdout",
     "output_type": "stream",
     "text": [
      "Step [1999/10000], Training Loss: 0.0010, Validation Loss: 0.0010\n"
     ]
    },
    {
     "name": "stderr",
     "output_type": "stream",
     "text": [
      " 30%|███       | 3035/10000 [00:10<00:21, 329.17it/s]"
     ]
    },
    {
     "name": "stdout",
     "output_type": "stream",
     "text": [
      "Step [2999/10000], Training Loss: 0.0004, Validation Loss: 0.0004\n"
     ]
    },
    {
     "name": "stderr",
     "output_type": "stream",
     "text": [
      " 40%|████      | 4040/10000 [00:13<00:19, 303.00it/s]"
     ]
    },
    {
     "name": "stdout",
     "output_type": "stream",
     "text": [
      "Step [3999/10000], Training Loss: 0.0004, Validation Loss: 0.0004\n"
     ]
    },
    {
     "name": "stderr",
     "output_type": "stream",
     "text": [
      " 50%|█████     | 5050/10000 [00:18<00:16, 292.31it/s]"
     ]
    },
    {
     "name": "stdout",
     "output_type": "stream",
     "text": [
      "Step [4999/10000], Training Loss: 0.0003, Validation Loss: 0.0003\n"
     ]
    },
    {
     "name": "stderr",
     "output_type": "stream",
     "text": [
      " 60%|██████    | 6027/10000 [00:21<00:15, 260.09it/s]"
     ]
    },
    {
     "name": "stdout",
     "output_type": "stream",
     "text": [
      "Step [5999/10000], Training Loss: 0.0003, Validation Loss: 0.0003\n"
     ]
    },
    {
     "name": "stderr",
     "output_type": "stream",
     "text": [
      " 70%|███████   | 7040/10000 [00:25<00:10, 270.44it/s]"
     ]
    },
    {
     "name": "stdout",
     "output_type": "stream",
     "text": [
      "Step [6999/10000], Training Loss: 0.0003, Validation Loss: 0.0003\n"
     ]
    },
    {
     "name": "stderr",
     "output_type": "stream",
     "text": [
      " 80%|████████  | 8040/10000 [00:29<00:06, 311.42it/s]"
     ]
    },
    {
     "name": "stdout",
     "output_type": "stream",
     "text": [
      "Step [7999/10000], Training Loss: 0.0003, Validation Loss: 0.0003\n"
     ]
    },
    {
     "name": "stderr",
     "output_type": "stream",
     "text": [
      " 90%|█████████ | 9027/10000 [00:33<00:04, 217.74it/s]"
     ]
    },
    {
     "name": "stdout",
     "output_type": "stream",
     "text": [
      "Step [8999/10000], Training Loss: 0.0003, Validation Loss: 0.0003\n"
     ]
    },
    {
     "name": "stderr",
     "output_type": "stream",
     "text": [
      "100%|██████████| 10000/10000 [00:36<00:00, 271.79it/s]\n"
     ]
    },
    {
     "name": "stdout",
     "output_type": "stream",
     "text": [
      "Step [9999/10000], Training Loss: 0.0003, Validation Loss: 0.0003\n",
      "Training Loss: 0.0003\n",
      "Mean Euler Error: 1.6677e-06\n",
      "Number of parameters Z_t45: 109\n"
     ]
    },
    {
     "name": "stderr",
     "output_type": "stream",
     "text": [
      "  0%|          | 0/10000 [00:00<?, ?it/s]"
     ]
    },
    {
     "name": "stdout",
     "output_type": "stream",
     "text": [
      "Step [0/10000], Training Loss: 4.8820, Validation Loss: 5.0454\n"
     ]
    },
    {
     "name": "stderr",
     "output_type": "stream",
     "text": [
      " 11%|█         | 1051/10000 [00:03<00:23, 375.32it/s]"
     ]
    },
    {
     "name": "stdout",
     "output_type": "stream",
     "text": [
      "Step [999/10000], Training Loss: 5.0335, Validation Loss: 5.0142\n"
     ]
    },
    {
     "name": "stderr",
     "output_type": "stream",
     "text": [
      " 21%|██        | 2099/10000 [00:05<00:13, 607.22it/s]"
     ]
    },
    {
     "name": "stdout",
     "output_type": "stream",
     "text": [
      "Step [1999/10000], Training Loss: 5.0933, Validation Loss: 5.0488\n"
     ]
    },
    {
     "name": "stderr",
     "output_type": "stream",
     "text": [
      " 30%|██▉       | 2998/10000 [00:08<00:18, 380.43it/s]"
     ]
    },
    {
     "name": "stdout",
     "output_type": "stream",
     "text": [
      "Step [2999/10000], Training Loss: 5.0856, Validation Loss: 5.0054\n"
     ]
    },
    {
     "name": "stderr",
     "output_type": "stream",
     "text": [
      " 40%|████      | 4049/10000 [00:12<00:20, 293.99it/s]"
     ]
    },
    {
     "name": "stdout",
     "output_type": "stream",
     "text": [
      "Step [3999/10000], Training Loss: 4.9715, Validation Loss: 5.0619\n"
     ]
    },
    {
     "name": "stderr",
     "output_type": "stream",
     "text": [
      " 50%|█████     | 5038/10000 [00:15<00:12, 392.30it/s]"
     ]
    },
    {
     "name": "stdout",
     "output_type": "stream",
     "text": [
      "Step [4999/10000], Training Loss: 4.9539, Validation Loss: 4.9831\n"
     ]
    },
    {
     "name": "stderr",
     "output_type": "stream",
     "text": [
      " 61%|██████    | 6059/10000 [00:18<00:12, 308.03it/s]"
     ]
    },
    {
     "name": "stdout",
     "output_type": "stream",
     "text": [
      "Step [5999/10000], Training Loss: 4.9707, Validation Loss: 5.0036\n"
     ]
    },
    {
     "name": "stderr",
     "output_type": "stream",
     "text": [
      " 70%|███████   | 7045/10000 [00:21<00:09, 300.34it/s]"
     ]
    },
    {
     "name": "stdout",
     "output_type": "stream",
     "text": [
      "Step [6999/10000], Training Loss: 4.9948, Validation Loss: 4.9707\n"
     ]
    },
    {
     "name": "stderr",
     "output_type": "stream",
     "text": [
      " 80%|████████  | 8043/10000 [00:23<00:05, 357.80it/s]"
     ]
    },
    {
     "name": "stdout",
     "output_type": "stream",
     "text": [
      "Step [7999/10000], Training Loss: 4.9386, Validation Loss: 4.9915\n"
     ]
    },
    {
     "name": "stderr",
     "output_type": "stream",
     "text": [
      " 90%|█████████ | 9028/10000 [00:26<00:02, 328.52it/s]"
     ]
    },
    {
     "name": "stdout",
     "output_type": "stream",
     "text": [
      "Step [8999/10000], Training Loss: 4.9571, Validation Loss: 5.0291\n"
     ]
    },
    {
     "name": "stderr",
     "output_type": "stream",
     "text": [
      "100%|██████████| 10000/10000 [00:29<00:00, 336.52it/s]\n"
     ]
    },
    {
     "name": "stdout",
     "output_type": "stream",
     "text": [
      "Step [9999/10000], Training Loss: 4.9216, Validation Loss: 4.9964\n",
      "Training Loss: 5.0287\n",
      "Number of parameters Y_t45: 109\n"
     ]
    },
    {
     "name": "stderr",
     "output_type": "stream",
     "text": [
      "  0%|          | 30/10000 [00:00<00:33, 298.56it/s]"
     ]
    },
    {
     "name": "stdout",
     "output_type": "stream",
     "text": [
      "Step [0/10000], Training Loss: 0.0468, Validation Loss: 0.0468\n"
     ]
    },
    {
     "name": "stderr",
     "output_type": "stream",
     "text": [
      " 10%|█         | 1031/10000 [00:03<00:28, 316.13it/s]"
     ]
    },
    {
     "name": "stdout",
     "output_type": "stream",
     "text": [
      "Step [999/10000], Training Loss: 0.0061, Validation Loss: 0.0061\n"
     ]
    },
    {
     "name": "stderr",
     "output_type": "stream",
     "text": [
      " 21%|██        | 2068/10000 [00:06<00:20, 383.49it/s]"
     ]
    },
    {
     "name": "stdout",
     "output_type": "stream",
     "text": [
      "Step [1999/10000], Training Loss: 0.0009, Validation Loss: 0.0009\n"
     ]
    },
    {
     "name": "stderr",
     "output_type": "stream",
     "text": [
      " 31%|███       | 3051/10000 [00:10<00:20, 334.41it/s]"
     ]
    },
    {
     "name": "stdout",
     "output_type": "stream",
     "text": [
      "Step [2999/10000], Training Loss: 0.0004, Validation Loss: 0.0004\n"
     ]
    },
    {
     "name": "stderr",
     "output_type": "stream",
     "text": [
      " 40%|████      | 4035/10000 [00:13<00:22, 264.15it/s]"
     ]
    },
    {
     "name": "stdout",
     "output_type": "stream",
     "text": [
      "Step [3999/10000], Training Loss: 0.0004, Validation Loss: 0.0004\n"
     ]
    },
    {
     "name": "stderr",
     "output_type": "stream",
     "text": [
      " 50%|█████     | 5044/10000 [00:16<00:18, 274.31it/s]"
     ]
    },
    {
     "name": "stdout",
     "output_type": "stream",
     "text": [
      "Step [4999/10000], Training Loss: 0.0003, Validation Loss: 0.0003\n"
     ]
    },
    {
     "name": "stderr",
     "output_type": "stream",
     "text": [
      " 61%|██████    | 6075/10000 [00:20<00:09, 402.48it/s]"
     ]
    },
    {
     "name": "stdout",
     "output_type": "stream",
     "text": [
      "Step [5999/10000], Training Loss: 0.0003, Validation Loss: 0.0003\n"
     ]
    },
    {
     "name": "stderr",
     "output_type": "stream",
     "text": [
      " 70%|███████   | 7039/10000 [00:23<00:06, 478.61it/s]"
     ]
    },
    {
     "name": "stdout",
     "output_type": "stream",
     "text": [
      "Step [6999/10000], Training Loss: 0.0003, Validation Loss: 0.0003\n"
     ]
    },
    {
     "name": "stderr",
     "output_type": "stream",
     "text": [
      " 81%|████████  | 8070/10000 [00:26<00:04, 387.61it/s]"
     ]
    },
    {
     "name": "stdout",
     "output_type": "stream",
     "text": [
      "Step [7999/10000], Training Loss: 0.0003, Validation Loss: 0.0003\n"
     ]
    },
    {
     "name": "stderr",
     "output_type": "stream",
     "text": [
      " 90%|█████████ | 9047/10000 [00:31<00:03, 261.24it/s]"
     ]
    },
    {
     "name": "stdout",
     "output_type": "stream",
     "text": [
      "Step [8999/10000], Training Loss: 0.0003, Validation Loss: 0.0003\n"
     ]
    },
    {
     "name": "stderr",
     "output_type": "stream",
     "text": [
      "100%|██████████| 10000/10000 [00:35<00:00, 280.48it/s]\n"
     ]
    },
    {
     "name": "stdout",
     "output_type": "stream",
     "text": [
      "Step [9999/10000], Training Loss: 0.0003, Validation Loss: 0.0003\n",
      "Training Loss: 0.0003\n",
      "Mean Euler Error: 1.1458e-06\n",
      "Number of parameters Z_t44: 109\n"
     ]
    },
    {
     "name": "stderr",
     "output_type": "stream",
     "text": [
      "  0%|          | 0/10000 [00:00<?, ?it/s]"
     ]
    },
    {
     "name": "stdout",
     "output_type": "stream",
     "text": [
      "Step [0/10000], Training Loss: 5.1813, Validation Loss: 5.0201\n"
     ]
    },
    {
     "name": "stderr",
     "output_type": "stream",
     "text": [
      " 10%|█         | 1041/10000 [00:03<00:30, 295.27it/s]"
     ]
    },
    {
     "name": "stdout",
     "output_type": "stream",
     "text": [
      "Step [999/10000], Training Loss: 5.0593, Validation Loss: 5.0245\n"
     ]
    },
    {
     "name": "stderr",
     "output_type": "stream",
     "text": [
      " 20%|██        | 2013/10000 [00:06<00:26, 301.74it/s]"
     ]
    },
    {
     "name": "stdout",
     "output_type": "stream",
     "text": [
      "Step [1999/10000], Training Loss: 4.9461, Validation Loss: 4.9455\n"
     ]
    },
    {
     "name": "stderr",
     "output_type": "stream",
     "text": [
      " 30%|███       | 3042/10000 [00:10<00:23, 290.80it/s]"
     ]
    },
    {
     "name": "stdout",
     "output_type": "stream",
     "text": [
      "Step [2999/10000], Training Loss: 5.0730, Validation Loss: 4.9987\n"
     ]
    },
    {
     "name": "stderr",
     "output_type": "stream",
     "text": [
      " 40%|████      | 4046/10000 [00:13<00:20, 296.05it/s]"
     ]
    },
    {
     "name": "stdout",
     "output_type": "stream",
     "text": [
      "Step [3999/10000], Training Loss: 4.9943, Validation Loss: 5.0457\n"
     ]
    },
    {
     "name": "stderr",
     "output_type": "stream",
     "text": [
      " 51%|█████     | 5061/10000 [00:17<00:15, 309.80it/s]"
     ]
    },
    {
     "name": "stdout",
     "output_type": "stream",
     "text": [
      "Step [4999/10000], Training Loss: 4.8627, Validation Loss: 4.9797\n"
     ]
    },
    {
     "name": "stderr",
     "output_type": "stream",
     "text": [
      " 60%|██████    | 6008/10000 [00:21<00:17, 233.46it/s]"
     ]
    },
    {
     "name": "stdout",
     "output_type": "stream",
     "text": [
      "Step [5999/10000], Training Loss: 4.9743, Validation Loss: 4.9729\n"
     ]
    },
    {
     "name": "stderr",
     "output_type": "stream",
     "text": [
      " 70%|██████▉   | 6999/10000 [00:24<00:10, 289.73it/s]\n"
     ]
    },
    {
     "name": "stdout",
     "output_type": "stream",
     "text": [
      "Step [6999/10000], Training Loss: 4.9407, Validation Loss: 4.9596\n",
      "Training Loss: 4.9000\n",
      "Number of parameters Y_t44: 109\n"
     ]
    },
    {
     "name": "stderr",
     "output_type": "stream",
     "text": [
      "  0%|          | 0/10000 [00:00<?, ?it/s]"
     ]
    },
    {
     "name": "stdout",
     "output_type": "stream",
     "text": [
      "Step [0/10000], Training Loss: 0.2372, Validation Loss: 0.2373\n"
     ]
    },
    {
     "name": "stderr",
     "output_type": "stream",
     "text": [
      " 10%|█         | 1038/10000 [00:03<00:26, 337.20it/s]"
     ]
    },
    {
     "name": "stdout",
     "output_type": "stream",
     "text": [
      "Step [999/10000], Training Loss: 0.0115, Validation Loss: 0.0116\n"
     ]
    },
    {
     "name": "stderr",
     "output_type": "stream",
     "text": [
      " 21%|██        | 2077/10000 [00:07<00:26, 302.26it/s]"
     ]
    },
    {
     "name": "stdout",
     "output_type": "stream",
     "text": [
      "Step [1999/10000], Training Loss: 0.0050, Validation Loss: 0.0050\n"
     ]
    },
    {
     "name": "stderr",
     "output_type": "stream",
     "text": [
      " 30%|███       | 3050/10000 [00:11<00:20, 340.14it/s]"
     ]
    },
    {
     "name": "stdout",
     "output_type": "stream",
     "text": [
      "Step [2999/10000], Training Loss: 0.0011, Validation Loss: 0.0011\n"
     ]
    },
    {
     "name": "stderr",
     "output_type": "stream",
     "text": [
      " 40%|████      | 4040/10000 [00:14<00:19, 302.53it/s]"
     ]
    },
    {
     "name": "stdout",
     "output_type": "stream",
     "text": [
      "Step [3999/10000], Training Loss: 0.0004, Validation Loss: 0.0004\n"
     ]
    },
    {
     "name": "stderr",
     "output_type": "stream",
     "text": [
      " 51%|█████     | 5056/10000 [00:18<00:09, 515.23it/s]"
     ]
    },
    {
     "name": "stdout",
     "output_type": "stream",
     "text": [
      "Step [4999/10000], Training Loss: 0.0003, Validation Loss: 0.0003\n"
     ]
    },
    {
     "name": "stderr",
     "output_type": "stream",
     "text": [
      " 60%|██████    | 6025/10000 [00:21<00:16, 235.91it/s]"
     ]
    },
    {
     "name": "stdout",
     "output_type": "stream",
     "text": [
      "Step [5999/10000], Training Loss: 0.0003, Validation Loss: 0.0003\n"
     ]
    },
    {
     "name": "stderr",
     "output_type": "stream",
     "text": [
      " 70%|███████   | 7031/10000 [00:26<00:18, 160.08it/s]"
     ]
    },
    {
     "name": "stdout",
     "output_type": "stream",
     "text": [
      "Step [6999/10000], Training Loss: 0.0003, Validation Loss: 0.0003\n"
     ]
    },
    {
     "name": "stderr",
     "output_type": "stream",
     "text": [
      " 80%|████████  | 8041/10000 [00:30<00:07, 262.81it/s]"
     ]
    },
    {
     "name": "stdout",
     "output_type": "stream",
     "text": [
      "Step [7999/10000], Training Loss: 0.0003, Validation Loss: 0.0003\n"
     ]
    },
    {
     "name": "stderr",
     "output_type": "stream",
     "text": [
      " 90%|█████████ | 9039/10000 [00:34<00:03, 292.46it/s]"
     ]
    },
    {
     "name": "stdout",
     "output_type": "stream",
     "text": [
      "Step [8999/10000], Training Loss: 0.0003, Validation Loss: 0.0003\n"
     ]
    },
    {
     "name": "stderr",
     "output_type": "stream",
     "text": [
      "100%|██████████| 10000/10000 [00:37<00:00, 268.18it/s]\n"
     ]
    },
    {
     "name": "stdout",
     "output_type": "stream",
     "text": [
      "Step [9999/10000], Training Loss: 0.0003, Validation Loss: 0.0003\n",
      "Training Loss: 0.0003\n",
      "Mean Euler Error: 1.3906e-06\n",
      "Number of parameters Z_t43: 109\n"
     ]
    },
    {
     "name": "stderr",
     "output_type": "stream",
     "text": [
      "  0%|          | 0/10000 [00:00<?, ?it/s]"
     ]
    },
    {
     "name": "stdout",
     "output_type": "stream",
     "text": [
      "Step [0/10000], Training Loss: 5.0223, Validation Loss: 5.0111\n"
     ]
    },
    {
     "name": "stderr",
     "output_type": "stream",
     "text": [
      " 10%|█         | 1033/10000 [00:03<00:27, 328.70it/s]"
     ]
    },
    {
     "name": "stdout",
     "output_type": "stream",
     "text": [
      "Step [999/10000], Training Loss: 4.9735, Validation Loss: 4.9742\n"
     ]
    },
    {
     "name": "stderr",
     "output_type": "stream",
     "text": [
      " 21%|██        | 2057/10000 [00:06<00:24, 323.71it/s]"
     ]
    },
    {
     "name": "stdout",
     "output_type": "stream",
     "text": [
      "Step [1999/10000], Training Loss: 4.8891, Validation Loss: 4.9108\n"
     ]
    },
    {
     "name": "stderr",
     "output_type": "stream",
     "text": [
      " 31%|███       | 3053/10000 [00:10<00:24, 289.22it/s]"
     ]
    },
    {
     "name": "stdout",
     "output_type": "stream",
     "text": [
      "Step [2999/10000], Training Loss: 4.9601, Validation Loss: 4.9049\n"
     ]
    },
    {
     "name": "stderr",
     "output_type": "stream",
     "text": [
      " 40%|████      | 4029/10000 [00:13<00:21, 278.81it/s]"
     ]
    },
    {
     "name": "stdout",
     "output_type": "stream",
     "text": [
      "Step [3999/10000], Training Loss: 5.0109, Validation Loss: 4.9422\n"
     ]
    },
    {
     "name": "stderr",
     "output_type": "stream",
     "text": [
      " 51%|█████     | 5079/10000 [00:17<00:13, 359.21it/s]"
     ]
    },
    {
     "name": "stdout",
     "output_type": "stream",
     "text": [
      "Step [4999/10000], Training Loss: 4.9776, Validation Loss: 4.9064\n"
     ]
    },
    {
     "name": "stderr",
     "output_type": "stream",
     "text": [
      " 60%|██████    | 6048/10000 [00:20<00:11, 334.72it/s]"
     ]
    },
    {
     "name": "stdout",
     "output_type": "stream",
     "text": [
      "Step [5999/10000], Training Loss: 4.7998, Validation Loss: 4.9685\n"
     ]
    },
    {
     "name": "stderr",
     "output_type": "stream",
     "text": [
      " 70%|███████   | 7017/10000 [00:24<00:16, 176.48it/s]"
     ]
    },
    {
     "name": "stdout",
     "output_type": "stream",
     "text": [
      "Step [6999/10000], Training Loss: 5.0002, Validation Loss: 4.9260\n"
     ]
    },
    {
     "name": "stderr",
     "output_type": "stream",
     "text": [
      " 80%|███████▉  | 7999/10000 [00:27<00:06, 289.20it/s]\n"
     ]
    },
    {
     "name": "stdout",
     "output_type": "stream",
     "text": [
      "Step [7999/10000], Training Loss: 4.8901, Validation Loss: 4.9185\n",
      "Training Loss: 4.9320\n",
      "Number of parameters Y_t43: 109\n"
     ]
    },
    {
     "name": "stderr",
     "output_type": "stream",
     "text": [
      "  0%|          | 19/10000 [00:00<00:57, 172.86it/s]"
     ]
    },
    {
     "name": "stdout",
     "output_type": "stream",
     "text": [
      "Step [0/10000], Training Loss: 0.2205, Validation Loss: 0.2202\n"
     ]
    },
    {
     "name": "stderr",
     "output_type": "stream",
     "text": [
      " 11%|█         | 1059/10000 [00:03<00:29, 305.13it/s]"
     ]
    },
    {
     "name": "stdout",
     "output_type": "stream",
     "text": [
      "Step [999/10000], Training Loss: 0.0017, Validation Loss: 0.0017\n"
     ]
    },
    {
     "name": "stderr",
     "output_type": "stream",
     "text": [
      " 20%|██        | 2017/10000 [00:07<00:35, 227.94it/s]"
     ]
    },
    {
     "name": "stdout",
     "output_type": "stream",
     "text": [
      "Step [1999/10000], Training Loss: 0.0005, Validation Loss: 0.0005\n"
     ]
    },
    {
     "name": "stderr",
     "output_type": "stream",
     "text": [
      " 30%|███       | 3034/10000 [00:11<00:25, 276.47it/s]"
     ]
    },
    {
     "name": "stdout",
     "output_type": "stream",
     "text": [
      "Step [2999/10000], Training Loss: 0.0003, Validation Loss: 0.0003\n"
     ]
    },
    {
     "name": "stderr",
     "output_type": "stream",
     "text": [
      " 40%|████      | 4050/10000 [00:14<00:24, 241.13it/s]"
     ]
    },
    {
     "name": "stdout",
     "output_type": "stream",
     "text": [
      "Step [3999/10000], Training Loss: 0.0003, Validation Loss: 0.0003\n"
     ]
    },
    {
     "name": "stderr",
     "output_type": "stream",
     "text": [
      " 50%|█████     | 5024/10000 [00:17<00:17, 281.62it/s]"
     ]
    },
    {
     "name": "stdout",
     "output_type": "stream",
     "text": [
      "Step [4999/10000], Training Loss: 0.0003, Validation Loss: 0.0003\n"
     ]
    },
    {
     "name": "stderr",
     "output_type": "stream",
     "text": [
      " 60%|██████    | 6002/10000 [00:21<00:08, 464.27it/s]"
     ]
    },
    {
     "name": "stdout",
     "output_type": "stream",
     "text": [
      "Step [5999/10000], Training Loss: 0.0003, Validation Loss: 0.0003\n"
     ]
    },
    {
     "name": "stderr",
     "output_type": "stream",
     "text": [
      " 71%|███████   | 7060/10000 [00:25<00:11, 258.73it/s]"
     ]
    },
    {
     "name": "stdout",
     "output_type": "stream",
     "text": [
      "Step [6999/10000], Training Loss: 0.0003, Validation Loss: 0.0003\n"
     ]
    },
    {
     "name": "stderr",
     "output_type": "stream",
     "text": [
      " 81%|████████  | 8057/10000 [00:29<00:05, 329.10it/s]"
     ]
    },
    {
     "name": "stdout",
     "output_type": "stream",
     "text": [
      "Step [7999/10000], Training Loss: 0.0003, Validation Loss: 0.0003\n"
     ]
    },
    {
     "name": "stderr",
     "output_type": "stream",
     "text": [
      " 90%|█████████ | 9047/10000 [00:33<00:03, 290.51it/s]"
     ]
    },
    {
     "name": "stdout",
     "output_type": "stream",
     "text": [
      "Step [8999/10000], Training Loss: 0.0003, Validation Loss: 0.0003\n"
     ]
    },
    {
     "name": "stderr",
     "output_type": "stream",
     "text": [
      "100%|██████████| 10000/10000 [00:36<00:00, 277.45it/s]\n"
     ]
    },
    {
     "name": "stdout",
     "output_type": "stream",
     "text": [
      "Step [9999/10000], Training Loss: 0.0003, Validation Loss: 0.0003\n",
      "Training Loss: 0.0003\n",
      "Mean Euler Error: 2.4323e-06\n",
      "Number of parameters Z_t42: 109\n"
     ]
    },
    {
     "name": "stderr",
     "output_type": "stream",
     "text": [
      "  0%|          | 0/10000 [00:00<?, ?it/s]"
     ]
    },
    {
     "name": "stdout",
     "output_type": "stream",
     "text": [
      "Step [0/10000], Training Loss: 4.9568, Validation Loss: 4.9809\n"
     ]
    },
    {
     "name": "stderr",
     "output_type": "stream",
     "text": [
      " 10%|█         | 1022/10000 [00:03<00:39, 225.21it/s]"
     ]
    },
    {
     "name": "stdout",
     "output_type": "stream",
     "text": [
      "Step [999/10000], Training Loss: 4.9456, Validation Loss: 4.9835\n"
     ]
    },
    {
     "name": "stderr",
     "output_type": "stream",
     "text": [
      " 20%|██        | 2046/10000 [00:06<00:19, 417.71it/s]"
     ]
    },
    {
     "name": "stdout",
     "output_type": "stream",
     "text": [
      "Step [1999/10000], Training Loss: 4.9566, Validation Loss: 4.8451\n"
     ]
    },
    {
     "name": "stderr",
     "output_type": "stream",
     "text": [
      " 30%|███       | 3018/10000 [00:10<00:22, 315.13it/s]"
     ]
    },
    {
     "name": "stdout",
     "output_type": "stream",
     "text": [
      "Step [2999/10000], Training Loss: 4.9469, Validation Loss: 4.8290\n"
     ]
    },
    {
     "name": "stderr",
     "output_type": "stream",
     "text": [
      " 40%|████      | 4046/10000 [00:14<00:17, 349.61it/s]"
     ]
    },
    {
     "name": "stdout",
     "output_type": "stream",
     "text": [
      "Step [3999/10000], Training Loss: 4.9675, Validation Loss: 4.8766\n"
     ]
    },
    {
     "name": "stderr",
     "output_type": "stream",
     "text": [
      " 51%|█████     | 5057/10000 [00:18<00:14, 330.49it/s]"
     ]
    },
    {
     "name": "stdout",
     "output_type": "stream",
     "text": [
      "Step [4999/10000], Training Loss: 4.8931, Validation Loss: 4.9315\n"
     ]
    },
    {
     "name": "stderr",
     "output_type": "stream",
     "text": [
      " 60%|██████    | 6030/10000 [00:21<00:14, 277.71it/s]"
     ]
    },
    {
     "name": "stdout",
     "output_type": "stream",
     "text": [
      "Step [5999/10000], Training Loss: 4.8514, Validation Loss: 4.9377\n"
     ]
    },
    {
     "name": "stderr",
     "output_type": "stream",
     "text": [
      " 70%|███████   | 7041/10000 [00:25<00:11, 265.30it/s]"
     ]
    },
    {
     "name": "stdout",
     "output_type": "stream",
     "text": [
      "Step [6999/10000], Training Loss: 5.0154, Validation Loss: 4.9751\n"
     ]
    },
    {
     "name": "stderr",
     "output_type": "stream",
     "text": [
      " 80%|███████▉  | 7999/10000 [00:29<00:07, 270.57it/s]\n"
     ]
    },
    {
     "name": "stdout",
     "output_type": "stream",
     "text": [
      "Step [7999/10000], Training Loss: 4.9715, Validation Loss: 4.9467\n",
      "Training Loss: 4.8276\n",
      "Number of parameters Y_t42: 109\n"
     ]
    },
    {
     "name": "stderr",
     "output_type": "stream",
     "text": [
      "  0%|          | 0/10000 [00:00<?, ?it/s]"
     ]
    },
    {
     "name": "stdout",
     "output_type": "stream",
     "text": [
      "Step [0/10000], Training Loss: 0.0609, Validation Loss: 0.0609\n"
     ]
    },
    {
     "name": "stderr",
     "output_type": "stream",
     "text": [
      " 10%|█         | 1045/10000 [00:04<00:23, 377.75it/s]"
     ]
    },
    {
     "name": "stdout",
     "output_type": "stream",
     "text": [
      "Step [999/10000], Training Loss: 0.0059, Validation Loss: 0.0059\n"
     ]
    },
    {
     "name": "stderr",
     "output_type": "stream",
     "text": [
      " 21%|██        | 2079/10000 [00:07<00:20, 383.13it/s]"
     ]
    },
    {
     "name": "stdout",
     "output_type": "stream",
     "text": [
      "Step [1999/10000], Training Loss: 0.0008, Validation Loss: 0.0008\n"
     ]
    },
    {
     "name": "stderr",
     "output_type": "stream",
     "text": [
      " 31%|███       | 3055/10000 [00:11<00:26, 263.20it/s]"
     ]
    },
    {
     "name": "stdout",
     "output_type": "stream",
     "text": [
      "Step [2999/10000], Training Loss: 0.0004, Validation Loss: 0.0004\n"
     ]
    },
    {
     "name": "stderr",
     "output_type": "stream",
     "text": [
      " 40%|████      | 4039/10000 [00:15<00:23, 249.77it/s]"
     ]
    },
    {
     "name": "stdout",
     "output_type": "stream",
     "text": [
      "Step [3999/10000], Training Loss: 0.0004, Validation Loss: 0.0003\n"
     ]
    },
    {
     "name": "stderr",
     "output_type": "stream",
     "text": [
      " 50%|█████     | 5021/10000 [00:19<00:19, 261.90it/s]"
     ]
    },
    {
     "name": "stdout",
     "output_type": "stream",
     "text": [
      "Step [4999/10000], Training Loss: 0.0003, Validation Loss: 0.0003\n"
     ]
    },
    {
     "name": "stderr",
     "output_type": "stream",
     "text": [
      " 60%|██████    | 6027/10000 [00:23<00:16, 238.44it/s]"
     ]
    },
    {
     "name": "stdout",
     "output_type": "stream",
     "text": [
      "Step [5999/10000], Training Loss: 0.0003, Validation Loss: 0.0003\n"
     ]
    },
    {
     "name": "stderr",
     "output_type": "stream",
     "text": [
      " 71%|███████   | 7087/10000 [00:27<00:07, 406.74it/s]"
     ]
    },
    {
     "name": "stdout",
     "output_type": "stream",
     "text": [
      "Step [6999/10000], Training Loss: 0.0003, Validation Loss: 0.0003\n"
     ]
    },
    {
     "name": "stderr",
     "output_type": "stream",
     "text": [
      " 81%|████████  | 8060/10000 [00:30<00:07, 268.05it/s]"
     ]
    },
    {
     "name": "stdout",
     "output_type": "stream",
     "text": [
      "Step [7999/10000], Training Loss: 0.0003, Validation Loss: 0.0003\n"
     ]
    },
    {
     "name": "stderr",
     "output_type": "stream",
     "text": [
      " 90%|█████████ | 9038/10000 [00:34<00:03, 276.35it/s]"
     ]
    },
    {
     "name": "stdout",
     "output_type": "stream",
     "text": [
      "Step [8999/10000], Training Loss: 0.0003, Validation Loss: 0.0003\n"
     ]
    },
    {
     "name": "stderr",
     "output_type": "stream",
     "text": [
      "100%|██████████| 10000/10000 [00:37<00:00, 263.28it/s]\n"
     ]
    },
    {
     "name": "stdout",
     "output_type": "stream",
     "text": [
      "Step [9999/10000], Training Loss: 0.0003, Validation Loss: 0.0003\n",
      "Training Loss: 0.0003\n",
      "Mean Euler Error: 1.1577e-06\n",
      "Number of parameters Z_t41: 109\n"
     ]
    },
    {
     "name": "stderr",
     "output_type": "stream",
     "text": [
      "  0%|          | 21/10000 [00:00<00:48, 207.56it/s]"
     ]
    },
    {
     "name": "stdout",
     "output_type": "stream",
     "text": [
      "Step [0/10000], Training Loss: 5.7733, Validation Loss: 5.7415\n"
     ]
    },
    {
     "name": "stderr",
     "output_type": "stream",
     "text": [
      " 10%|█         | 1018/10000 [00:03<00:36, 244.59it/s]"
     ]
    },
    {
     "name": "stdout",
     "output_type": "stream",
     "text": [
      "Step [999/10000], Training Loss: 4.9100, Validation Loss: 4.8861\n"
     ]
    },
    {
     "name": "stderr",
     "output_type": "stream",
     "text": [
      " 20%|██        | 2040/10000 [00:06<00:31, 249.30it/s]"
     ]
    },
    {
     "name": "stdout",
     "output_type": "stream",
     "text": [
      "Step [1999/10000], Training Loss: 4.9220, Validation Loss: 4.9087\n"
     ]
    },
    {
     "name": "stderr",
     "output_type": "stream",
     "text": [
      " 30%|███       | 3047/10000 [00:10<00:26, 260.84it/s]"
     ]
    },
    {
     "name": "stdout",
     "output_type": "stream",
     "text": [
      "Step [2999/10000], Training Loss: 4.9455, Validation Loss: 4.8956\n"
     ]
    },
    {
     "name": "stderr",
     "output_type": "stream",
     "text": [
      " 40%|████      | 4023/10000 [00:14<00:30, 196.86it/s]"
     ]
    },
    {
     "name": "stdout",
     "output_type": "stream",
     "text": [
      "Step [3999/10000], Training Loss: 4.8382, Validation Loss: 4.8881\n"
     ]
    },
    {
     "name": "stderr",
     "output_type": "stream",
     "text": [
      " 50%|█████     | 5017/10000 [00:18<00:22, 217.15it/s]"
     ]
    },
    {
     "name": "stdout",
     "output_type": "stream",
     "text": [
      "Step [4999/10000], Training Loss: 4.8993, Validation Loss: 4.8481\n"
     ]
    },
    {
     "name": "stderr",
     "output_type": "stream",
     "text": [
      " 60%|██████    | 6033/10000 [00:21<00:14, 269.17it/s]"
     ]
    },
    {
     "name": "stdout",
     "output_type": "stream",
     "text": [
      "Step [5999/10000], Training Loss: 4.9344, Validation Loss: 4.8932\n"
     ]
    },
    {
     "name": "stderr",
     "output_type": "stream",
     "text": [
      " 70%|███████   | 7016/10000 [00:25<00:09, 305.74it/s]"
     ]
    },
    {
     "name": "stdout",
     "output_type": "stream",
     "text": [
      "Step [6999/10000], Training Loss: 4.8274, Validation Loss: 4.9069\n"
     ]
    },
    {
     "name": "stderr",
     "output_type": "stream",
     "text": [
      " 80%|████████  | 8027/10000 [00:28<00:06, 294.29it/s]"
     ]
    },
    {
     "name": "stdout",
     "output_type": "stream",
     "text": [
      "Step [7999/10000], Training Loss: 4.8450, Validation Loss: 4.8313\n"
     ]
    },
    {
     "name": "stderr",
     "output_type": "stream",
     "text": [
      " 90%|█████████ | 9028/10000 [00:33<00:04, 213.92it/s]"
     ]
    },
    {
     "name": "stdout",
     "output_type": "stream",
     "text": [
      "Step [8999/10000], Training Loss: 4.8595, Validation Loss: 4.8556\n"
     ]
    },
    {
     "name": "stderr",
     "output_type": "stream",
     "text": [
      "100%|██████████| 10000/10000 [00:36<00:00, 276.22it/s]\n"
     ]
    },
    {
     "name": "stdout",
     "output_type": "stream",
     "text": [
      "Step [9999/10000], Training Loss: 4.8737, Validation Loss: 4.9360\n",
      "Training Loss: 4.9150\n",
      "Number of parameters Y_t41: 109\n"
     ]
    },
    {
     "name": "stderr",
     "output_type": "stream",
     "text": [
      "  0%|          | 0/10000 [00:00<?, ?it/s]"
     ]
    },
    {
     "name": "stdout",
     "output_type": "stream",
     "text": [
      "Step [0/10000], Training Loss: 0.3970, Validation Loss: 0.3952\n"
     ]
    },
    {
     "name": "stderr",
     "output_type": "stream",
     "text": [
      " 10%|█         | 1036/10000 [00:04<00:37, 241.77it/s]"
     ]
    },
    {
     "name": "stdout",
     "output_type": "stream",
     "text": [
      "Step [999/10000], Training Loss: 0.0036, Validation Loss: 0.0036\n"
     ]
    },
    {
     "name": "stderr",
     "output_type": "stream",
     "text": [
      " 20%|██        | 2050/10000 [00:08<00:24, 331.14it/s]"
     ]
    },
    {
     "name": "stdout",
     "output_type": "stream",
     "text": [
      "Step [1999/10000], Training Loss: 0.0013, Validation Loss: 0.0013\n"
     ]
    },
    {
     "name": "stderr",
     "output_type": "stream",
     "text": [
      " 30%|███       | 3037/10000 [00:11<00:22, 313.64it/s]"
     ]
    },
    {
     "name": "stdout",
     "output_type": "stream",
     "text": [
      "Step [2999/10000], Training Loss: 0.0005, Validation Loss: 0.0005\n"
     ]
    },
    {
     "name": "stderr",
     "output_type": "stream",
     "text": [
      " 41%|████      | 4068/10000 [00:14<00:17, 336.46it/s]"
     ]
    },
    {
     "name": "stdout",
     "output_type": "stream",
     "text": [
      "Step [3999/10000], Training Loss: 0.0004, Validation Loss: 0.0004\n"
     ]
    },
    {
     "name": "stderr",
     "output_type": "stream",
     "text": [
      " 50%|█████     | 5025/10000 [00:18<00:22, 218.32it/s]"
     ]
    },
    {
     "name": "stdout",
     "output_type": "stream",
     "text": [
      "Step [4999/10000], Training Loss: 0.0003, Validation Loss: 0.0003\n"
     ]
    },
    {
     "name": "stderr",
     "output_type": "stream",
     "text": [
      " 61%|██████    | 6058/10000 [00:21<00:11, 349.67it/s]"
     ]
    },
    {
     "name": "stdout",
     "output_type": "stream",
     "text": [
      "Step [5999/10000], Training Loss: 0.0003, Validation Loss: 0.0003\n"
     ]
    },
    {
     "name": "stderr",
     "output_type": "stream",
     "text": [
      " 70%|███████   | 7046/10000 [00:24<00:06, 432.34it/s]"
     ]
    },
    {
     "name": "stdout",
     "output_type": "stream",
     "text": [
      "Step [6999/10000], Training Loss: 0.0003, Validation Loss: 0.0003\n"
     ]
    },
    {
     "name": "stderr",
     "output_type": "stream",
     "text": [
      " 80%|████████  | 8046/10000 [00:26<00:03, 553.45it/s]"
     ]
    },
    {
     "name": "stdout",
     "output_type": "stream",
     "text": [
      "Step [7999/10000], Training Loss: 0.0003, Validation Loss: 0.0003\n"
     ]
    },
    {
     "name": "stderr",
     "output_type": "stream",
     "text": [
      " 90%|█████████ | 9023/10000 [00:29<00:03, 298.11it/s]"
     ]
    },
    {
     "name": "stdout",
     "output_type": "stream",
     "text": [
      "Step [8999/10000], Training Loss: 0.0003, Validation Loss: 0.0003\n"
     ]
    },
    {
     "name": "stderr",
     "output_type": "stream",
     "text": [
      "100%|██████████| 10000/10000 [00:33<00:00, 296.44it/s]\n"
     ]
    },
    {
     "name": "stdout",
     "output_type": "stream",
     "text": [
      "Step [9999/10000], Training Loss: 0.0003, Validation Loss: 0.0003\n",
      "Training Loss: 0.0003\n",
      "Mean Euler Error: 8.7818e-07\n",
      "Number of parameters Z_t40: 109\n"
     ]
    },
    {
     "name": "stderr",
     "output_type": "stream",
     "text": [
      "  0%|          | 29/10000 [00:00<00:34, 287.73it/s]"
     ]
    },
    {
     "name": "stdout",
     "output_type": "stream",
     "text": [
      "Step [0/10000], Training Loss: 4.9003, Validation Loss: 4.8751\n"
     ]
    },
    {
     "name": "stderr",
     "output_type": "stream",
     "text": [
      " 10%|█         | 1015/10000 [00:02<00:30, 296.35it/s]"
     ]
    },
    {
     "name": "stdout",
     "output_type": "stream",
     "text": [
      "Step [999/10000], Training Loss: 4.9808, Validation Loss: 4.8660\n"
     ]
    },
    {
     "name": "stderr",
     "output_type": "stream",
     "text": [
      " 20%|██        | 2045/10000 [00:05<00:24, 319.73it/s]"
     ]
    },
    {
     "name": "stdout",
     "output_type": "stream",
     "text": [
      "Step [1999/10000], Training Loss: 4.8862, Validation Loss: 4.8593\n"
     ]
    },
    {
     "name": "stderr",
     "output_type": "stream",
     "text": [
      " 31%|███       | 3066/10000 [00:08<00:15, 445.02it/s]"
     ]
    },
    {
     "name": "stdout",
     "output_type": "stream",
     "text": [
      "Step [2999/10000], Training Loss: 4.8453, Validation Loss: 4.8564\n"
     ]
    },
    {
     "name": "stderr",
     "output_type": "stream",
     "text": [
      " 40%|████      | 4024/10000 [00:11<00:30, 195.68it/s]"
     ]
    },
    {
     "name": "stdout",
     "output_type": "stream",
     "text": [
      "Step [3999/10000], Training Loss: 4.8732, Validation Loss: 4.8157\n"
     ]
    },
    {
     "name": "stderr",
     "output_type": "stream",
     "text": [
      " 51%|█████     | 5078/10000 [00:14<00:13, 358.04it/s]"
     ]
    },
    {
     "name": "stdout",
     "output_type": "stream",
     "text": [
      "Step [4999/10000], Training Loss: 4.9456, Validation Loss: 4.8502\n"
     ]
    },
    {
     "name": "stderr",
     "output_type": "stream",
     "text": [
      " 61%|██████    | 6076/10000 [00:18<00:11, 349.61it/s]"
     ]
    },
    {
     "name": "stdout",
     "output_type": "stream",
     "text": [
      "Step [5999/10000], Training Loss: 4.8842, Validation Loss: 4.8113\n"
     ]
    },
    {
     "name": "stderr",
     "output_type": "stream",
     "text": [
      " 70%|███████   | 7019/10000 [00:21<00:10, 287.08it/s]"
     ]
    },
    {
     "name": "stdout",
     "output_type": "stream",
     "text": [
      "Step [6999/10000], Training Loss: 4.8422, Validation Loss: 4.8880\n"
     ]
    },
    {
     "name": "stderr",
     "output_type": "stream",
     "text": [
      " 80%|████████  | 8000/10000 [00:24<00:05, 349.35it/s]"
     ]
    },
    {
     "name": "stdout",
     "output_type": "stream",
     "text": [
      "Step [7999/10000], Training Loss: 4.8896, Validation Loss: 4.8655\n"
     ]
    },
    {
     "name": "stderr",
     "output_type": "stream",
     "text": [
      " 91%|█████████ | 9067/10000 [00:28<00:02, 459.56it/s]"
     ]
    },
    {
     "name": "stdout",
     "output_type": "stream",
     "text": [
      "Step [8999/10000], Training Loss: 4.9788, Validation Loss: 4.7972\n"
     ]
    },
    {
     "name": "stderr",
     "output_type": "stream",
     "text": [
      "100%|██████████| 10000/10000 [00:31<00:00, 315.35it/s]\n"
     ]
    },
    {
     "name": "stdout",
     "output_type": "stream",
     "text": [
      "Step [9999/10000], Training Loss: 4.7381, Validation Loss: 4.8593\n",
      "Training Loss: 4.8228\n",
      "Number of parameters Y_t40: 109\n"
     ]
    },
    {
     "name": "stderr",
     "output_type": "stream",
     "text": [
      "  0%|          | 0/10000 [00:00<?, ?it/s]"
     ]
    },
    {
     "name": "stdout",
     "output_type": "stream",
     "text": [
      "Step [0/10000], Training Loss: 0.3846, Validation Loss: 0.3850\n"
     ]
    },
    {
     "name": "stderr",
     "output_type": "stream",
     "text": [
      " 10%|█         | 1049/10000 [00:03<00:24, 361.19it/s]"
     ]
    },
    {
     "name": "stdout",
     "output_type": "stream",
     "text": [
      "Step [999/10000], Training Loss: 0.0039, Validation Loss: 0.0038\n"
     ]
    },
    {
     "name": "stderr",
     "output_type": "stream",
     "text": [
      " 21%|██        | 2114/10000 [00:07<00:14, 529.50it/s]"
     ]
    },
    {
     "name": "stdout",
     "output_type": "stream",
     "text": [
      "Step [1999/10000], Training Loss: 0.0007, Validation Loss: 0.0007\n"
     ]
    },
    {
     "name": "stderr",
     "output_type": "stream",
     "text": [
      " 31%|███       | 3061/10000 [00:10<00:22, 308.08it/s]"
     ]
    },
    {
     "name": "stdout",
     "output_type": "stream",
     "text": [
      "Step [2999/10000], Training Loss: 0.0004, Validation Loss: 0.0004\n"
     ]
    },
    {
     "name": "stderr",
     "output_type": "stream",
     "text": [
      " 41%|████      | 4062/10000 [00:14<00:20, 289.69it/s]"
     ]
    },
    {
     "name": "stdout",
     "output_type": "stream",
     "text": [
      "Step [3999/10000], Training Loss: 0.0004, Validation Loss: 0.0004\n"
     ]
    },
    {
     "name": "stderr",
     "output_type": "stream",
     "text": [
      " 50%|█████     | 5039/10000 [00:18<00:17, 282.72it/s]"
     ]
    },
    {
     "name": "stdout",
     "output_type": "stream",
     "text": [
      "Step [4999/10000], Training Loss: 0.0003, Validation Loss: 0.0003\n"
     ]
    },
    {
     "name": "stderr",
     "output_type": "stream",
     "text": [
      " 60%|██████    | 6022/10000 [00:22<00:15, 253.70it/s]"
     ]
    },
    {
     "name": "stdout",
     "output_type": "stream",
     "text": [
      "Step [5999/10000], Training Loss: 0.0003, Validation Loss: 0.0003\n"
     ]
    },
    {
     "name": "stderr",
     "output_type": "stream",
     "text": [
      " 70%|███████   | 7027/10000 [00:25<00:10, 277.24it/s]"
     ]
    },
    {
     "name": "stdout",
     "output_type": "stream",
     "text": [
      "Step [6999/10000], Training Loss: 0.0003, Validation Loss: 0.0003\n"
     ]
    },
    {
     "name": "stderr",
     "output_type": "stream",
     "text": [
      " 81%|████████  | 8061/10000 [00:29<00:06, 283.83it/s]"
     ]
    },
    {
     "name": "stdout",
     "output_type": "stream",
     "text": [
      "Step [7999/10000], Training Loss: 0.0003, Validation Loss: 0.0003\n"
     ]
    },
    {
     "name": "stderr",
     "output_type": "stream",
     "text": [
      " 90%|█████████ | 9048/10000 [00:32<00:02, 335.28it/s]"
     ]
    },
    {
     "name": "stdout",
     "output_type": "stream",
     "text": [
      "Step [8999/10000], Training Loss: 0.0003, Validation Loss: 0.0003\n"
     ]
    },
    {
     "name": "stderr",
     "output_type": "stream",
     "text": [
      "100%|██████████| 10000/10000 [00:36<00:00, 277.16it/s]\n"
     ]
    },
    {
     "name": "stdout",
     "output_type": "stream",
     "text": [
      "Step [9999/10000], Training Loss: 0.0003, Validation Loss: 0.0003\n",
      "Training Loss: 0.0003\n",
      "Mean Euler Error: 1.9023e-06\n",
      "Number of parameters Z_t39: 109\n"
     ]
    },
    {
     "name": "stderr",
     "output_type": "stream",
     "text": [
      "  0%|          | 0/10000 [00:00<?, ?it/s]"
     ]
    },
    {
     "name": "stdout",
     "output_type": "stream",
     "text": [
      "Step [0/10000], Training Loss: 5.4785, Validation Loss: 5.4244\n"
     ]
    },
    {
     "name": "stderr",
     "output_type": "stream",
     "text": [
      " 10%|█         | 1034/10000 [00:03<00:44, 203.18it/s]"
     ]
    },
    {
     "name": "stdout",
     "output_type": "stream",
     "text": [
      "Step [999/10000], Training Loss: 4.8080, Validation Loss: 4.8618\n"
     ]
    },
    {
     "name": "stderr",
     "output_type": "stream",
     "text": [
      " 21%|██        | 2054/10000 [00:06<00:24, 329.84it/s]"
     ]
    },
    {
     "name": "stdout",
     "output_type": "stream",
     "text": [
      "Step [1999/10000], Training Loss: 4.8462, Validation Loss: 4.8549\n"
     ]
    },
    {
     "name": "stderr",
     "output_type": "stream",
     "text": [
      " 30%|███       | 3026/10000 [00:10<00:25, 272.65it/s]"
     ]
    },
    {
     "name": "stdout",
     "output_type": "stream",
     "text": [
      "Step [2999/10000], Training Loss: 4.8415, Validation Loss: 4.9028\n"
     ]
    },
    {
     "name": "stderr",
     "output_type": "stream",
     "text": [
      " 40%|████      | 4048/10000 [00:14<00:25, 230.62it/s]"
     ]
    },
    {
     "name": "stdout",
     "output_type": "stream",
     "text": [
      "Step [3999/10000], Training Loss: 4.8373, Validation Loss: 4.8221\n"
     ]
    },
    {
     "name": "stderr",
     "output_type": "stream",
     "text": [
      " 50%|█████     | 5025/10000 [00:18<00:20, 245.97it/s]"
     ]
    },
    {
     "name": "stdout",
     "output_type": "stream",
     "text": [
      "Step [4999/10000], Training Loss: 4.9025, Validation Loss: 4.7986\n"
     ]
    },
    {
     "name": "stderr",
     "output_type": "stream",
     "text": [
      " 60%|██████    | 6031/10000 [00:21<00:12, 329.59it/s]"
     ]
    },
    {
     "name": "stdout",
     "output_type": "stream",
     "text": [
      "Step [5999/10000], Training Loss: 4.8887, Validation Loss: 4.8672\n"
     ]
    },
    {
     "name": "stderr",
     "output_type": "stream",
     "text": [
      " 70%|███████   | 7019/10000 [00:25<00:16, 176.85it/s]"
     ]
    },
    {
     "name": "stdout",
     "output_type": "stream",
     "text": [
      "Step [6999/10000], Training Loss: 4.8779, Validation Loss: 4.8231\n"
     ]
    },
    {
     "name": "stderr",
     "output_type": "stream",
     "text": [
      " 80%|████████  | 8027/10000 [00:29<00:07, 269.82it/s]"
     ]
    },
    {
     "name": "stdout",
     "output_type": "stream",
     "text": [
      "Step [7999/10000], Training Loss: 4.8437, Validation Loss: 4.8132\n"
     ]
    },
    {
     "name": "stderr",
     "output_type": "stream",
     "text": [
      " 91%|█████████ | 9106/10000 [00:32<00:01, 481.60it/s]"
     ]
    },
    {
     "name": "stdout",
     "output_type": "stream",
     "text": [
      "Step [8999/10000], Training Loss: 4.7581, Validation Loss: 4.8423\n"
     ]
    },
    {
     "name": "stderr",
     "output_type": "stream",
     "text": [
      "100%|█████████▉| 9999/10000 [00:35<00:00, 279.10it/s]\n"
     ]
    },
    {
     "name": "stdout",
     "output_type": "stream",
     "text": [
      "Step [9999/10000], Training Loss: 4.8775, Validation Loss: 4.9009\n",
      "Training Loss: 4.8860\n",
      "Number of parameters Y_t39: 109\n"
     ]
    },
    {
     "name": "stderr",
     "output_type": "stream",
     "text": [
      "  0%|          | 16/10000 [00:00<01:02, 158.76it/s]"
     ]
    },
    {
     "name": "stdout",
     "output_type": "stream",
     "text": [
      "Step [0/10000], Training Loss: 0.0594, Validation Loss: 0.0597\n"
     ]
    },
    {
     "name": "stderr",
     "output_type": "stream",
     "text": [
      " 10%|█         | 1020/10000 [00:03<00:41, 215.68it/s]"
     ]
    },
    {
     "name": "stdout",
     "output_type": "stream",
     "text": [
      "Step [999/10000], Training Loss: 0.0081, Validation Loss: 0.0082\n"
     ]
    },
    {
     "name": "stderr",
     "output_type": "stream",
     "text": [
      " 20%|██        | 2025/10000 [00:07<00:30, 257.55it/s]"
     ]
    },
    {
     "name": "stdout",
     "output_type": "stream",
     "text": [
      "Step [1999/10000], Training Loss: 0.0015, Validation Loss: 0.0015\n"
     ]
    },
    {
     "name": "stderr",
     "output_type": "stream",
     "text": [
      " 30%|███       | 3050/10000 [00:11<00:24, 281.78it/s]"
     ]
    },
    {
     "name": "stdout",
     "output_type": "stream",
     "text": [
      "Step [2999/10000], Training Loss: 0.0004, Validation Loss: 0.0004\n"
     ]
    },
    {
     "name": "stderr",
     "output_type": "stream",
     "text": [
      " 41%|████      | 4090/10000 [00:15<00:14, 404.96it/s]"
     ]
    },
    {
     "name": "stdout",
     "output_type": "stream",
     "text": [
      "Step [3999/10000], Training Loss: 0.0004, Validation Loss: 0.0004\n"
     ]
    },
    {
     "name": "stderr",
     "output_type": "stream",
     "text": [
      " 50%|█████     | 5019/10000 [00:17<00:12, 396.85it/s]"
     ]
    },
    {
     "name": "stdout",
     "output_type": "stream",
     "text": [
      "Step [4999/10000], Training Loss: 0.0003, Validation Loss: 0.0003\n"
     ]
    },
    {
     "name": "stderr",
     "output_type": "stream",
     "text": [
      " 60%|██████    | 6038/10000 [00:21<00:12, 313.79it/s]"
     ]
    },
    {
     "name": "stdout",
     "output_type": "stream",
     "text": [
      "Step [5999/10000], Training Loss: 0.0003, Validation Loss: 0.0003\n"
     ]
    },
    {
     "name": "stderr",
     "output_type": "stream",
     "text": [
      " 70%|███████   | 7018/10000 [00:25<00:10, 276.40it/s]"
     ]
    },
    {
     "name": "stdout",
     "output_type": "stream",
     "text": [
      "Step [6999/10000], Training Loss: 0.0003, Validation Loss: 0.0003\n"
     ]
    },
    {
     "name": "stderr",
     "output_type": "stream",
     "text": [
      " 80%|████████  | 8047/10000 [00:28<00:07, 274.77it/s]"
     ]
    },
    {
     "name": "stdout",
     "output_type": "stream",
     "text": [
      "Step [7999/10000], Training Loss: 0.0003, Validation Loss: 0.0003\n"
     ]
    },
    {
     "name": "stderr",
     "output_type": "stream",
     "text": [
      " 91%|█████████ | 9052/10000 [00:32<00:03, 313.80it/s]"
     ]
    },
    {
     "name": "stdout",
     "output_type": "stream",
     "text": [
      "Step [8999/10000], Training Loss: 0.0003, Validation Loss: 0.0003\n"
     ]
    },
    {
     "name": "stderr",
     "output_type": "stream",
     "text": [
      "100%|██████████| 10000/10000 [00:36<00:00, 275.75it/s]\n"
     ]
    },
    {
     "name": "stdout",
     "output_type": "stream",
     "text": [
      "Step [9999/10000], Training Loss: 0.0003, Validation Loss: 0.0003\n",
      "Training Loss: 0.0003\n",
      "Mean Euler Error: 9.8975e-07\n",
      "Number of parameters Z_t38: 109\n"
     ]
    },
    {
     "name": "stderr",
     "output_type": "stream",
     "text": [
      "  0%|          | 0/10000 [00:00<?, ?it/s]"
     ]
    },
    {
     "name": "stdout",
     "output_type": "stream",
     "text": [
      "Step [0/10000], Training Loss: 4.9515, Validation Loss: 4.9893\n"
     ]
    },
    {
     "name": "stderr",
     "output_type": "stream",
     "text": [
      " 11%|█         | 1062/10000 [00:03<00:28, 313.33it/s]"
     ]
    },
    {
     "name": "stdout",
     "output_type": "stream",
     "text": [
      "Step [999/10000], Training Loss: 4.8086, Validation Loss: 4.8249\n"
     ]
    },
    {
     "name": "stderr",
     "output_type": "stream",
     "text": [
      " 21%|██        | 2063/10000 [00:07<00:22, 354.68it/s]"
     ]
    },
    {
     "name": "stdout",
     "output_type": "stream",
     "text": [
      "Step [1999/10000], Training Loss: 4.7615, Validation Loss: 4.8595\n"
     ]
    },
    {
     "name": "stderr",
     "output_type": "stream",
     "text": [
      " 30%|███       | 3043/10000 [00:11<00:31, 218.42it/s]"
     ]
    },
    {
     "name": "stdout",
     "output_type": "stream",
     "text": [
      "Step [2999/10000], Training Loss: 4.7558, Validation Loss: 4.8475\n"
     ]
    },
    {
     "name": "stderr",
     "output_type": "stream",
     "text": [
      " 41%|████      | 4075/10000 [00:14<00:13, 429.77it/s]"
     ]
    },
    {
     "name": "stdout",
     "output_type": "stream",
     "text": [
      "Step [3999/10000], Training Loss: 4.7748, Validation Loss: 4.8659\n"
     ]
    },
    {
     "name": "stderr",
     "output_type": "stream",
     "text": [
      " 50%|█████     | 5018/10000 [00:17<00:17, 285.06it/s]"
     ]
    },
    {
     "name": "stdout",
     "output_type": "stream",
     "text": [
      "Step [4999/10000], Training Loss: 4.8056, Validation Loss: 4.8748\n"
     ]
    },
    {
     "name": "stderr",
     "output_type": "stream",
     "text": [
      " 60%|█████▉    | 5999/10000 [00:21<00:14, 276.95it/s]\n"
     ]
    },
    {
     "name": "stdout",
     "output_type": "stream",
     "text": [
      "Step [5999/10000], Training Loss: 4.7631, Validation Loss: 4.8378\n",
      "Training Loss: 4.7135\n",
      "Number of parameters Y_t38: 109\n"
     ]
    },
    {
     "name": "stderr",
     "output_type": "stream",
     "text": [
      "  0%|          | 25/10000 [00:00<00:40, 247.88it/s]"
     ]
    },
    {
     "name": "stdout",
     "output_type": "stream",
     "text": [
      "Step [0/10000], Training Loss: 0.0962, Validation Loss: 0.0968\n"
     ]
    },
    {
     "name": "stderr",
     "output_type": "stream",
     "text": [
      " 10%|█         | 1040/10000 [00:03<00:31, 286.68it/s]"
     ]
    },
    {
     "name": "stdout",
     "output_type": "stream",
     "text": [
      "Step [999/10000], Training Loss: 0.0016, Validation Loss: 0.0016\n"
     ]
    },
    {
     "name": "stderr",
     "output_type": "stream",
     "text": [
      " 20%|██        | 2009/10000 [00:07<00:26, 300.86it/s]"
     ]
    },
    {
     "name": "stdout",
     "output_type": "stream",
     "text": [
      "Step [1999/10000], Training Loss: 0.0004, Validation Loss: 0.0004\n"
     ]
    },
    {
     "name": "stderr",
     "output_type": "stream",
     "text": [
      " 30%|███       | 3020/10000 [00:11<00:34, 203.97it/s]"
     ]
    },
    {
     "name": "stdout",
     "output_type": "stream",
     "text": [
      "Step [2999/10000], Training Loss: 0.0003, Validation Loss: 0.0003\n"
     ]
    },
    {
     "name": "stderr",
     "output_type": "stream",
     "text": [
      " 41%|████      | 4065/10000 [00:15<00:15, 377.32it/s]"
     ]
    },
    {
     "name": "stdout",
     "output_type": "stream",
     "text": [
      "Step [3999/10000], Training Loss: 0.0003, Validation Loss: 0.0003\n"
     ]
    },
    {
     "name": "stderr",
     "output_type": "stream",
     "text": [
      " 50%|█████     | 5029/10000 [00:19<00:16, 297.80it/s]"
     ]
    },
    {
     "name": "stdout",
     "output_type": "stream",
     "text": [
      "Step [4999/10000], Training Loss: 0.0003, Validation Loss: 0.0003\n"
     ]
    },
    {
     "name": "stderr",
     "output_type": "stream",
     "text": [
      " 60%|██████    | 6031/10000 [00:23<00:14, 265.89it/s]"
     ]
    },
    {
     "name": "stdout",
     "output_type": "stream",
     "text": [
      "Step [5999/10000], Training Loss: 0.0003, Validation Loss: 0.0003\n"
     ]
    },
    {
     "name": "stderr",
     "output_type": "stream",
     "text": [
      " 70%|███████   | 7009/10000 [00:26<00:06, 462.36it/s]"
     ]
    },
    {
     "name": "stdout",
     "output_type": "stream",
     "text": [
      "Step [6999/10000], Training Loss: 0.0003, Validation Loss: 0.0003\n"
     ]
    },
    {
     "name": "stderr",
     "output_type": "stream",
     "text": [
      " 80%|████████  | 8043/10000 [00:30<00:08, 241.22it/s]"
     ]
    },
    {
     "name": "stdout",
     "output_type": "stream",
     "text": [
      "Step [7999/10000], Training Loss: 0.0003, Validation Loss: 0.0003\n"
     ]
    },
    {
     "name": "stderr",
     "output_type": "stream",
     "text": [
      " 90%|█████████ | 9046/10000 [00:34<00:03, 248.00it/s]"
     ]
    },
    {
     "name": "stdout",
     "output_type": "stream",
     "text": [
      "Step [8999/10000], Training Loss: 0.0003, Validation Loss: 0.0003\n"
     ]
    },
    {
     "name": "stderr",
     "output_type": "stream",
     "text": [
      "100%|██████████| 10000/10000 [00:38<00:00, 262.32it/s]\n"
     ]
    },
    {
     "name": "stdout",
     "output_type": "stream",
     "text": [
      "Step [9999/10000], Training Loss: 0.0003, Validation Loss: 0.0003\n",
      "Training Loss: 0.0003\n",
      "Mean Euler Error: 1.4147e-06\n",
      "Number of parameters Z_t37: 109\n"
     ]
    },
    {
     "name": "stderr",
     "output_type": "stream",
     "text": [
      "  0%|          | 22/10000 [00:00<00:46, 215.14it/s]"
     ]
    },
    {
     "name": "stdout",
     "output_type": "stream",
     "text": [
      "Step [0/10000], Training Loss: 5.3689, Validation Loss: 5.2731\n"
     ]
    },
    {
     "name": "stderr",
     "output_type": "stream",
     "text": [
      " 10%|█         | 1021/10000 [00:03<00:29, 307.73it/s]"
     ]
    },
    {
     "name": "stdout",
     "output_type": "stream",
     "text": [
      "Step [999/10000], Training Loss: 4.7747, Validation Loss: 4.7459\n"
     ]
    },
    {
     "name": "stderr",
     "output_type": "stream",
     "text": [
      " 20%|██        | 2028/10000 [00:07<00:33, 239.55it/s]"
     ]
    },
    {
     "name": "stdout",
     "output_type": "stream",
     "text": [
      "Step [1999/10000], Training Loss: 4.7716, Validation Loss: 4.7555\n"
     ]
    },
    {
     "name": "stderr",
     "output_type": "stream",
     "text": [
      " 31%|███       | 3116/10000 [00:10<00:17, 403.96it/s]"
     ]
    },
    {
     "name": "stdout",
     "output_type": "stream",
     "text": [
      "Step [2999/10000], Training Loss: 4.8041, Validation Loss: 4.7948\n"
     ]
    },
    {
     "name": "stderr",
     "output_type": "stream",
     "text": [
      " 41%|████      | 4067/10000 [00:13<00:22, 262.55it/s]"
     ]
    },
    {
     "name": "stdout",
     "output_type": "stream",
     "text": [
      "Step [3999/10000], Training Loss: 4.7838, Validation Loss: 4.7560\n"
     ]
    },
    {
     "name": "stderr",
     "output_type": "stream",
     "text": [
      " 51%|█████     | 5063/10000 [00:17<00:15, 311.18it/s]"
     ]
    },
    {
     "name": "stdout",
     "output_type": "stream",
     "text": [
      "Step [4999/10000], Training Loss: 4.8626, Validation Loss: 4.8579\n"
     ]
    },
    {
     "name": "stderr",
     "output_type": "stream",
     "text": [
      " 60%|█████▉    | 5999/10000 [00:20<00:13, 296.21it/s]\n"
     ]
    },
    {
     "name": "stdout",
     "output_type": "stream",
     "text": [
      "Step [5999/10000], Training Loss: 4.7477, Validation Loss: 4.7996\n",
      "Training Loss: 4.7845\n",
      "Number of parameters Y_t37: 109\n"
     ]
    },
    {
     "name": "stderr",
     "output_type": "stream",
     "text": [
      "  0%|          | 0/10000 [00:00<?, ?it/s]"
     ]
    },
    {
     "name": "stdout",
     "output_type": "stream",
     "text": [
      "Step [0/10000], Training Loss: 0.0906, Validation Loss: 0.0916\n"
     ]
    },
    {
     "name": "stderr",
     "output_type": "stream",
     "text": [
      " 10%|█         | 1042/10000 [00:03<00:35, 253.40it/s]"
     ]
    },
    {
     "name": "stdout",
     "output_type": "stream",
     "text": [
      "Step [999/10000], Training Loss: 0.0032, Validation Loss: 0.0032\n"
     ]
    },
    {
     "name": "stderr",
     "output_type": "stream",
     "text": [
      " 20%|██        | 2041/10000 [00:06<00:32, 246.90it/s]"
     ]
    },
    {
     "name": "stdout",
     "output_type": "stream",
     "text": [
      "Step [1999/10000], Training Loss: 0.0005, Validation Loss: 0.0005\n"
     ]
    },
    {
     "name": "stderr",
     "output_type": "stream",
     "text": [
      " 30%|███       | 3026/10000 [00:10<00:28, 241.19it/s]"
     ]
    },
    {
     "name": "stdout",
     "output_type": "stream",
     "text": [
      "Step [2999/10000], Training Loss: 0.0004, Validation Loss: 0.0004\n"
     ]
    },
    {
     "name": "stderr",
     "output_type": "stream",
     "text": [
      " 40%|████      | 4026/10000 [00:14<00:30, 197.59it/s]"
     ]
    },
    {
     "name": "stdout",
     "output_type": "stream",
     "text": [
      "Step [3999/10000], Training Loss: 0.0003, Validation Loss: 0.0003\n"
     ]
    },
    {
     "name": "stderr",
     "output_type": "stream",
     "text": [
      " 50%|█████     | 5034/10000 [00:18<00:21, 233.52it/s]"
     ]
    },
    {
     "name": "stdout",
     "output_type": "stream",
     "text": [
      "Step [4999/10000], Training Loss: 0.0003, Validation Loss: 0.0003\n"
     ]
    },
    {
     "name": "stderr",
     "output_type": "stream",
     "text": [
      " 60%|██████    | 6029/10000 [00:22<00:21, 186.20it/s]"
     ]
    },
    {
     "name": "stdout",
     "output_type": "stream",
     "text": [
      "Step [5999/10000], Training Loss: 0.0003, Validation Loss: 0.0003\n"
     ]
    },
    {
     "name": "stderr",
     "output_type": "stream",
     "text": [
      " 70%|███████   | 7035/10000 [00:27<00:11, 247.21it/s]"
     ]
    },
    {
     "name": "stdout",
     "output_type": "stream",
     "text": [
      "Step [6999/10000], Training Loss: 0.0003, Validation Loss: 0.0003\n"
     ]
    },
    {
     "name": "stderr",
     "output_type": "stream",
     "text": [
      " 81%|████████  | 8078/10000 [00:30<00:05, 346.16it/s]"
     ]
    },
    {
     "name": "stdout",
     "output_type": "stream",
     "text": [
      "Step [7999/10000], Training Loss: 0.0003, Validation Loss: 0.0003\n"
     ]
    },
    {
     "name": "stderr",
     "output_type": "stream",
     "text": [
      " 91%|█████████ | 9053/10000 [00:33<00:03, 311.52it/s]"
     ]
    },
    {
     "name": "stdout",
     "output_type": "stream",
     "text": [
      "Step [8999/10000], Training Loss: 0.0003, Validation Loss: 0.0003\n"
     ]
    },
    {
     "name": "stderr",
     "output_type": "stream",
     "text": [
      "100%|██████████| 10000/10000 [00:37<00:00, 267.27it/s]\n"
     ]
    },
    {
     "name": "stdout",
     "output_type": "stream",
     "text": [
      "Step [9999/10000], Training Loss: 0.0003, Validation Loss: 0.0003\n",
      "Training Loss: 0.0003\n",
      "Mean Euler Error: 9.9315e-07\n",
      "Number of parameters Z_t36: 109\n"
     ]
    },
    {
     "name": "stderr",
     "output_type": "stream",
     "text": [
      "  1%|          | 101/10000 [00:00<00:18, 534.51it/s]"
     ]
    },
    {
     "name": "stdout",
     "output_type": "stream",
     "text": [
      "Step [0/10000], Training Loss: 4.8709, Validation Loss: 5.0014\n"
     ]
    },
    {
     "name": "stderr",
     "output_type": "stream",
     "text": [
      " 10%|█         | 1021/10000 [00:03<00:35, 255.99it/s]"
     ]
    },
    {
     "name": "stdout",
     "output_type": "stream",
     "text": [
      "Step [999/10000], Training Loss: 4.8371, Validation Loss: 4.7529\n"
     ]
    },
    {
     "name": "stderr",
     "output_type": "stream",
     "text": [
      " 21%|██        | 2079/10000 [00:07<00:28, 274.90it/s]"
     ]
    },
    {
     "name": "stdout",
     "output_type": "stream",
     "text": [
      "Step [1999/10000], Training Loss: 4.7652, Validation Loss: 4.7815\n"
     ]
    },
    {
     "name": "stderr",
     "output_type": "stream",
     "text": [
      " 30%|███       | 3047/10000 [00:09<00:18, 373.49it/s]"
     ]
    },
    {
     "name": "stdout",
     "output_type": "stream",
     "text": [
      "Step [2999/10000], Training Loss: 4.8241, Validation Loss: 4.7636\n"
     ]
    },
    {
     "name": "stderr",
     "output_type": "stream",
     "text": [
      " 40%|████      | 4029/10000 [00:13<00:22, 262.90it/s]"
     ]
    },
    {
     "name": "stdout",
     "output_type": "stream",
     "text": [
      "Step [3999/10000], Training Loss: 4.8195, Validation Loss: 4.7529\n"
     ]
    },
    {
     "name": "stderr",
     "output_type": "stream",
     "text": [
      " 51%|█████     | 5063/10000 [00:16<00:12, 405.91it/s]"
     ]
    },
    {
     "name": "stdout",
     "output_type": "stream",
     "text": [
      "Step [4999/10000], Training Loss: 4.7572, Validation Loss: 4.7400\n"
     ]
    },
    {
     "name": "stderr",
     "output_type": "stream",
     "text": [
      " 61%|██████    | 6058/10000 [00:19<00:08, 479.25it/s]"
     ]
    },
    {
     "name": "stdout",
     "output_type": "stream",
     "text": [
      "Step [5999/10000], Training Loss: 4.7259, Validation Loss: 4.7591\n"
     ]
    },
    {
     "name": "stderr",
     "output_type": "stream",
     "text": [
      " 71%|███████   | 7096/10000 [00:20<00:04, 595.31it/s]"
     ]
    },
    {
     "name": "stdout",
     "output_type": "stream",
     "text": [
      "Step [6999/10000], Training Loss: 4.8125, Validation Loss: 4.7738\n"
     ]
    },
    {
     "name": "stderr",
     "output_type": "stream",
     "text": [
      " 81%|████████  | 8078/10000 [00:23<00:04, 431.33it/s]"
     ]
    },
    {
     "name": "stdout",
     "output_type": "stream",
     "text": [
      "Step [7999/10000], Training Loss: 4.7158, Validation Loss: 4.7787\n"
     ]
    },
    {
     "name": "stderr",
     "output_type": "stream",
     "text": [
      " 90%|█████████ | 9039/10000 [00:26<00:03, 302.16it/s]"
     ]
    },
    {
     "name": "stdout",
     "output_type": "stream",
     "text": [
      "Step [8999/10000], Training Loss: 4.7580, Validation Loss: 4.7829\n"
     ]
    },
    {
     "name": "stderr",
     "output_type": "stream",
     "text": [
      "100%|█████████▉| 9999/10000 [00:30<00:00, 330.53it/s]\n"
     ]
    },
    {
     "name": "stdout",
     "output_type": "stream",
     "text": [
      "Step [9999/10000], Training Loss: 4.7012, Validation Loss: 4.7464\n",
      "Training Loss: 4.7608\n",
      "Number of parameters Y_t36: 109\n"
     ]
    },
    {
     "name": "stderr",
     "output_type": "stream",
     "text": [
      "  0%|          | 22/10000 [00:00<00:47, 212.09it/s]"
     ]
    },
    {
     "name": "stdout",
     "output_type": "stream",
     "text": [
      "Step [0/10000], Training Loss: 0.3422, Validation Loss: 0.3412\n"
     ]
    },
    {
     "name": "stderr",
     "output_type": "stream",
     "text": [
      " 10%|█         | 1033/10000 [00:03<00:32, 275.50it/s]"
     ]
    },
    {
     "name": "stdout",
     "output_type": "stream",
     "text": [
      "Step [999/10000], Training Loss: 0.0042, Validation Loss: 0.0042\n"
     ]
    },
    {
     "name": "stderr",
     "output_type": "stream",
     "text": [
      " 20%|██        | 2039/10000 [00:08<00:26, 298.52it/s]"
     ]
    },
    {
     "name": "stdout",
     "output_type": "stream",
     "text": [
      "Step [1999/10000], Training Loss: 0.0017, Validation Loss: 0.0017\n"
     ]
    },
    {
     "name": "stderr",
     "output_type": "stream",
     "text": [
      " 30%|███       | 3036/10000 [00:12<00:20, 332.79it/s]"
     ]
    },
    {
     "name": "stdout",
     "output_type": "stream",
     "text": [
      "Step [2999/10000], Training Loss: 0.0006, Validation Loss: 0.0007\n"
     ]
    },
    {
     "name": "stderr",
     "output_type": "stream",
     "text": [
      " 40%|████      | 4038/10000 [00:15<00:18, 320.36it/s]"
     ]
    },
    {
     "name": "stdout",
     "output_type": "stream",
     "text": [
      "Step [3999/10000], Training Loss: 0.0004, Validation Loss: 0.0004\n"
     ]
    },
    {
     "name": "stderr",
     "output_type": "stream",
     "text": [
      " 50%|█████     | 5018/10000 [00:19<00:39, 126.80it/s]"
     ]
    },
    {
     "name": "stdout",
     "output_type": "stream",
     "text": [
      "Step [4999/10000], Training Loss: 0.0004, Validation Loss: 0.0004\n"
     ]
    },
    {
     "name": "stderr",
     "output_type": "stream",
     "text": [
      " 60%|██████    | 6023/10000 [00:23<00:16, 240.86it/s]"
     ]
    },
    {
     "name": "stdout",
     "output_type": "stream",
     "text": [
      "Step [5999/10000], Training Loss: 0.0003, Validation Loss: 0.0003\n"
     ]
    },
    {
     "name": "stderr",
     "output_type": "stream",
     "text": [
      " 70%|███████   | 7039/10000 [00:27<00:09, 315.55it/s]"
     ]
    },
    {
     "name": "stdout",
     "output_type": "stream",
     "text": [
      "Step [6999/10000], Training Loss: 0.0003, Validation Loss: 0.0003\n"
     ]
    },
    {
     "name": "stderr",
     "output_type": "stream",
     "text": [
      " 80%|████████  | 8049/10000 [00:31<00:05, 341.45it/s]"
     ]
    },
    {
     "name": "stdout",
     "output_type": "stream",
     "text": [
      "Step [7999/10000], Training Loss: 0.0003, Validation Loss: 0.0003\n"
     ]
    },
    {
     "name": "stderr",
     "output_type": "stream",
     "text": [
      " 90%|█████████ | 9041/10000 [00:34<00:04, 227.07it/s]"
     ]
    },
    {
     "name": "stdout",
     "output_type": "stream",
     "text": [
      "Step [8999/10000], Training Loss: 0.0003, Validation Loss: 0.0003\n"
     ]
    },
    {
     "name": "stderr",
     "output_type": "stream",
     "text": [
      "100%|██████████| 10000/10000 [00:37<00:00, 266.84it/s]\n"
     ]
    },
    {
     "name": "stdout",
     "output_type": "stream",
     "text": [
      "Step [9999/10000], Training Loss: 0.0003, Validation Loss: 0.0003\n",
      "Training Loss: 0.0003\n",
      "Mean Euler Error: 2.0399e-06\n",
      "Number of parameters Z_t35: 109\n"
     ]
    },
    {
     "name": "stderr",
     "output_type": "stream",
     "text": [
      "  0%|          | 0/10000 [00:00<?, ?it/s]"
     ]
    },
    {
     "name": "stdout",
     "output_type": "stream",
     "text": [
      "Step [0/10000], Training Loss: 5.3304, Validation Loss: 5.4201\n"
     ]
    },
    {
     "name": "stderr",
     "output_type": "stream",
     "text": [
      " 11%|█         | 1054/10000 [00:03<00:27, 322.69it/s]"
     ]
    },
    {
     "name": "stdout",
     "output_type": "stream",
     "text": [
      "Step [999/10000], Training Loss: 4.7239, Validation Loss: 4.8060\n"
     ]
    },
    {
     "name": "stderr",
     "output_type": "stream",
     "text": [
      " 21%|██        | 2065/10000 [00:07<00:24, 325.18it/s]"
     ]
    },
    {
     "name": "stdout",
     "output_type": "stream",
     "text": [
      "Step [1999/10000], Training Loss: 4.7216, Validation Loss: 4.7466\n"
     ]
    },
    {
     "name": "stderr",
     "output_type": "stream",
     "text": [
      " 31%|███       | 3085/10000 [00:11<00:23, 297.70it/s]"
     ]
    },
    {
     "name": "stdout",
     "output_type": "stream",
     "text": [
      "Step [2999/10000], Training Loss: 4.7606, Validation Loss: 4.7597\n"
     ]
    },
    {
     "name": "stderr",
     "output_type": "stream",
     "text": [
      " 40%|████      | 4049/10000 [00:14<00:21, 279.03it/s]"
     ]
    },
    {
     "name": "stdout",
     "output_type": "stream",
     "text": [
      "Step [3999/10000], Training Loss: 4.7725, Validation Loss: 4.7057\n"
     ]
    },
    {
     "name": "stderr",
     "output_type": "stream",
     "text": [
      " 50%|█████     | 5023/10000 [00:18<00:17, 279.07it/s]"
     ]
    },
    {
     "name": "stdout",
     "output_type": "stream",
     "text": [
      "Step [4999/10000], Training Loss: 4.7641, Validation Loss: 4.7384\n"
     ]
    },
    {
     "name": "stderr",
     "output_type": "stream",
     "text": [
      " 61%|██████    | 6067/10000 [00:22<00:10, 388.44it/s]"
     ]
    },
    {
     "name": "stdout",
     "output_type": "stream",
     "text": [
      "Step [5999/10000], Training Loss: 4.7525, Validation Loss: 4.7258\n"
     ]
    },
    {
     "name": "stderr",
     "output_type": "stream",
     "text": [
      " 71%|███████   | 7074/10000 [00:26<00:08, 362.65it/s]"
     ]
    },
    {
     "name": "stdout",
     "output_type": "stream",
     "text": [
      "Step [6999/10000], Training Loss: 4.7078, Validation Loss: 4.7221\n"
     ]
    },
    {
     "name": "stderr",
     "output_type": "stream",
     "text": [
      " 81%|████████  | 8062/10000 [00:29<00:06, 287.73it/s]"
     ]
    },
    {
     "name": "stdout",
     "output_type": "stream",
     "text": [
      "Step [7999/10000], Training Loss: 4.7020, Validation Loss: 4.7081\n"
     ]
    },
    {
     "name": "stderr",
     "output_type": "stream",
     "text": [
      " 91%|█████████ | 9076/10000 [00:32<00:01, 466.22it/s]"
     ]
    },
    {
     "name": "stdout",
     "output_type": "stream",
     "text": [
      "Step [8999/10000], Training Loss: 4.7568, Validation Loss: 4.6707\n"
     ]
    },
    {
     "name": "stderr",
     "output_type": "stream",
     "text": [
      "100%|██████████| 10000/10000 [00:36<00:00, 270.85it/s]\n"
     ]
    },
    {
     "name": "stdout",
     "output_type": "stream",
     "text": [
      "Step [9999/10000], Training Loss: 4.8094, Validation Loss: 4.7043\n",
      "Training Loss: 4.6704\n",
      "Number of parameters Y_t35: 109\n"
     ]
    },
    {
     "name": "stderr",
     "output_type": "stream",
     "text": [
      "  0%|          | 0/10000 [00:00<?, ?it/s]"
     ]
    },
    {
     "name": "stdout",
     "output_type": "stream",
     "text": [
      "Step [0/10000], Training Loss: 0.0202, Validation Loss: 0.0202\n"
     ]
    },
    {
     "name": "stderr",
     "output_type": "stream",
     "text": [
      " 10%|█         | 1035/10000 [00:04<00:32, 274.94it/s]"
     ]
    },
    {
     "name": "stdout",
     "output_type": "stream",
     "text": [
      "Step [999/10000], Training Loss: 0.0013, Validation Loss: 0.0013\n"
     ]
    },
    {
     "name": "stderr",
     "output_type": "stream",
     "text": [
      " 20%|██        | 2006/10000 [00:07<00:39, 201.42it/s]"
     ]
    },
    {
     "name": "stdout",
     "output_type": "stream",
     "text": [
      "Step [1999/10000], Training Loss: 0.0004, Validation Loss: 0.0004\n"
     ]
    },
    {
     "name": "stderr",
     "output_type": "stream",
     "text": [
      " 30%|███       | 3026/10000 [00:12<00:35, 195.11it/s]"
     ]
    },
    {
     "name": "stdout",
     "output_type": "stream",
     "text": [
      "Step [2999/10000], Training Loss: 0.0004, Validation Loss: 0.0004\n"
     ]
    },
    {
     "name": "stderr",
     "output_type": "stream",
     "text": [
      " 40%|████      | 4035/10000 [00:16<00:22, 266.64it/s]"
     ]
    },
    {
     "name": "stdout",
     "output_type": "stream",
     "text": [
      "Step [3999/10000], Training Loss: 0.0003, Validation Loss: 0.0003\n"
     ]
    },
    {
     "name": "stderr",
     "output_type": "stream",
     "text": [
      " 50%|█████     | 5031/10000 [00:20<00:19, 258.17it/s]"
     ]
    },
    {
     "name": "stdout",
     "output_type": "stream",
     "text": [
      "Step [4999/10000], Training Loss: 0.0003, Validation Loss: 0.0003\n"
     ]
    },
    {
     "name": "stderr",
     "output_type": "stream",
     "text": [
      " 61%|██████    | 6056/10000 [00:24<00:09, 413.02it/s]"
     ]
    },
    {
     "name": "stdout",
     "output_type": "stream",
     "text": [
      "Step [5999/10000], Training Loss: 0.0003, Validation Loss: 0.0003\n"
     ]
    },
    {
     "name": "stderr",
     "output_type": "stream",
     "text": [
      " 71%|███████   | 7053/10000 [00:28<00:11, 249.15it/s]"
     ]
    },
    {
     "name": "stdout",
     "output_type": "stream",
     "text": [
      "Step [6999/10000], Training Loss: 0.0003, Validation Loss: 0.0003\n"
     ]
    },
    {
     "name": "stderr",
     "output_type": "stream",
     "text": [
      " 80%|████████  | 8044/10000 [00:31<00:07, 246.22it/s]"
     ]
    },
    {
     "name": "stdout",
     "output_type": "stream",
     "text": [
      "Step [7999/10000], Training Loss: 0.0003, Validation Loss: 0.0003\n"
     ]
    },
    {
     "name": "stderr",
     "output_type": "stream",
     "text": [
      " 90%|█████████ | 9038/10000 [00:35<00:03, 281.66it/s]"
     ]
    },
    {
     "name": "stdout",
     "output_type": "stream",
     "text": [
      "Step [8999/10000], Training Loss: 0.0003, Validation Loss: 0.0003\n"
     ]
    },
    {
     "name": "stderr",
     "output_type": "stream",
     "text": [
      "100%|██████████| 10000/10000 [00:40<00:00, 249.72it/s]\n"
     ]
    },
    {
     "name": "stdout",
     "output_type": "stream",
     "text": [
      "Step [9999/10000], Training Loss: 0.0003, Validation Loss: 0.0003\n",
      "Training Loss: 0.0003\n",
      "Mean Euler Error: 8.5755e-07\n",
      "Number of parameters Z_t34: 109\n"
     ]
    },
    {
     "name": "stderr",
     "output_type": "stream",
     "text": [
      "  0%|          | 46/10000 [00:00<00:23, 426.89it/s]"
     ]
    },
    {
     "name": "stdout",
     "output_type": "stream",
     "text": [
      "Step [0/10000], Training Loss: 4.7541, Validation Loss: 4.7310\n"
     ]
    },
    {
     "name": "stderr",
     "output_type": "stream",
     "text": [
      " 10%|█         | 1022/10000 [00:03<00:37, 238.65it/s]"
     ]
    },
    {
     "name": "stdout",
     "output_type": "stream",
     "text": [
      "Step [999/10000], Training Loss: 4.7240, Validation Loss: 4.7111\n"
     ]
    },
    {
     "name": "stderr",
     "output_type": "stream",
     "text": [
      " 21%|██        | 2055/10000 [00:07<00:28, 278.01it/s]"
     ]
    },
    {
     "name": "stdout",
     "output_type": "stream",
     "text": [
      "Step [1999/10000], Training Loss: 4.7914, Validation Loss: 4.7318\n"
     ]
    },
    {
     "name": "stderr",
     "output_type": "stream",
     "text": [
      " 31%|███       | 3064/10000 [00:10<00:18, 375.81it/s]"
     ]
    },
    {
     "name": "stdout",
     "output_type": "stream",
     "text": [
      "Step [2999/10000], Training Loss: 4.7037, Validation Loss: 4.7278\n"
     ]
    },
    {
     "name": "stderr",
     "output_type": "stream",
     "text": [
      " 40%|████      | 4039/10000 [00:14<00:29, 201.19it/s]"
     ]
    },
    {
     "name": "stdout",
     "output_type": "stream",
     "text": [
      "Step [3999/10000], Training Loss: 4.7430, Validation Loss: 4.7591\n"
     ]
    },
    {
     "name": "stderr",
     "output_type": "stream",
     "text": [
      " 50%|█████     | 5049/10000 [00:17<00:17, 287.04it/s]"
     ]
    },
    {
     "name": "stdout",
     "output_type": "stream",
     "text": [
      "Step [4999/10000], Training Loss: 4.6546, Validation Loss: 4.7299\n"
     ]
    },
    {
     "name": "stderr",
     "output_type": "stream",
     "text": [
      " 61%|██████    | 6061/10000 [00:20<00:11, 336.92it/s]"
     ]
    },
    {
     "name": "stdout",
     "output_type": "stream",
     "text": [
      "Step [5999/10000], Training Loss: 4.7691, Validation Loss: 4.7054\n"
     ]
    },
    {
     "name": "stderr",
     "output_type": "stream",
     "text": [
      " 71%|███████   | 7068/10000 [00:23<00:07, 398.66it/s]"
     ]
    },
    {
     "name": "stdout",
     "output_type": "stream",
     "text": [
      "Step [6999/10000], Training Loss: 4.6731, Validation Loss: 4.7395\n"
     ]
    },
    {
     "name": "stderr",
     "output_type": "stream",
     "text": [
      " 81%|████████  | 8064/10000 [00:26<00:04, 418.33it/s]"
     ]
    },
    {
     "name": "stdout",
     "output_type": "stream",
     "text": [
      "Step [7999/10000], Training Loss: 4.7413, Validation Loss: 4.7322\n"
     ]
    },
    {
     "name": "stderr",
     "output_type": "stream",
     "text": [
      " 91%|█████████ | 9070/10000 [00:29<00:02, 392.65it/s]"
     ]
    },
    {
     "name": "stdout",
     "output_type": "stream",
     "text": [
      "Step [8999/10000], Training Loss: 4.6098, Validation Loss: 4.6216\n"
     ]
    },
    {
     "name": "stderr",
     "output_type": "stream",
     "text": [
      "100%|██████████| 10000/10000 [00:32<00:00, 307.23it/s]\n"
     ]
    },
    {
     "name": "stdout",
     "output_type": "stream",
     "text": [
      "Step [9999/10000], Training Loss: 4.6637, Validation Loss: 4.7350\n",
      "Training Loss: 4.7058\n",
      "Number of parameters Y_t34: 109\n"
     ]
    },
    {
     "name": "stderr",
     "output_type": "stream",
     "text": [
      "  0%|          | 0/10000 [00:00<?, ?it/s]"
     ]
    },
    {
     "name": "stdout",
     "output_type": "stream",
     "text": [
      "Step [0/10000], Training Loss: 0.0339, Validation Loss: 0.0337\n"
     ]
    },
    {
     "name": "stderr",
     "output_type": "stream",
     "text": [
      " 10%|█         | 1045/10000 [00:03<00:27, 327.97it/s]"
     ]
    },
    {
     "name": "stdout",
     "output_type": "stream",
     "text": [
      "Step [999/10000], Training Loss: 0.0039, Validation Loss: 0.0039\n"
     ]
    },
    {
     "name": "stderr",
     "output_type": "stream",
     "text": [
      " 20%|██        | 2049/10000 [00:07<00:27, 286.41it/s]"
     ]
    },
    {
     "name": "stdout",
     "output_type": "stream",
     "text": [
      "Step [1999/10000], Training Loss: 0.0008, Validation Loss: 0.0008\n"
     ]
    },
    {
     "name": "stderr",
     "output_type": "stream",
     "text": [
      " 30%|███       | 3028/10000 [00:10<00:26, 264.13it/s]"
     ]
    },
    {
     "name": "stdout",
     "output_type": "stream",
     "text": [
      "Step [2999/10000], Training Loss: 0.0004, Validation Loss: 0.0004\n"
     ]
    },
    {
     "name": "stderr",
     "output_type": "stream",
     "text": [
      " 40%|████      | 4025/10000 [00:13<00:15, 381.96it/s]"
     ]
    },
    {
     "name": "stdout",
     "output_type": "stream",
     "text": [
      "Step [3999/10000], Training Loss: 0.0003, Validation Loss: 0.0003\n"
     ]
    },
    {
     "name": "stderr",
     "output_type": "stream",
     "text": [
      " 50%|█████     | 5043/10000 [00:17<00:14, 332.13it/s]"
     ]
    },
    {
     "name": "stdout",
     "output_type": "stream",
     "text": [
      "Step [4999/10000], Training Loss: 0.0003, Validation Loss: 0.0003\n"
     ]
    },
    {
     "name": "stderr",
     "output_type": "stream",
     "text": [
      " 60%|██████    | 6040/10000 [00:20<00:14, 267.62it/s]"
     ]
    },
    {
     "name": "stdout",
     "output_type": "stream",
     "text": [
      "Step [5999/10000], Training Loss: 0.0003, Validation Loss: 0.0003\n"
     ]
    },
    {
     "name": "stderr",
     "output_type": "stream",
     "text": [
      " 70%|███████   | 7044/10000 [00:24<00:08, 335.45it/s]"
     ]
    },
    {
     "name": "stdout",
     "output_type": "stream",
     "text": [
      "Step [6999/10000], Training Loss: 0.0003, Validation Loss: 0.0003\n"
     ]
    },
    {
     "name": "stderr",
     "output_type": "stream",
     "text": [
      " 80%|████████  | 8038/10000 [00:27<00:08, 238.69it/s]"
     ]
    },
    {
     "name": "stdout",
     "output_type": "stream",
     "text": [
      "Step [7999/10000], Training Loss: 0.0003, Validation Loss: 0.0003\n"
     ]
    },
    {
     "name": "stderr",
     "output_type": "stream",
     "text": [
      " 90%|█████████ | 9025/10000 [00:30<00:03, 262.80it/s]"
     ]
    },
    {
     "name": "stdout",
     "output_type": "stream",
     "text": [
      "Step [8999/10000], Training Loss: 0.0003, Validation Loss: 0.0003\n"
     ]
    },
    {
     "name": "stderr",
     "output_type": "stream",
     "text": [
      "100%|██████████| 10000/10000 [00:34<00:00, 290.00it/s]\n"
     ]
    },
    {
     "name": "stdout",
     "output_type": "stream",
     "text": [
      "Step [9999/10000], Training Loss: 0.0003, Validation Loss: 0.0003\n",
      "Training Loss: 0.0003\n",
      "Mean Euler Error: 6.3789e-07\n",
      "Number of parameters Z_t33: 109\n"
     ]
    },
    {
     "name": "stderr",
     "output_type": "stream",
     "text": [
      "  0%|          | 0/10000 [00:00<?, ?it/s]"
     ]
    },
    {
     "name": "stdout",
     "output_type": "stream",
     "text": [
      "Step [0/10000], Training Loss: 4.7862, Validation Loss: 4.7712\n"
     ]
    },
    {
     "name": "stderr",
     "output_type": "stream",
     "text": [
      " 10%|█         | 1033/10000 [00:03<00:36, 247.70it/s]"
     ]
    },
    {
     "name": "stdout",
     "output_type": "stream",
     "text": [
      "Step [999/10000], Training Loss: 4.6808, Validation Loss: 4.7257\n"
     ]
    },
    {
     "name": "stderr",
     "output_type": "stream",
     "text": [
      " 20%|██        | 2014/10000 [00:06<00:20, 390.92it/s]"
     ]
    },
    {
     "name": "stdout",
     "output_type": "stream",
     "text": [
      "Step [1999/10000], Training Loss: 4.6438, Validation Loss: 4.6760\n"
     ]
    },
    {
     "name": "stderr",
     "output_type": "stream",
     "text": [
      " 30%|███       | 3025/10000 [00:10<00:30, 230.03it/s]"
     ]
    },
    {
     "name": "stdout",
     "output_type": "stream",
     "text": [
      "Step [2999/10000], Training Loss: 4.6142, Validation Loss: 4.6440\n"
     ]
    },
    {
     "name": "stderr",
     "output_type": "stream",
     "text": [
      " 41%|████      | 4054/10000 [00:14<00:20, 293.44it/s]"
     ]
    },
    {
     "name": "stdout",
     "output_type": "stream",
     "text": [
      "Step [3999/10000], Training Loss: 4.6519, Validation Loss: 4.6727\n"
     ]
    },
    {
     "name": "stderr",
     "output_type": "stream",
     "text": [
      " 50%|█████     | 5039/10000 [00:17<00:19, 254.60it/s]"
     ]
    },
    {
     "name": "stdout",
     "output_type": "stream",
     "text": [
      "Step [4999/10000], Training Loss: 4.6594, Validation Loss: 4.6371\n"
     ]
    },
    {
     "name": "stderr",
     "output_type": "stream",
     "text": [
      " 60%|██████    | 6019/10000 [00:20<00:12, 324.67it/s]"
     ]
    },
    {
     "name": "stdout",
     "output_type": "stream",
     "text": [
      "Step [5999/10000], Training Loss: 4.6919, Validation Loss: 4.6819\n"
     ]
    },
    {
     "name": "stderr",
     "output_type": "stream",
     "text": [
      " 70%|███████   | 7038/10000 [00:24<00:08, 333.88it/s]"
     ]
    },
    {
     "name": "stdout",
     "output_type": "stream",
     "text": [
      "Step [6999/10000], Training Loss: 4.7566, Validation Loss: 4.6668\n"
     ]
    },
    {
     "name": "stderr",
     "output_type": "stream",
     "text": [
      " 80%|████████  | 8038/10000 [00:27<00:04, 439.29it/s]"
     ]
    },
    {
     "name": "stdout",
     "output_type": "stream",
     "text": [
      "Step [7999/10000], Training Loss: 4.6478, Validation Loss: 4.6910\n"
     ]
    },
    {
     "name": "stderr",
     "output_type": "stream",
     "text": [
      " 90%|█████████ | 9032/10000 [00:31<00:06, 146.51it/s]"
     ]
    },
    {
     "name": "stdout",
     "output_type": "stream",
     "text": [
      "Step [8999/10000], Training Loss: 4.6223, Validation Loss: 4.6795\n"
     ]
    },
    {
     "name": "stderr",
     "output_type": "stream",
     "text": [
      "100%|█████████▉| 9999/10000 [00:34<00:00, 288.50it/s]\n"
     ]
    },
    {
     "name": "stdout",
     "output_type": "stream",
     "text": [
      "Step [9999/10000], Training Loss: 4.7023, Validation Loss: 4.7447\n",
      "Training Loss: 4.6748\n",
      "Number of parameters Y_t33: 109\n"
     ]
    },
    {
     "name": "stderr",
     "output_type": "stream",
     "text": [
      "  0%|          | 0/10000 [00:00<?, ?it/s]"
     ]
    },
    {
     "name": "stdout",
     "output_type": "stream",
     "text": [
      "Step [0/10000], Training Loss: 0.0149, Validation Loss: 0.0149\n"
     ]
    },
    {
     "name": "stderr",
     "output_type": "stream",
     "text": [
      " 10%|█         | 1044/10000 [00:03<00:27, 329.44it/s]"
     ]
    },
    {
     "name": "stdout",
     "output_type": "stream",
     "text": [
      "Step [999/10000], Training Loss: 0.0014, Validation Loss: 0.0014\n"
     ]
    },
    {
     "name": "stderr",
     "output_type": "stream",
     "text": [
      " 20%|██        | 2044/10000 [00:06<00:26, 301.91it/s]"
     ]
    },
    {
     "name": "stdout",
     "output_type": "stream",
     "text": [
      "Step [1999/10000], Training Loss: 0.0003, Validation Loss: 0.0003\n"
     ]
    },
    {
     "name": "stderr",
     "output_type": "stream",
     "text": [
      " 30%|███       | 3023/10000 [00:11<00:35, 197.03it/s]"
     ]
    },
    {
     "name": "stdout",
     "output_type": "stream",
     "text": [
      "Step [2999/10000], Training Loss: 0.0003, Validation Loss: 0.0003\n"
     ]
    },
    {
     "name": "stderr",
     "output_type": "stream",
     "text": [
      " 40%|████      | 4021/10000 [00:14<00:28, 210.54it/s]"
     ]
    },
    {
     "name": "stdout",
     "output_type": "stream",
     "text": [
      "Step [3999/10000], Training Loss: 0.0003, Validation Loss: 0.0003\n"
     ]
    },
    {
     "name": "stderr",
     "output_type": "stream",
     "text": [
      " 50%|█████     | 5032/10000 [00:18<00:21, 235.19it/s]"
     ]
    },
    {
     "name": "stdout",
     "output_type": "stream",
     "text": [
      "Step [4999/10000], Training Loss: 0.0003, Validation Loss: 0.0003\n"
     ]
    },
    {
     "name": "stderr",
     "output_type": "stream",
     "text": [
      " 60%|██████    | 6018/10000 [00:21<00:16, 235.42it/s]"
     ]
    },
    {
     "name": "stdout",
     "output_type": "stream",
     "text": [
      "Step [5999/10000], Training Loss: 0.0003, Validation Loss: 0.0003\n"
     ]
    },
    {
     "name": "stderr",
     "output_type": "stream",
     "text": [
      " 70%|███████   | 7003/10000 [00:24<00:09, 331.73it/s]"
     ]
    },
    {
     "name": "stdout",
     "output_type": "stream",
     "text": [
      "Step [6999/10000], Training Loss: 0.0003, Validation Loss: 0.0003\n"
     ]
    },
    {
     "name": "stderr",
     "output_type": "stream",
     "text": [
      " 80%|████████  | 8044/10000 [00:29<00:08, 236.21it/s]"
     ]
    },
    {
     "name": "stdout",
     "output_type": "stream",
     "text": [
      "Step [7999/10000], Training Loss: 0.0003, Validation Loss: 0.0003\n"
     ]
    },
    {
     "name": "stderr",
     "output_type": "stream",
     "text": [
      " 90%|█████████ | 9010/10000 [00:33<00:03, 265.59it/s]"
     ]
    },
    {
     "name": "stdout",
     "output_type": "stream",
     "text": [
      "Step [8999/10000], Training Loss: 0.0003, Validation Loss: 0.0003\n"
     ]
    },
    {
     "name": "stderr",
     "output_type": "stream",
     "text": [
      "100%|██████████| 10000/10000 [00:36<00:00, 271.41it/s]\n"
     ]
    },
    {
     "name": "stdout",
     "output_type": "stream",
     "text": [
      "Step [9999/10000], Training Loss: 0.0003, Validation Loss: 0.0003\n",
      "Training Loss: 0.0003\n",
      "Mean Euler Error: 9.9023e-07\n",
      "Number of parameters Z_t32: 109\n"
     ]
    },
    {
     "name": "stderr",
     "output_type": "stream",
     "text": [
      "  0%|          | 0/10000 [00:00<?, ?it/s]"
     ]
    },
    {
     "name": "stdout",
     "output_type": "stream",
     "text": [
      "Step [0/10000], Training Loss: 4.6840, Validation Loss: 4.6281\n"
     ]
    },
    {
     "name": "stderr",
     "output_type": "stream",
     "text": [
      " 10%|█         | 1046/10000 [00:03<00:26, 342.57it/s]"
     ]
    },
    {
     "name": "stdout",
     "output_type": "stream",
     "text": [
      "Step [999/10000], Training Loss: 4.6491, Validation Loss: 4.6826\n"
     ]
    },
    {
     "name": "stderr",
     "output_type": "stream",
     "text": [
      " 20%|██        | 2049/10000 [00:06<00:28, 280.51it/s]"
     ]
    },
    {
     "name": "stdout",
     "output_type": "stream",
     "text": [
      "Step [1999/10000], Training Loss: 4.6050, Validation Loss: 4.6648\n"
     ]
    },
    {
     "name": "stderr",
     "output_type": "stream",
     "text": [
      " 30%|███       | 3022/10000 [00:11<00:34, 201.18it/s]"
     ]
    },
    {
     "name": "stdout",
     "output_type": "stream",
     "text": [
      "Step [2999/10000], Training Loss: 4.6584, Validation Loss: 4.6076\n"
     ]
    },
    {
     "name": "stderr",
     "output_type": "stream",
     "text": [
      " 40%|████      | 4030/10000 [00:15<00:26, 228.50it/s]"
     ]
    },
    {
     "name": "stdout",
     "output_type": "stream",
     "text": [
      "Step [3999/10000], Training Loss: 4.6972, Validation Loss: 4.6858\n"
     ]
    },
    {
     "name": "stderr",
     "output_type": "stream",
     "text": [
      " 51%|█████     | 5075/10000 [00:18<00:09, 496.84it/s]"
     ]
    },
    {
     "name": "stdout",
     "output_type": "stream",
     "text": [
      "Step [4999/10000], Training Loss: 4.6730, Validation Loss: 4.6961\n"
     ]
    },
    {
     "name": "stderr",
     "output_type": "stream",
     "text": [
      " 60%|██████    | 6022/10000 [00:21<00:14, 272.94it/s]"
     ]
    },
    {
     "name": "stdout",
     "output_type": "stream",
     "text": [
      "Step [5999/10000], Training Loss: 4.6845, Validation Loss: 4.6856\n"
     ]
    },
    {
     "name": "stderr",
     "output_type": "stream",
     "text": [
      " 70%|███████   | 7019/10000 [00:25<00:08, 357.19it/s]"
     ]
    },
    {
     "name": "stdout",
     "output_type": "stream",
     "text": [
      "Step [6999/10000], Training Loss: 4.6376, Validation Loss: 4.6648\n"
     ]
    },
    {
     "name": "stderr",
     "output_type": "stream",
     "text": [
      " 81%|████████  | 8099/10000 [00:28<00:03, 572.83it/s]"
     ]
    },
    {
     "name": "stdout",
     "output_type": "stream",
     "text": [
      "Step [7999/10000], Training Loss: 4.6398, Validation Loss: 4.5895\n"
     ]
    },
    {
     "name": "stderr",
     "output_type": "stream",
     "text": [
      " 91%|█████████ | 9061/10000 [00:30<00:01, 572.06it/s]"
     ]
    },
    {
     "name": "stdout",
     "output_type": "stream",
     "text": [
      "Step [8999/10000], Training Loss: 4.6007, Validation Loss: 4.6650\n"
     ]
    },
    {
     "name": "stderr",
     "output_type": "stream",
     "text": [
      "100%|██████████| 10000/10000 [00:33<00:00, 299.14it/s]\n"
     ]
    },
    {
     "name": "stdout",
     "output_type": "stream",
     "text": [
      "Step [9999/10000], Training Loss: 4.7141, Validation Loss: 4.6293\n",
      "Training Loss: 4.6454\n",
      "Number of parameters Y_t32: 109\n"
     ]
    },
    {
     "name": "stderr",
     "output_type": "stream",
     "text": [
      "  0%|          | 0/10000 [00:00<?, ?it/s]"
     ]
    },
    {
     "name": "stdout",
     "output_type": "stream",
     "text": [
      "Step [0/10000], Training Loss: 0.4099, Validation Loss: 0.4107\n"
     ]
    },
    {
     "name": "stderr",
     "output_type": "stream",
     "text": [
      " 11%|█         | 1096/10000 [00:03<00:18, 475.70it/s]"
     ]
    },
    {
     "name": "stdout",
     "output_type": "stream",
     "text": [
      "Step [999/10000], Training Loss: 0.0056, Validation Loss: 0.0057\n"
     ]
    },
    {
     "name": "stderr",
     "output_type": "stream",
     "text": [
      " 20%|██        | 2026/10000 [00:06<00:34, 230.64it/s]"
     ]
    },
    {
     "name": "stdout",
     "output_type": "stream",
     "text": [
      "Step [1999/10000], Training Loss: 0.0009, Validation Loss: 0.0009\n"
     ]
    },
    {
     "name": "stderr",
     "output_type": "stream",
     "text": [
      " 31%|███       | 3093/10000 [00:09<00:15, 448.65it/s]"
     ]
    },
    {
     "name": "stdout",
     "output_type": "stream",
     "text": [
      "Step [2999/10000], Training Loss: 0.0005, Validation Loss: 0.0005\n"
     ]
    },
    {
     "name": "stderr",
     "output_type": "stream",
     "text": [
      " 40%|████      | 4037/10000 [00:12<00:20, 290.30it/s]"
     ]
    },
    {
     "name": "stdout",
     "output_type": "stream",
     "text": [
      "Step [3999/10000], Training Loss: 0.0004, Validation Loss: 0.0004\n"
     ]
    },
    {
     "name": "stderr",
     "output_type": "stream",
     "text": [
      " 50%|█████     | 5041/10000 [00:15<00:17, 283.35it/s]"
     ]
    },
    {
     "name": "stdout",
     "output_type": "stream",
     "text": [
      "Step [4999/10000], Training Loss: 0.0003, Validation Loss: 0.0004\n"
     ]
    },
    {
     "name": "stderr",
     "output_type": "stream",
     "text": [
      " 60%|██████    | 6024/10000 [00:19<00:18, 219.59it/s]"
     ]
    },
    {
     "name": "stdout",
     "output_type": "stream",
     "text": [
      "Step [5999/10000], Training Loss: 0.0003, Validation Loss: 0.0003\n"
     ]
    },
    {
     "name": "stderr",
     "output_type": "stream",
     "text": [
      " 70%|███████   | 7032/10000 [00:22<00:13, 222.83it/s]"
     ]
    },
    {
     "name": "stdout",
     "output_type": "stream",
     "text": [
      "Step [6999/10000], Training Loss: 0.0003, Validation Loss: 0.0003\n"
     ]
    },
    {
     "name": "stderr",
     "output_type": "stream",
     "text": [
      " 80%|████████  | 8005/10000 [00:25<00:06, 304.99it/s]"
     ]
    },
    {
     "name": "stdout",
     "output_type": "stream",
     "text": [
      "Step [7999/10000], Training Loss: 0.0003, Validation Loss: 0.0003\n"
     ]
    },
    {
     "name": "stderr",
     "output_type": "stream",
     "text": [
      " 90%|█████████ | 9017/10000 [00:29<00:03, 291.71it/s]"
     ]
    },
    {
     "name": "stdout",
     "output_type": "stream",
     "text": [
      "Step [8999/10000], Training Loss: 0.0003, Validation Loss: 0.0003\n"
     ]
    },
    {
     "name": "stderr",
     "output_type": "stream",
     "text": [
      "100%|██████████| 10000/10000 [00:33<00:00, 298.34it/s]\n"
     ]
    },
    {
     "name": "stdout",
     "output_type": "stream",
     "text": [
      "Step [9999/10000], Training Loss: 0.0003, Validation Loss: 0.0003\n",
      "Training Loss: 0.0003\n",
      "Mean Euler Error: 1.5793e-06\n",
      "Number of parameters Z_t31: 109\n"
     ]
    },
    {
     "name": "stderr",
     "output_type": "stream",
     "text": [
      "  0%|          | 25/10000 [00:00<00:40, 245.03it/s]"
     ]
    },
    {
     "name": "stdout",
     "output_type": "stream",
     "text": [
      "Step [0/10000], Training Loss: 4.6560, Validation Loss: 4.5790\n"
     ]
    },
    {
     "name": "stderr",
     "output_type": "stream",
     "text": [
      " 10%|█         | 1012/10000 [00:04<00:57, 156.99it/s]"
     ]
    },
    {
     "name": "stdout",
     "output_type": "stream",
     "text": [
      "Step [999/10000], Training Loss: 4.6872, Validation Loss: 4.5850\n"
     ]
    },
    {
     "name": "stderr",
     "output_type": "stream",
     "text": [
      " 20%|██        | 2031/10000 [00:07<00:26, 297.91it/s]"
     ]
    },
    {
     "name": "stdout",
     "output_type": "stream",
     "text": [
      "Step [1999/10000], Training Loss: 4.6785, Validation Loss: 4.6174\n"
     ]
    },
    {
     "name": "stderr",
     "output_type": "stream",
     "text": [
      " 30%|███       | 3025/10000 [00:11<00:31, 219.75it/s]"
     ]
    },
    {
     "name": "stdout",
     "output_type": "stream",
     "text": [
      "Step [2999/10000], Training Loss: 4.6208, Validation Loss: 4.6509\n"
     ]
    },
    {
     "name": "stderr",
     "output_type": "stream",
     "text": [
      " 41%|████      | 4107/10000 [00:15<00:15, 375.41it/s]"
     ]
    },
    {
     "name": "stdout",
     "output_type": "stream",
     "text": [
      "Step [3999/10000], Training Loss: 4.5704, Validation Loss: 4.6178\n"
     ]
    },
    {
     "name": "stderr",
     "output_type": "stream",
     "text": [
      " 50%|████▉     | 4999/10000 [00:18<00:18, 267.79it/s]\n"
     ]
    },
    {
     "name": "stdout",
     "output_type": "stream",
     "text": [
      "Step [4999/10000], Training Loss: 4.7074, Validation Loss: 4.6211\n",
      "Training Loss: 4.6703\n",
      "Number of parameters Y_t31: 109\n"
     ]
    },
    {
     "name": "stderr",
     "output_type": "stream",
     "text": [
      "  0%|          | 16/10000 [00:00<01:03, 157.02it/s]"
     ]
    },
    {
     "name": "stdout",
     "output_type": "stream",
     "text": [
      "Step [0/10000], Training Loss: 0.0196, Validation Loss: 0.0195\n"
     ]
    },
    {
     "name": "stderr",
     "output_type": "stream",
     "text": [
      " 10%|█         | 1050/10000 [00:03<00:32, 271.26it/s]"
     ]
    },
    {
     "name": "stdout",
     "output_type": "stream",
     "text": [
      "Step [999/10000], Training Loss: 0.0019, Validation Loss: 0.0019\n"
     ]
    },
    {
     "name": "stderr",
     "output_type": "stream",
     "text": [
      " 20%|██        | 2033/10000 [00:07<00:29, 268.79it/s]"
     ]
    },
    {
     "name": "stdout",
     "output_type": "stream",
     "text": [
      "Step [1999/10000], Training Loss: 0.0003, Validation Loss: 0.0003\n"
     ]
    },
    {
     "name": "stderr",
     "output_type": "stream",
     "text": [
      " 30%|███       | 3038/10000 [00:11<00:21, 320.37it/s]"
     ]
    },
    {
     "name": "stdout",
     "output_type": "stream",
     "text": [
      "Step [2999/10000], Training Loss: 0.0003, Validation Loss: 0.0003\n"
     ]
    },
    {
     "name": "stderr",
     "output_type": "stream",
     "text": [
      " 40%|████      | 4028/10000 [00:14<00:28, 211.20it/s]"
     ]
    },
    {
     "name": "stdout",
     "output_type": "stream",
     "text": [
      "Step [3999/10000], Training Loss: 0.0003, Validation Loss: 0.0003\n"
     ]
    },
    {
     "name": "stderr",
     "output_type": "stream",
     "text": [
      " 50%|█████     | 5041/10000 [00:18<00:12, 391.03it/s]"
     ]
    },
    {
     "name": "stdout",
     "output_type": "stream",
     "text": [
      "Step [4999/10000], Training Loss: 0.0003, Validation Loss: 0.0003\n"
     ]
    },
    {
     "name": "stderr",
     "output_type": "stream",
     "text": [
      " 60%|██████    | 6044/10000 [00:22<00:11, 353.16it/s]"
     ]
    },
    {
     "name": "stdout",
     "output_type": "stream",
     "text": [
      "Step [5999/10000], Training Loss: 0.0003, Validation Loss: 0.0003\n"
     ]
    },
    {
     "name": "stderr",
     "output_type": "stream",
     "text": [
      " 70%|███████   | 7028/10000 [00:26<00:16, 181.35it/s]"
     ]
    },
    {
     "name": "stdout",
     "output_type": "stream",
     "text": [
      "Step [6999/10000], Training Loss: 0.0003, Validation Loss: 0.0003\n"
     ]
    },
    {
     "name": "stderr",
     "output_type": "stream",
     "text": [
      " 80%|████████  | 8047/10000 [00:30<00:06, 292.60it/s]"
     ]
    },
    {
     "name": "stdout",
     "output_type": "stream",
     "text": [
      "Step [7999/10000], Training Loss: 0.0003, Validation Loss: 0.0003\n"
     ]
    },
    {
     "name": "stderr",
     "output_type": "stream",
     "text": [
      " 90%|█████████ | 9044/10000 [00:34<00:03, 272.49it/s]"
     ]
    },
    {
     "name": "stdout",
     "output_type": "stream",
     "text": [
      "Step [8999/10000], Training Loss: 0.0003, Validation Loss: 0.0003\n"
     ]
    },
    {
     "name": "stderr",
     "output_type": "stream",
     "text": [
      "100%|██████████| 10000/10000 [00:38<00:00, 258.34it/s]\n"
     ]
    },
    {
     "name": "stdout",
     "output_type": "stream",
     "text": [
      "Step [9999/10000], Training Loss: 0.0003, Validation Loss: 0.0003\n",
      "Training Loss: 0.0003\n",
      "Mean Euler Error: 1.6256e-06\n",
      "Number of parameters Z_t30: 109\n"
     ]
    },
    {
     "name": "stderr",
     "output_type": "stream",
     "text": [
      "  0%|          | 0/10000 [00:00<?, ?it/s]"
     ]
    },
    {
     "name": "stdout",
     "output_type": "stream",
     "text": [
      "Step [0/10000], Training Loss: 4.7364, Validation Loss: 4.7123\n"
     ]
    },
    {
     "name": "stderr",
     "output_type": "stream",
     "text": [
      " 10%|█         | 1004/10000 [00:03<00:27, 321.52it/s]"
     ]
    },
    {
     "name": "stdout",
     "output_type": "stream",
     "text": [
      "Step [999/10000], Training Loss: 4.6168, Validation Loss: 4.5793\n"
     ]
    },
    {
     "name": "stderr",
     "output_type": "stream",
     "text": [
      " 20%|██        | 2020/10000 [00:06<00:27, 290.66it/s]"
     ]
    },
    {
     "name": "stdout",
     "output_type": "stream",
     "text": [
      "Step [1999/10000], Training Loss: 4.6693, Validation Loss: 4.6334\n"
     ]
    },
    {
     "name": "stderr",
     "output_type": "stream",
     "text": [
      " 30%|███       | 3027/10000 [00:10<00:33, 208.59it/s]"
     ]
    },
    {
     "name": "stdout",
     "output_type": "stream",
     "text": [
      "Step [2999/10000], Training Loss: 4.5481, Validation Loss: 4.6045\n"
     ]
    },
    {
     "name": "stderr",
     "output_type": "stream",
     "text": [
      " 40%|████      | 4032/10000 [00:13<00:17, 335.90it/s]"
     ]
    },
    {
     "name": "stdout",
     "output_type": "stream",
     "text": [
      "Step [3999/10000], Training Loss: 4.5933, Validation Loss: 4.6593\n"
     ]
    },
    {
     "name": "stderr",
     "output_type": "stream",
     "text": [
      " 51%|█████     | 5055/10000 [00:16<00:16, 291.79it/s]"
     ]
    },
    {
     "name": "stdout",
     "output_type": "stream",
     "text": [
      "Step [4999/10000], Training Loss: 4.6213, Validation Loss: 4.5947\n"
     ]
    },
    {
     "name": "stderr",
     "output_type": "stream",
     "text": [
      " 60%|█████▉    | 5999/10000 [00:20<00:13, 291.78it/s]\n"
     ]
    },
    {
     "name": "stdout",
     "output_type": "stream",
     "text": [
      "Step [5999/10000], Training Loss: 4.5625, Validation Loss: 4.5803\n",
      "Training Loss: 4.5735\n",
      "Number of parameters Y_t30: 109\n"
     ]
    },
    {
     "name": "stderr",
     "output_type": "stream",
     "text": [
      "  0%|          | 0/10000 [00:00<?, ?it/s]"
     ]
    },
    {
     "name": "stdout",
     "output_type": "stream",
     "text": [
      "Step [0/10000], Training Loss: 0.0100, Validation Loss: 0.0099\n"
     ]
    },
    {
     "name": "stderr",
     "output_type": "stream",
     "text": [
      " 10%|█         | 1034/10000 [00:03<00:35, 250.93it/s]"
     ]
    },
    {
     "name": "stdout",
     "output_type": "stream",
     "text": [
      "Step [999/10000], Training Loss: 0.0011, Validation Loss: 0.0011\n"
     ]
    },
    {
     "name": "stderr",
     "output_type": "stream",
     "text": [
      " 20%|██        | 2000/10000 [00:07<00:28, 284.97it/s]"
     ]
    },
    {
     "name": "stdout",
     "output_type": "stream",
     "text": [
      "Step [1999/10000], Training Loss: 0.0004, Validation Loss: 0.0004\n"
     ]
    },
    {
     "name": "stderr",
     "output_type": "stream",
     "text": [
      " 31%|███       | 3059/10000 [00:11<00:24, 283.93it/s]"
     ]
    },
    {
     "name": "stdout",
     "output_type": "stream",
     "text": [
      "Step [2999/10000], Training Loss: 0.0003, Validation Loss: 0.0003\n"
     ]
    },
    {
     "name": "stderr",
     "output_type": "stream",
     "text": [
      " 40%|████      | 4029/10000 [00:14<00:25, 237.06it/s]"
     ]
    },
    {
     "name": "stdout",
     "output_type": "stream",
     "text": [
      "Step [3999/10000], Training Loss: 0.0003, Validation Loss: 0.0003\n"
     ]
    },
    {
     "name": "stderr",
     "output_type": "stream",
     "text": [
      " 50%|█████     | 5042/10000 [00:18<00:14, 340.50it/s]"
     ]
    },
    {
     "name": "stdout",
     "output_type": "stream",
     "text": [
      "Step [4999/10000], Training Loss: 0.0003, Validation Loss: 0.0003\n"
     ]
    },
    {
     "name": "stderr",
     "output_type": "stream",
     "text": [
      " 60%|██████    | 6026/10000 [00:22<00:22, 173.91it/s]"
     ]
    },
    {
     "name": "stdout",
     "output_type": "stream",
     "text": [
      "Step [5999/10000], Training Loss: 0.0003, Validation Loss: 0.0003\n"
     ]
    },
    {
     "name": "stderr",
     "output_type": "stream",
     "text": [
      " 71%|███████   | 7053/10000 [00:26<00:06, 435.71it/s]"
     ]
    },
    {
     "name": "stdout",
     "output_type": "stream",
     "text": [
      "Step [6999/10000], Training Loss: 0.0003, Validation Loss: 0.0003\n"
     ]
    },
    {
     "name": "stderr",
     "output_type": "stream",
     "text": [
      " 80%|████████  | 8006/10000 [00:29<00:06, 306.69it/s]"
     ]
    },
    {
     "name": "stdout",
     "output_type": "stream",
     "text": [
      "Step [7999/10000], Training Loss: 0.0003, Validation Loss: 0.0003\n"
     ]
    },
    {
     "name": "stderr",
     "output_type": "stream",
     "text": [
      " 90%|█████████ | 9050/10000 [00:33<00:04, 234.46it/s]"
     ]
    },
    {
     "name": "stdout",
     "output_type": "stream",
     "text": [
      "Step [8999/10000], Training Loss: 0.0003, Validation Loss: 0.0003\n"
     ]
    },
    {
     "name": "stderr",
     "output_type": "stream",
     "text": [
      "100%|██████████| 10000/10000 [00:37<00:00, 269.38it/s]\n"
     ]
    },
    {
     "name": "stdout",
     "output_type": "stream",
     "text": [
      "Step [9999/10000], Training Loss: 0.0003, Validation Loss: 0.0003\n",
      "Training Loss: 0.0003\n",
      "Mean Euler Error: 1.0375e-06\n",
      "Number of parameters Z_t29: 109\n"
     ]
    },
    {
     "name": "stderr",
     "output_type": "stream",
     "text": [
      "  0%|          | 0/10000 [00:00<?, ?it/s]"
     ]
    },
    {
     "name": "stdout",
     "output_type": "stream",
     "text": [
      "Step [0/10000], Training Loss: 4.9396, Validation Loss: 4.9423\n"
     ]
    },
    {
     "name": "stderr",
     "output_type": "stream",
     "text": [
      " 11%|█         | 1065/10000 [00:03<00:22, 402.48it/s]"
     ]
    },
    {
     "name": "stdout",
     "output_type": "stream",
     "text": [
      "Step [999/10000], Training Loss: 4.5761, Validation Loss: 4.5717\n"
     ]
    },
    {
     "name": "stderr",
     "output_type": "stream",
     "text": [
      " 21%|██        | 2067/10000 [00:07<00:29, 270.43it/s]"
     ]
    },
    {
     "name": "stdout",
     "output_type": "stream",
     "text": [
      "Step [1999/10000], Training Loss: 4.5511, Validation Loss: 4.5863\n"
     ]
    },
    {
     "name": "stderr",
     "output_type": "stream",
     "text": [
      " 31%|███       | 3084/10000 [00:10<00:15, 457.81it/s]"
     ]
    },
    {
     "name": "stdout",
     "output_type": "stream",
     "text": [
      "Step [2999/10000], Training Loss: 4.6271, Validation Loss: 4.5519\n"
     ]
    },
    {
     "name": "stderr",
     "output_type": "stream",
     "text": [
      " 40%|████      | 4034/10000 [00:14<00:25, 235.61it/s]"
     ]
    },
    {
     "name": "stdout",
     "output_type": "stream",
     "text": [
      "Step [3999/10000], Training Loss: 4.5963, Validation Loss: 4.5389\n"
     ]
    },
    {
     "name": "stderr",
     "output_type": "stream",
     "text": [
      " 51%|█████     | 5060/10000 [00:17<00:16, 296.05it/s]"
     ]
    },
    {
     "name": "stdout",
     "output_type": "stream",
     "text": [
      "Step [4999/10000], Training Loss: 4.5614, Validation Loss: 4.5681\n"
     ]
    },
    {
     "name": "stderr",
     "output_type": "stream",
     "text": [
      " 61%|██████    | 6067/10000 [00:21<00:09, 416.81it/s]"
     ]
    },
    {
     "name": "stdout",
     "output_type": "stream",
     "text": [
      "Step [5999/10000], Training Loss: 4.6302, Validation Loss: 4.5620\n"
     ]
    },
    {
     "name": "stderr",
     "output_type": "stream",
     "text": [
      " 71%|███████   | 7064/10000 [00:24<00:08, 338.89it/s]"
     ]
    },
    {
     "name": "stdout",
     "output_type": "stream",
     "text": [
      "Step [6999/10000], Training Loss: 4.5452, Validation Loss: 4.5412\n"
     ]
    },
    {
     "name": "stderr",
     "output_type": "stream",
     "text": [
      " 80%|████████  | 8032/10000 [00:27<00:06, 315.39it/s]"
     ]
    },
    {
     "name": "stdout",
     "output_type": "stream",
     "text": [
      "Step [7999/10000], Training Loss: 4.5333, Validation Loss: 4.6222\n"
     ]
    },
    {
     "name": "stderr",
     "output_type": "stream",
     "text": [
      " 90%|████████▉ | 8999/10000 [00:31<00:03, 284.10it/s]\n"
     ]
    },
    {
     "name": "stdout",
     "output_type": "stream",
     "text": [
      "Step [8999/10000], Training Loss: 4.4981, Validation Loss: 4.5514\n",
      "Training Loss: 4.5721\n",
      "Number of parameters Y_t29: 109\n"
     ]
    },
    {
     "name": "stderr",
     "output_type": "stream",
     "text": [
      "  0%|          | 0/10000 [00:00<?, ?it/s]"
     ]
    },
    {
     "name": "stdout",
     "output_type": "stream",
     "text": [
      "Step [0/10000], Training Loss: 0.4103, Validation Loss: 0.4101\n"
     ]
    },
    {
     "name": "stderr",
     "output_type": "stream",
     "text": [
      " 10%|█         | 1041/10000 [00:03<00:36, 248.03it/s]"
     ]
    },
    {
     "name": "stdout",
     "output_type": "stream",
     "text": [
      "Step [999/10000], Training Loss: 0.0030, Validation Loss: 0.0030\n"
     ]
    },
    {
     "name": "stderr",
     "output_type": "stream",
     "text": [
      " 21%|██        | 2064/10000 [00:07<00:26, 298.56it/s]"
     ]
    },
    {
     "name": "stdout",
     "output_type": "stream",
     "text": [
      "Step [1999/10000], Training Loss: 0.0015, Validation Loss: 0.0015\n"
     ]
    },
    {
     "name": "stderr",
     "output_type": "stream",
     "text": [
      " 30%|███       | 3019/10000 [00:11<00:45, 153.27it/s]"
     ]
    },
    {
     "name": "stdout",
     "output_type": "stream",
     "text": [
      "Step [2999/10000], Training Loss: 0.0007, Validation Loss: 0.0007\n"
     ]
    },
    {
     "name": "stderr",
     "output_type": "stream",
     "text": [
      " 40%|████      | 4042/10000 [00:16<00:22, 260.81it/s]"
     ]
    },
    {
     "name": "stdout",
     "output_type": "stream",
     "text": [
      "Step [3999/10000], Training Loss: 0.0004, Validation Loss: 0.0004\n"
     ]
    },
    {
     "name": "stderr",
     "output_type": "stream",
     "text": [
      " 50%|█████     | 5030/10000 [00:20<00:21, 229.81it/s]"
     ]
    },
    {
     "name": "stdout",
     "output_type": "stream",
     "text": [
      "Step [4999/10000], Training Loss: 0.0003, Validation Loss: 0.0003\n"
     ]
    },
    {
     "name": "stderr",
     "output_type": "stream",
     "text": [
      " 60%|██████    | 6029/10000 [00:24<00:12, 330.28it/s]"
     ]
    },
    {
     "name": "stdout",
     "output_type": "stream",
     "text": [
      "Step [5999/10000], Training Loss: 0.0003, Validation Loss: 0.0003\n"
     ]
    },
    {
     "name": "stderr",
     "output_type": "stream",
     "text": [
      " 71%|███████   | 7053/10000 [00:27<00:08, 336.41it/s]"
     ]
    },
    {
     "name": "stdout",
     "output_type": "stream",
     "text": [
      "Step [6999/10000], Training Loss: 0.0003, Validation Loss: 0.0003\n"
     ]
    },
    {
     "name": "stderr",
     "output_type": "stream",
     "text": [
      " 81%|████████  | 8076/10000 [00:31<00:05, 362.87it/s]"
     ]
    },
    {
     "name": "stdout",
     "output_type": "stream",
     "text": [
      "Step [7999/10000], Training Loss: 0.0003, Validation Loss: 0.0003\n"
     ]
    },
    {
     "name": "stderr",
     "output_type": "stream",
     "text": [
      " 91%|█████████ | 9078/10000 [00:35<00:02, 408.50it/s]"
     ]
    },
    {
     "name": "stdout",
     "output_type": "stream",
     "text": [
      "Step [8999/10000], Training Loss: 0.0003, Validation Loss: 0.0003\n"
     ]
    },
    {
     "name": "stderr",
     "output_type": "stream",
     "text": [
      "100%|██████████| 10000/10000 [00:38<00:00, 257.12it/s]\n"
     ]
    },
    {
     "name": "stdout",
     "output_type": "stream",
     "text": [
      "Step [9999/10000], Training Loss: 0.0003, Validation Loss: 0.0003\n",
      "Training Loss: 0.0003\n",
      "Mean Euler Error: 1.5880e-06\n",
      "Number of parameters Z_t28: 109\n"
     ]
    },
    {
     "name": "stderr",
     "output_type": "stream",
     "text": [
      "  0%|          | 45/10000 [00:00<00:22, 446.88it/s]"
     ]
    },
    {
     "name": "stdout",
     "output_type": "stream",
     "text": [
      "Step [0/10000], Training Loss: 4.6273, Validation Loss: 4.5064\n"
     ]
    },
    {
     "name": "stderr",
     "output_type": "stream",
     "text": [
      " 10%|█         | 1026/10000 [00:03<00:37, 240.46it/s]"
     ]
    },
    {
     "name": "stdout",
     "output_type": "stream",
     "text": [
      "Step [999/10000], Training Loss: 4.6195, Validation Loss: 4.5078\n"
     ]
    },
    {
     "name": "stderr",
     "output_type": "stream",
     "text": [
      " 20%|██        | 2049/10000 [00:07<00:27, 285.00it/s]"
     ]
    },
    {
     "name": "stdout",
     "output_type": "stream",
     "text": [
      "Step [1999/10000], Training Loss: 4.5065, Validation Loss: 4.5518\n"
     ]
    },
    {
     "name": "stderr",
     "output_type": "stream",
     "text": [
      " 30%|███       | 3018/10000 [00:11<00:24, 279.35it/s]"
     ]
    },
    {
     "name": "stdout",
     "output_type": "stream",
     "text": [
      "Step [2999/10000], Training Loss: 4.5352, Validation Loss: 4.4932\n"
     ]
    },
    {
     "name": "stderr",
     "output_type": "stream",
     "text": [
      " 41%|████      | 4068/10000 [00:14<00:18, 326.10it/s]"
     ]
    },
    {
     "name": "stdout",
     "output_type": "stream",
     "text": [
      "Step [3999/10000], Training Loss: 4.5455, Validation Loss: 4.5477\n"
     ]
    },
    {
     "name": "stderr",
     "output_type": "stream",
     "text": [
      " 50%|█████     | 5044/10000 [00:17<00:10, 457.61it/s]"
     ]
    },
    {
     "name": "stdout",
     "output_type": "stream",
     "text": [
      "Step [4999/10000], Training Loss: 4.5295, Validation Loss: 4.5574\n"
     ]
    },
    {
     "name": "stderr",
     "output_type": "stream",
     "text": [
      " 60%|██████    | 6036/10000 [00:21<00:11, 357.49it/s]"
     ]
    },
    {
     "name": "stdout",
     "output_type": "stream",
     "text": [
      "Step [5999/10000], Training Loss: 4.5843, Validation Loss: 4.5220\n"
     ]
    },
    {
     "name": "stderr",
     "output_type": "stream",
     "text": [
      " 70%|███████   | 7040/10000 [00:24<00:13, 220.45it/s]"
     ]
    },
    {
     "name": "stdout",
     "output_type": "stream",
     "text": [
      "Step [6999/10000], Training Loss: 4.5550, Validation Loss: 4.5473\n"
     ]
    },
    {
     "name": "stderr",
     "output_type": "stream",
     "text": [
      " 80%|███████▉  | 7999/10000 [00:28<00:07, 280.85it/s]\n"
     ]
    },
    {
     "name": "stdout",
     "output_type": "stream",
     "text": [
      "Step [7999/10000], Training Loss: 4.4798, Validation Loss: 4.5147\n",
      "Training Loss: 4.5733\n",
      "Number of parameters Y_t28: 109\n"
     ]
    },
    {
     "name": "stderr",
     "output_type": "stream",
     "text": [
      "  0%|          | 15/10000 [00:00<01:08, 145.43it/s]"
     ]
    },
    {
     "name": "stdout",
     "output_type": "stream",
     "text": [
      "Step [0/10000], Training Loss: 0.1813, Validation Loss: 0.1806\n"
     ]
    },
    {
     "name": "stderr",
     "output_type": "stream",
     "text": [
      " 10%|▉         | 997/10000 [00:02<00:36, 245.64it/s]"
     ]
    },
    {
     "name": "stdout",
     "output_type": "stream",
     "text": [
      "Step [999/10000], Training Loss: 0.0014, Validation Loss: 0.0014\n"
     ]
    },
    {
     "name": "stderr",
     "output_type": "stream",
     "text": [
      " 20%|██        | 2034/10000 [00:06<00:31, 252.58it/s]"
     ]
    },
    {
     "name": "stdout",
     "output_type": "stream",
     "text": [
      "Step [1999/10000], Training Loss: 0.0004, Validation Loss: 0.0004\n"
     ]
    },
    {
     "name": "stderr",
     "output_type": "stream",
     "text": [
      " 30%|███       | 3039/10000 [00:11<00:36, 189.08it/s]"
     ]
    },
    {
     "name": "stdout",
     "output_type": "stream",
     "text": [
      "Step [2999/10000], Training Loss: 0.0004, Validation Loss: 0.0004\n"
     ]
    },
    {
     "name": "stderr",
     "output_type": "stream",
     "text": [
      " 41%|████      | 4063/10000 [00:15<00:20, 285.81it/s]"
     ]
    },
    {
     "name": "stdout",
     "output_type": "stream",
     "text": [
      "Step [3999/10000], Training Loss: 0.0003, Validation Loss: 0.0003\n"
     ]
    },
    {
     "name": "stderr",
     "output_type": "stream",
     "text": [
      " 50%|████▉     | 4997/10000 [00:19<00:20, 243.33it/s]"
     ]
    },
    {
     "name": "stdout",
     "output_type": "stream",
     "text": [
      "Step [4999/10000], Training Loss: 0.0003, Validation Loss: 0.0003\n"
     ]
    },
    {
     "name": "stderr",
     "output_type": "stream",
     "text": [
      " 60%|██████    | 6015/10000 [00:23<00:11, 347.81it/s]"
     ]
    },
    {
     "name": "stdout",
     "output_type": "stream",
     "text": [
      "Step [5999/10000], Training Loss: 0.0003, Validation Loss: 0.0003\n"
     ]
    },
    {
     "name": "stderr",
     "output_type": "stream",
     "text": [
      " 71%|███████   | 7069/10000 [00:27<00:10, 282.89it/s]"
     ]
    },
    {
     "name": "stdout",
     "output_type": "stream",
     "text": [
      "Step [6999/10000], Training Loss: 0.0003, Validation Loss: 0.0003\n"
     ]
    },
    {
     "name": "stderr",
     "output_type": "stream",
     "text": [
      " 81%|████████  | 8061/10000 [00:30<00:05, 363.13it/s]"
     ]
    },
    {
     "name": "stdout",
     "output_type": "stream",
     "text": [
      "Step [7999/10000], Training Loss: 0.0003, Validation Loss: 0.0003\n"
     ]
    },
    {
     "name": "stderr",
     "output_type": "stream",
     "text": [
      " 90%|█████████ | 9035/10000 [00:33<00:03, 293.19it/s]"
     ]
    },
    {
     "name": "stdout",
     "output_type": "stream",
     "text": [
      "Step [8999/10000], Training Loss: 0.0003, Validation Loss: 0.0003\n"
     ]
    },
    {
     "name": "stderr",
     "output_type": "stream",
     "text": [
      "100%|██████████| 10000/10000 [00:36<00:00, 272.82it/s]\n"
     ]
    },
    {
     "name": "stdout",
     "output_type": "stream",
     "text": [
      "Step [9999/10000], Training Loss: 0.0003, Validation Loss: 0.0003\n",
      "Training Loss: 0.0003\n",
      "Mean Euler Error: 5.3821e-07\n",
      "Number of parameters Z_t27: 109\n"
     ]
    },
    {
     "name": "stderr",
     "output_type": "stream",
     "text": [
      "  1%|          | 54/10000 [00:00<00:18, 533.39it/s]"
     ]
    },
    {
     "name": "stdout",
     "output_type": "stream",
     "text": [
      "Step [0/10000], Training Loss: 5.3639, Validation Loss: 5.4084\n"
     ]
    },
    {
     "name": "stderr",
     "output_type": "stream",
     "text": [
      " 10%|█         | 1049/10000 [00:02<00:29, 299.77it/s]"
     ]
    },
    {
     "name": "stdout",
     "output_type": "stream",
     "text": [
      "Step [999/10000], Training Loss: 4.4267, Validation Loss: 4.4228\n"
     ]
    },
    {
     "name": "stderr",
     "output_type": "stream",
     "text": [
      " 21%|██        | 2088/10000 [00:06<00:17, 439.64it/s]"
     ]
    },
    {
     "name": "stdout",
     "output_type": "stream",
     "text": [
      "Step [1999/10000], Training Loss: 4.4155, Validation Loss: 4.4860\n"
     ]
    },
    {
     "name": "stderr",
     "output_type": "stream",
     "text": [
      " 31%|███       | 3093/10000 [00:08<00:10, 673.73it/s]"
     ]
    },
    {
     "name": "stdout",
     "output_type": "stream",
     "text": [
      "Step [2999/10000], Training Loss: 4.5150, Validation Loss: 4.5047\n"
     ]
    },
    {
     "name": "stderr",
     "output_type": "stream",
     "text": [
      " 41%|████      | 4098/10000 [00:10<00:11, 535.40it/s]"
     ]
    },
    {
     "name": "stdout",
     "output_type": "stream",
     "text": [
      "Step [3999/10000], Training Loss: 4.4878, Validation Loss: 4.5550\n"
     ]
    },
    {
     "name": "stderr",
     "output_type": "stream",
     "text": [
      " 50%|█████     | 5029/10000 [00:13<00:16, 299.21it/s]"
     ]
    },
    {
     "name": "stdout",
     "output_type": "stream",
     "text": [
      "Step [4999/10000], Training Loss: 4.4817, Validation Loss: 4.5369\n"
     ]
    },
    {
     "name": "stderr",
     "output_type": "stream",
     "text": [
      " 60%|█████▉    | 5999/10000 [00:16<00:11, 362.55it/s]\n"
     ]
    },
    {
     "name": "stdout",
     "output_type": "stream",
     "text": [
      "Step [5999/10000], Training Loss: 4.5172, Validation Loss: 4.5218\n",
      "Training Loss: 4.4164\n",
      "Number of parameters Y_t27: 109\n"
     ]
    },
    {
     "name": "stderr",
     "output_type": "stream",
     "text": [
      "  0%|          | 39/10000 [00:00<00:27, 367.09it/s]"
     ]
    },
    {
     "name": "stdout",
     "output_type": "stream",
     "text": [
      "Step [0/10000], Training Loss: 0.0720, Validation Loss: 0.0715\n"
     ]
    },
    {
     "name": "stderr",
     "output_type": "stream",
     "text": [
      " 11%|█         | 1082/10000 [00:03<00:19, 459.35it/s]"
     ]
    },
    {
     "name": "stdout",
     "output_type": "stream",
     "text": [
      "Step [999/10000], Training Loss: 0.0016, Validation Loss: 0.0016\n"
     ]
    },
    {
     "name": "stderr",
     "output_type": "stream",
     "text": [
      " 20%|██        | 2041/10000 [00:06<00:26, 299.16it/s]"
     ]
    },
    {
     "name": "stdout",
     "output_type": "stream",
     "text": [
      "Step [1999/10000], Training Loss: 0.0005, Validation Loss: 0.0005\n"
     ]
    },
    {
     "name": "stderr",
     "output_type": "stream",
     "text": [
      " 30%|███       | 3023/10000 [00:09<00:17, 388.99it/s]"
     ]
    },
    {
     "name": "stdout",
     "output_type": "stream",
     "text": [
      "Step [2999/10000], Training Loss: 0.0003, Validation Loss: 0.0004\n"
     ]
    },
    {
     "name": "stderr",
     "output_type": "stream",
     "text": [
      " 40%|███▉      | 3990/10000 [00:12<00:14, 423.78it/s]"
     ]
    },
    {
     "name": "stdout",
     "output_type": "stream",
     "text": [
      "Step [3999/10000], Training Loss: 0.0003, Validation Loss: 0.0003\n"
     ]
    },
    {
     "name": "stderr",
     "output_type": "stream",
     "text": [
      " 50%|█████     | 5029/10000 [00:16<00:18, 272.67it/s]"
     ]
    },
    {
     "name": "stdout",
     "output_type": "stream",
     "text": [
      "Step [4999/10000], Training Loss: 0.0003, Validation Loss: 0.0003\n"
     ]
    },
    {
     "name": "stderr",
     "output_type": "stream",
     "text": [
      " 60%|██████    | 6035/10000 [00:20<00:16, 240.97it/s]"
     ]
    },
    {
     "name": "stdout",
     "output_type": "stream",
     "text": [
      "Step [5999/10000], Training Loss: 0.0003, Validation Loss: 0.0003\n"
     ]
    },
    {
     "name": "stderr",
     "output_type": "stream",
     "text": [
      " 71%|███████   | 7058/10000 [00:24<00:10, 291.78it/s]"
     ]
    },
    {
     "name": "stdout",
     "output_type": "stream",
     "text": [
      "Step [6999/10000], Training Loss: 0.0003, Validation Loss: 0.0003\n"
     ]
    },
    {
     "name": "stderr",
     "output_type": "stream",
     "text": [
      " 81%|████████  | 8063/10000 [00:28<00:07, 256.14it/s]"
     ]
    },
    {
     "name": "stdout",
     "output_type": "stream",
     "text": [
      "Step [7999/10000], Training Loss: 0.0003, Validation Loss: 0.0003\n"
     ]
    },
    {
     "name": "stderr",
     "output_type": "stream",
     "text": [
      " 90%|█████████ | 9011/10000 [00:32<00:05, 187.16it/s]"
     ]
    },
    {
     "name": "stdout",
     "output_type": "stream",
     "text": [
      "Step [8999/10000], Training Loss: 0.0003, Validation Loss: 0.0003\n"
     ]
    },
    {
     "name": "stderr",
     "output_type": "stream",
     "text": [
      "100%|██████████| 10000/10000 [00:37<00:00, 268.40it/s]\n"
     ]
    },
    {
     "name": "stdout",
     "output_type": "stream",
     "text": [
      "Step [9999/10000], Training Loss: 0.0003, Validation Loss: 0.0003\n",
      "Training Loss: 0.0003\n",
      "Mean Euler Error: 2.5696e-06\n",
      "Number of parameters Z_t26: 109\n"
     ]
    },
    {
     "name": "stderr",
     "output_type": "stream",
     "text": [
      "  0%|          | 0/10000 [00:00<?, ?it/s]"
     ]
    },
    {
     "name": "stdout",
     "output_type": "stream",
     "text": [
      "Step [0/10000], Training Loss: 4.8132, Validation Loss: 4.8642\n"
     ]
    },
    {
     "name": "stderr",
     "output_type": "stream",
     "text": [
      " 11%|█         | 1082/10000 [00:03<00:18, 472.83it/s]"
     ]
    },
    {
     "name": "stdout",
     "output_type": "stream",
     "text": [
      "Step [999/10000], Training Loss: 4.4548, Validation Loss: 4.4884\n"
     ]
    },
    {
     "name": "stderr",
     "output_type": "stream",
     "text": [
      " 21%|██        | 2117/10000 [00:06<00:16, 486.37it/s]"
     ]
    },
    {
     "name": "stdout",
     "output_type": "stream",
     "text": [
      "Step [1999/10000], Training Loss: 4.4977, Validation Loss: 4.4708\n"
     ]
    },
    {
     "name": "stderr",
     "output_type": "stream",
     "text": [
      " 31%|███       | 3079/10000 [00:09<00:14, 480.96it/s]"
     ]
    },
    {
     "name": "stdout",
     "output_type": "stream",
     "text": [
      "Step [2999/10000], Training Loss: 4.5358, Validation Loss: 4.4669\n"
     ]
    },
    {
     "name": "stderr",
     "output_type": "stream",
     "text": [
      " 40%|████      | 4037/10000 [00:12<00:23, 258.93it/s]"
     ]
    },
    {
     "name": "stdout",
     "output_type": "stream",
     "text": [
      "Step [3999/10000], Training Loss: 4.4938, Validation Loss: 4.5456\n"
     ]
    },
    {
     "name": "stderr",
     "output_type": "stream",
     "text": [
      " 50%|█████     | 5034/10000 [00:15<00:16, 306.66it/s]"
     ]
    },
    {
     "name": "stdout",
     "output_type": "stream",
     "text": [
      "Step [4999/10000], Training Loss: 4.4041, Validation Loss: 4.4752\n"
     ]
    },
    {
     "name": "stderr",
     "output_type": "stream",
     "text": [
      " 60%|██████    | 6041/10000 [00:18<00:14, 276.12it/s]"
     ]
    },
    {
     "name": "stdout",
     "output_type": "stream",
     "text": [
      "Step [5999/10000], Training Loss: 4.4491, Validation Loss: 4.5066\n"
     ]
    },
    {
     "name": "stderr",
     "output_type": "stream",
     "text": [
      " 70%|███████   | 7042/10000 [00:22<00:10, 291.43it/s]"
     ]
    },
    {
     "name": "stdout",
     "output_type": "stream",
     "text": [
      "Step [6999/10000], Training Loss: 4.4313, Validation Loss: 4.4993\n"
     ]
    },
    {
     "name": "stderr",
     "output_type": "stream",
     "text": [
      " 80%|████████  | 8044/10000 [00:25<00:06, 309.20it/s]"
     ]
    },
    {
     "name": "stdout",
     "output_type": "stream",
     "text": [
      "Step [7999/10000], Training Loss: 4.4924, Validation Loss: 4.4211\n"
     ]
    },
    {
     "name": "stderr",
     "output_type": "stream",
     "text": [
      " 90%|█████████ | 9031/10000 [00:28<00:04, 239.24it/s]"
     ]
    },
    {
     "name": "stdout",
     "output_type": "stream",
     "text": [
      "Step [8999/10000], Training Loss: 4.3920, Validation Loss: 4.4519\n"
     ]
    },
    {
     "name": "stderr",
     "output_type": "stream",
     "text": [
      "100%|██████████| 10000/10000 [00:32<00:00, 308.41it/s]\n"
     ]
    },
    {
     "name": "stdout",
     "output_type": "stream",
     "text": [
      "Step [9999/10000], Training Loss: 4.4172, Validation Loss: 4.5192\n",
      "Training Loss: 4.4434\n",
      "Number of parameters Y_t26: 109\n"
     ]
    },
    {
     "name": "stderr",
     "output_type": "stream",
     "text": [
      "  0%|          | 16/10000 [00:00<01:08, 145.26it/s]"
     ]
    },
    {
     "name": "stdout",
     "output_type": "stream",
     "text": [
      "Step [0/10000], Training Loss: 0.1185, Validation Loss: 0.1181\n"
     ]
    },
    {
     "name": "stderr",
     "output_type": "stream",
     "text": [
      " 10%|█         | 1035/10000 [00:02<00:28, 317.26it/s]"
     ]
    },
    {
     "name": "stdout",
     "output_type": "stream",
     "text": [
      "Step [999/10000], Training Loss: 0.0010, Validation Loss: 0.0010\n"
     ]
    },
    {
     "name": "stderr",
     "output_type": "stream",
     "text": [
      " 20%|██        | 2013/10000 [00:06<00:42, 189.04it/s]"
     ]
    },
    {
     "name": "stdout",
     "output_type": "stream",
     "text": [
      "Step [1999/10000], Training Loss: 0.0005, Validation Loss: 0.0005\n"
     ]
    },
    {
     "name": "stderr",
     "output_type": "stream",
     "text": [
      " 30%|███       | 3034/10000 [00:10<00:34, 201.56it/s]"
     ]
    },
    {
     "name": "stdout",
     "output_type": "stream",
     "text": [
      "Step [2999/10000], Training Loss: 0.0004, Validation Loss: 0.0004\n"
     ]
    },
    {
     "name": "stderr",
     "output_type": "stream",
     "text": [
      " 41%|████      | 4056/10000 [00:14<00:24, 237.77it/s]"
     ]
    },
    {
     "name": "stdout",
     "output_type": "stream",
     "text": [
      "Step [3999/10000], Training Loss: 0.0003, Validation Loss: 0.0003\n"
     ]
    },
    {
     "name": "stderr",
     "output_type": "stream",
     "text": [
      " 51%|█████     | 5059/10000 [00:18<00:15, 327.39it/s]"
     ]
    },
    {
     "name": "stdout",
     "output_type": "stream",
     "text": [
      "Step [4999/10000], Training Loss: 0.0003, Validation Loss: 0.0003\n"
     ]
    },
    {
     "name": "stderr",
     "output_type": "stream",
     "text": [
      " 60%|██████    | 6016/10000 [00:21<00:15, 265.45it/s]"
     ]
    },
    {
     "name": "stdout",
     "output_type": "stream",
     "text": [
      "Step [5999/10000], Training Loss: 0.0003, Validation Loss: 0.0003\n"
     ]
    },
    {
     "name": "stderr",
     "output_type": "stream",
     "text": [
      " 70%|███████   | 7026/10000 [00:24<00:16, 178.75it/s]"
     ]
    },
    {
     "name": "stdout",
     "output_type": "stream",
     "text": [
      "Step [6999/10000], Training Loss: 0.0003, Validation Loss: 0.0003\n"
     ]
    },
    {
     "name": "stderr",
     "output_type": "stream",
     "text": [
      " 80%|████████  | 8033/10000 [00:28<00:08, 230.36it/s]"
     ]
    },
    {
     "name": "stdout",
     "output_type": "stream",
     "text": [
      "Step [7999/10000], Training Loss: 0.0003, Validation Loss: 0.0003\n"
     ]
    },
    {
     "name": "stderr",
     "output_type": "stream",
     "text": [
      " 90%|█████████ | 9037/10000 [00:32<00:04, 234.93it/s]"
     ]
    },
    {
     "name": "stdout",
     "output_type": "stream",
     "text": [
      "Step [8999/10000], Training Loss: 0.0003, Validation Loss: 0.0003\n"
     ]
    },
    {
     "name": "stderr",
     "output_type": "stream",
     "text": [
      "100%|██████████| 10000/10000 [00:36<00:00, 271.62it/s]\n"
     ]
    },
    {
     "name": "stdout",
     "output_type": "stream",
     "text": [
      "Step [9999/10000], Training Loss: 0.0003, Validation Loss: 0.0003\n",
      "Training Loss: 0.0003\n",
      "Mean Euler Error: 1.3310e-06\n",
      "Number of parameters Z_t25: 109\n"
     ]
    },
    {
     "name": "stderr",
     "output_type": "stream",
     "text": [
      "  0%|          | 8/10000 [00:00<02:06, 78.90it/s]"
     ]
    },
    {
     "name": "stdout",
     "output_type": "stream",
     "text": [
      "Step [0/10000], Training Loss: 4.4536, Validation Loss: 4.4600\n"
     ]
    },
    {
     "name": "stderr",
     "output_type": "stream",
     "text": [
      " 11%|█         | 1113/10000 [00:03<00:20, 442.79it/s]"
     ]
    },
    {
     "name": "stdout",
     "output_type": "stream",
     "text": [
      "Step [999/10000], Training Loss: 4.3649, Validation Loss: 4.4663\n"
     ]
    },
    {
     "name": "stderr",
     "output_type": "stream",
     "text": [
      " 20%|██        | 2039/10000 [00:07<00:28, 279.24it/s]"
     ]
    },
    {
     "name": "stdout",
     "output_type": "stream",
     "text": [
      "Step [1999/10000], Training Loss: 4.5186, Validation Loss: 4.4945\n"
     ]
    },
    {
     "name": "stderr",
     "output_type": "stream",
     "text": [
      " 30%|███       | 3030/10000 [00:10<00:25, 273.77it/s]"
     ]
    },
    {
     "name": "stdout",
     "output_type": "stream",
     "text": [
      "Step [2999/10000], Training Loss: 4.4357, Validation Loss: 4.4829\n"
     ]
    },
    {
     "name": "stderr",
     "output_type": "stream",
     "text": [
      " 41%|████      | 4054/10000 [00:12<00:13, 433.93it/s]"
     ]
    },
    {
     "name": "stdout",
     "output_type": "stream",
     "text": [
      "Step [3999/10000], Training Loss: 4.4372, Validation Loss: 4.4393\n"
     ]
    },
    {
     "name": "stderr",
     "output_type": "stream",
     "text": [
      " 50%|█████     | 5028/10000 [00:16<00:22, 221.01it/s]"
     ]
    },
    {
     "name": "stdout",
     "output_type": "stream",
     "text": [
      "Step [4999/10000], Training Loss: 4.3954, Validation Loss: 4.4411\n"
     ]
    },
    {
     "name": "stderr",
     "output_type": "stream",
     "text": [
      " 60%|██████    | 6037/10000 [00:20<00:10, 366.41it/s]"
     ]
    },
    {
     "name": "stdout",
     "output_type": "stream",
     "text": [
      "Step [5999/10000], Training Loss: 4.3621, Validation Loss: 4.4562\n"
     ]
    },
    {
     "name": "stderr",
     "output_type": "stream",
     "text": [
      " 70%|███████   | 7044/10000 [00:24<00:07, 373.86it/s]"
     ]
    },
    {
     "name": "stdout",
     "output_type": "stream",
     "text": [
      "Step [6999/10000], Training Loss: 4.4421, Validation Loss: 4.4236\n"
     ]
    },
    {
     "name": "stderr",
     "output_type": "stream",
     "text": [
      " 80%|████████  | 8038/10000 [00:27<00:05, 346.58it/s]"
     ]
    },
    {
     "name": "stdout",
     "output_type": "stream",
     "text": [
      "Step [7999/10000], Training Loss: 4.4723, Validation Loss: 4.4499\n"
     ]
    },
    {
     "name": "stderr",
     "output_type": "stream",
     "text": [
      " 90%|█████████ | 9028/10000 [00:31<00:03, 276.65it/s]"
     ]
    },
    {
     "name": "stdout",
     "output_type": "stream",
     "text": [
      "Step [8999/10000], Training Loss: 4.3970, Validation Loss: 4.4676\n"
     ]
    },
    {
     "name": "stderr",
     "output_type": "stream",
     "text": [
      "100%|██████████| 10000/10000 [00:35<00:00, 283.86it/s]\n"
     ]
    },
    {
     "name": "stdout",
     "output_type": "stream",
     "text": [
      "Step [9999/10000], Training Loss: 4.4332, Validation Loss: 4.4821\n",
      "Training Loss: 4.3992\n",
      "Number of parameters Y_t25: 109\n"
     ]
    },
    {
     "name": "stderr",
     "output_type": "stream",
     "text": [
      "  0%|          | 34/10000 [00:00<00:30, 321.96it/s]"
     ]
    },
    {
     "name": "stdout",
     "output_type": "stream",
     "text": [
      "Step [0/10000], Training Loss: 0.0074, Validation Loss: 0.0074\n"
     ]
    },
    {
     "name": "stderr",
     "output_type": "stream",
     "text": [
      " 11%|█         | 1065/10000 [00:03<00:23, 387.19it/s]"
     ]
    },
    {
     "name": "stdout",
     "output_type": "stream",
     "text": [
      "Step [999/10000], Training Loss: 0.0007, Validation Loss: 0.0007\n"
     ]
    },
    {
     "name": "stderr",
     "output_type": "stream",
     "text": [
      " 20%|██        | 2038/10000 [00:06<00:21, 366.71it/s]"
     ]
    },
    {
     "name": "stdout",
     "output_type": "stream",
     "text": [
      "Step [1999/10000], Training Loss: 0.0004, Validation Loss: 0.0004\n"
     ]
    },
    {
     "name": "stderr",
     "output_type": "stream",
     "text": [
      " 30%|███       | 3032/10000 [00:10<00:25, 278.02it/s]"
     ]
    },
    {
     "name": "stdout",
     "output_type": "stream",
     "text": [
      "Step [2999/10000], Training Loss: 0.0003, Validation Loss: 0.0003\n"
     ]
    },
    {
     "name": "stderr",
     "output_type": "stream",
     "text": [
      " 40%|████      | 4045/10000 [00:13<00:18, 320.67it/s]"
     ]
    },
    {
     "name": "stdout",
     "output_type": "stream",
     "text": [
      "Step [3999/10000], Training Loss: 0.0003, Validation Loss: 0.0003\n"
     ]
    },
    {
     "name": "stderr",
     "output_type": "stream",
     "text": [
      " 50%|█████     | 5033/10000 [00:16<00:17, 285.65it/s]"
     ]
    },
    {
     "name": "stdout",
     "output_type": "stream",
     "text": [
      "Step [4999/10000], Training Loss: 0.0003, Validation Loss: 0.0003\n"
     ]
    },
    {
     "name": "stderr",
     "output_type": "stream",
     "text": [
      " 60%|██████    | 6046/10000 [00:21<00:16, 239.07it/s]"
     ]
    },
    {
     "name": "stdout",
     "output_type": "stream",
     "text": [
      "Step [5999/10000], Training Loss: 0.0003, Validation Loss: 0.0003\n"
     ]
    },
    {
     "name": "stderr",
     "output_type": "stream",
     "text": [
      " 71%|███████   | 7058/10000 [00:24<00:08, 361.57it/s]"
     ]
    },
    {
     "name": "stdout",
     "output_type": "stream",
     "text": [
      "Step [6999/10000], Training Loss: 0.0003, Validation Loss: 0.0003\n"
     ]
    },
    {
     "name": "stderr",
     "output_type": "stream",
     "text": [
      " 81%|████████  | 8072/10000 [00:28<00:04, 393.39it/s]"
     ]
    },
    {
     "name": "stdout",
     "output_type": "stream",
     "text": [
      "Step [7999/10000], Training Loss: 0.0003, Validation Loss: 0.0003\n"
     ]
    },
    {
     "name": "stderr",
     "output_type": "stream",
     "text": [
      " 90%|█████████ | 9021/10000 [00:32<00:04, 201.67it/s]"
     ]
    },
    {
     "name": "stdout",
     "output_type": "stream",
     "text": [
      "Step [8999/10000], Training Loss: 0.0003, Validation Loss: 0.0003\n"
     ]
    },
    {
     "name": "stderr",
     "output_type": "stream",
     "text": [
      "100%|██████████| 10000/10000 [00:36<00:00, 274.36it/s]\n"
     ]
    },
    {
     "name": "stdout",
     "output_type": "stream",
     "text": [
      "Step [9999/10000], Training Loss: 0.0003, Validation Loss: 0.0003\n",
      "Training Loss: 0.0003\n",
      "Mean Euler Error: 9.5652e-07\n",
      "Number of parameters Z_t24: 109\n"
     ]
    },
    {
     "name": "stderr",
     "output_type": "stream",
     "text": [
      "  0%|          | 0/10000 [00:00<?, ?it/s]"
     ]
    },
    {
     "name": "stdout",
     "output_type": "stream",
     "text": [
      "Step [0/10000], Training Loss: 4.5633, Validation Loss: 4.5653\n"
     ]
    },
    {
     "name": "stderr",
     "output_type": "stream",
     "text": [
      " 11%|█         | 1058/10000 [00:04<00:34, 262.38it/s]"
     ]
    },
    {
     "name": "stdout",
     "output_type": "stream",
     "text": [
      "Step [999/10000], Training Loss: 4.3949, Validation Loss: 4.4366\n"
     ]
    },
    {
     "name": "stderr",
     "output_type": "stream",
     "text": [
      " 20%|██        | 2050/10000 [00:07<00:13, 594.04it/s]"
     ]
    },
    {
     "name": "stdout",
     "output_type": "stream",
     "text": [
      "Step [1999/10000], Training Loss: 4.4233, Validation Loss: 4.4201\n"
     ]
    },
    {
     "name": "stderr",
     "output_type": "stream",
     "text": [
      " 30%|███       | 3040/10000 [00:10<00:32, 214.06it/s]"
     ]
    },
    {
     "name": "stdout",
     "output_type": "stream",
     "text": [
      "Step [2999/10000], Training Loss: 4.4185, Validation Loss: 4.4550\n"
     ]
    },
    {
     "name": "stderr",
     "output_type": "stream",
     "text": [
      " 40%|████      | 4040/10000 [00:14<00:20, 284.63it/s]"
     ]
    },
    {
     "name": "stdout",
     "output_type": "stream",
     "text": [
      "Step [3999/10000], Training Loss: 4.4830, Validation Loss: 4.3612\n"
     ]
    },
    {
     "name": "stderr",
     "output_type": "stream",
     "text": [
      " 50%|█████     | 5038/10000 [00:17<00:25, 195.99it/s]"
     ]
    },
    {
     "name": "stdout",
     "output_type": "stream",
     "text": [
      "Step [4999/10000], Training Loss: 4.4716, Validation Loss: 4.3885\n"
     ]
    },
    {
     "name": "stderr",
     "output_type": "stream",
     "text": [
      " 60%|██████    | 6038/10000 [00:21<00:14, 264.90it/s]"
     ]
    },
    {
     "name": "stdout",
     "output_type": "stream",
     "text": [
      "Step [5999/10000], Training Loss: 4.4259, Validation Loss: 4.4133\n"
     ]
    },
    {
     "name": "stderr",
     "output_type": "stream",
     "text": [
      " 70%|██████▉   | 6996/10000 [00:24<00:08, 369.04it/s]"
     ]
    },
    {
     "name": "stdout",
     "output_type": "stream",
     "text": [
      "Step [6999/10000], Training Loss: 4.4594, Validation Loss: 4.5061\n"
     ]
    },
    {
     "name": "stderr",
     "output_type": "stream",
     "text": [
      " 80%|████████  | 8010/10000 [00:28<00:08, 236.87it/s]"
     ]
    },
    {
     "name": "stdout",
     "output_type": "stream",
     "text": [
      "Step [7999/10000], Training Loss: 4.4454, Validation Loss: 4.4339\n"
     ]
    },
    {
     "name": "stderr",
     "output_type": "stream",
     "text": [
      " 90%|████████▉ | 8999/10000 [00:31<00:03, 284.59it/s]\n"
     ]
    },
    {
     "name": "stdout",
     "output_type": "stream",
     "text": [
      "Step [8999/10000], Training Loss: 4.4277, Validation Loss: 4.4588\n",
      "Training Loss: 4.4309\n",
      "Number of parameters Y_t24: 109\n"
     ]
    },
    {
     "name": "stderr",
     "output_type": "stream",
     "text": [
      "  0%|          | 33/10000 [00:00<00:30, 328.25it/s]"
     ]
    },
    {
     "name": "stdout",
     "output_type": "stream",
     "text": [
      "Step [0/10000], Training Loss: 0.0088, Validation Loss: 0.0089\n"
     ]
    },
    {
     "name": "stderr",
     "output_type": "stream",
     "text": [
      " 11%|█         | 1074/10000 [00:03<00:23, 378.15it/s]"
     ]
    },
    {
     "name": "stdout",
     "output_type": "stream",
     "text": [
      "Step [999/10000], Training Loss: 0.0006, Validation Loss: 0.0006\n"
     ]
    },
    {
     "name": "stderr",
     "output_type": "stream",
     "text": [
      " 20%|█▉        | 1993/10000 [00:06<00:30, 259.43it/s]"
     ]
    },
    {
     "name": "stdout",
     "output_type": "stream",
     "text": [
      "Step [1999/10000], Training Loss: 0.0003, Validation Loss: 0.0003\n"
     ]
    },
    {
     "name": "stderr",
     "output_type": "stream",
     "text": [
      " 30%|███       | 3020/10000 [00:12<00:38, 181.71it/s]"
     ]
    },
    {
     "name": "stdout",
     "output_type": "stream",
     "text": [
      "Step [2999/10000], Training Loss: 0.0003, Validation Loss: 0.0003\n"
     ]
    },
    {
     "name": "stderr",
     "output_type": "stream",
     "text": [
      " 41%|████      | 4094/10000 [00:15<00:15, 378.47it/s]"
     ]
    },
    {
     "name": "stdout",
     "output_type": "stream",
     "text": [
      "Step [3999/10000], Training Loss: 0.0003, Validation Loss: 0.0003\n"
     ]
    },
    {
     "name": "stderr",
     "output_type": "stream",
     "text": [
      " 51%|█████     | 5075/10000 [00:18<00:12, 398.18it/s]"
     ]
    },
    {
     "name": "stdout",
     "output_type": "stream",
     "text": [
      "Step [4999/10000], Training Loss: 0.0003, Validation Loss: 0.0003\n"
     ]
    },
    {
     "name": "stderr",
     "output_type": "stream",
     "text": [
      " 61%|██████    | 6056/10000 [00:21<00:10, 379.84it/s]"
     ]
    },
    {
     "name": "stdout",
     "output_type": "stream",
     "text": [
      "Step [5999/10000], Training Loss: 0.0003, Validation Loss: 0.0003\n"
     ]
    },
    {
     "name": "stderr",
     "output_type": "stream",
     "text": [
      " 71%|███████   | 7087/10000 [00:25<00:08, 334.65it/s]"
     ]
    },
    {
     "name": "stdout",
     "output_type": "stream",
     "text": [
      "Step [6999/10000], Training Loss: 0.0003, Validation Loss: 0.0003\n"
     ]
    },
    {
     "name": "stderr",
     "output_type": "stream",
     "text": [
      " 80%|████████  | 8046/10000 [00:29<00:08, 241.08it/s]"
     ]
    },
    {
     "name": "stdout",
     "output_type": "stream",
     "text": [
      "Step [7999/10000], Training Loss: 0.0003, Validation Loss: 0.0003\n"
     ]
    },
    {
     "name": "stderr",
     "output_type": "stream",
     "text": [
      " 90%|█████████ | 9006/10000 [00:32<00:03, 266.70it/s]"
     ]
    },
    {
     "name": "stdout",
     "output_type": "stream",
     "text": [
      "Step [8999/10000], Training Loss: 0.0003, Validation Loss: 0.0003\n"
     ]
    },
    {
     "name": "stderr",
     "output_type": "stream",
     "text": [
      "100%|██████████| 10000/10000 [00:36<00:00, 273.64it/s]\n"
     ]
    },
    {
     "name": "stdout",
     "output_type": "stream",
     "text": [
      "Step [9999/10000], Training Loss: 0.0003, Validation Loss: 0.0003\n",
      "Training Loss: 0.0003\n",
      "Mean Euler Error: 3.8921e-07\n",
      "Number of parameters Z_t23: 109\n"
     ]
    },
    {
     "name": "stderr",
     "output_type": "stream",
     "text": [
      "  0%|          | 0/10000 [00:00<?, ?it/s]"
     ]
    },
    {
     "name": "stdout",
     "output_type": "stream",
     "text": [
      "Step [0/10000], Training Loss: 4.3979, Validation Loss: 4.4304\n"
     ]
    },
    {
     "name": "stderr",
     "output_type": "stream",
     "text": [
      " 10%|█         | 1047/10000 [00:04<00:39, 226.20it/s]"
     ]
    },
    {
     "name": "stdout",
     "output_type": "stream",
     "text": [
      "Step [999/10000], Training Loss: 4.3830, Validation Loss: 4.4313\n"
     ]
    },
    {
     "name": "stderr",
     "output_type": "stream",
     "text": [
      " 20%|██        | 2022/10000 [00:08<00:50, 159.16it/s]"
     ]
    },
    {
     "name": "stdout",
     "output_type": "stream",
     "text": [
      "Step [1999/10000], Training Loss: 4.4380, Validation Loss: 4.3610\n"
     ]
    },
    {
     "name": "stderr",
     "output_type": "stream",
     "text": [
      " 30%|███       | 3006/10000 [00:11<00:21, 330.30it/s]"
     ]
    },
    {
     "name": "stdout",
     "output_type": "stream",
     "text": [
      "Step [2999/10000], Training Loss: 4.2977, Validation Loss: 4.4296\n"
     ]
    },
    {
     "name": "stderr",
     "output_type": "stream",
     "text": [
      " 40%|████      | 4024/10000 [00:15<00:30, 193.16it/s]"
     ]
    },
    {
     "name": "stdout",
     "output_type": "stream",
     "text": [
      "Step [3999/10000], Training Loss: 4.3840, Validation Loss: 4.3749\n"
     ]
    },
    {
     "name": "stderr",
     "output_type": "stream",
     "text": [
      " 50%|█████     | 5031/10000 [00:18<00:17, 276.13it/s]"
     ]
    },
    {
     "name": "stdout",
     "output_type": "stream",
     "text": [
      "Step [4999/10000], Training Loss: 4.3639, Validation Loss: 4.4233\n"
     ]
    },
    {
     "name": "stderr",
     "output_type": "stream",
     "text": [
      " 61%|██████    | 6061/10000 [00:22<00:11, 346.06it/s]"
     ]
    },
    {
     "name": "stdout",
     "output_type": "stream",
     "text": [
      "Step [5999/10000], Training Loss: 4.4062, Validation Loss: 4.3757\n"
     ]
    },
    {
     "name": "stderr",
     "output_type": "stream",
     "text": [
      " 70%|██████▉   | 6999/10000 [00:25<00:11, 269.93it/s]\n"
     ]
    },
    {
     "name": "stdout",
     "output_type": "stream",
     "text": [
      "Step [6999/10000], Training Loss: 4.3981, Validation Loss: 4.3956\n",
      "Training Loss: 4.4192\n",
      "Number of parameters Y_t23: 109\n"
     ]
    },
    {
     "name": "stderr",
     "output_type": "stream",
     "text": [
      "  0%|          | 0/10000 [00:00<?, ?it/s]"
     ]
    },
    {
     "name": "stdout",
     "output_type": "stream",
     "text": [
      "Step [0/10000], Training Loss: 0.0165, Validation Loss: 0.0165\n"
     ]
    },
    {
     "name": "stderr",
     "output_type": "stream",
     "text": [
      " 11%|█         | 1057/10000 [00:03<00:18, 487.46it/s]"
     ]
    },
    {
     "name": "stdout",
     "output_type": "stream",
     "text": [
      "Step [999/10000], Training Loss: 0.0020, Validation Loss: 0.0020\n"
     ]
    },
    {
     "name": "stderr",
     "output_type": "stream",
     "text": [
      " 20%|██        | 2030/10000 [00:07<00:21, 378.62it/s]"
     ]
    },
    {
     "name": "stdout",
     "output_type": "stream",
     "text": [
      "Step [1999/10000], Training Loss: 0.0005, Validation Loss: 0.0005\n"
     ]
    },
    {
     "name": "stderr",
     "output_type": "stream",
     "text": [
      " 30%|███       | 3026/10000 [00:10<00:27, 258.26it/s]"
     ]
    },
    {
     "name": "stdout",
     "output_type": "stream",
     "text": [
      "Step [2999/10000], Training Loss: 0.0003, Validation Loss: 0.0003\n"
     ]
    },
    {
     "name": "stderr",
     "output_type": "stream",
     "text": [
      " 40%|████      | 4033/10000 [00:15<00:25, 232.70it/s]"
     ]
    },
    {
     "name": "stdout",
     "output_type": "stream",
     "text": [
      "Step [3999/10000], Training Loss: 0.0003, Validation Loss: 0.0003\n"
     ]
    },
    {
     "name": "stderr",
     "output_type": "stream",
     "text": [
      " 50%|█████     | 5022/10000 [00:18<00:19, 258.91it/s]"
     ]
    },
    {
     "name": "stdout",
     "output_type": "stream",
     "text": [
      "Step [4999/10000], Training Loss: 0.0003, Validation Loss: 0.0003\n"
     ]
    },
    {
     "name": "stderr",
     "output_type": "stream",
     "text": [
      " 60%|██████    | 6042/10000 [00:22<00:09, 427.67it/s]"
     ]
    },
    {
     "name": "stdout",
     "output_type": "stream",
     "text": [
      "Step [5999/10000], Training Loss: 0.0003, Validation Loss: 0.0003\n"
     ]
    },
    {
     "name": "stderr",
     "output_type": "stream",
     "text": [
      " 70%|███████   | 7027/10000 [00:26<00:11, 261.54it/s]"
     ]
    },
    {
     "name": "stdout",
     "output_type": "stream",
     "text": [
      "Step [6999/10000], Training Loss: 0.0003, Validation Loss: 0.0003\n"
     ]
    },
    {
     "name": "stderr",
     "output_type": "stream",
     "text": [
      " 80%|████████  | 8036/10000 [00:28<00:05, 336.41it/s]"
     ]
    },
    {
     "name": "stdout",
     "output_type": "stream",
     "text": [
      "Step [7999/10000], Training Loss: 0.0003, Validation Loss: 0.0003\n"
     ]
    },
    {
     "name": "stderr",
     "output_type": "stream",
     "text": [
      " 90%|████████▉ | 8997/10000 [00:32<00:02, 390.78it/s]"
     ]
    },
    {
     "name": "stdout",
     "output_type": "stream",
     "text": [
      "Step [8999/10000], Training Loss: 0.0003, Validation Loss: 0.0003\n"
     ]
    },
    {
     "name": "stderr",
     "output_type": "stream",
     "text": [
      "100%|██████████| 10000/10000 [00:36<00:00, 272.77it/s]\n"
     ]
    },
    {
     "name": "stdout",
     "output_type": "stream",
     "text": [
      "Step [9999/10000], Training Loss: 0.0003, Validation Loss: 0.0003\n",
      "Training Loss: 0.0003\n",
      "Mean Euler Error: 5.0078e-07\n",
      "Number of parameters Z_t22: 109\n"
     ]
    },
    {
     "name": "stderr",
     "output_type": "stream",
     "text": [
      "  0%|          | 0/10000 [00:00<?, ?it/s]"
     ]
    },
    {
     "name": "stdout",
     "output_type": "stream",
     "text": [
      "Step [0/10000], Training Loss: 4.5948, Validation Loss: 4.5278\n"
     ]
    },
    {
     "name": "stderr",
     "output_type": "stream",
     "text": [
      " 10%|█         | 1015/10000 [00:03<00:30, 297.54it/s]"
     ]
    },
    {
     "name": "stdout",
     "output_type": "stream",
     "text": [
      "Step [999/10000], Training Loss: 4.2991, Validation Loss: 4.3789\n"
     ]
    },
    {
     "name": "stderr",
     "output_type": "stream",
     "text": [
      " 20%|██        | 2003/10000 [00:06<00:16, 476.50it/s]"
     ]
    },
    {
     "name": "stdout",
     "output_type": "stream",
     "text": [
      "Step [1999/10000], Training Loss: 4.3627, Validation Loss: 4.3458\n"
     ]
    },
    {
     "name": "stderr",
     "output_type": "stream",
     "text": [
      " 30%|███       | 3039/10000 [00:12<00:32, 212.94it/s]"
     ]
    },
    {
     "name": "stdout",
     "output_type": "stream",
     "text": [
      "Step [2999/10000], Training Loss: 4.4210, Validation Loss: 4.3599\n"
     ]
    },
    {
     "name": "stderr",
     "output_type": "stream",
     "text": [
      " 40%|████      | 4037/10000 [00:15<00:21, 277.53it/s]"
     ]
    },
    {
     "name": "stdout",
     "output_type": "stream",
     "text": [
      "Step [3999/10000], Training Loss: 4.3807, Validation Loss: 4.3511\n"
     ]
    },
    {
     "name": "stderr",
     "output_type": "stream",
     "text": [
      " 51%|█████     | 5096/10000 [00:18<00:10, 461.07it/s]"
     ]
    },
    {
     "name": "stdout",
     "output_type": "stream",
     "text": [
      "Step [4999/10000], Training Loss: 4.3455, Validation Loss: 4.3715\n"
     ]
    },
    {
     "name": "stderr",
     "output_type": "stream",
     "text": [
      " 61%|██████    | 6065/10000 [00:21<00:09, 406.57it/s]"
     ]
    },
    {
     "name": "stdout",
     "output_type": "stream",
     "text": [
      "Step [5999/10000], Training Loss: 4.4447, Validation Loss: 4.3731\n"
     ]
    },
    {
     "name": "stderr",
     "output_type": "stream",
     "text": [
      " 70%|██████▉   | 6999/10000 [00:24<00:10, 281.91it/s]\n"
     ]
    },
    {
     "name": "stdout",
     "output_type": "stream",
     "text": [
      "Step [6999/10000], Training Loss: 4.3190, Validation Loss: 4.4108\n",
      "Training Loss: 4.3451\n",
      "Number of parameters Y_t22: 109\n"
     ]
    },
    {
     "name": "stderr",
     "output_type": "stream",
     "text": [
      "  0%|          | 20/10000 [00:00<00:51, 193.43it/s]"
     ]
    },
    {
     "name": "stdout",
     "output_type": "stream",
     "text": [
      "Step [0/10000], Training Loss: 0.0805, Validation Loss: 0.0805\n"
     ]
    },
    {
     "name": "stderr",
     "output_type": "stream",
     "text": [
      " 11%|█         | 1079/10000 [00:03<00:23, 380.48it/s]"
     ]
    },
    {
     "name": "stdout",
     "output_type": "stream",
     "text": [
      "Step [999/10000], Training Loss: 0.0024, Validation Loss: 0.0024\n"
     ]
    },
    {
     "name": "stderr",
     "output_type": "stream",
     "text": [
      " 20%|██        | 2032/10000 [00:06<00:38, 205.27it/s]"
     ]
    },
    {
     "name": "stdout",
     "output_type": "stream",
     "text": [
      "Step [1999/10000], Training Loss: 0.0008, Validation Loss: 0.0008\n"
     ]
    },
    {
     "name": "stderr",
     "output_type": "stream",
     "text": [
      " 30%|███       | 3034/10000 [00:11<00:28, 241.35it/s]"
     ]
    },
    {
     "name": "stdout",
     "output_type": "stream",
     "text": [
      "Step [2999/10000], Training Loss: 0.0004, Validation Loss: 0.0004\n"
     ]
    },
    {
     "name": "stderr",
     "output_type": "stream",
     "text": [
      " 40%|████      | 4031/10000 [00:14<00:22, 262.27it/s]"
     ]
    },
    {
     "name": "stdout",
     "output_type": "stream",
     "text": [
      "Step [3999/10000], Training Loss: 0.0003, Validation Loss: 0.0003\n"
     ]
    },
    {
     "name": "stderr",
     "output_type": "stream",
     "text": [
      " 50%|█████     | 5031/10000 [00:17<00:17, 288.71it/s]"
     ]
    },
    {
     "name": "stdout",
     "output_type": "stream",
     "text": [
      "Step [4999/10000], Training Loss: 0.0003, Validation Loss: 0.0003\n"
     ]
    },
    {
     "name": "stderr",
     "output_type": "stream",
     "text": [
      " 60%|██████    | 6006/10000 [00:21<00:12, 330.39it/s]"
     ]
    },
    {
     "name": "stdout",
     "output_type": "stream",
     "text": [
      "Step [5999/10000], Training Loss: 0.0003, Validation Loss: 0.0003\n"
     ]
    },
    {
     "name": "stderr",
     "output_type": "stream",
     "text": [
      " 71%|███████   | 7072/10000 [00:24<00:08, 343.55it/s]"
     ]
    },
    {
     "name": "stdout",
     "output_type": "stream",
     "text": [
      "Step [6999/10000], Training Loss: 0.0003, Validation Loss: 0.0003\n"
     ]
    },
    {
     "name": "stderr",
     "output_type": "stream",
     "text": [
      " 80%|████████  | 8018/10000 [00:28<00:09, 218.15it/s]"
     ]
    },
    {
     "name": "stdout",
     "output_type": "stream",
     "text": [
      "Step [7999/10000], Training Loss: 0.0003, Validation Loss: 0.0003\n"
     ]
    },
    {
     "name": "stderr",
     "output_type": "stream",
     "text": [
      " 90%|█████████ | 9021/10000 [00:31<00:05, 189.69it/s]"
     ]
    },
    {
     "name": "stdout",
     "output_type": "stream",
     "text": [
      "Step [8999/10000], Training Loss: 0.0003, Validation Loss: 0.0003\n"
     ]
    },
    {
     "name": "stderr",
     "output_type": "stream",
     "text": [
      "100%|██████████| 10000/10000 [00:36<00:00, 276.52it/s]\n"
     ]
    },
    {
     "name": "stdout",
     "output_type": "stream",
     "text": [
      "Step [9999/10000], Training Loss: 0.0003, Validation Loss: 0.0003\n",
      "Training Loss: 0.0003\n",
      "Mean Euler Error: 4.5432e-07\n",
      "Number of parameters Z_t21: 109\n"
     ]
    },
    {
     "name": "stderr",
     "output_type": "stream",
     "text": [
      "  0%|          | 0/10000 [00:00<?, ?it/s]"
     ]
    },
    {
     "name": "stdout",
     "output_type": "stream",
     "text": [
      "Step [0/10000], Training Loss: 4.3178, Validation Loss: 4.3947\n"
     ]
    },
    {
     "name": "stderr",
     "output_type": "stream",
     "text": [
      " 11%|█         | 1066/10000 [00:03<00:22, 393.22it/s]"
     ]
    },
    {
     "name": "stdout",
     "output_type": "stream",
     "text": [
      "Step [999/10000], Training Loss: 4.2948, Validation Loss: 4.3401\n"
     ]
    },
    {
     "name": "stderr",
     "output_type": "stream",
     "text": [
      " 20%|██        | 2027/10000 [00:07<00:37, 212.98it/s]"
     ]
    },
    {
     "name": "stdout",
     "output_type": "stream",
     "text": [
      "Step [1999/10000], Training Loss: 4.3369, Validation Loss: 4.3702\n"
     ]
    },
    {
     "name": "stderr",
     "output_type": "stream",
     "text": [
      " 30%|███       | 3017/10000 [00:10<00:23, 299.73it/s]"
     ]
    },
    {
     "name": "stdout",
     "output_type": "stream",
     "text": [
      "Step [2999/10000], Training Loss: 4.2806, Validation Loss: 4.3661\n"
     ]
    },
    {
     "name": "stderr",
     "output_type": "stream",
     "text": [
      " 40%|████      | 4045/10000 [00:14<00:20, 285.23it/s]"
     ]
    },
    {
     "name": "stdout",
     "output_type": "stream",
     "text": [
      "Step [3999/10000], Training Loss: 4.3297, Validation Loss: 4.3718\n"
     ]
    },
    {
     "name": "stderr",
     "output_type": "stream",
     "text": [
      " 51%|█████     | 5071/10000 [00:17<00:12, 379.19it/s]"
     ]
    },
    {
     "name": "stdout",
     "output_type": "stream",
     "text": [
      "Step [4999/10000], Training Loss: 4.3263, Validation Loss: 4.3187\n"
     ]
    },
    {
     "name": "stderr",
     "output_type": "stream",
     "text": [
      " 60%|██████    | 6045/10000 [00:20<00:14, 267.53it/s]"
     ]
    },
    {
     "name": "stdout",
     "output_type": "stream",
     "text": [
      "Step [5999/10000], Training Loss: 4.3353, Validation Loss: 4.3920\n"
     ]
    },
    {
     "name": "stderr",
     "output_type": "stream",
     "text": [
      " 71%|███████   | 7053/10000 [00:24<00:10, 277.87it/s]"
     ]
    },
    {
     "name": "stdout",
     "output_type": "stream",
     "text": [
      "Step [6999/10000], Training Loss: 4.3689, Validation Loss: 4.3412\n"
     ]
    },
    {
     "name": "stderr",
     "output_type": "stream",
     "text": [
      " 80%|████████  | 8050/10000 [00:27<00:04, 441.83it/s]"
     ]
    },
    {
     "name": "stdout",
     "output_type": "stream",
     "text": [
      "Step [7999/10000], Training Loss: 4.3928, Validation Loss: 4.3369\n"
     ]
    },
    {
     "name": "stderr",
     "output_type": "stream",
     "text": [
      " 90%|█████████ | 9043/10000 [00:29<00:03, 280.42it/s]"
     ]
    },
    {
     "name": "stdout",
     "output_type": "stream",
     "text": [
      "Step [8999/10000], Training Loss: 4.3951, Validation Loss: 4.4096\n"
     ]
    },
    {
     "name": "stderr",
     "output_type": "stream",
     "text": [
      "100%|█████████▉| 9999/10000 [00:33<00:00, 297.81it/s]\n"
     ]
    },
    {
     "name": "stdout",
     "output_type": "stream",
     "text": [
      "Step [9999/10000], Training Loss: 4.3547, Validation Loss: 4.3682\n",
      "Training Loss: 4.3754\n",
      "Number of parameters Y_t21: 109\n"
     ]
    },
    {
     "name": "stderr",
     "output_type": "stream",
     "text": [
      "  0%|          | 0/10000 [00:00<?, ?it/s]"
     ]
    },
    {
     "name": "stdout",
     "output_type": "stream",
     "text": [
      "Step [0/10000], Training Loss: 0.0372, Validation Loss: 0.0372\n"
     ]
    },
    {
     "name": "stderr",
     "output_type": "stream",
     "text": [
      " 10%|█         | 1024/10000 [00:05<00:53, 168.42it/s]"
     ]
    },
    {
     "name": "stdout",
     "output_type": "stream",
     "text": [
      "Step [999/10000], Training Loss: 0.0053, Validation Loss: 0.0053\n"
     ]
    },
    {
     "name": "stderr",
     "output_type": "stream",
     "text": [
      " 20%|██        | 2027/10000 [00:09<00:23, 338.23it/s]"
     ]
    },
    {
     "name": "stdout",
     "output_type": "stream",
     "text": [
      "Step [1999/10000], Training Loss: 0.0020, Validation Loss: 0.0020\n"
     ]
    },
    {
     "name": "stderr",
     "output_type": "stream",
     "text": [
      " 31%|███       | 3060/10000 [00:13<00:19, 361.11it/s]"
     ]
    },
    {
     "name": "stdout",
     "output_type": "stream",
     "text": [
      "Step [2999/10000], Training Loss: 0.0006, Validation Loss: 0.0006\n"
     ]
    },
    {
     "name": "stderr",
     "output_type": "stream",
     "text": [
      " 40%|████      | 4038/10000 [00:18<00:30, 198.17it/s]"
     ]
    },
    {
     "name": "stdout",
     "output_type": "stream",
     "text": [
      "Step [3999/10000], Training Loss: 0.0003, Validation Loss: 0.0004\n"
     ]
    },
    {
     "name": "stderr",
     "output_type": "stream",
     "text": [
      " 50%|█████     | 5032/10000 [00:22<00:20, 240.51it/s]"
     ]
    },
    {
     "name": "stdout",
     "output_type": "stream",
     "text": [
      "Step [4999/10000], Training Loss: 0.0003, Validation Loss: 0.0003\n"
     ]
    },
    {
     "name": "stderr",
     "output_type": "stream",
     "text": [
      " 60%|██████    | 6023/10000 [00:26<00:23, 169.46it/s]"
     ]
    },
    {
     "name": "stdout",
     "output_type": "stream",
     "text": [
      "Step [5999/10000], Training Loss: 0.0003, Validation Loss: 0.0003\n"
     ]
    },
    {
     "name": "stderr",
     "output_type": "stream",
     "text": [
      " 71%|███████   | 7086/10000 [00:30<00:08, 356.00it/s]"
     ]
    },
    {
     "name": "stdout",
     "output_type": "stream",
     "text": [
      "Step [6999/10000], Training Loss: 0.0003, Validation Loss: 0.0003\n"
     ]
    },
    {
     "name": "stderr",
     "output_type": "stream",
     "text": [
      " 80%|████████  | 8043/10000 [00:34<00:08, 218.52it/s]"
     ]
    },
    {
     "name": "stdout",
     "output_type": "stream",
     "text": [
      "Step [7999/10000], Training Loss: 0.0003, Validation Loss: 0.0003\n"
     ]
    },
    {
     "name": "stderr",
     "output_type": "stream",
     "text": [
      " 90%|█████████ | 9038/10000 [00:38<00:03, 246.59it/s]"
     ]
    },
    {
     "name": "stdout",
     "output_type": "stream",
     "text": [
      "Step [8999/10000], Training Loss: 0.0003, Validation Loss: 0.0003\n"
     ]
    },
    {
     "name": "stderr",
     "output_type": "stream",
     "text": [
      "100%|██████████| 10000/10000 [00:43<00:00, 232.09it/s]\n"
     ]
    },
    {
     "name": "stdout",
     "output_type": "stream",
     "text": [
      "Step [9999/10000], Training Loss: 0.0003, Validation Loss: 0.0003\n",
      "Training Loss: 0.0003\n",
      "Mean Euler Error: 6.7974e-07\n",
      "Number of parameters Z_t20: 109\n"
     ]
    },
    {
     "name": "stderr",
     "output_type": "stream",
     "text": [
      "  0%|          | 0/10000 [00:00<?, ?it/s]"
     ]
    },
    {
     "name": "stdout",
     "output_type": "stream",
     "text": [
      "Step [0/10000], Training Loss: 4.3417, Validation Loss: 4.3345\n"
     ]
    },
    {
     "name": "stderr",
     "output_type": "stream",
     "text": [
      " 10%|█         | 1030/10000 [00:03<00:37, 239.16it/s]"
     ]
    },
    {
     "name": "stdout",
     "output_type": "stream",
     "text": [
      "Step [999/10000], Training Loss: 4.3219, Validation Loss: 4.3277\n"
     ]
    },
    {
     "name": "stderr",
     "output_type": "stream",
     "text": [
      " 21%|██        | 2057/10000 [00:06<00:23, 344.70it/s]"
     ]
    },
    {
     "name": "stdout",
     "output_type": "stream",
     "text": [
      "Step [1999/10000], Training Loss: 4.2812, Validation Loss: 4.2971\n"
     ]
    },
    {
     "name": "stderr",
     "output_type": "stream",
     "text": [
      " 30%|███       | 3023/10000 [00:10<00:33, 208.42it/s]"
     ]
    },
    {
     "name": "stdout",
     "output_type": "stream",
     "text": [
      "Step [2999/10000], Training Loss: 4.3615, Validation Loss: 4.3023\n"
     ]
    },
    {
     "name": "stderr",
     "output_type": "stream",
     "text": [
      " 41%|████      | 4078/10000 [00:13<00:20, 284.45it/s]"
     ]
    },
    {
     "name": "stdout",
     "output_type": "stream",
     "text": [
      "Step [3999/10000], Training Loss: 4.2751, Validation Loss: 4.3091\n"
     ]
    },
    {
     "name": "stderr",
     "output_type": "stream",
     "text": [
      " 51%|█████     | 5072/10000 [00:16<00:09, 498.23it/s]"
     ]
    },
    {
     "name": "stdout",
     "output_type": "stream",
     "text": [
      "Step [4999/10000], Training Loss: 4.3436, Validation Loss: 4.3050\n"
     ]
    },
    {
     "name": "stderr",
     "output_type": "stream",
     "text": [
      " 60%|██████    | 6045/10000 [00:20<00:14, 269.82it/s]"
     ]
    },
    {
     "name": "stdout",
     "output_type": "stream",
     "text": [
      "Step [5999/10000], Training Loss: 4.3446, Validation Loss: 4.3042\n"
     ]
    },
    {
     "name": "stderr",
     "output_type": "stream",
     "text": [
      " 70%|██████▉   | 6999/10000 [00:24<00:10, 289.63it/s]\n"
     ]
    },
    {
     "name": "stdout",
     "output_type": "stream",
     "text": [
      "Step [6999/10000], Training Loss: 4.2438, Validation Loss: 4.3071\n",
      "Training Loss: 4.3421\n",
      "Number of parameters Y_t20: 109\n"
     ]
    },
    {
     "name": "stderr",
     "output_type": "stream",
     "text": [
      "  1%|          | 61/10000 [00:00<00:16, 606.79it/s]"
     ]
    },
    {
     "name": "stdout",
     "output_type": "stream",
     "text": [
      "Step [0/10000], Training Loss: 0.0139, Validation Loss: 0.0138\n"
     ]
    },
    {
     "name": "stderr",
     "output_type": "stream",
     "text": [
      " 10%|█         | 1041/10000 [00:02<00:16, 536.77it/s]"
     ]
    },
    {
     "name": "stdout",
     "output_type": "stream",
     "text": [
      "Step [999/10000], Training Loss: 0.0007, Validation Loss: 0.0007\n"
     ]
    },
    {
     "name": "stderr",
     "output_type": "stream",
     "text": [
      " 20%|██        | 2024/10000 [00:07<00:39, 199.82it/s]"
     ]
    },
    {
     "name": "stdout",
     "output_type": "stream",
     "text": [
      "Step [1999/10000], Training Loss: 0.0003, Validation Loss: 0.0003\n"
     ]
    },
    {
     "name": "stderr",
     "output_type": "stream",
     "text": [
      " 30%|███       | 3017/10000 [00:11<00:23, 291.28it/s]"
     ]
    },
    {
     "name": "stdout",
     "output_type": "stream",
     "text": [
      "Step [2999/10000], Training Loss: 0.0003, Validation Loss: 0.0003\n"
     ]
    },
    {
     "name": "stderr",
     "output_type": "stream",
     "text": [
      " 40%|████      | 4020/10000 [00:14<00:22, 268.82it/s]"
     ]
    },
    {
     "name": "stdout",
     "output_type": "stream",
     "text": [
      "Step [3999/10000], Training Loss: 0.0003, Validation Loss: 0.0003\n"
     ]
    },
    {
     "name": "stderr",
     "output_type": "stream",
     "text": [
      " 51%|█████     | 5075/10000 [00:18<00:14, 335.60it/s]"
     ]
    },
    {
     "name": "stdout",
     "output_type": "stream",
     "text": [
      "Step [4999/10000], Training Loss: 0.0003, Validation Loss: 0.0003\n"
     ]
    },
    {
     "name": "stderr",
     "output_type": "stream",
     "text": [
      " 60%|██████    | 6049/10000 [00:21<00:09, 402.83it/s]"
     ]
    },
    {
     "name": "stdout",
     "output_type": "stream",
     "text": [
      "Step [5999/10000], Training Loss: 0.0003, Validation Loss: 0.0003\n"
     ]
    },
    {
     "name": "stderr",
     "output_type": "stream",
     "text": [
      " 70%|███████   | 7032/10000 [00:25<00:11, 250.41it/s]"
     ]
    },
    {
     "name": "stdout",
     "output_type": "stream",
     "text": [
      "Step [6999/10000], Training Loss: 0.0003, Validation Loss: 0.0003\n"
     ]
    },
    {
     "name": "stderr",
     "output_type": "stream",
     "text": [
      " 80%|████████  | 8037/10000 [00:28<00:07, 276.93it/s]"
     ]
    },
    {
     "name": "stdout",
     "output_type": "stream",
     "text": [
      "Step [7999/10000], Training Loss: 0.0003, Validation Loss: 0.0003\n"
     ]
    },
    {
     "name": "stderr",
     "output_type": "stream",
     "text": [
      " 90%|█████████ | 9034/10000 [00:33<00:04, 220.71it/s]"
     ]
    },
    {
     "name": "stdout",
     "output_type": "stream",
     "text": [
      "Step [8999/10000], Training Loss: 0.0003, Validation Loss: 0.0003\n"
     ]
    },
    {
     "name": "stderr",
     "output_type": "stream",
     "text": [
      "100%|██████████| 10000/10000 [00:37<00:00, 265.51it/s]\n"
     ]
    },
    {
     "name": "stdout",
     "output_type": "stream",
     "text": [
      "Step [9999/10000], Training Loss: 0.0003, Validation Loss: 0.0003\n",
      "Training Loss: 0.0003\n",
      "Mean Euler Error: 5.4968e-07\n",
      "Number of parameters Z_t19: 109\n"
     ]
    },
    {
     "name": "stderr",
     "output_type": "stream",
     "text": [
      "  0%|          | 0/10000 [00:00<?, ?it/s]"
     ]
    },
    {
     "name": "stdout",
     "output_type": "stream",
     "text": [
      "Step [0/10000], Training Loss: 4.1989, Validation Loss: 4.2660\n"
     ]
    },
    {
     "name": "stderr",
     "output_type": "stream",
     "text": [
      " 10%|█         | 1027/10000 [00:03<00:29, 303.68it/s]"
     ]
    },
    {
     "name": "stdout",
     "output_type": "stream",
     "text": [
      "Step [999/10000], Training Loss: 4.3261, Validation Loss: 4.3024\n"
     ]
    },
    {
     "name": "stderr",
     "output_type": "stream",
     "text": [
      " 20%|██        | 2036/10000 [00:07<00:28, 279.47it/s]"
     ]
    },
    {
     "name": "stdout",
     "output_type": "stream",
     "text": [
      "Step [1999/10000], Training Loss: 4.1979, Validation Loss: 4.2845\n"
     ]
    },
    {
     "name": "stderr",
     "output_type": "stream",
     "text": [
      " 31%|███       | 3110/10000 [00:11<00:14, 461.70it/s]"
     ]
    },
    {
     "name": "stdout",
     "output_type": "stream",
     "text": [
      "Step [2999/10000], Training Loss: 4.2692, Validation Loss: 4.3150\n"
     ]
    },
    {
     "name": "stderr",
     "output_type": "stream",
     "text": [
      " 40%|████      | 4033/10000 [00:15<00:31, 191.91it/s]"
     ]
    },
    {
     "name": "stdout",
     "output_type": "stream",
     "text": [
      "Step [3999/10000], Training Loss: 4.3344, Validation Loss: 4.3140\n"
     ]
    },
    {
     "name": "stderr",
     "output_type": "stream",
     "text": [
      " 50%|█████     | 5029/10000 [00:19<00:18, 272.93it/s]"
     ]
    },
    {
     "name": "stdout",
     "output_type": "stream",
     "text": [
      "Step [4999/10000], Training Loss: 4.3037, Validation Loss: 4.2660\n"
     ]
    },
    {
     "name": "stderr",
     "output_type": "stream",
     "text": [
      " 60%|██████    | 6026/10000 [00:23<00:19, 205.48it/s]"
     ]
    },
    {
     "name": "stdout",
     "output_type": "stream",
     "text": [
      "Step [5999/10000], Training Loss: 4.2217, Validation Loss: 4.2912\n"
     ]
    },
    {
     "name": "stderr",
     "output_type": "stream",
     "text": [
      " 71%|███████   | 7091/10000 [00:25<00:04, 631.99it/s]"
     ]
    },
    {
     "name": "stdout",
     "output_type": "stream",
     "text": [
      "Step [6999/10000], Training Loss: 4.3072, Validation Loss: 4.2826\n"
     ]
    },
    {
     "name": "stderr",
     "output_type": "stream",
     "text": [
      " 80%|████████  | 8025/10000 [00:28<00:09, 204.52it/s]"
     ]
    },
    {
     "name": "stdout",
     "output_type": "stream",
     "text": [
      "Step [7999/10000], Training Loss: 4.2654, Validation Loss: 4.3018\n"
     ]
    },
    {
     "name": "stderr",
     "output_type": "stream",
     "text": [
      " 90%|█████████ | 9048/10000 [00:33<00:03, 279.74it/s]"
     ]
    },
    {
     "name": "stdout",
     "output_type": "stream",
     "text": [
      "Step [8999/10000], Training Loss: 4.2075, Validation Loss: 4.2790\n"
     ]
    },
    {
     "name": "stderr",
     "output_type": "stream",
     "text": [
      "100%|██████████| 10000/10000 [00:36<00:00, 276.41it/s]\n"
     ]
    },
    {
     "name": "stdout",
     "output_type": "stream",
     "text": [
      "Step [9999/10000], Training Loss: 4.2689, Validation Loss: 4.2078\n",
      "Training Loss: 4.2648\n",
      "Number of parameters Y_t19: 109\n"
     ]
    },
    {
     "name": "stderr",
     "output_type": "stream",
     "text": [
      "  0%|          | 0/10000 [00:00<?, ?it/s]"
     ]
    },
    {
     "name": "stdout",
     "output_type": "stream",
     "text": [
      "Step [0/10000], Training Loss: 0.0399, Validation Loss: 0.0399\n"
     ]
    },
    {
     "name": "stderr",
     "output_type": "stream",
     "text": [
      " 10%|█         | 1039/10000 [00:04<00:26, 338.53it/s]"
     ]
    },
    {
     "name": "stdout",
     "output_type": "stream",
     "text": [
      "Step [999/10000], Training Loss: 0.0030, Validation Loss: 0.0030\n"
     ]
    },
    {
     "name": "stderr",
     "output_type": "stream",
     "text": [
      " 20%|██        | 2015/10000 [00:08<00:37, 213.95it/s]"
     ]
    },
    {
     "name": "stdout",
     "output_type": "stream",
     "text": [
      "Step [1999/10000], Training Loss: 0.0012, Validation Loss: 0.0012\n"
     ]
    },
    {
     "name": "stderr",
     "output_type": "stream",
     "text": [
      " 30%|███       | 3027/10000 [00:13<00:28, 245.69it/s]"
     ]
    },
    {
     "name": "stdout",
     "output_type": "stream",
     "text": [
      "Step [2999/10000], Training Loss: 0.0006, Validation Loss: 0.0006\n"
     ]
    },
    {
     "name": "stderr",
     "output_type": "stream",
     "text": [
      " 40%|████      | 4000/10000 [00:16<00:25, 235.14it/s]"
     ]
    },
    {
     "name": "stdout",
     "output_type": "stream",
     "text": [
      "Step [3999/10000], Training Loss: 0.0004, Validation Loss: 0.0004\n"
     ]
    },
    {
     "name": "stderr",
     "output_type": "stream",
     "text": [
      " 50%|█████     | 5049/10000 [00:20<00:14, 337.43it/s]"
     ]
    },
    {
     "name": "stdout",
     "output_type": "stream",
     "text": [
      "Step [4999/10000], Training Loss: 0.0003, Validation Loss: 0.0003\n"
     ]
    },
    {
     "name": "stderr",
     "output_type": "stream",
     "text": [
      " 60%|██████    | 6007/10000 [00:23<00:15, 260.17it/s]"
     ]
    },
    {
     "name": "stdout",
     "output_type": "stream",
     "text": [
      "Step [5999/10000], Training Loss: 0.0003, Validation Loss: 0.0003\n"
     ]
    },
    {
     "name": "stderr",
     "output_type": "stream",
     "text": [
      " 70%|██████▉   | 6995/10000 [00:27<00:09, 312.06it/s]"
     ]
    },
    {
     "name": "stdout",
     "output_type": "stream",
     "text": [
      "Step [6999/10000], Training Loss: 0.0003, Validation Loss: 0.0003\n"
     ]
    },
    {
     "name": "stderr",
     "output_type": "stream",
     "text": [
      " 80%|████████  | 8012/10000 [00:31<00:08, 241.35it/s]"
     ]
    },
    {
     "name": "stdout",
     "output_type": "stream",
     "text": [
      "Step [7999/10000], Training Loss: 0.0003, Validation Loss: 0.0003\n"
     ]
    },
    {
     "name": "stderr",
     "output_type": "stream",
     "text": [
      " 90%|█████████ | 9007/10000 [00:35<00:03, 260.76it/s]"
     ]
    },
    {
     "name": "stdout",
     "output_type": "stream",
     "text": [
      "Step [8999/10000], Training Loss: 0.0003, Validation Loss: 0.0003\n"
     ]
    },
    {
     "name": "stderr",
     "output_type": "stream",
     "text": [
      "100%|██████████| 10000/10000 [00:39<00:00, 252.39it/s]\n"
     ]
    },
    {
     "name": "stdout",
     "output_type": "stream",
     "text": [
      "Step [9999/10000], Training Loss: 0.0003, Validation Loss: 0.0003\n",
      "Training Loss: 0.0003\n",
      "Mean Euler Error: 6.5067e-07\n",
      "Number of parameters Z_t18: 109\n"
     ]
    },
    {
     "name": "stderr",
     "output_type": "stream",
     "text": [
      "  0%|          | 25/10000 [00:00<00:40, 248.33it/s]"
     ]
    },
    {
     "name": "stdout",
     "output_type": "stream",
     "text": [
      "Step [0/10000], Training Loss: 4.8037, Validation Loss: 4.8592\n"
     ]
    },
    {
     "name": "stderr",
     "output_type": "stream",
     "text": [
      " 10%|█         | 1047/10000 [00:04<00:25, 348.66it/s]"
     ]
    },
    {
     "name": "stdout",
     "output_type": "stream",
     "text": [
      "Step [999/10000], Training Loss: 4.2499, Validation Loss: 4.2158\n"
     ]
    },
    {
     "name": "stderr",
     "output_type": "stream",
     "text": [
      " 21%|██        | 2056/10000 [00:07<00:16, 475.85it/s]"
     ]
    },
    {
     "name": "stdout",
     "output_type": "stream",
     "text": [
      "Step [1999/10000], Training Loss: 4.2933, Validation Loss: 4.2742\n"
     ]
    },
    {
     "name": "stderr",
     "output_type": "stream",
     "text": [
      " 31%|███       | 3096/10000 [00:11<00:17, 398.49it/s]"
     ]
    },
    {
     "name": "stdout",
     "output_type": "stream",
     "text": [
      "Step [2999/10000], Training Loss: 4.2448, Validation Loss: 4.2493\n"
     ]
    },
    {
     "name": "stderr",
     "output_type": "stream",
     "text": [
      " 40%|████      | 4011/10000 [00:14<00:20, 298.82it/s]"
     ]
    },
    {
     "name": "stdout",
     "output_type": "stream",
     "text": [
      "Step [3999/10000], Training Loss: 4.2006, Validation Loss: 4.2262\n"
     ]
    },
    {
     "name": "stderr",
     "output_type": "stream",
     "text": [
      " 50%|█████     | 5047/10000 [00:17<00:17, 278.66it/s]"
     ]
    },
    {
     "name": "stdout",
     "output_type": "stream",
     "text": [
      "Step [4999/10000], Training Loss: 4.1900, Validation Loss: 4.2140\n"
     ]
    },
    {
     "name": "stderr",
     "output_type": "stream",
     "text": [
      " 60%|██████    | 6050/10000 [00:20<00:09, 427.28it/s]"
     ]
    },
    {
     "name": "stdout",
     "output_type": "stream",
     "text": [
      "Step [5999/10000], Training Loss: 4.2504, Validation Loss: 4.2482\n"
     ]
    },
    {
     "name": "stderr",
     "output_type": "stream",
     "text": [
      " 71%|███████   | 7064/10000 [00:23<00:06, 425.55it/s]"
     ]
    },
    {
     "name": "stdout",
     "output_type": "stream",
     "text": [
      "Step [6999/10000], Training Loss: 4.2103, Validation Loss: 4.2550\n"
     ]
    },
    {
     "name": "stderr",
     "output_type": "stream",
     "text": [
      " 80%|████████  | 8004/10000 [00:26<00:06, 304.41it/s]"
     ]
    },
    {
     "name": "stdout",
     "output_type": "stream",
     "text": [
      "Step [7999/10000], Training Loss: 4.2955, Validation Loss: 4.2248\n"
     ]
    },
    {
     "name": "stderr",
     "output_type": "stream",
     "text": [
      " 90%|█████████ | 9026/10000 [00:31<00:04, 215.86it/s]"
     ]
    },
    {
     "name": "stdout",
     "output_type": "stream",
     "text": [
      "Step [8999/10000], Training Loss: 4.2710, Validation Loss: 4.2606\n"
     ]
    },
    {
     "name": "stderr",
     "output_type": "stream",
     "text": [
      "100%|█████████▉| 9999/10000 [00:33<00:00, 295.65it/s]\n"
     ]
    },
    {
     "name": "stdout",
     "output_type": "stream",
     "text": [
      "Step [9999/10000], Training Loss: 4.2849, Validation Loss: 4.2660\n",
      "Training Loss: 4.2860\n",
      "Number of parameters Y_t18: 109\n"
     ]
    },
    {
     "name": "stderr",
     "output_type": "stream",
     "text": [
      "  0%|          | 31/10000 [00:00<00:32, 305.46it/s]"
     ]
    },
    {
     "name": "stdout",
     "output_type": "stream",
     "text": [
      "Step [0/10000], Training Loss: 0.1367, Validation Loss: 0.1370\n"
     ]
    },
    {
     "name": "stderr",
     "output_type": "stream",
     "text": [
      " 10%|▉         | 996/10000 [00:03<00:36, 248.77it/s]"
     ]
    },
    {
     "name": "stdout",
     "output_type": "stream",
     "text": [
      "Step [999/10000], Training Loss: 0.0024, Validation Loss: 0.0024\n"
     ]
    },
    {
     "name": "stderr",
     "output_type": "stream",
     "text": [
      " 21%|██        | 2082/10000 [00:07<00:21, 366.18it/s]"
     ]
    },
    {
     "name": "stdout",
     "output_type": "stream",
     "text": [
      "Step [1999/10000], Training Loss: 0.0007, Validation Loss: 0.0007\n"
     ]
    },
    {
     "name": "stderr",
     "output_type": "stream",
     "text": [
      " 30%|███       | 3019/10000 [00:11<00:25, 277.15it/s]"
     ]
    },
    {
     "name": "stdout",
     "output_type": "stream",
     "text": [
      "Step [2999/10000], Training Loss: 0.0004, Validation Loss: 0.0004\n"
     ]
    },
    {
     "name": "stderr",
     "output_type": "stream",
     "text": [
      " 40%|███▉      | 3996/10000 [00:15<00:18, 325.99it/s]"
     ]
    },
    {
     "name": "stdout",
     "output_type": "stream",
     "text": [
      "Step [3999/10000], Training Loss: 0.0003, Validation Loss: 0.0003\n"
     ]
    },
    {
     "name": "stderr",
     "output_type": "stream",
     "text": [
      " 50%|█████     | 5027/10000 [00:18<00:19, 259.13it/s]"
     ]
    },
    {
     "name": "stdout",
     "output_type": "stream",
     "text": [
      "Step [4999/10000], Training Loss: 0.0003, Validation Loss: 0.0003\n"
     ]
    },
    {
     "name": "stderr",
     "output_type": "stream",
     "text": [
      " 60%|██████    | 6039/10000 [00:22<00:13, 289.06it/s]"
     ]
    },
    {
     "name": "stdout",
     "output_type": "stream",
     "text": [
      "Step [5999/10000], Training Loss: 0.0003, Validation Loss: 0.0003\n"
     ]
    },
    {
     "name": "stderr",
     "output_type": "stream",
     "text": [
      " 70%|███████   | 7031/10000 [00:26<00:16, 182.81it/s]"
     ]
    },
    {
     "name": "stdout",
     "output_type": "stream",
     "text": [
      "Step [6999/10000], Training Loss: 0.0003, Validation Loss: 0.0003\n"
     ]
    },
    {
     "name": "stderr",
     "output_type": "stream",
     "text": [
      " 81%|████████  | 8063/10000 [00:30<00:05, 375.36it/s]"
     ]
    },
    {
     "name": "stdout",
     "output_type": "stream",
     "text": [
      "Step [7999/10000], Training Loss: 0.0003, Validation Loss: 0.0003\n"
     ]
    },
    {
     "name": "stderr",
     "output_type": "stream",
     "text": [
      " 91%|█████████ | 9069/10000 [00:33<00:02, 321.41it/s]"
     ]
    },
    {
     "name": "stdout",
     "output_type": "stream",
     "text": [
      "Step [8999/10000], Training Loss: 0.0003, Validation Loss: 0.0003\n"
     ]
    },
    {
     "name": "stderr",
     "output_type": "stream",
     "text": [
      "100%|██████████| 10000/10000 [00:37<00:00, 267.59it/s]\n"
     ]
    },
    {
     "name": "stdout",
     "output_type": "stream",
     "text": [
      "Step [9999/10000], Training Loss: 0.0003, Validation Loss: 0.0003\n",
      "Training Loss: 0.0003\n",
      "Mean Euler Error: 1.4157e-06\n",
      "Number of parameters Z_t17: 109\n"
     ]
    },
    {
     "name": "stderr",
     "output_type": "stream",
     "text": [
      "  0%|          | 0/10000 [00:00<?, ?it/s]"
     ]
    },
    {
     "name": "stdout",
     "output_type": "stream",
     "text": [
      "Step [0/10000], Training Loss: 4.5221, Validation Loss: 4.4784\n"
     ]
    },
    {
     "name": "stderr",
     "output_type": "stream",
     "text": [
      " 10%|█         | 1034/10000 [00:04<00:33, 267.99it/s]"
     ]
    },
    {
     "name": "stdout",
     "output_type": "stream",
     "text": [
      "Step [999/10000], Training Loss: 4.1864, Validation Loss: 4.2165\n"
     ]
    },
    {
     "name": "stderr",
     "output_type": "stream",
     "text": [
      " 20%|██        | 2019/10000 [00:07<00:35, 226.33it/s]"
     ]
    },
    {
     "name": "stdout",
     "output_type": "stream",
     "text": [
      "Step [1999/10000], Training Loss: 4.2213, Validation Loss: 4.1811\n"
     ]
    },
    {
     "name": "stderr",
     "output_type": "stream",
     "text": [
      " 30%|██▉       | 2993/10000 [00:11<00:22, 310.35it/s]"
     ]
    },
    {
     "name": "stdout",
     "output_type": "stream",
     "text": [
      "Step [2999/10000], Training Loss: 4.2486, Validation Loss: 4.2359\n"
     ]
    },
    {
     "name": "stderr",
     "output_type": "stream",
     "text": [
      " 40%|████      | 4017/10000 [00:16<00:33, 176.35it/s]"
     ]
    },
    {
     "name": "stdout",
     "output_type": "stream",
     "text": [
      "Step [3999/10000], Training Loss: 4.2880, Validation Loss: 4.2254\n"
     ]
    },
    {
     "name": "stderr",
     "output_type": "stream",
     "text": [
      " 51%|█████     | 5097/10000 [00:19<00:11, 431.16it/s]"
     ]
    },
    {
     "name": "stdout",
     "output_type": "stream",
     "text": [
      "Step [4999/10000], Training Loss: 4.2043, Validation Loss: 4.1777\n"
     ]
    },
    {
     "name": "stderr",
     "output_type": "stream",
     "text": [
      " 60%|██████    | 6018/10000 [00:23<00:21, 187.70it/s]"
     ]
    },
    {
     "name": "stdout",
     "output_type": "stream",
     "text": [
      "Step [5999/10000], Training Loss: 4.2284, Validation Loss: 4.2160\n"
     ]
    },
    {
     "name": "stderr",
     "output_type": "stream",
     "text": [
      " 71%|███████   | 7095/10000 [00:27<00:05, 578.56it/s]"
     ]
    },
    {
     "name": "stdout",
     "output_type": "stream",
     "text": [
      "Step [6999/10000], Training Loss: 4.1936, Validation Loss: 4.1875\n"
     ]
    },
    {
     "name": "stderr",
     "output_type": "stream",
     "text": [
      " 80%|████████  | 8019/10000 [00:30<00:07, 276.47it/s]"
     ]
    },
    {
     "name": "stdout",
     "output_type": "stream",
     "text": [
      "Step [7999/10000], Training Loss: 4.1981, Validation Loss: 4.2175\n"
     ]
    },
    {
     "name": "stderr",
     "output_type": "stream",
     "text": [
      " 90%|█████████ | 9024/10000 [00:34<00:02, 344.96it/s]"
     ]
    },
    {
     "name": "stdout",
     "output_type": "stream",
     "text": [
      "Step [8999/10000], Training Loss: 4.2467, Validation Loss: 4.2163\n"
     ]
    },
    {
     "name": "stderr",
     "output_type": "stream",
     "text": [
      "100%|█████████▉| 9999/10000 [00:36<00:00, 270.26it/s]\n"
     ]
    },
    {
     "name": "stdout",
     "output_type": "stream",
     "text": [
      "Step [9999/10000], Training Loss: 4.2555, Validation Loss: 4.2021\n",
      "Training Loss: 4.2096\n",
      "Number of parameters Y_t17: 109\n"
     ]
    },
    {
     "name": "stderr",
     "output_type": "stream",
     "text": [
      "  0%|          | 0/10000 [00:00<?, ?it/s]"
     ]
    },
    {
     "name": "stdout",
     "output_type": "stream",
     "text": [
      "Step [0/10000], Training Loss: 0.0127, Validation Loss: 0.0126\n"
     ]
    },
    {
     "name": "stderr",
     "output_type": "stream",
     "text": [
      " 11%|█         | 1055/10000 [00:04<00:32, 271.39it/s]"
     ]
    },
    {
     "name": "stdout",
     "output_type": "stream",
     "text": [
      "Step [999/10000], Training Loss: 0.0010, Validation Loss: 0.0009\n"
     ]
    },
    {
     "name": "stderr",
     "output_type": "stream",
     "text": [
      " 20%|██        | 2018/10000 [00:09<00:45, 176.11it/s]"
     ]
    },
    {
     "name": "stdout",
     "output_type": "stream",
     "text": [
      "Step [1999/10000], Training Loss: 0.0004, Validation Loss: 0.0004\n"
     ]
    },
    {
     "name": "stderr",
     "output_type": "stream",
     "text": [
      " 30%|███       | 3018/10000 [00:15<00:35, 194.73it/s]"
     ]
    },
    {
     "name": "stdout",
     "output_type": "stream",
     "text": [
      "Step [2999/10000], Training Loss: 0.0003, Validation Loss: 0.0003\n"
     ]
    },
    {
     "name": "stderr",
     "output_type": "stream",
     "text": [
      " 41%|████      | 4057/10000 [00:18<00:15, 394.94it/s]"
     ]
    },
    {
     "name": "stdout",
     "output_type": "stream",
     "text": [
      "Step [3999/10000], Training Loss: 0.0003, Validation Loss: 0.0003\n"
     ]
    },
    {
     "name": "stderr",
     "output_type": "stream",
     "text": [
      " 51%|█████▏    | 5125/10000 [00:22<00:08, 546.42it/s]"
     ]
    },
    {
     "name": "stdout",
     "output_type": "stream",
     "text": [
      "Step [4999/10000], Training Loss: 0.0003, Validation Loss: 0.0003\n"
     ]
    },
    {
     "name": "stderr",
     "output_type": "stream",
     "text": [
      " 60%|██████    | 6024/10000 [00:25<00:14, 269.39it/s]"
     ]
    },
    {
     "name": "stdout",
     "output_type": "stream",
     "text": [
      "Step [5999/10000], Training Loss: 0.0003, Validation Loss: 0.0003\n"
     ]
    },
    {
     "name": "stderr",
     "output_type": "stream",
     "text": [
      " 70%|███████   | 7021/10000 [00:30<00:17, 173.72it/s]"
     ]
    },
    {
     "name": "stdout",
     "output_type": "stream",
     "text": [
      "Step [6999/10000], Training Loss: 0.0003, Validation Loss: 0.0003\n"
     ]
    },
    {
     "name": "stderr",
     "output_type": "stream",
     "text": [
      " 80%|████████  | 8038/10000 [00:34<00:06, 325.24it/s]"
     ]
    },
    {
     "name": "stdout",
     "output_type": "stream",
     "text": [
      "Step [7999/10000], Training Loss: 0.0003, Validation Loss: 0.0003\n"
     ]
    },
    {
     "name": "stderr",
     "output_type": "stream",
     "text": [
      " 90%|█████████ | 9032/10000 [00:38<00:03, 246.24it/s]"
     ]
    },
    {
     "name": "stdout",
     "output_type": "stream",
     "text": [
      "Step [8999/10000], Training Loss: 0.0003, Validation Loss: 0.0003\n"
     ]
    },
    {
     "name": "stderr",
     "output_type": "stream",
     "text": [
      "100%|██████████| 10000/10000 [00:42<00:00, 233.70it/s]\n"
     ]
    },
    {
     "name": "stdout",
     "output_type": "stream",
     "text": [
      "Step [9999/10000], Training Loss: 0.0003, Validation Loss: 0.0003\n",
      "Training Loss: 0.0003\n",
      "Mean Euler Error: 6.1585e-07\n",
      "Number of parameters Z_t16: 109\n"
     ]
    },
    {
     "name": "stderr",
     "output_type": "stream",
     "text": [
      "  0%|          | 23/10000 [00:00<00:43, 226.92it/s]"
     ]
    },
    {
     "name": "stdout",
     "output_type": "stream",
     "text": [
      "Step [0/10000], Training Loss: 4.3928, Validation Loss: 4.3771\n"
     ]
    },
    {
     "name": "stderr",
     "output_type": "stream",
     "text": [
      " 11%|█         | 1051/10000 [00:05<00:30, 293.68it/s]"
     ]
    },
    {
     "name": "stdout",
     "output_type": "stream",
     "text": [
      "Step [999/10000], Training Loss: 4.1841, Validation Loss: 4.1982\n"
     ]
    },
    {
     "name": "stderr",
     "output_type": "stream",
     "text": [
      " 20%|██        | 2047/10000 [00:09<00:33, 235.17it/s]"
     ]
    },
    {
     "name": "stdout",
     "output_type": "stream",
     "text": [
      "Step [1999/10000], Training Loss: 4.1565, Validation Loss: 4.2144\n"
     ]
    },
    {
     "name": "stderr",
     "output_type": "stream",
     "text": [
      " 30%|███       | 3028/10000 [00:12<00:29, 238.92it/s]"
     ]
    },
    {
     "name": "stdout",
     "output_type": "stream",
     "text": [
      "Step [2999/10000], Training Loss: 4.2419, Validation Loss: 4.2255\n"
     ]
    },
    {
     "name": "stderr",
     "output_type": "stream",
     "text": [
      " 40%|████      | 4037/10000 [00:16<00:26, 224.69it/s]"
     ]
    },
    {
     "name": "stdout",
     "output_type": "stream",
     "text": [
      "Step [3999/10000], Training Loss: 4.2801, Validation Loss: 4.1633\n"
     ]
    },
    {
     "name": "stderr",
     "output_type": "stream",
     "text": [
      " 50%|█████     | 5045/10000 [00:21<00:13, 376.42it/s]"
     ]
    },
    {
     "name": "stdout",
     "output_type": "stream",
     "text": [
      "Step [4999/10000], Training Loss: 4.1879, Validation Loss: 4.2301\n"
     ]
    },
    {
     "name": "stderr",
     "output_type": "stream",
     "text": [
      " 60%|██████    | 6040/10000 [00:24<00:12, 317.32it/s]"
     ]
    },
    {
     "name": "stdout",
     "output_type": "stream",
     "text": [
      "Step [5999/10000], Training Loss: 4.1911, Validation Loss: 4.1956\n"
     ]
    },
    {
     "name": "stderr",
     "output_type": "stream",
     "text": [
      " 71%|███████   | 7052/10000 [00:28<00:10, 278.02it/s]"
     ]
    },
    {
     "name": "stdout",
     "output_type": "stream",
     "text": [
      "Step [6999/10000], Training Loss: 4.2122, Validation Loss: 4.1965\n"
     ]
    },
    {
     "name": "stderr",
     "output_type": "stream",
     "text": [
      " 80%|████████  | 8021/10000 [00:32<00:08, 242.37it/s]"
     ]
    },
    {
     "name": "stdout",
     "output_type": "stream",
     "text": [
      "Step [7999/10000], Training Loss: 4.2554, Validation Loss: 4.2258\n"
     ]
    },
    {
     "name": "stderr",
     "output_type": "stream",
     "text": [
      " 90%|████████▉ | 8999/10000 [00:36<00:04, 246.51it/s]\n"
     ]
    },
    {
     "name": "stdout",
     "output_type": "stream",
     "text": [
      "Step [8999/10000], Training Loss: 4.2848, Validation Loss: 4.2612\n",
      "Training Loss: 4.1984\n",
      "Number of parameters Y_t16: 109\n"
     ]
    },
    {
     "name": "stderr",
     "output_type": "stream",
     "text": [
      "  0%|          | 0/10000 [00:00<?, ?it/s]"
     ]
    },
    {
     "name": "stdout",
     "output_type": "stream",
     "text": [
      "Step [0/10000], Training Loss: 0.1335, Validation Loss: 0.1342\n"
     ]
    },
    {
     "name": "stderr",
     "output_type": "stream",
     "text": [
      " 10%|█         | 1029/10000 [00:03<00:37, 242.11it/s]"
     ]
    },
    {
     "name": "stdout",
     "output_type": "stream",
     "text": [
      "Step [999/10000], Training Loss: 0.0024, Validation Loss: 0.0025\n"
     ]
    },
    {
     "name": "stderr",
     "output_type": "stream",
     "text": [
      " 20%|██        | 2036/10000 [00:08<00:27, 289.38it/s]"
     ]
    },
    {
     "name": "stdout",
     "output_type": "stream",
     "text": [
      "Step [1999/10000], Training Loss: 0.0012, Validation Loss: 0.0012\n"
     ]
    },
    {
     "name": "stderr",
     "output_type": "stream",
     "text": [
      " 30%|███       | 3033/10000 [00:13<00:33, 210.27it/s]"
     ]
    },
    {
     "name": "stdout",
     "output_type": "stream",
     "text": [
      "Step [2999/10000], Training Loss: 0.0006, Validation Loss: 0.0006\n"
     ]
    },
    {
     "name": "stderr",
     "output_type": "stream",
     "text": [
      " 40%|████      | 4011/10000 [00:16<00:15, 393.40it/s]"
     ]
    },
    {
     "name": "stdout",
     "output_type": "stream",
     "text": [
      "Step [3999/10000], Training Loss: 0.0004, Validation Loss: 0.0004\n"
     ]
    },
    {
     "name": "stderr",
     "output_type": "stream",
     "text": [
      " 50%|█████     | 5033/10000 [00:19<00:18, 263.93it/s]"
     ]
    },
    {
     "name": "stdout",
     "output_type": "stream",
     "text": [
      "Step [4999/10000], Training Loss: 0.0003, Validation Loss: 0.0003\n"
     ]
    },
    {
     "name": "stderr",
     "output_type": "stream",
     "text": [
      " 60%|██████    | 6022/10000 [00:22<00:11, 348.69it/s]"
     ]
    },
    {
     "name": "stdout",
     "output_type": "stream",
     "text": [
      "Step [5999/10000], Training Loss: 0.0003, Validation Loss: 0.0003\n"
     ]
    },
    {
     "name": "stderr",
     "output_type": "stream",
     "text": [
      " 70%|███████   | 7030/10000 [00:26<00:06, 430.45it/s]"
     ]
    },
    {
     "name": "stdout",
     "output_type": "stream",
     "text": [
      "Step [6999/10000], Training Loss: 0.0003, Validation Loss: 0.0003\n"
     ]
    },
    {
     "name": "stderr",
     "output_type": "stream",
     "text": [
      " 80%|████████  | 8048/10000 [00:30<00:06, 287.42it/s]"
     ]
    },
    {
     "name": "stdout",
     "output_type": "stream",
     "text": [
      "Step [7999/10000], Training Loss: 0.0003, Validation Loss: 0.0003\n"
     ]
    },
    {
     "name": "stderr",
     "output_type": "stream",
     "text": [
      " 90%|█████████ | 9022/10000 [00:34<00:04, 240.52it/s]"
     ]
    },
    {
     "name": "stdout",
     "output_type": "stream",
     "text": [
      "Step [8999/10000], Training Loss: 0.0003, Validation Loss: 0.0003\n"
     ]
    },
    {
     "name": "stderr",
     "output_type": "stream",
     "text": [
      "100%|██████████| 10000/10000 [00:38<00:00, 261.41it/s]\n"
     ]
    },
    {
     "name": "stdout",
     "output_type": "stream",
     "text": [
      "Step [9999/10000], Training Loss: 0.0003, Validation Loss: 0.0003\n",
      "Training Loss: 0.0003\n",
      "Mean Euler Error: 2.2293e-06\n",
      "Number of parameters Z_t15: 109\n"
     ]
    },
    {
     "name": "stderr",
     "output_type": "stream",
     "text": [
      "  0%|          | 46/10000 [00:00<00:21, 455.55it/s]"
     ]
    },
    {
     "name": "stdout",
     "output_type": "stream",
     "text": [
      "Step [0/10000], Training Loss: 4.2614, Validation Loss: 4.2781\n"
     ]
    },
    {
     "name": "stderr",
     "output_type": "stream",
     "text": [
      " 10%|█         | 1037/10000 [00:03<00:35, 255.36it/s]"
     ]
    },
    {
     "name": "stdout",
     "output_type": "stream",
     "text": [
      "Step [999/10000], Training Loss: 4.1536, Validation Loss: 4.2495\n"
     ]
    },
    {
     "name": "stderr",
     "output_type": "stream",
     "text": [
      " 21%|██        | 2060/10000 [00:07<00:25, 308.01it/s]"
     ]
    },
    {
     "name": "stdout",
     "output_type": "stream",
     "text": [
      "Step [1999/10000], Training Loss: 4.1858, Validation Loss: 4.1393\n"
     ]
    },
    {
     "name": "stderr",
     "output_type": "stream",
     "text": [
      " 31%|███       | 3094/10000 [00:10<00:16, 423.38it/s]"
     ]
    },
    {
     "name": "stdout",
     "output_type": "stream",
     "text": [
      "Step [2999/10000], Training Loss: 4.2202, Validation Loss: 4.1682\n"
     ]
    },
    {
     "name": "stderr",
     "output_type": "stream",
     "text": [
      " 40%|████      | 4041/10000 [00:14<00:20, 289.97it/s]"
     ]
    },
    {
     "name": "stdout",
     "output_type": "stream",
     "text": [
      "Step [3999/10000], Training Loss: 4.1759, Validation Loss: 4.1877\n"
     ]
    },
    {
     "name": "stderr",
     "output_type": "stream",
     "text": [
      " 51%|█████     | 5063/10000 [00:16<00:10, 476.42it/s]"
     ]
    },
    {
     "name": "stdout",
     "output_type": "stream",
     "text": [
      "Step [4999/10000], Training Loss: 4.1911, Validation Loss: 4.1731\n"
     ]
    },
    {
     "name": "stderr",
     "output_type": "stream",
     "text": [
      " 61%|██████    | 6074/10000 [00:21<00:13, 301.47it/s]"
     ]
    },
    {
     "name": "stdout",
     "output_type": "stream",
     "text": [
      "Step [5999/10000], Training Loss: 4.2656, Validation Loss: 4.2011\n"
     ]
    },
    {
     "name": "stderr",
     "output_type": "stream",
     "text": [
      " 70%|██████▉   | 6999/10000 [00:23<00:10, 292.84it/s]\n"
     ]
    },
    {
     "name": "stdout",
     "output_type": "stream",
     "text": [
      "Step [6999/10000], Training Loss: 4.1568, Validation Loss: 4.1679\n",
      "Training Loss: 4.1457\n",
      "Number of parameters Y_t15: 109\n"
     ]
    },
    {
     "name": "stderr",
     "output_type": "stream",
     "text": [
      "  0%|          | 32/10000 [00:00<00:31, 315.44it/s]"
     ]
    },
    {
     "name": "stdout",
     "output_type": "stream",
     "text": [
      "Step [0/10000], Training Loss: 0.2902, Validation Loss: 0.2895\n"
     ]
    },
    {
     "name": "stderr",
     "output_type": "stream",
     "text": [
      " 10%|█         | 1020/10000 [00:04<00:32, 275.59it/s]"
     ]
    },
    {
     "name": "stdout",
     "output_type": "stream",
     "text": [
      "Step [999/10000], Training Loss: 0.0060, Validation Loss: 0.0060\n"
     ]
    },
    {
     "name": "stderr",
     "output_type": "stream",
     "text": [
      " 21%|██        | 2112/10000 [00:07<00:14, 563.11it/s]"
     ]
    },
    {
     "name": "stdout",
     "output_type": "stream",
     "text": [
      "Step [1999/10000], Training Loss: 0.0050, Validation Loss: 0.0050\n"
     ]
    },
    {
     "name": "stderr",
     "output_type": "stream",
     "text": [
      " 30%|███       | 3007/10000 [00:10<00:36, 191.90it/s]"
     ]
    },
    {
     "name": "stdout",
     "output_type": "stream",
     "text": [
      "Step [2999/10000], Training Loss: 0.0036, Validation Loss: 0.0036\n"
     ]
    },
    {
     "name": "stderr",
     "output_type": "stream",
     "text": [
      " 40%|████      | 4040/10000 [00:15<00:26, 224.83it/s]"
     ]
    },
    {
     "name": "stdout",
     "output_type": "stream",
     "text": [
      "Step [3999/10000], Training Loss: 0.0022, Validation Loss: 0.0022\n"
     ]
    },
    {
     "name": "stderr",
     "output_type": "stream",
     "text": [
      " 50%|████▉     | 4989/10000 [00:17<00:09, 512.75it/s]"
     ]
    },
    {
     "name": "stdout",
     "output_type": "stream",
     "text": [
      "Step [4999/10000], Training Loss: 0.0011, Validation Loss: 0.0011\n"
     ]
    },
    {
     "name": "stderr",
     "output_type": "stream",
     "text": [
      " 61%|██████    | 6056/10000 [00:22<00:10, 391.88it/s]"
     ]
    },
    {
     "name": "stdout",
     "output_type": "stream",
     "text": [
      "Step [5999/10000], Training Loss: 0.0005, Validation Loss: 0.0005\n"
     ]
    },
    {
     "name": "stderr",
     "output_type": "stream",
     "text": [
      " 71%|███████   | 7076/10000 [00:26<00:09, 321.96it/s]"
     ]
    },
    {
     "name": "stdout",
     "output_type": "stream",
     "text": [
      "Step [6999/10000], Training Loss: 0.0003, Validation Loss: 0.0003\n"
     ]
    },
    {
     "name": "stderr",
     "output_type": "stream",
     "text": [
      " 81%|████████  | 8054/10000 [00:29<00:06, 320.29it/s]"
     ]
    },
    {
     "name": "stdout",
     "output_type": "stream",
     "text": [
      "Step [7999/10000], Training Loss: 0.0003, Validation Loss: 0.0003\n"
     ]
    },
    {
     "name": "stderr",
     "output_type": "stream",
     "text": [
      " 90%|█████████ | 9029/10000 [00:33<00:03, 296.48it/s]"
     ]
    },
    {
     "name": "stdout",
     "output_type": "stream",
     "text": [
      "Step [8999/10000], Training Loss: 0.0003, Validation Loss: 0.0003\n"
     ]
    },
    {
     "name": "stderr",
     "output_type": "stream",
     "text": [
      "100%|██████████| 10000/10000 [00:37<00:00, 268.77it/s]\n"
     ]
    },
    {
     "name": "stdout",
     "output_type": "stream",
     "text": [
      "Step [9999/10000], Training Loss: 0.0003, Validation Loss: 0.0003\n",
      "Training Loss: 0.0003\n",
      "Mean Euler Error: 1.3732e-06\n",
      "Number of parameters Z_t14: 109\n"
     ]
    },
    {
     "name": "stderr",
     "output_type": "stream",
     "text": [
      "  0%|          | 0/10000 [00:00<?, ?it/s]"
     ]
    },
    {
     "name": "stdout",
     "output_type": "stream",
     "text": [
      "Step [0/10000], Training Loss: 4.3871, Validation Loss: 4.4416\n"
     ]
    },
    {
     "name": "stderr",
     "output_type": "stream",
     "text": [
      " 11%|█         | 1075/10000 [00:03<00:26, 339.42it/s]"
     ]
    },
    {
     "name": "stdout",
     "output_type": "stream",
     "text": [
      "Step [999/10000], Training Loss: 4.1825, Validation Loss: 4.1376\n"
     ]
    },
    {
     "name": "stderr",
     "output_type": "stream",
     "text": [
      " 21%|██        | 2089/10000 [00:06<00:15, 501.29it/s]"
     ]
    },
    {
     "name": "stdout",
     "output_type": "stream",
     "text": [
      "Step [1999/10000], Training Loss: 4.1584, Validation Loss: 4.1065\n"
     ]
    },
    {
     "name": "stderr",
     "output_type": "stream",
     "text": [
      " 30%|███       | 3042/10000 [00:10<00:29, 233.43it/s]"
     ]
    },
    {
     "name": "stdout",
     "output_type": "stream",
     "text": [
      "Step [2999/10000], Training Loss: 4.1700, Validation Loss: 4.1803\n"
     ]
    },
    {
     "name": "stderr",
     "output_type": "stream",
     "text": [
      " 40%|████      | 4031/10000 [00:14<00:32, 184.83it/s]"
     ]
    },
    {
     "name": "stdout",
     "output_type": "stream",
     "text": [
      "Step [3999/10000], Training Loss: 4.0924, Validation Loss: 4.1693\n"
     ]
    },
    {
     "name": "stderr",
     "output_type": "stream",
     "text": [
      " 50%|█████     | 5012/10000 [00:18<00:15, 316.05it/s]"
     ]
    },
    {
     "name": "stdout",
     "output_type": "stream",
     "text": [
      "Step [4999/10000], Training Loss: 4.1925, Validation Loss: 4.1519\n"
     ]
    },
    {
     "name": "stderr",
     "output_type": "stream",
     "text": [
      " 61%|██████    | 6073/10000 [00:22<00:11, 336.92it/s]"
     ]
    },
    {
     "name": "stdout",
     "output_type": "stream",
     "text": [
      "Step [5999/10000], Training Loss: 4.1553, Validation Loss: 4.1241\n"
     ]
    },
    {
     "name": "stderr",
     "output_type": "stream",
     "text": [
      " 70%|██████▉   | 6999/10000 [00:26<00:11, 268.98it/s]\n"
     ]
    },
    {
     "name": "stdout",
     "output_type": "stream",
     "text": [
      "Step [6999/10000], Training Loss: 4.1622, Validation Loss: 4.1621\n",
      "Training Loss: 4.1610\n",
      "Number of parameters Y_t14: 109\n"
     ]
    },
    {
     "name": "stderr",
     "output_type": "stream",
     "text": [
      "  0%|          | 24/10000 [00:00<00:42, 237.44it/s]"
     ]
    },
    {
     "name": "stdout",
     "output_type": "stream",
     "text": [
      "Step [0/10000], Training Loss: 0.2500, Validation Loss: 0.2504\n"
     ]
    },
    {
     "name": "stderr",
     "output_type": "stream",
     "text": [
      " 11%|█         | 1089/10000 [00:04<00:25, 346.40it/s]"
     ]
    },
    {
     "name": "stdout",
     "output_type": "stream",
     "text": [
      "Step [999/10000], Training Loss: 0.0024, Validation Loss: 0.0024\n"
     ]
    },
    {
     "name": "stderr",
     "output_type": "stream",
     "text": [
      " 21%|██        | 2100/10000 [00:07<00:25, 309.53it/s]"
     ]
    },
    {
     "name": "stdout",
     "output_type": "stream",
     "text": [
      "Step [1999/10000], Training Loss: 0.0011, Validation Loss: 0.0011\n"
     ]
    },
    {
     "name": "stderr",
     "output_type": "stream",
     "text": [
      " 30%|███       | 3004/10000 [00:11<00:25, 270.11it/s]"
     ]
    },
    {
     "name": "stdout",
     "output_type": "stream",
     "text": [
      "Step [2999/10000], Training Loss: 0.0005, Validation Loss: 0.0005\n"
     ]
    },
    {
     "name": "stderr",
     "output_type": "stream",
     "text": [
      " 40%|████      | 4049/10000 [00:15<00:17, 332.24it/s]"
     ]
    },
    {
     "name": "stdout",
     "output_type": "stream",
     "text": [
      "Step [3999/10000], Training Loss: 0.0004, Validation Loss: 0.0004\n"
     ]
    },
    {
     "name": "stderr",
     "output_type": "stream",
     "text": [
      " 50%|█████     | 5028/10000 [00:20<00:28, 175.49it/s]"
     ]
    },
    {
     "name": "stdout",
     "output_type": "stream",
     "text": [
      "Step [4999/10000], Training Loss: 0.0003, Validation Loss: 0.0003\n"
     ]
    },
    {
     "name": "stderr",
     "output_type": "stream",
     "text": [
      " 61%|██████    | 6058/10000 [00:24<00:16, 245.98it/s]"
     ]
    },
    {
     "name": "stdout",
     "output_type": "stream",
     "text": [
      "Step [5999/10000], Training Loss: 0.0003, Validation Loss: 0.0003\n"
     ]
    },
    {
     "name": "stderr",
     "output_type": "stream",
     "text": [
      " 71%|███████   | 7074/10000 [00:28<00:08, 361.55it/s]"
     ]
    },
    {
     "name": "stdout",
     "output_type": "stream",
     "text": [
      "Step [6999/10000], Training Loss: 0.0003, Validation Loss: 0.0003\n"
     ]
    },
    {
     "name": "stderr",
     "output_type": "stream",
     "text": [
      " 80%|████████  | 8043/10000 [00:32<00:09, 213.47it/s]"
     ]
    },
    {
     "name": "stdout",
     "output_type": "stream",
     "text": [
      "Step [7999/10000], Training Loss: 0.0003, Validation Loss: 0.0003\n"
     ]
    },
    {
     "name": "stderr",
     "output_type": "stream",
     "text": [
      " 90%|█████████ | 9035/10000 [00:36<00:04, 230.06it/s]"
     ]
    },
    {
     "name": "stdout",
     "output_type": "stream",
     "text": [
      "Step [8999/10000], Training Loss: 0.0003, Validation Loss: 0.0003\n"
     ]
    },
    {
     "name": "stderr",
     "output_type": "stream",
     "text": [
      "100%|██████████| 10000/10000 [00:40<00:00, 246.19it/s]\n"
     ]
    },
    {
     "name": "stdout",
     "output_type": "stream",
     "text": [
      "Step [9999/10000], Training Loss: 0.0003, Validation Loss: 0.0003\n",
      "Training Loss: 0.0003\n",
      "Mean Euler Error: 1.0998e-06\n",
      "Number of parameters Z_t13: 109\n"
     ]
    },
    {
     "name": "stderr",
     "output_type": "stream",
     "text": [
      "  0%|          | 0/10000 [00:00<?, ?it/s]"
     ]
    },
    {
     "name": "stdout",
     "output_type": "stream",
     "text": [
      "Step [0/10000], Training Loss: 4.1319, Validation Loss: 4.1375\n"
     ]
    },
    {
     "name": "stderr",
     "output_type": "stream",
     "text": [
      " 10%|█         | 1031/10000 [00:03<00:27, 330.35it/s]"
     ]
    },
    {
     "name": "stdout",
     "output_type": "stream",
     "text": [
      "Step [999/10000], Training Loss: 4.1477, Validation Loss: 4.1259\n"
     ]
    },
    {
     "name": "stderr",
     "output_type": "stream",
     "text": [
      " 20%|██        | 2047/10000 [00:07<00:18, 430.21it/s]"
     ]
    },
    {
     "name": "stdout",
     "output_type": "stream",
     "text": [
      "Step [1999/10000], Training Loss: 4.1082, Validation Loss: 4.1131\n"
     ]
    },
    {
     "name": "stderr",
     "output_type": "stream",
     "text": [
      " 31%|███       | 3061/10000 [00:10<00:19, 363.92it/s]"
     ]
    },
    {
     "name": "stdout",
     "output_type": "stream",
     "text": [
      "Step [2999/10000], Training Loss: 4.1495, Validation Loss: 4.1296\n"
     ]
    },
    {
     "name": "stderr",
     "output_type": "stream",
     "text": [
      " 40%|████      | 4046/10000 [00:14<00:21, 273.17it/s]"
     ]
    },
    {
     "name": "stdout",
     "output_type": "stream",
     "text": [
      "Step [3999/10000], Training Loss: 4.0815, Validation Loss: 4.1367\n"
     ]
    },
    {
     "name": "stderr",
     "output_type": "stream",
     "text": [
      " 51%|█████     | 5054/10000 [00:18<00:16, 307.36it/s]"
     ]
    },
    {
     "name": "stdout",
     "output_type": "stream",
     "text": [
      "Step [4999/10000], Training Loss: 4.1040, Validation Loss: 4.1678\n"
     ]
    },
    {
     "name": "stderr",
     "output_type": "stream",
     "text": [
      " 60%|██████    | 6000/10000 [00:21<00:11, 357.90it/s]"
     ]
    },
    {
     "name": "stdout",
     "output_type": "stream",
     "text": [
      "Step [5999/10000], Training Loss: 4.1330, Validation Loss: 4.1416\n"
     ]
    },
    {
     "name": "stderr",
     "output_type": "stream",
     "text": [
      " 70%|██████▉   | 6999/10000 [00:24<00:10, 283.16it/s]\n"
     ]
    },
    {
     "name": "stdout",
     "output_type": "stream",
     "text": [
      "Step [6999/10000], Training Loss: 4.1924, Validation Loss: 4.1155\n",
      "Training Loss: 4.1306\n",
      "Number of parameters Y_t13: 109\n"
     ]
    },
    {
     "name": "stderr",
     "output_type": "stream",
     "text": [
      "  0%|          | 0/10000 [00:00<?, ?it/s]"
     ]
    },
    {
     "name": "stdout",
     "output_type": "stream",
     "text": [
      "Step [0/10000], Training Loss: 0.0500, Validation Loss: 0.0499\n"
     ]
    },
    {
     "name": "stderr",
     "output_type": "stream",
     "text": [
      " 10%|█         | 1037/10000 [00:05<00:37, 240.89it/s]"
     ]
    },
    {
     "name": "stdout",
     "output_type": "stream",
     "text": [
      "Step [999/10000], Training Loss: 0.0048, Validation Loss: 0.0048\n"
     ]
    },
    {
     "name": "stderr",
     "output_type": "stream",
     "text": [
      " 20%|██        | 2039/10000 [00:09<00:35, 225.79it/s]"
     ]
    },
    {
     "name": "stdout",
     "output_type": "stream",
     "text": [
      "Step [1999/10000], Training Loss: 0.0024, Validation Loss: 0.0024\n"
     ]
    },
    {
     "name": "stderr",
     "output_type": "stream",
     "text": [
      " 31%|███       | 3055/10000 [00:13<00:21, 324.42it/s]"
     ]
    },
    {
     "name": "stdout",
     "output_type": "stream",
     "text": [
      "Step [2999/10000], Training Loss: 0.0010, Validation Loss: 0.0010\n"
     ]
    },
    {
     "name": "stderr",
     "output_type": "stream",
     "text": [
      " 40%|████      | 4039/10000 [00:17<00:28, 207.12it/s]"
     ]
    },
    {
     "name": "stdout",
     "output_type": "stream",
     "text": [
      "Step [3999/10000], Training Loss: 0.0004, Validation Loss: 0.0004\n"
     ]
    },
    {
     "name": "stderr",
     "output_type": "stream",
     "text": [
      " 50%|█████     | 5037/10000 [00:21<00:18, 273.71it/s]"
     ]
    },
    {
     "name": "stdout",
     "output_type": "stream",
     "text": [
      "Step [4999/10000], Training Loss: 0.0003, Validation Loss: 0.0003\n"
     ]
    },
    {
     "name": "stderr",
     "output_type": "stream",
     "text": [
      " 60%|██████    | 6043/10000 [00:26<00:14, 268.74it/s]"
     ]
    },
    {
     "name": "stdout",
     "output_type": "stream",
     "text": [
      "Step [5999/10000], Training Loss: 0.0003, Validation Loss: 0.0003\n"
     ]
    },
    {
     "name": "stderr",
     "output_type": "stream",
     "text": [
      " 70%|███████   | 7015/10000 [00:29<00:12, 237.37it/s]"
     ]
    },
    {
     "name": "stdout",
     "output_type": "stream",
     "text": [
      "Step [6999/10000], Training Loss: 0.0003, Validation Loss: 0.0003\n"
     ]
    },
    {
     "name": "stderr",
     "output_type": "stream",
     "text": [
      " 81%|████████  | 8054/10000 [00:32<00:08, 242.56it/s]"
     ]
    },
    {
     "name": "stdout",
     "output_type": "stream",
     "text": [
      "Step [7999/10000], Training Loss: 0.0003, Validation Loss: 0.0003\n"
     ]
    },
    {
     "name": "stderr",
     "output_type": "stream",
     "text": [
      " 91%|█████████ | 9075/10000 [00:37<00:02, 423.75it/s]"
     ]
    },
    {
     "name": "stdout",
     "output_type": "stream",
     "text": [
      "Step [8999/10000], Training Loss: 0.0003, Validation Loss: 0.0003\n"
     ]
    },
    {
     "name": "stderr",
     "output_type": "stream",
     "text": [
      "100%|██████████| 10000/10000 [00:40<00:00, 246.68it/s]\n"
     ]
    },
    {
     "name": "stdout",
     "output_type": "stream",
     "text": [
      "Step [9999/10000], Training Loss: 0.0003, Validation Loss: 0.0003\n",
      "Training Loss: 0.0003\n",
      "Mean Euler Error: 5.3508e-07\n",
      "Number of parameters Z_t12: 109\n"
     ]
    },
    {
     "name": "stderr",
     "output_type": "stream",
     "text": [
      "  0%|          | 0/10000 [00:00<?, ?it/s]"
     ]
    },
    {
     "name": "stdout",
     "output_type": "stream",
     "text": [
      "Step [0/10000], Training Loss: 4.3310, Validation Loss: 4.2259\n"
     ]
    },
    {
     "name": "stderr",
     "output_type": "stream",
     "text": [
      " 10%|█         | 1039/10000 [00:03<00:30, 291.88it/s]"
     ]
    },
    {
     "name": "stdout",
     "output_type": "stream",
     "text": [
      "Step [999/10000], Training Loss: 4.1472, Validation Loss: 4.0548\n"
     ]
    },
    {
     "name": "stderr",
     "output_type": "stream",
     "text": [
      " 20%|██        | 2012/10000 [00:07<00:41, 193.76it/s]"
     ]
    },
    {
     "name": "stdout",
     "output_type": "stream",
     "text": [
      "Step [1999/10000], Training Loss: 4.0722, Validation Loss: 4.1118\n"
     ]
    },
    {
     "name": "stderr",
     "output_type": "stream",
     "text": [
      " 31%|███       | 3066/10000 [00:12<00:20, 333.68it/s]"
     ]
    },
    {
     "name": "stdout",
     "output_type": "stream",
     "text": [
      "Step [2999/10000], Training Loss: 4.0990, Validation Loss: 4.0971\n"
     ]
    },
    {
     "name": "stderr",
     "output_type": "stream",
     "text": [
      " 40%|████      | 4031/10000 [00:16<00:25, 235.75it/s]"
     ]
    },
    {
     "name": "stdout",
     "output_type": "stream",
     "text": [
      "Step [3999/10000], Training Loss: 4.1323, Validation Loss: 4.1372\n"
     ]
    },
    {
     "name": "stderr",
     "output_type": "stream",
     "text": [
      " 50%|█████     | 5025/10000 [00:20<00:23, 207.92it/s]"
     ]
    },
    {
     "name": "stdout",
     "output_type": "stream",
     "text": [
      "Step [4999/10000], Training Loss: 4.0465, Validation Loss: 4.0660\n"
     ]
    },
    {
     "name": "stderr",
     "output_type": "stream",
     "text": [
      " 60%|█████▉    | 5999/10000 [00:24<00:16, 248.31it/s]\n"
     ]
    },
    {
     "name": "stdout",
     "output_type": "stream",
     "text": [
      "Step [5999/10000], Training Loss: 4.1542, Validation Loss: 4.1228\n",
      "Training Loss: 4.1054\n",
      "Number of parameters Y_t12: 109\n"
     ]
    },
    {
     "name": "stderr",
     "output_type": "stream",
     "text": [
      "  0%|          | 16/10000 [00:00<01:03, 156.06it/s]"
     ]
    },
    {
     "name": "stdout",
     "output_type": "stream",
     "text": [
      "Step [0/10000], Training Loss: 0.0850, Validation Loss: 0.0850\n"
     ]
    },
    {
     "name": "stderr",
     "output_type": "stream",
     "text": [
      " 10%|█         | 1031/10000 [00:05<00:33, 265.79it/s]"
     ]
    },
    {
     "name": "stdout",
     "output_type": "stream",
     "text": [
      "Step [999/10000], Training Loss: 0.0029, Validation Loss: 0.0028\n"
     ]
    },
    {
     "name": "stderr",
     "output_type": "stream",
     "text": [
      " 20%|██        | 2028/10000 [00:09<00:38, 207.41it/s]"
     ]
    },
    {
     "name": "stdout",
     "output_type": "stream",
     "text": [
      "Step [1999/10000], Training Loss: 0.0017, Validation Loss: 0.0017\n"
     ]
    },
    {
     "name": "stderr",
     "output_type": "stream",
     "text": [
      " 31%|███       | 3063/10000 [00:13<00:20, 335.71it/s]"
     ]
    },
    {
     "name": "stdout",
     "output_type": "stream",
     "text": [
      "Step [2999/10000], Training Loss: 0.0010, Validation Loss: 0.0010\n"
     ]
    },
    {
     "name": "stderr",
     "output_type": "stream",
     "text": [
      " 40%|████      | 4025/10000 [00:17<00:22, 270.98it/s]"
     ]
    },
    {
     "name": "stdout",
     "output_type": "stream",
     "text": [
      "Step [3999/10000], Training Loss: 0.0005, Validation Loss: 0.0005\n"
     ]
    },
    {
     "name": "stderr",
     "output_type": "stream",
     "text": [
      " 51%|█████     | 5081/10000 [00:21<00:14, 331.19it/s]"
     ]
    },
    {
     "name": "stdout",
     "output_type": "stream",
     "text": [
      "Step [4999/10000], Training Loss: 0.0004, Validation Loss: 0.0004\n"
     ]
    },
    {
     "name": "stderr",
     "output_type": "stream",
     "text": [
      " 60%|██████    | 6021/10000 [00:25<00:20, 191.63it/s]"
     ]
    },
    {
     "name": "stdout",
     "output_type": "stream",
     "text": [
      "Step [5999/10000], Training Loss: 0.0003, Validation Loss: 0.0003\n"
     ]
    },
    {
     "name": "stderr",
     "output_type": "stream",
     "text": [
      " 70%|███████   | 7020/10000 [00:30<00:25, 116.73it/s]"
     ]
    },
    {
     "name": "stdout",
     "output_type": "stream",
     "text": [
      "Step [6999/10000], Training Loss: 0.0003, Validation Loss: 0.0003\n"
     ]
    },
    {
     "name": "stderr",
     "output_type": "stream",
     "text": [
      " 80%|████████  | 8047/10000 [00:35<00:08, 243.00it/s]"
     ]
    },
    {
     "name": "stdout",
     "output_type": "stream",
     "text": [
      "Step [7999/10000], Training Loss: 0.0003, Validation Loss: 0.0003\n"
     ]
    },
    {
     "name": "stderr",
     "output_type": "stream",
     "text": [
      " 90%|█████████ | 9034/10000 [00:38<00:02, 374.69it/s]"
     ]
    },
    {
     "name": "stdout",
     "output_type": "stream",
     "text": [
      "Step [8999/10000], Training Loss: 0.0003, Validation Loss: 0.0003\n"
     ]
    },
    {
     "name": "stderr",
     "output_type": "stream",
     "text": [
      "100%|██████████| 10000/10000 [00:42<00:00, 232.66it/s]\n"
     ]
    },
    {
     "name": "stdout",
     "output_type": "stream",
     "text": [
      "Step [9999/10000], Training Loss: 0.0003, Validation Loss: 0.0003\n",
      "Training Loss: 0.0003\n",
      "Mean Euler Error: 1.3881e-06\n",
      "Number of parameters Z_t11: 109\n"
     ]
    },
    {
     "name": "stderr",
     "output_type": "stream",
     "text": [
      "  0%|          | 0/10000 [00:00<?, ?it/s]"
     ]
    },
    {
     "name": "stdout",
     "output_type": "stream",
     "text": [
      "Step [0/10000], Training Loss: 4.1369, Validation Loss: 4.1150\n"
     ]
    },
    {
     "name": "stderr",
     "output_type": "stream",
     "text": [
      " 10%|█         | 1018/10000 [00:04<00:37, 241.82it/s]"
     ]
    },
    {
     "name": "stdout",
     "output_type": "stream",
     "text": [
      "Step [999/10000], Training Loss: 4.0937, Validation Loss: 4.0909\n"
     ]
    },
    {
     "name": "stderr",
     "output_type": "stream",
     "text": [
      " 20%|██        | 2041/10000 [00:07<00:36, 215.57it/s]"
     ]
    },
    {
     "name": "stdout",
     "output_type": "stream",
     "text": [
      "Step [1999/10000], Training Loss: 4.0756, Validation Loss: 4.0891\n"
     ]
    },
    {
     "name": "stderr",
     "output_type": "stream",
     "text": [
      " 30%|███       | 3045/10000 [00:12<00:25, 270.66it/s]"
     ]
    },
    {
     "name": "stdout",
     "output_type": "stream",
     "text": [
      "Step [2999/10000], Training Loss: 4.0814, Validation Loss: 4.0561\n"
     ]
    },
    {
     "name": "stderr",
     "output_type": "stream",
     "text": [
      " 40%|████      | 4026/10000 [00:15<00:19, 298.99it/s]"
     ]
    },
    {
     "name": "stdout",
     "output_type": "stream",
     "text": [
      "Step [3999/10000], Training Loss: 4.0600, Validation Loss: 4.0753\n"
     ]
    },
    {
     "name": "stderr",
     "output_type": "stream",
     "text": [
      " 50%|█████     | 5026/10000 [00:19<00:20, 239.06it/s]"
     ]
    },
    {
     "name": "stdout",
     "output_type": "stream",
     "text": [
      "Step [4999/10000], Training Loss: 4.0916, Validation Loss: 4.0888\n"
     ]
    },
    {
     "name": "stderr",
     "output_type": "stream",
     "text": [
      " 60%|██████    | 6025/10000 [00:23<00:21, 182.52it/s]"
     ]
    },
    {
     "name": "stdout",
     "output_type": "stream",
     "text": [
      "Step [5999/10000], Training Loss: 4.0668, Validation Loss: 4.0600\n"
     ]
    },
    {
     "name": "stderr",
     "output_type": "stream",
     "text": [
      " 70%|███████   | 7014/10000 [00:26<00:15, 186.92it/s]"
     ]
    },
    {
     "name": "stdout",
     "output_type": "stream",
     "text": [
      "Step [6999/10000], Training Loss: 4.0787, Validation Loss: 4.0670\n"
     ]
    },
    {
     "name": "stderr",
     "output_type": "stream",
     "text": [
      " 80%|████████  | 8039/10000 [00:31<00:10, 185.41it/s]"
     ]
    },
    {
     "name": "stdout",
     "output_type": "stream",
     "text": [
      "Step [7999/10000], Training Loss: 4.0732, Validation Loss: 4.0532\n"
     ]
    },
    {
     "name": "stderr",
     "output_type": "stream",
     "text": [
      " 90%|█████████ | 9003/10000 [00:35<00:03, 300.16it/s]"
     ]
    },
    {
     "name": "stdout",
     "output_type": "stream",
     "text": [
      "Step [8999/10000], Training Loss: 4.1121, Validation Loss: 4.0919\n"
     ]
    },
    {
     "name": "stderr",
     "output_type": "stream",
     "text": [
      "100%|██████████| 10000/10000 [00:39<00:00, 253.82it/s]\n"
     ]
    },
    {
     "name": "stdout",
     "output_type": "stream",
     "text": [
      "Step [9999/10000], Training Loss: 4.1314, Validation Loss: 4.0623\n",
      "Training Loss: 4.0612\n",
      "Number of parameters Y_t11: 109\n"
     ]
    },
    {
     "name": "stderr",
     "output_type": "stream",
     "text": [
      "  0%|          | 4/10000 [00:00<04:28, 37.26it/s]"
     ]
    },
    {
     "name": "stdout",
     "output_type": "stream",
     "text": [
      "Step [0/10000], Training Loss: 0.2443, Validation Loss: 0.2445\n"
     ]
    },
    {
     "name": "stderr",
     "output_type": "stream",
     "text": [
      " 10%|█         | 1029/10000 [00:04<00:37, 240.60it/s]"
     ]
    },
    {
     "name": "stdout",
     "output_type": "stream",
     "text": [
      "Step [999/10000], Training Loss: 0.0007, Validation Loss: 0.0007\n"
     ]
    },
    {
     "name": "stderr",
     "output_type": "stream",
     "text": [
      " 20%|██        | 2026/10000 [00:08<00:34, 230.77it/s]"
     ]
    },
    {
     "name": "stdout",
     "output_type": "stream",
     "text": [
      "Step [1999/10000], Training Loss: 0.0004, Validation Loss: 0.0004\n"
     ]
    },
    {
     "name": "stderr",
     "output_type": "stream",
     "text": [
      " 30%|███       | 3050/10000 [00:12<00:23, 293.01it/s]"
     ]
    },
    {
     "name": "stdout",
     "output_type": "stream",
     "text": [
      "Step [2999/10000], Training Loss: 0.0004, Validation Loss: 0.0004\n"
     ]
    },
    {
     "name": "stderr",
     "output_type": "stream",
     "text": [
      " 40%|████      | 4048/10000 [00:16<00:20, 283.46it/s]"
     ]
    },
    {
     "name": "stdout",
     "output_type": "stream",
     "text": [
      "Step [3999/10000], Training Loss: 0.0003, Validation Loss: 0.0003\n"
     ]
    },
    {
     "name": "stderr",
     "output_type": "stream",
     "text": [
      " 51%|█████     | 5055/10000 [00:20<00:17, 285.02it/s]"
     ]
    },
    {
     "name": "stdout",
     "output_type": "stream",
     "text": [
      "Step [4999/10000], Training Loss: 0.0003, Validation Loss: 0.0003\n"
     ]
    },
    {
     "name": "stderr",
     "output_type": "stream",
     "text": [
      " 60%|██████    | 6029/10000 [00:24<00:17, 232.47it/s]"
     ]
    },
    {
     "name": "stdout",
     "output_type": "stream",
     "text": [
      "Step [5999/10000], Training Loss: 0.0003, Validation Loss: 0.0003\n"
     ]
    },
    {
     "name": "stderr",
     "output_type": "stream",
     "text": [
      " 70%|███████   | 7047/10000 [00:27<00:09, 301.07it/s]"
     ]
    },
    {
     "name": "stdout",
     "output_type": "stream",
     "text": [
      "Step [6999/10000], Training Loss: 0.0003, Validation Loss: 0.0003\n"
     ]
    },
    {
     "name": "stderr",
     "output_type": "stream",
     "text": [
      " 80%|████████  | 8041/10000 [00:31<00:07, 254.43it/s]"
     ]
    },
    {
     "name": "stdout",
     "output_type": "stream",
     "text": [
      "Step [7999/10000], Training Loss: 0.0003, Validation Loss: 0.0003\n"
     ]
    },
    {
     "name": "stderr",
     "output_type": "stream",
     "text": [
      " 90%|█████████ | 9044/10000 [00:35<00:02, 328.92it/s]"
     ]
    },
    {
     "name": "stdout",
     "output_type": "stream",
     "text": [
      "Step [8999/10000], Training Loss: 0.0003, Validation Loss: 0.0003\n"
     ]
    },
    {
     "name": "stderr",
     "output_type": "stream",
     "text": [
      "100%|██████████| 10000/10000 [00:38<00:00, 260.43it/s]\n"
     ]
    },
    {
     "name": "stdout",
     "output_type": "stream",
     "text": [
      "Step [9999/10000], Training Loss: 0.0003, Validation Loss: 0.0003\n",
      "Training Loss: 0.0003\n",
      "Mean Euler Error: 1.3606e-06\n",
      "Number of parameters Z_t10: 109\n"
     ]
    },
    {
     "name": "stderr",
     "output_type": "stream",
     "text": [
      "  0%|          | 0/10000 [00:00<?, ?it/s]"
     ]
    },
    {
     "name": "stdout",
     "output_type": "stream",
     "text": [
      "Step [0/10000], Training Loss: 4.1767, Validation Loss: 4.1951\n"
     ]
    },
    {
     "name": "stderr",
     "output_type": "stream",
     "text": [
      " 10%|█         | 1038/10000 [00:03<00:30, 297.66it/s]"
     ]
    },
    {
     "name": "stdout",
     "output_type": "stream",
     "text": [
      "Step [999/10000], Training Loss: 4.0694, Validation Loss: 4.0131\n"
     ]
    },
    {
     "name": "stderr",
     "output_type": "stream",
     "text": [
      " 21%|██        | 2078/10000 [00:07<00:25, 313.33it/s]"
     ]
    },
    {
     "name": "stdout",
     "output_type": "stream",
     "text": [
      "Step [1999/10000], Training Loss: 4.0399, Validation Loss: 4.0413\n"
     ]
    },
    {
     "name": "stderr",
     "output_type": "stream",
     "text": [
      " 31%|███       | 3071/10000 [00:10<00:19, 351.46it/s]"
     ]
    },
    {
     "name": "stdout",
     "output_type": "stream",
     "text": [
      "Step [2999/10000], Training Loss: 4.0797, Validation Loss: 4.0804\n"
     ]
    },
    {
     "name": "stderr",
     "output_type": "stream",
     "text": [
      " 41%|████      | 4075/10000 [00:13<00:15, 371.80it/s]"
     ]
    },
    {
     "name": "stdout",
     "output_type": "stream",
     "text": [
      "Step [3999/10000], Training Loss: 4.0589, Validation Loss: 4.0587\n"
     ]
    },
    {
     "name": "stderr",
     "output_type": "stream",
     "text": [
      " 50%|█████     | 5033/10000 [00:16<00:16, 302.80it/s]"
     ]
    },
    {
     "name": "stdout",
     "output_type": "stream",
     "text": [
      "Step [4999/10000], Training Loss: 4.0537, Validation Loss: 4.0641\n"
     ]
    },
    {
     "name": "stderr",
     "output_type": "stream",
     "text": [
      " 60%|█████▉    | 5999/10000 [00:20<00:13, 296.83it/s]\n"
     ]
    },
    {
     "name": "stdout",
     "output_type": "stream",
     "text": [
      "Step [5999/10000], Training Loss: 4.0535, Validation Loss: 4.0631\n",
      "Training Loss: 4.0560\n",
      "Number of parameters Y_t10: 109\n"
     ]
    },
    {
     "name": "stderr",
     "output_type": "stream",
     "text": [
      "  0%|          | 20/10000 [00:00<00:52, 189.83it/s]"
     ]
    },
    {
     "name": "stdout",
     "output_type": "stream",
     "text": [
      "Step [0/10000], Training Loss: 0.0653, Validation Loss: 0.0653\n"
     ]
    },
    {
     "name": "stderr",
     "output_type": "stream",
     "text": [
      " 10%|█         | 1027/10000 [00:04<00:37, 238.41it/s]"
     ]
    },
    {
     "name": "stdout",
     "output_type": "stream",
     "text": [
      "Step [999/10000], Training Loss: 0.0019, Validation Loss: 0.0019\n"
     ]
    },
    {
     "name": "stderr",
     "output_type": "stream",
     "text": [
      " 20%|██        | 2042/10000 [00:07<00:23, 345.41it/s]"
     ]
    },
    {
     "name": "stdout",
     "output_type": "stream",
     "text": [
      "Step [1999/10000], Training Loss: 0.0009, Validation Loss: 0.0009\n"
     ]
    },
    {
     "name": "stderr",
     "output_type": "stream",
     "text": [
      " 30%|███       | 3030/10000 [00:11<00:24, 282.18it/s]"
     ]
    },
    {
     "name": "stdout",
     "output_type": "stream",
     "text": [
      "Step [2999/10000], Training Loss: 0.0005, Validation Loss: 0.0005\n"
     ]
    },
    {
     "name": "stderr",
     "output_type": "stream",
     "text": [
      " 40%|████      | 4039/10000 [00:14<00:19, 299.49it/s]"
     ]
    },
    {
     "name": "stdout",
     "output_type": "stream",
     "text": [
      "Step [3999/10000], Training Loss: 0.0003, Validation Loss: 0.0003\n"
     ]
    },
    {
     "name": "stderr",
     "output_type": "stream",
     "text": [
      " 50%|█████     | 5034/10000 [00:18<00:19, 256.08it/s]"
     ]
    },
    {
     "name": "stdout",
     "output_type": "stream",
     "text": [
      "Step [4999/10000], Training Loss: 0.0003, Validation Loss: 0.0003\n"
     ]
    },
    {
     "name": "stderr",
     "output_type": "stream",
     "text": [
      " 60%|██████    | 6043/10000 [00:22<00:17, 230.10it/s]"
     ]
    },
    {
     "name": "stdout",
     "output_type": "stream",
     "text": [
      "Step [5999/10000], Training Loss: 0.0003, Validation Loss: 0.0003\n"
     ]
    },
    {
     "name": "stderr",
     "output_type": "stream",
     "text": [
      " 71%|███████   | 7057/10000 [00:25<00:07, 398.42it/s]"
     ]
    },
    {
     "name": "stdout",
     "output_type": "stream",
     "text": [
      "Step [6999/10000], Training Loss: 0.0003, Validation Loss: 0.0003\n"
     ]
    },
    {
     "name": "stderr",
     "output_type": "stream",
     "text": [
      " 81%|████████  | 8067/10000 [00:29<00:05, 353.45it/s]"
     ]
    },
    {
     "name": "stdout",
     "output_type": "stream",
     "text": [
      "Step [7999/10000], Training Loss: 0.0003, Validation Loss: 0.0003\n"
     ]
    },
    {
     "name": "stderr",
     "output_type": "stream",
     "text": [
      " 90%|█████████ | 9037/10000 [00:32<00:03, 290.91it/s]"
     ]
    },
    {
     "name": "stdout",
     "output_type": "stream",
     "text": [
      "Step [8999/10000], Training Loss: 0.0003, Validation Loss: 0.0003\n"
     ]
    },
    {
     "name": "stderr",
     "output_type": "stream",
     "text": [
      "100%|██████████| 10000/10000 [00:35<00:00, 285.39it/s]\n"
     ]
    },
    {
     "name": "stdout",
     "output_type": "stream",
     "text": [
      "Step [9999/10000], Training Loss: 0.0003, Validation Loss: 0.0003\n",
      "Training Loss: 0.0003\n",
      "Mean Euler Error: 1.0317e-06\n",
      "Number of parameters Z_t9: 109\n"
     ]
    },
    {
     "name": "stderr",
     "output_type": "stream",
     "text": [
      "  0%|          | 0/10000 [00:00<?, ?it/s]"
     ]
    },
    {
     "name": "stdout",
     "output_type": "stream",
     "text": [
      "Step [0/10000], Training Loss: 4.9523, Validation Loss: 4.9144\n"
     ]
    },
    {
     "name": "stderr",
     "output_type": "stream",
     "text": [
      " 10%|█         | 1045/10000 [00:03<00:25, 347.59it/s]"
     ]
    },
    {
     "name": "stdout",
     "output_type": "stream",
     "text": [
      "Step [999/10000], Training Loss: 4.0215, Validation Loss: 3.9804\n"
     ]
    },
    {
     "name": "stderr",
     "output_type": "stream",
     "text": [
      " 20%|██        | 2014/10000 [00:06<00:40, 198.76it/s]"
     ]
    },
    {
     "name": "stdout",
     "output_type": "stream",
     "text": [
      "Step [1999/10000], Training Loss: 4.0478, Validation Loss: 4.0143\n"
     ]
    },
    {
     "name": "stderr",
     "output_type": "stream",
     "text": [
      " 31%|███       | 3056/10000 [00:10<00:28, 245.53it/s]"
     ]
    },
    {
     "name": "stdout",
     "output_type": "stream",
     "text": [
      "Step [2999/10000], Training Loss: 4.0093, Validation Loss: 4.0396\n"
     ]
    },
    {
     "name": "stderr",
     "output_type": "stream",
     "text": [
      " 41%|████      | 4054/10000 [00:13<00:15, 386.77it/s]"
     ]
    },
    {
     "name": "stdout",
     "output_type": "stream",
     "text": [
      "Step [3999/10000], Training Loss: 4.0490, Validation Loss: 3.9999\n"
     ]
    },
    {
     "name": "stderr",
     "output_type": "stream",
     "text": [
      " 51%|█████     | 5081/10000 [00:16<00:11, 441.12it/s]"
     ]
    },
    {
     "name": "stdout",
     "output_type": "stream",
     "text": [
      "Step [4999/10000], Training Loss: 4.0269, Validation Loss: 4.0241\n"
     ]
    },
    {
     "name": "stderr",
     "output_type": "stream",
     "text": [
      " 60%|█████▉    | 5999/10000 [00:19<00:12, 307.98it/s]\n"
     ]
    },
    {
     "name": "stdout",
     "output_type": "stream",
     "text": [
      "Step [5999/10000], Training Loss: 3.9897, Validation Loss: 4.0205\n",
      "Training Loss: 4.0346\n",
      "Number of parameters Y_t9: 109\n"
     ]
    },
    {
     "name": "stderr",
     "output_type": "stream",
     "text": [
      "  0%|          | 16/10000 [00:00<01:08, 145.73it/s]"
     ]
    },
    {
     "name": "stdout",
     "output_type": "stream",
     "text": [
      "Step [0/10000], Training Loss: 0.0455, Validation Loss: 0.0454\n"
     ]
    },
    {
     "name": "stderr",
     "output_type": "stream",
     "text": [
      " 11%|█         | 1062/10000 [00:03<00:25, 354.95it/s]"
     ]
    },
    {
     "name": "stdout",
     "output_type": "stream",
     "text": [
      "Step [999/10000], Training Loss: 0.0024, Validation Loss: 0.0024\n"
     ]
    },
    {
     "name": "stderr",
     "output_type": "stream",
     "text": [
      " 20%|██        | 2025/10000 [00:06<00:30, 260.72it/s]"
     ]
    },
    {
     "name": "stdout",
     "output_type": "stream",
     "text": [
      "Step [1999/10000], Training Loss: 0.0015, Validation Loss: 0.0015\n"
     ]
    },
    {
     "name": "stderr",
     "output_type": "stream",
     "text": [
      " 30%|███       | 3037/10000 [00:10<00:20, 334.57it/s]"
     ]
    },
    {
     "name": "stdout",
     "output_type": "stream",
     "text": [
      "Step [2999/10000], Training Loss: 0.0008, Validation Loss: 0.0008\n"
     ]
    },
    {
     "name": "stderr",
     "output_type": "stream",
     "text": [
      " 40%|████      | 4050/10000 [00:14<00:22, 262.81it/s]"
     ]
    },
    {
     "name": "stdout",
     "output_type": "stream",
     "text": [
      "Step [3999/10000], Training Loss: 0.0004, Validation Loss: 0.0004\n"
     ]
    },
    {
     "name": "stderr",
     "output_type": "stream",
     "text": [
      " 50%|█████     | 5021/10000 [00:16<00:16, 310.27it/s]"
     ]
    },
    {
     "name": "stdout",
     "output_type": "stream",
     "text": [
      "Step [4999/10000], Training Loss: 0.0003, Validation Loss: 0.0003\n"
     ]
    },
    {
     "name": "stderr",
     "output_type": "stream",
     "text": [
      " 61%|██████    | 6064/10000 [00:20<00:13, 291.15it/s]"
     ]
    },
    {
     "name": "stdout",
     "output_type": "stream",
     "text": [
      "Step [5999/10000], Training Loss: 0.0003, Validation Loss: 0.0003\n"
     ]
    },
    {
     "name": "stderr",
     "output_type": "stream",
     "text": [
      " 71%|███████   | 7055/10000 [00:24<00:09, 327.02it/s]"
     ]
    },
    {
     "name": "stdout",
     "output_type": "stream",
     "text": [
      "Step [6999/10000], Training Loss: 0.0003, Validation Loss: 0.0003\n"
     ]
    },
    {
     "name": "stderr",
     "output_type": "stream",
     "text": [
      " 81%|████████  | 8072/10000 [00:27<00:04, 430.09it/s]"
     ]
    },
    {
     "name": "stdout",
     "output_type": "stream",
     "text": [
      "Step [7999/10000], Training Loss: 0.0003, Validation Loss: 0.0003\n"
     ]
    },
    {
     "name": "stderr",
     "output_type": "stream",
     "text": [
      " 90%|█████████ | 9025/10000 [00:30<00:03, 284.77it/s]"
     ]
    },
    {
     "name": "stdout",
     "output_type": "stream",
     "text": [
      "Step [8999/10000], Training Loss: 0.0003, Validation Loss: 0.0003\n"
     ]
    },
    {
     "name": "stderr",
     "output_type": "stream",
     "text": [
      "100%|██████████| 10000/10000 [00:34<00:00, 292.52it/s]\n"
     ]
    },
    {
     "name": "stdout",
     "output_type": "stream",
     "text": [
      "Step [9999/10000], Training Loss: 0.0003, Validation Loss: 0.0003\n",
      "Training Loss: 0.0003\n",
      "Mean Euler Error: 7.0735e-07\n",
      "Number of parameters Z_t8: 109\n"
     ]
    },
    {
     "name": "stderr",
     "output_type": "stream",
     "text": [
      "  0%|          | 12/10000 [00:00<01:33, 106.96it/s]"
     ]
    },
    {
     "name": "stdout",
     "output_type": "stream",
     "text": [
      "Step [0/10000], Training Loss: 4.0320, Validation Loss: 3.9917\n"
     ]
    },
    {
     "name": "stderr",
     "output_type": "stream",
     "text": [
      " 10%|█         | 1049/10000 [00:03<00:28, 313.98it/s]"
     ]
    },
    {
     "name": "stdout",
     "output_type": "stream",
     "text": [
      "Step [999/10000], Training Loss: 4.0088, Validation Loss: 4.0125\n"
     ]
    },
    {
     "name": "stderr",
     "output_type": "stream",
     "text": [
      " 20%|██        | 2030/10000 [00:06<00:29, 269.59it/s]"
     ]
    },
    {
     "name": "stdout",
     "output_type": "stream",
     "text": [
      "Step [1999/10000], Training Loss: 4.0519, Validation Loss: 4.0034\n"
     ]
    },
    {
     "name": "stderr",
     "output_type": "stream",
     "text": [
      " 30%|███       | 3042/10000 [00:09<00:22, 309.28it/s]"
     ]
    },
    {
     "name": "stdout",
     "output_type": "stream",
     "text": [
      "Step [2999/10000], Training Loss: 3.9607, Validation Loss: 3.9744\n"
     ]
    },
    {
     "name": "stderr",
     "output_type": "stream",
     "text": [
      " 41%|████      | 4067/10000 [00:12<00:17, 348.66it/s]"
     ]
    },
    {
     "name": "stdout",
     "output_type": "stream",
     "text": [
      "Step [3999/10000], Training Loss: 3.9899, Validation Loss: 4.0024\n"
     ]
    },
    {
     "name": "stderr",
     "output_type": "stream",
     "text": [
      " 50%|█████     | 5029/10000 [00:15<00:16, 298.34it/s]"
     ]
    },
    {
     "name": "stdout",
     "output_type": "stream",
     "text": [
      "Step [4999/10000], Training Loss: 4.0221, Validation Loss: 4.0033\n"
     ]
    },
    {
     "name": "stderr",
     "output_type": "stream",
     "text": [
      " 61%|██████    | 6066/10000 [00:19<00:14, 274.05it/s]"
     ]
    },
    {
     "name": "stdout",
     "output_type": "stream",
     "text": [
      "Step [5999/10000], Training Loss: 3.9752, Validation Loss: 3.9931\n"
     ]
    },
    {
     "name": "stderr",
     "output_type": "stream",
     "text": [
      " 71%|███████   | 7053/10000 [00:22<00:10, 287.04it/s]"
     ]
    },
    {
     "name": "stdout",
     "output_type": "stream",
     "text": [
      "Step [6999/10000], Training Loss: 4.0031, Validation Loss: 3.9747\n"
     ]
    },
    {
     "name": "stderr",
     "output_type": "stream",
     "text": [
      " 80%|███████▉  | 7999/10000 [00:25<00:06, 313.25it/s]\n"
     ]
    },
    {
     "name": "stdout",
     "output_type": "stream",
     "text": [
      "Step [7999/10000], Training Loss: 3.9090, Validation Loss: 3.9963\n",
      "Training Loss: 4.0180\n",
      "Number of parameters Y_t8: 109\n"
     ]
    },
    {
     "name": "stderr",
     "output_type": "stream",
     "text": [
      "  0%|          | 26/10000 [00:00<00:43, 228.26it/s]"
     ]
    },
    {
     "name": "stdout",
     "output_type": "stream",
     "text": [
      "Step [0/10000], Training Loss: 0.1116, Validation Loss: 0.1115\n"
     ]
    },
    {
     "name": "stderr",
     "output_type": "stream",
     "text": [
      " 10%|█         | 1026/10000 [00:04<00:44, 200.60it/s]"
     ]
    },
    {
     "name": "stdout",
     "output_type": "stream",
     "text": [
      "Step [999/10000], Training Loss: 0.0020, Validation Loss: 0.0020\n"
     ]
    },
    {
     "name": "stderr",
     "output_type": "stream",
     "text": [
      " 20%|██        | 2017/10000 [00:07<00:31, 255.28it/s]"
     ]
    },
    {
     "name": "stdout",
     "output_type": "stream",
     "text": [
      "Step [1999/10000], Training Loss: 0.0010, Validation Loss: 0.0010\n"
     ]
    },
    {
     "name": "stderr",
     "output_type": "stream",
     "text": [
      " 30%|███       | 3028/10000 [00:11<00:22, 316.22it/s]"
     ]
    },
    {
     "name": "stdout",
     "output_type": "stream",
     "text": [
      "Step [2999/10000], Training Loss: 0.0004, Validation Loss: 0.0005\n"
     ]
    },
    {
     "name": "stderr",
     "output_type": "stream",
     "text": [
      " 40%|████      | 4023/10000 [00:15<00:27, 213.98it/s]"
     ]
    },
    {
     "name": "stdout",
     "output_type": "stream",
     "text": [
      "Step [3999/10000], Training Loss: 0.0003, Validation Loss: 0.0003\n"
     ]
    },
    {
     "name": "stderr",
     "output_type": "stream",
     "text": [
      " 51%|█████     | 5097/10000 [00:18<00:13, 375.53it/s]"
     ]
    },
    {
     "name": "stdout",
     "output_type": "stream",
     "text": [
      "Step [4999/10000], Training Loss: 0.0003, Validation Loss: 0.0003\n"
     ]
    },
    {
     "name": "stderr",
     "output_type": "stream",
     "text": [
      " 61%|██████    | 6054/10000 [00:22<00:11, 331.07it/s]"
     ]
    },
    {
     "name": "stdout",
     "output_type": "stream",
     "text": [
      "Step [5999/10000], Training Loss: 0.0003, Validation Loss: 0.0003\n"
     ]
    },
    {
     "name": "stderr",
     "output_type": "stream",
     "text": [
      " 70%|███████   | 7029/10000 [00:26<00:09, 312.11it/s]"
     ]
    },
    {
     "name": "stdout",
     "output_type": "stream",
     "text": [
      "Step [6999/10000], Training Loss: 0.0003, Validation Loss: 0.0003\n"
     ]
    },
    {
     "name": "stderr",
     "output_type": "stream",
     "text": [
      " 80%|████████  | 8012/10000 [00:29<00:06, 291.54it/s]"
     ]
    },
    {
     "name": "stdout",
     "output_type": "stream",
     "text": [
      "Step [7999/10000], Training Loss: 0.0003, Validation Loss: 0.0003\n"
     ]
    },
    {
     "name": "stderr",
     "output_type": "stream",
     "text": [
      " 90%|█████████ | 9030/10000 [00:33<00:04, 217.40it/s]"
     ]
    },
    {
     "name": "stdout",
     "output_type": "stream",
     "text": [
      "Step [8999/10000], Training Loss: 0.0003, Validation Loss: 0.0003\n"
     ]
    },
    {
     "name": "stderr",
     "output_type": "stream",
     "text": [
      "100%|██████████| 10000/10000 [00:38<00:00, 258.82it/s]\n"
     ]
    },
    {
     "name": "stdout",
     "output_type": "stream",
     "text": [
      "Step [9999/10000], Training Loss: 0.0003, Validation Loss: 0.0003\n",
      "Training Loss: 0.0003\n",
      "Mean Euler Error: 4.0409e-07\n",
      "Number of parameters Z_t7: 109\n"
     ]
    },
    {
     "name": "stderr",
     "output_type": "stream",
     "text": [
      "  0%|          | 0/10000 [00:00<?, ?it/s]"
     ]
    },
    {
     "name": "stdout",
     "output_type": "stream",
     "text": [
      "Step [0/10000], Training Loss: 4.2236, Validation Loss: 4.2237\n"
     ]
    },
    {
     "name": "stderr",
     "output_type": "stream",
     "text": [
      " 11%|█         | 1057/10000 [00:03<00:28, 311.46it/s]"
     ]
    },
    {
     "name": "stdout",
     "output_type": "stream",
     "text": [
      "Step [999/10000], Training Loss: 3.9796, Validation Loss: 3.9983\n"
     ]
    },
    {
     "name": "stderr",
     "output_type": "stream",
     "text": [
      " 20%|██        | 2013/10000 [00:06<00:26, 301.10it/s]"
     ]
    },
    {
     "name": "stdout",
     "output_type": "stream",
     "text": [
      "Step [1999/10000], Training Loss: 3.9886, Validation Loss: 3.9626\n"
     ]
    },
    {
     "name": "stderr",
     "output_type": "stream",
     "text": [
      " 31%|███       | 3080/10000 [00:09<00:16, 410.51it/s]"
     ]
    },
    {
     "name": "stdout",
     "output_type": "stream",
     "text": [
      "Step [2999/10000], Training Loss: 3.9520, Validation Loss: 3.9586\n"
     ]
    },
    {
     "name": "stderr",
     "output_type": "stream",
     "text": [
      " 41%|████      | 4110/10000 [00:12<00:11, 511.76it/s]"
     ]
    },
    {
     "name": "stdout",
     "output_type": "stream",
     "text": [
      "Step [3999/10000], Training Loss: 3.9434, Validation Loss: 4.0051\n"
     ]
    },
    {
     "name": "stderr",
     "output_type": "stream",
     "text": [
      " 50%|█████     | 5049/10000 [00:15<00:16, 299.42it/s]"
     ]
    },
    {
     "name": "stdout",
     "output_type": "stream",
     "text": [
      "Step [4999/10000], Training Loss: 3.9662, Validation Loss: 3.9586\n"
     ]
    },
    {
     "name": "stderr",
     "output_type": "stream",
     "text": [
      " 61%|██████    | 6066/10000 [00:19<00:12, 313.16it/s]"
     ]
    },
    {
     "name": "stdout",
     "output_type": "stream",
     "text": [
      "Step [5999/10000], Training Loss: 3.9708, Validation Loss: 3.9879\n"
     ]
    },
    {
     "name": "stderr",
     "output_type": "stream",
     "text": [
      " 70%|███████   | 7041/10000 [00:23<00:12, 230.22it/s]"
     ]
    },
    {
     "name": "stdout",
     "output_type": "stream",
     "text": [
      "Step [6999/10000], Training Loss: 3.9636, Validation Loss: 3.9746\n"
     ]
    },
    {
     "name": "stderr",
     "output_type": "stream",
     "text": [
      " 80%|███████▉  | 7999/10000 [00:26<00:06, 303.39it/s]\n"
     ]
    },
    {
     "name": "stdout",
     "output_type": "stream",
     "text": [
      "Step [7999/10000], Training Loss: 3.9017, Validation Loss: 3.9896\n",
      "Training Loss: 3.9835\n",
      "Number of parameters Y_t7: 109\n"
     ]
    },
    {
     "name": "stderr",
     "output_type": "stream",
     "text": [
      "  0%|          | 27/10000 [00:00<00:43, 231.21it/s]"
     ]
    },
    {
     "name": "stdout",
     "output_type": "stream",
     "text": [
      "Step [0/10000], Training Loss: 0.3639, Validation Loss: 0.3639\n"
     ]
    },
    {
     "name": "stderr",
     "output_type": "stream",
     "text": [
      " 10%|█         | 1031/10000 [00:03<00:35, 249.22it/s]"
     ]
    },
    {
     "name": "stdout",
     "output_type": "stream",
     "text": [
      "Step [999/10000], Training Loss: 0.0037, Validation Loss: 0.0037\n"
     ]
    },
    {
     "name": "stderr",
     "output_type": "stream",
     "text": [
      " 21%|██        | 2051/10000 [00:07<00:24, 320.15it/s]"
     ]
    },
    {
     "name": "stdout",
     "output_type": "stream",
     "text": [
      "Step [1999/10000], Training Loss: 0.0033, Validation Loss: 0.0033\n"
     ]
    },
    {
     "name": "stderr",
     "output_type": "stream",
     "text": [
      " 30%|███       | 3042/10000 [00:11<00:26, 259.17it/s]"
     ]
    },
    {
     "name": "stdout",
     "output_type": "stream",
     "text": [
      "Step [2999/10000], Training Loss: 0.0027, Validation Loss: 0.0028\n"
     ]
    },
    {
     "name": "stderr",
     "output_type": "stream",
     "text": [
      " 40%|████      | 4026/10000 [00:15<00:22, 265.20it/s]"
     ]
    },
    {
     "name": "stdout",
     "output_type": "stream",
     "text": [
      "Step [3999/10000], Training Loss: 0.0022, Validation Loss: 0.0022\n"
     ]
    },
    {
     "name": "stderr",
     "output_type": "stream",
     "text": [
      " 50%|█████     | 5020/10000 [00:18<00:14, 334.11it/s]"
     ]
    },
    {
     "name": "stdout",
     "output_type": "stream",
     "text": [
      "Step [4999/10000], Training Loss: 0.0015, Validation Loss: 0.0015\n"
     ]
    },
    {
     "name": "stderr",
     "output_type": "stream",
     "text": [
      " 60%|██████    | 6011/10000 [00:22<00:24, 161.02it/s]"
     ]
    },
    {
     "name": "stdout",
     "output_type": "stream",
     "text": [
      "Step [5999/10000], Training Loss: 0.0010, Validation Loss: 0.0010\n"
     ]
    },
    {
     "name": "stderr",
     "output_type": "stream",
     "text": [
      " 70%|███████   | 7005/10000 [00:26<00:11, 252.31it/s]"
     ]
    },
    {
     "name": "stdout",
     "output_type": "stream",
     "text": [
      "Step [6999/10000], Training Loss: 0.0006, Validation Loss: 0.0006\n"
     ]
    },
    {
     "name": "stderr",
     "output_type": "stream",
     "text": [
      " 80%|████████  | 8030/10000 [00:29<00:10, 191.82it/s]"
     ]
    },
    {
     "name": "stdout",
     "output_type": "stream",
     "text": [
      "Step [7999/10000], Training Loss: 0.0004, Validation Loss: 0.0004\n"
     ]
    },
    {
     "name": "stderr",
     "output_type": "stream",
     "text": [
      " 90%|█████████ | 9021/10000 [00:33<00:04, 227.13it/s]"
     ]
    },
    {
     "name": "stdout",
     "output_type": "stream",
     "text": [
      "Step [8999/10000], Training Loss: 0.0003, Validation Loss: 0.0003\n"
     ]
    },
    {
     "name": "stderr",
     "output_type": "stream",
     "text": [
      "100%|██████████| 10000/10000 [00:37<00:00, 268.24it/s]\n"
     ]
    },
    {
     "name": "stdout",
     "output_type": "stream",
     "text": [
      "Step [9999/10000], Training Loss: 0.0003, Validation Loss: 0.0003\n",
      "Training Loss: 0.0003\n",
      "Mean Euler Error: 7.4585e-07\n",
      "Number of parameters Z_t6: 109\n"
     ]
    },
    {
     "name": "stderr",
     "output_type": "stream",
     "text": [
      "  0%|          | 0/10000 [00:00<?, ?it/s]"
     ]
    },
    {
     "name": "stdout",
     "output_type": "stream",
     "text": [
      "Step [0/10000], Training Loss: 3.9408, Validation Loss: 3.9362\n"
     ]
    },
    {
     "name": "stderr",
     "output_type": "stream",
     "text": [
      " 11%|█         | 1073/10000 [00:03<00:25, 348.90it/s]"
     ]
    },
    {
     "name": "stdout",
     "output_type": "stream",
     "text": [
      "Step [999/10000], Training Loss: 3.9751, Validation Loss: 3.9742\n"
     ]
    },
    {
     "name": "stderr",
     "output_type": "stream",
     "text": [
      " 20%|██        | 2049/10000 [00:07<00:29, 269.56it/s]"
     ]
    },
    {
     "name": "stdout",
     "output_type": "stream",
     "text": [
      "Step [1999/10000], Training Loss: 3.9642, Validation Loss: 3.9655\n"
     ]
    },
    {
     "name": "stderr",
     "output_type": "stream",
     "text": [
      " 30%|███       | 3044/10000 [00:10<00:23, 298.03it/s]"
     ]
    },
    {
     "name": "stdout",
     "output_type": "stream",
     "text": [
      "Step [2999/10000], Training Loss: 3.8830, Validation Loss: 3.9429\n"
     ]
    },
    {
     "name": "stderr",
     "output_type": "stream",
     "text": [
      " 40%|████      | 4035/10000 [00:13<00:25, 237.28it/s]"
     ]
    },
    {
     "name": "stdout",
     "output_type": "stream",
     "text": [
      "Step [3999/10000], Training Loss: 3.9791, Validation Loss: 3.9240\n"
     ]
    },
    {
     "name": "stderr",
     "output_type": "stream",
     "text": [
      " 50%|█████     | 5016/10000 [00:16<00:12, 392.74it/s]"
     ]
    },
    {
     "name": "stdout",
     "output_type": "stream",
     "text": [
      "Step [4999/10000], Training Loss: 3.8783, Validation Loss: 3.9484\n"
     ]
    },
    {
     "name": "stderr",
     "output_type": "stream",
     "text": [
      " 60%|██████    | 6039/10000 [00:20<00:13, 298.51it/s]"
     ]
    },
    {
     "name": "stdout",
     "output_type": "stream",
     "text": [
      "Step [5999/10000], Training Loss: 3.9344, Validation Loss: 3.9550\n"
     ]
    },
    {
     "name": "stderr",
     "output_type": "stream",
     "text": [
      " 71%|███████   | 7052/10000 [00:23<00:09, 301.67it/s]"
     ]
    },
    {
     "name": "stdout",
     "output_type": "stream",
     "text": [
      "Step [6999/10000], Training Loss: 3.9578, Validation Loss: 3.9045\n"
     ]
    },
    {
     "name": "stderr",
     "output_type": "stream",
     "text": [
      " 80%|████████  | 8029/10000 [00:26<00:06, 327.87it/s]"
     ]
    },
    {
     "name": "stdout",
     "output_type": "stream",
     "text": [
      "Step [7999/10000], Training Loss: 3.9536, Validation Loss: 3.9499\n"
     ]
    },
    {
     "name": "stderr",
     "output_type": "stream",
     "text": [
      " 90%|█████████ | 9009/10000 [00:29<00:02, 333.72it/s]"
     ]
    },
    {
     "name": "stdout",
     "output_type": "stream",
     "text": [
      "Step [8999/10000], Training Loss: 3.9338, Validation Loss: 3.9235\n"
     ]
    },
    {
     "name": "stderr",
     "output_type": "stream",
     "text": [
      "100%|██████████| 10000/10000 [00:33<00:00, 299.58it/s]\n"
     ]
    },
    {
     "name": "stdout",
     "output_type": "stream",
     "text": [
      "Step [9999/10000], Training Loss: 3.9347, Validation Loss: 3.9425\n",
      "Training Loss: 3.9376\n",
      "Number of parameters Y_t6: 109\n"
     ]
    },
    {
     "name": "stderr",
     "output_type": "stream",
     "text": [
      "  0%|          | 0/10000 [00:00<?, ?it/s]"
     ]
    },
    {
     "name": "stdout",
     "output_type": "stream",
     "text": [
      "Step [0/10000], Training Loss: 0.0364, Validation Loss: 0.0363\n"
     ]
    },
    {
     "name": "stderr",
     "output_type": "stream",
     "text": [
      " 10%|█         | 1029/10000 [00:03<00:33, 267.38it/s]"
     ]
    },
    {
     "name": "stdout",
     "output_type": "stream",
     "text": [
      "Step [999/10000], Training Loss: 0.0033, Validation Loss: 0.0032\n"
     ]
    },
    {
     "name": "stderr",
     "output_type": "stream",
     "text": [
      " 20%|██        | 2046/10000 [00:07<00:29, 269.59it/s]"
     ]
    },
    {
     "name": "stdout",
     "output_type": "stream",
     "text": [
      "Step [1999/10000], Training Loss: 0.0028, Validation Loss: 0.0028\n"
     ]
    },
    {
     "name": "stderr",
     "output_type": "stream",
     "text": [
      " 30%|███       | 3016/10000 [00:11<00:35, 198.88it/s]"
     ]
    },
    {
     "name": "stdout",
     "output_type": "stream",
     "text": [
      "Step [2999/10000], Training Loss: 0.0022, Validation Loss: 0.0022\n"
     ]
    },
    {
     "name": "stderr",
     "output_type": "stream",
     "text": [
      " 40%|████      | 4041/10000 [00:15<00:17, 334.35it/s]"
     ]
    },
    {
     "name": "stdout",
     "output_type": "stream",
     "text": [
      "Step [3999/10000], Training Loss: 0.0015, Validation Loss: 0.0015\n"
     ]
    },
    {
     "name": "stderr",
     "output_type": "stream",
     "text": [
      " 51%|█████     | 5054/10000 [00:18<00:17, 276.54it/s]"
     ]
    },
    {
     "name": "stdout",
     "output_type": "stream",
     "text": [
      "Step [4999/10000], Training Loss: 0.0009, Validation Loss: 0.0009\n"
     ]
    },
    {
     "name": "stderr",
     "output_type": "stream",
     "text": [
      " 60%|██████    | 6020/10000 [00:22<00:15, 258.86it/s]"
     ]
    },
    {
     "name": "stdout",
     "output_type": "stream",
     "text": [
      "Step [5999/10000], Training Loss: 0.0005, Validation Loss: 0.0004\n"
     ]
    },
    {
     "name": "stderr",
     "output_type": "stream",
     "text": [
      " 70%|██████▉   | 6999/10000 [00:25<00:08, 349.79it/s]"
     ]
    },
    {
     "name": "stdout",
     "output_type": "stream",
     "text": [
      "Step [6999/10000], Training Loss: 0.0003, Validation Loss: 0.0003\n"
     ]
    },
    {
     "name": "stderr",
     "output_type": "stream",
     "text": [
      " 80%|████████  | 8042/10000 [00:29<00:06, 287.30it/s]"
     ]
    },
    {
     "name": "stdout",
     "output_type": "stream",
     "text": [
      "Step [7999/10000], Training Loss: 0.0003, Validation Loss: 0.0003\n"
     ]
    },
    {
     "name": "stderr",
     "output_type": "stream",
     "text": [
      " 91%|█████████ | 9055/10000 [00:32<00:03, 301.19it/s]"
     ]
    },
    {
     "name": "stdout",
     "output_type": "stream",
     "text": [
      "Step [8999/10000], Training Loss: 0.0003, Validation Loss: 0.0003\n"
     ]
    },
    {
     "name": "stderr",
     "output_type": "stream",
     "text": [
      "100%|██████████| 10000/10000 [00:36<00:00, 275.89it/s]\n"
     ]
    },
    {
     "name": "stdout",
     "output_type": "stream",
     "text": [
      "Step [9999/10000], Training Loss: 0.0003, Validation Loss: 0.0003\n",
      "Training Loss: 0.0003\n",
      "Mean Euler Error: 4.4440e-07\n",
      "Number of parameters Z_t5: 109\n"
     ]
    },
    {
     "name": "stderr",
     "output_type": "stream",
     "text": [
      "  0%|          | 0/10000 [00:00<?, ?it/s]"
     ]
    },
    {
     "name": "stdout",
     "output_type": "stream",
     "text": [
      "Step [0/10000], Training Loss: 3.9357, Validation Loss: 3.9210\n"
     ]
    },
    {
     "name": "stderr",
     "output_type": "stream",
     "text": [
      " 11%|█         | 1063/10000 [00:03<00:25, 345.72it/s]"
     ]
    },
    {
     "name": "stdout",
     "output_type": "stream",
     "text": [
      "Step [999/10000], Training Loss: 3.8868, Validation Loss: 3.9196\n"
     ]
    },
    {
     "name": "stderr",
     "output_type": "stream",
     "text": [
      " 20%|██        | 2033/10000 [00:06<00:27, 292.98it/s]"
     ]
    },
    {
     "name": "stdout",
     "output_type": "stream",
     "text": [
      "Step [1999/10000], Training Loss: 3.9291, Validation Loss: 3.9004\n"
     ]
    },
    {
     "name": "stderr",
     "output_type": "stream",
     "text": [
      " 30%|███       | 3005/10000 [00:10<00:27, 252.50it/s]"
     ]
    },
    {
     "name": "stdout",
     "output_type": "stream",
     "text": [
      "Step [2999/10000], Training Loss: 3.9065, Validation Loss: 3.8968\n"
     ]
    },
    {
     "name": "stderr",
     "output_type": "stream",
     "text": [
      " 40%|████      | 4047/10000 [00:13<00:22, 264.50it/s]"
     ]
    },
    {
     "name": "stdout",
     "output_type": "stream",
     "text": [
      "Step [3999/10000], Training Loss: 3.8726, Validation Loss: 3.9250\n"
     ]
    },
    {
     "name": "stderr",
     "output_type": "stream",
     "text": [
      " 51%|█████     | 5058/10000 [00:17<00:15, 311.25it/s]"
     ]
    },
    {
     "name": "stdout",
     "output_type": "stream",
     "text": [
      "Step [4999/10000], Training Loss: 3.9758, Validation Loss: 3.9208\n"
     ]
    },
    {
     "name": "stderr",
     "output_type": "stream",
     "text": [
      " 60%|██████    | 6036/10000 [00:20<00:10, 372.68it/s]"
     ]
    },
    {
     "name": "stdout",
     "output_type": "stream",
     "text": [
      "Step [5999/10000], Training Loss: 3.9368, Validation Loss: 3.9221\n"
     ]
    },
    {
     "name": "stderr",
     "output_type": "stream",
     "text": [
      " 70%|███████   | 7026/10000 [00:24<00:15, 187.31it/s]"
     ]
    },
    {
     "name": "stdout",
     "output_type": "stream",
     "text": [
      "Step [6999/10000], Training Loss: 3.9119, Validation Loss: 3.8869\n"
     ]
    },
    {
     "name": "stderr",
     "output_type": "stream",
     "text": [
      " 80%|████████  | 8040/10000 [00:28<00:08, 243.97it/s]"
     ]
    },
    {
     "name": "stdout",
     "output_type": "stream",
     "text": [
      "Step [7999/10000], Training Loss: 3.8718, Validation Loss: 3.9182\n"
     ]
    },
    {
     "name": "stderr",
     "output_type": "stream",
     "text": [
      " 90%|█████████ | 9031/10000 [00:32<00:03, 306.65it/s]"
     ]
    },
    {
     "name": "stdout",
     "output_type": "stream",
     "text": [
      "Step [8999/10000], Training Loss: 3.8837, Validation Loss: 3.8982\n"
     ]
    },
    {
     "name": "stderr",
     "output_type": "stream",
     "text": [
      "100%|██████████| 10000/10000 [00:35<00:00, 282.87it/s]\n"
     ]
    },
    {
     "name": "stdout",
     "output_type": "stream",
     "text": [
      "Step [9999/10000], Training Loss: 3.9343, Validation Loss: 3.9394\n",
      "Training Loss: 3.9475\n",
      "Number of parameters Y_t5: 109\n"
     ]
    },
    {
     "name": "stderr",
     "output_type": "stream",
     "text": [
      "  0%|          | 50/10000 [00:00<00:20, 496.09it/s]"
     ]
    },
    {
     "name": "stdout",
     "output_type": "stream",
     "text": [
      "Step [0/10000], Training Loss: 0.0139, Validation Loss: 0.0138\n"
     ]
    },
    {
     "name": "stderr",
     "output_type": "stream",
     "text": [
      " 11%|█         | 1062/10000 [00:03<00:29, 306.89it/s]"
     ]
    },
    {
     "name": "stdout",
     "output_type": "stream",
     "text": [
      "Step [999/10000], Training Loss: 0.0019, Validation Loss: 0.0019\n"
     ]
    },
    {
     "name": "stderr",
     "output_type": "stream",
     "text": [
      " 20%|██        | 2012/10000 [00:06<00:20, 395.19it/s]"
     ]
    },
    {
     "name": "stdout",
     "output_type": "stream",
     "text": [
      "Step [1999/10000], Training Loss: 0.0017, Validation Loss: 0.0017\n"
     ]
    },
    {
     "name": "stderr",
     "output_type": "stream",
     "text": [
      " 30%|███       | 3044/10000 [00:09<00:25, 271.40it/s]"
     ]
    },
    {
     "name": "stdout",
     "output_type": "stream",
     "text": [
      "Step [2999/10000], Training Loss: 0.0013, Validation Loss: 0.0013\n"
     ]
    },
    {
     "name": "stderr",
     "output_type": "stream",
     "text": [
      " 40%|████      | 4032/10000 [00:13<00:22, 264.38it/s]"
     ]
    },
    {
     "name": "stdout",
     "output_type": "stream",
     "text": [
      "Step [3999/10000], Training Loss: 0.0009, Validation Loss: 0.0009\n"
     ]
    },
    {
     "name": "stderr",
     "output_type": "stream",
     "text": [
      " 51%|█████     | 5068/10000 [00:15<00:11, 419.98it/s]"
     ]
    },
    {
     "name": "stdout",
     "output_type": "stream",
     "text": [
      "Step [4999/10000], Training Loss: 0.0005, Validation Loss: 0.0005\n"
     ]
    },
    {
     "name": "stderr",
     "output_type": "stream",
     "text": [
      " 61%|██████    | 6102/10000 [00:19<00:09, 391.10it/s]"
     ]
    },
    {
     "name": "stdout",
     "output_type": "stream",
     "text": [
      "Step [5999/10000], Training Loss: 0.0004, Validation Loss: 0.0004\n"
     ]
    },
    {
     "name": "stderr",
     "output_type": "stream",
     "text": [
      " 71%|███████   | 7058/10000 [00:22<00:09, 310.16it/s]"
     ]
    },
    {
     "name": "stdout",
     "output_type": "stream",
     "text": [
      "Step [6999/10000], Training Loss: 0.0003, Validation Loss: 0.0003\n"
     ]
    },
    {
     "name": "stderr",
     "output_type": "stream",
     "text": [
      " 80%|████████  | 8029/10000 [00:25<00:06, 315.52it/s]"
     ]
    },
    {
     "name": "stdout",
     "output_type": "stream",
     "text": [
      "Step [7999/10000], Training Loss: 0.0003, Validation Loss: 0.0003\n"
     ]
    },
    {
     "name": "stderr",
     "output_type": "stream",
     "text": [
      " 90%|█████████ | 9035/10000 [00:28<00:02, 329.53it/s]"
     ]
    },
    {
     "name": "stdout",
     "output_type": "stream",
     "text": [
      "Step [8999/10000], Training Loss: 0.0003, Validation Loss: 0.0003\n"
     ]
    },
    {
     "name": "stderr",
     "output_type": "stream",
     "text": [
      "100%|██████████| 10000/10000 [00:32<00:00, 310.68it/s]\n"
     ]
    },
    {
     "name": "stdout",
     "output_type": "stream",
     "text": [
      "Step [9999/10000], Training Loss: 0.0003, Validation Loss: 0.0003\n",
      "Training Loss: 0.0003\n",
      "Mean Euler Error: 1.3749e-07\n",
      "Number of parameters Z_t4: 109\n"
     ]
    },
    {
     "name": "stderr",
     "output_type": "stream",
     "text": [
      "  0%|          | 48/10000 [00:00<00:41, 239.02it/s]"
     ]
    },
    {
     "name": "stdout",
     "output_type": "stream",
     "text": [
      "Step [0/10000], Training Loss: 3.8793, Validation Loss: 3.8374\n"
     ]
    },
    {
     "name": "stderr",
     "output_type": "stream",
     "text": [
      " 11%|█         | 1061/10000 [00:03<00:26, 336.65it/s]"
     ]
    },
    {
     "name": "stdout",
     "output_type": "stream",
     "text": [
      "Step [999/10000], Training Loss: 3.9391, Validation Loss: 3.8910\n"
     ]
    },
    {
     "name": "stderr",
     "output_type": "stream",
     "text": [
      " 20%|██        | 2037/10000 [00:05<00:23, 335.03it/s]"
     ]
    },
    {
     "name": "stdout",
     "output_type": "stream",
     "text": [
      "Step [1999/10000], Training Loss: 3.8609, Validation Loss: 3.8785\n"
     ]
    },
    {
     "name": "stderr",
     "output_type": "stream",
     "text": [
      " 30%|███       | 3029/10000 [00:08<00:25, 272.35it/s]"
     ]
    },
    {
     "name": "stdout",
     "output_type": "stream",
     "text": [
      "Step [2999/10000], Training Loss: 3.9173, Validation Loss: 3.8965\n"
     ]
    },
    {
     "name": "stderr",
     "output_type": "stream",
     "text": [
      " 40%|████      | 4021/10000 [00:11<00:26, 222.27it/s]"
     ]
    },
    {
     "name": "stdout",
     "output_type": "stream",
     "text": [
      "Step [3999/10000], Training Loss: 3.8662, Validation Loss: 3.8636\n"
     ]
    },
    {
     "name": "stderr",
     "output_type": "stream",
     "text": [
      " 50%|████▉     | 4999/10000 [00:14<00:14, 338.56it/s]\n"
     ]
    },
    {
     "name": "stdout",
     "output_type": "stream",
     "text": [
      "Step [4999/10000], Training Loss: 3.8576, Validation Loss: 3.8713\n",
      "Training Loss: 3.8847\n",
      "Number of parameters Y_t4: 109\n"
     ]
    },
    {
     "name": "stderr",
     "output_type": "stream",
     "text": [
      "  0%|          | 34/10000 [00:00<00:29, 339.22it/s]"
     ]
    },
    {
     "name": "stdout",
     "output_type": "stream",
     "text": [
      "Step [0/10000], Training Loss: 0.1940, Validation Loss: 0.1942\n"
     ]
    },
    {
     "name": "stderr",
     "output_type": "stream",
     "text": [
      " 10%|█         | 1030/10000 [00:03<00:29, 305.09it/s]"
     ]
    },
    {
     "name": "stdout",
     "output_type": "stream",
     "text": [
      "Step [999/10000], Training Loss: 0.0014, Validation Loss: 0.0014\n"
     ]
    },
    {
     "name": "stderr",
     "output_type": "stream",
     "text": [
      " 20%|██        | 2027/10000 [00:07<00:36, 220.04it/s]"
     ]
    },
    {
     "name": "stdout",
     "output_type": "stream",
     "text": [
      "Step [1999/10000], Training Loss: 0.0013, Validation Loss: 0.0013\n"
     ]
    },
    {
     "name": "stderr",
     "output_type": "stream",
     "text": [
      " 31%|███       | 3064/10000 [00:10<00:18, 384.67it/s]"
     ]
    },
    {
     "name": "stdout",
     "output_type": "stream",
     "text": [
      "Step [2999/10000], Training Loss: 0.0011, Validation Loss: 0.0011\n"
     ]
    },
    {
     "name": "stderr",
     "output_type": "stream",
     "text": [
      " 41%|████      | 4065/10000 [00:14<00:18, 315.50it/s]"
     ]
    },
    {
     "name": "stdout",
     "output_type": "stream",
     "text": [
      "Step [3999/10000], Training Loss: 0.0008, Validation Loss: 0.0008\n"
     ]
    },
    {
     "name": "stderr",
     "output_type": "stream",
     "text": [
      " 50%|█████     | 5041/10000 [00:17<00:14, 353.57it/s]"
     ]
    },
    {
     "name": "stdout",
     "output_type": "stream",
     "text": [
      "Step [4999/10000], Training Loss: 0.0005, Validation Loss: 0.0005\n"
     ]
    },
    {
     "name": "stderr",
     "output_type": "stream",
     "text": [
      " 60%|██████    | 6023/10000 [00:21<00:15, 254.79it/s]"
     ]
    },
    {
     "name": "stdout",
     "output_type": "stream",
     "text": [
      "Step [5999/10000], Training Loss: 0.0004, Validation Loss: 0.0004\n"
     ]
    },
    {
     "name": "stderr",
     "output_type": "stream",
     "text": [
      " 70%|███████   | 7030/10000 [00:24<00:11, 255.14it/s]"
     ]
    },
    {
     "name": "stdout",
     "output_type": "stream",
     "text": [
      "Step [6999/10000], Training Loss: 0.0003, Validation Loss: 0.0003\n"
     ]
    },
    {
     "name": "stderr",
     "output_type": "stream",
     "text": [
      " 81%|████████  | 8058/10000 [00:28<00:06, 320.33it/s]"
     ]
    },
    {
     "name": "stdout",
     "output_type": "stream",
     "text": [
      "Step [7999/10000], Training Loss: 0.0003, Validation Loss: 0.0003\n"
     ]
    },
    {
     "name": "stderr",
     "output_type": "stream",
     "text": [
      " 90%|█████████ | 9008/10000 [00:32<00:03, 288.69it/s]"
     ]
    },
    {
     "name": "stdout",
     "output_type": "stream",
     "text": [
      "Step [8999/10000], Training Loss: 0.0003, Validation Loss: 0.0003\n"
     ]
    },
    {
     "name": "stderr",
     "output_type": "stream",
     "text": [
      "100%|██████████| 10000/10000 [00:35<00:00, 281.93it/s]\n"
     ]
    },
    {
     "name": "stdout",
     "output_type": "stream",
     "text": [
      "Step [9999/10000], Training Loss: 0.0003, Validation Loss: 0.0003\n",
      "Training Loss: 0.0003\n",
      "Mean Euler Error: 3.7393e-07\n",
      "Number of parameters Z_t3: 109\n"
     ]
    },
    {
     "name": "stderr",
     "output_type": "stream",
     "text": [
      "  0%|          | 0/10000 [00:00<?, ?it/s]"
     ]
    },
    {
     "name": "stdout",
     "output_type": "stream",
     "text": [
      "Step [0/10000], Training Loss: 4.5367, Validation Loss: 4.5061\n"
     ]
    },
    {
     "name": "stderr",
     "output_type": "stream",
     "text": [
      " 10%|█         | 1029/10000 [00:04<00:34, 258.08it/s]"
     ]
    },
    {
     "name": "stdout",
     "output_type": "stream",
     "text": [
      "Step [999/10000], Training Loss: 3.8564, Validation Loss: 3.8902\n"
     ]
    },
    {
     "name": "stderr",
     "output_type": "stream",
     "text": [
      " 20%|██        | 2016/10000 [00:07<00:39, 200.76it/s]"
     ]
    },
    {
     "name": "stdout",
     "output_type": "stream",
     "text": [
      "Step [1999/10000], Training Loss: 3.9053, Validation Loss: 3.8453\n"
     ]
    },
    {
     "name": "stderr",
     "output_type": "stream",
     "text": [
      " 30%|███       | 3020/10000 [00:10<00:20, 332.57it/s]"
     ]
    },
    {
     "name": "stdout",
     "output_type": "stream",
     "text": [
      "Step [2999/10000], Training Loss: 3.8600, Validation Loss: 3.8359\n"
     ]
    },
    {
     "name": "stderr",
     "output_type": "stream",
     "text": [
      " 40%|████      | 4028/10000 [00:13<00:16, 361.79it/s]"
     ]
    },
    {
     "name": "stdout",
     "output_type": "stream",
     "text": [
      "Step [3999/10000], Training Loss: 3.8522, Validation Loss: 3.8375\n"
     ]
    },
    {
     "name": "stderr",
     "output_type": "stream",
     "text": [
      " 50%|█████     | 5009/10000 [00:16<00:19, 254.08it/s]"
     ]
    },
    {
     "name": "stdout",
     "output_type": "stream",
     "text": [
      "Step [4999/10000], Training Loss: 3.8256, Validation Loss: 3.8382\n"
     ]
    },
    {
     "name": "stderr",
     "output_type": "stream",
     "text": [
      " 60%|██████    | 6018/10000 [00:20<00:14, 283.56it/s]"
     ]
    },
    {
     "name": "stdout",
     "output_type": "stream",
     "text": [
      "Step [5999/10000], Training Loss: 3.8238, Validation Loss: 3.8575\n"
     ]
    },
    {
     "name": "stderr",
     "output_type": "stream",
     "text": [
      " 70%|███████   | 7036/10000 [00:25<00:12, 241.86it/s]"
     ]
    },
    {
     "name": "stdout",
     "output_type": "stream",
     "text": [
      "Step [6999/10000], Training Loss: 3.8660, Validation Loss: 3.8715\n"
     ]
    },
    {
     "name": "stderr",
     "output_type": "stream",
     "text": [
      " 80%|███████▉  | 7999/10000 [00:29<00:07, 272.97it/s]\n"
     ]
    },
    {
     "name": "stdout",
     "output_type": "stream",
     "text": [
      "Step [7999/10000], Training Loss: 3.8760, Validation Loss: 3.8450\n",
      "Training Loss: 3.8845\n",
      "Number of parameters Y_t3: 109\n"
     ]
    },
    {
     "name": "stderr",
     "output_type": "stream",
     "text": [
      "  0%|          | 19/10000 [00:00<00:52, 188.99it/s]"
     ]
    },
    {
     "name": "stdout",
     "output_type": "stream",
     "text": [
      "Step [0/10000], Training Loss: 0.1478, Validation Loss: 0.1474\n"
     ]
    },
    {
     "name": "stderr",
     "output_type": "stream",
     "text": [
      " 10%|█         | 1025/10000 [00:04<00:31, 283.94it/s]"
     ]
    },
    {
     "name": "stdout",
     "output_type": "stream",
     "text": [
      "Step [999/10000], Training Loss: 0.0007, Validation Loss: 0.0007\n"
     ]
    },
    {
     "name": "stderr",
     "output_type": "stream",
     "text": [
      " 21%|██        | 2057/10000 [00:08<00:26, 301.85it/s]"
     ]
    },
    {
     "name": "stdout",
     "output_type": "stream",
     "text": [
      "Step [1999/10000], Training Loss: 0.0006, Validation Loss: 0.0006\n"
     ]
    },
    {
     "name": "stderr",
     "output_type": "stream",
     "text": [
      " 30%|███       | 3050/10000 [00:11<00:24, 280.13it/s]"
     ]
    },
    {
     "name": "stdout",
     "output_type": "stream",
     "text": [
      "Step [2999/10000], Training Loss: 0.0005, Validation Loss: 0.0005\n"
     ]
    },
    {
     "name": "stderr",
     "output_type": "stream",
     "text": [
      " 41%|████      | 4051/10000 [00:15<00:21, 271.50it/s]"
     ]
    },
    {
     "name": "stdout",
     "output_type": "stream",
     "text": [
      "Step [3999/10000], Training Loss: 0.0005, Validation Loss: 0.0005\n"
     ]
    },
    {
     "name": "stderr",
     "output_type": "stream",
     "text": [
      " 50%|████▉     | 4994/10000 [00:19<00:13, 383.70it/s]"
     ]
    },
    {
     "name": "stdout",
     "output_type": "stream",
     "text": [
      "Step [4999/10000], Training Loss: 0.0004, Validation Loss: 0.0004\n"
     ]
    },
    {
     "name": "stderr",
     "output_type": "stream",
     "text": [
      " 60%|██████    | 6035/10000 [00:23<00:15, 255.73it/s]"
     ]
    },
    {
     "name": "stdout",
     "output_type": "stream",
     "text": [
      "Step [5999/10000], Training Loss: 0.0003, Validation Loss: 0.0003\n"
     ]
    },
    {
     "name": "stderr",
     "output_type": "stream",
     "text": [
      " 70%|███████   | 7031/10000 [00:26<00:13, 223.64it/s]"
     ]
    },
    {
     "name": "stdout",
     "output_type": "stream",
     "text": [
      "Step [6999/10000], Training Loss: 0.0003, Validation Loss: 0.0003\n"
     ]
    },
    {
     "name": "stderr",
     "output_type": "stream",
     "text": [
      " 80%|████████  | 8014/10000 [00:30<00:06, 326.80it/s]"
     ]
    },
    {
     "name": "stdout",
     "output_type": "stream",
     "text": [
      "Step [7999/10000], Training Loss: 0.0003, Validation Loss: 0.0003\n"
     ]
    },
    {
     "name": "stderr",
     "output_type": "stream",
     "text": [
      " 90%|█████████ | 9039/10000 [00:34<00:03, 268.49it/s]"
     ]
    },
    {
     "name": "stdout",
     "output_type": "stream",
     "text": [
      "Step [8999/10000], Training Loss: 0.0003, Validation Loss: 0.0003\n"
     ]
    },
    {
     "name": "stderr",
     "output_type": "stream",
     "text": [
      "100%|██████████| 10000/10000 [00:38<00:00, 260.08it/s]\n"
     ]
    },
    {
     "name": "stdout",
     "output_type": "stream",
     "text": [
      "Step [9999/10000], Training Loss: 0.0003, Validation Loss: 0.0003\n",
      "Training Loss: 0.0003\n",
      "Mean Euler Error: 1.7833e-07\n",
      "Number of parameters Z_t2: 109\n"
     ]
    },
    {
     "name": "stderr",
     "output_type": "stream",
     "text": [
      "  0%|          | 0/10000 [00:00<?, ?it/s]"
     ]
    },
    {
     "name": "stdout",
     "output_type": "stream",
     "text": [
      "Step [0/10000], Training Loss: 3.9713, Validation Loss: 3.9617\n"
     ]
    },
    {
     "name": "stderr",
     "output_type": "stream",
     "text": [
      " 10%|█         | 1041/10000 [00:03<00:27, 330.36it/s]"
     ]
    },
    {
     "name": "stdout",
     "output_type": "stream",
     "text": [
      "Step [999/10000], Training Loss: 3.8908, Validation Loss: 3.8205\n"
     ]
    },
    {
     "name": "stderr",
     "output_type": "stream",
     "text": [
      " 21%|██        | 2079/10000 [00:07<00:18, 422.54it/s]"
     ]
    },
    {
     "name": "stdout",
     "output_type": "stream",
     "text": [
      "Step [1999/10000], Training Loss: 3.8363, Validation Loss: 3.7951\n"
     ]
    },
    {
     "name": "stderr",
     "output_type": "stream",
     "text": [
      " 30%|███       | 3030/10000 [00:10<00:27, 257.38it/s]"
     ]
    },
    {
     "name": "stdout",
     "output_type": "stream",
     "text": [
      "Step [2999/10000], Training Loss: 3.8263, Validation Loss: 3.7968\n"
     ]
    },
    {
     "name": "stderr",
     "output_type": "stream",
     "text": [
      " 40%|████      | 4045/10000 [00:14<00:16, 352.66it/s]"
     ]
    },
    {
     "name": "stdout",
     "output_type": "stream",
     "text": [
      "Step [3999/10000], Training Loss: 3.8463, Validation Loss: 3.8240\n"
     ]
    },
    {
     "name": "stderr",
     "output_type": "stream",
     "text": [
      " 50%|█████     | 5013/10000 [00:18<00:24, 199.87it/s]"
     ]
    },
    {
     "name": "stdout",
     "output_type": "stream",
     "text": [
      "Step [4999/10000], Training Loss: 3.8732, Validation Loss: 3.8311\n"
     ]
    },
    {
     "name": "stderr",
     "output_type": "stream",
     "text": [
      " 61%|██████    | 6100/10000 [00:21<00:08, 467.20it/s]"
     ]
    },
    {
     "name": "stdout",
     "output_type": "stream",
     "text": [
      "Step [5999/10000], Training Loss: 3.7978, Validation Loss: 3.8409\n"
     ]
    },
    {
     "name": "stderr",
     "output_type": "stream",
     "text": [
      " 70%|██████▉   | 6999/10000 [00:24<00:10, 284.25it/s]\n"
     ]
    },
    {
     "name": "stdout",
     "output_type": "stream",
     "text": [
      "Step [6999/10000], Training Loss: 3.8307, Validation Loss: 3.8164\n",
      "Training Loss: 3.8192\n",
      "Number of parameters Y_t2: 109\n"
     ]
    },
    {
     "name": "stderr",
     "output_type": "stream",
     "text": [
      "  0%|          | 26/10000 [00:00<00:38, 257.31it/s]"
     ]
    },
    {
     "name": "stdout",
     "output_type": "stream",
     "text": [
      "Step [0/10000], Training Loss: 0.3023, Validation Loss: 0.3023\n"
     ]
    },
    {
     "name": "stderr",
     "output_type": "stream",
     "text": [
      " 10%|█         | 1032/10000 [00:04<00:33, 268.16it/s]"
     ]
    },
    {
     "name": "stdout",
     "output_type": "stream",
     "text": [
      "Step [999/10000], Training Loss: 0.0008, Validation Loss: 0.0008\n"
     ]
    },
    {
     "name": "stderr",
     "output_type": "stream",
     "text": [
      " 20%|██        | 2037/10000 [00:09<00:33, 235.20it/s]"
     ]
    },
    {
     "name": "stdout",
     "output_type": "stream",
     "text": [
      "Step [1999/10000], Training Loss: 0.0008, Validation Loss: 0.0008\n"
     ]
    },
    {
     "name": "stderr",
     "output_type": "stream",
     "text": [
      " 30%|███       | 3020/10000 [00:13<00:20, 348.66it/s]"
     ]
    },
    {
     "name": "stdout",
     "output_type": "stream",
     "text": [
      "Step [2999/10000], Training Loss: 0.0007, Validation Loss: 0.0007\n"
     ]
    },
    {
     "name": "stderr",
     "output_type": "stream",
     "text": [
      " 40%|████      | 4028/10000 [00:17<00:25, 232.06it/s]"
     ]
    },
    {
     "name": "stdout",
     "output_type": "stream",
     "text": [
      "Step [3999/10000], Training Loss: 0.0006, Validation Loss: 0.0006\n"
     ]
    },
    {
     "name": "stderr",
     "output_type": "stream",
     "text": [
      " 50%|█████     | 5019/10000 [00:22<00:27, 180.11it/s]"
     ]
    },
    {
     "name": "stdout",
     "output_type": "stream",
     "text": [
      "Step [4999/10000], Training Loss: 0.0006, Validation Loss: 0.0006\n"
     ]
    },
    {
     "name": "stderr",
     "output_type": "stream",
     "text": [
      " 60%|██████    | 6030/10000 [00:26<00:14, 271.56it/s]"
     ]
    },
    {
     "name": "stdout",
     "output_type": "stream",
     "text": [
      "Step [5999/10000], Training Loss: 0.0005, Validation Loss: 0.0005\n"
     ]
    },
    {
     "name": "stderr",
     "output_type": "stream",
     "text": [
      " 70%|███████   | 7022/10000 [00:30<00:12, 234.13it/s]"
     ]
    },
    {
     "name": "stdout",
     "output_type": "stream",
     "text": [
      "Step [6999/10000], Training Loss: 0.0004, Validation Loss: 0.0004\n"
     ]
    },
    {
     "name": "stderr",
     "output_type": "stream",
     "text": [
      " 80%|████████  | 8016/10000 [00:34<00:10, 195.69it/s]"
     ]
    },
    {
     "name": "stdout",
     "output_type": "stream",
     "text": [
      "Step [7999/10000], Training Loss: 0.0004, Validation Loss: 0.0004\n"
     ]
    },
    {
     "name": "stderr",
     "output_type": "stream",
     "text": [
      " 90%|█████████ | 9049/10000 [00:38<00:03, 299.75it/s]"
     ]
    },
    {
     "name": "stdout",
     "output_type": "stream",
     "text": [
      "Step [8999/10000], Training Loss: 0.0003, Validation Loss: 0.0003\n"
     ]
    },
    {
     "name": "stderr",
     "output_type": "stream",
     "text": [
      "100%|██████████| 10000/10000 [00:42<00:00, 233.76it/s]\n"
     ]
    },
    {
     "name": "stdout",
     "output_type": "stream",
     "text": [
      "Step [9999/10000], Training Loss: 0.0003, Validation Loss: 0.0003\n",
      "Training Loss: 0.0003\n",
      "Mean Euler Error: 1.6308e-06\n",
      "Number of parameters Z_t1: 109\n"
     ]
    },
    {
     "name": "stderr",
     "output_type": "stream",
     "text": [
      "  0%|          | 0/10000 [00:00<?, ?it/s]"
     ]
    },
    {
     "name": "stdout",
     "output_type": "stream",
     "text": [
      "Step [0/10000], Training Loss: 3.7838, Validation Loss: 3.7784\n"
     ]
    },
    {
     "name": "stderr",
     "output_type": "stream",
     "text": [
      " 10%|█         | 1017/10000 [00:03<00:34, 262.52it/s]"
     ]
    },
    {
     "name": "stdout",
     "output_type": "stream",
     "text": [
      "Step [999/10000], Training Loss: 3.8207, Validation Loss: 3.7850\n"
     ]
    },
    {
     "name": "stderr",
     "output_type": "stream",
     "text": [
      " 20%|██        | 2023/10000 [00:06<00:22, 358.20it/s]"
     ]
    },
    {
     "name": "stdout",
     "output_type": "stream",
     "text": [
      "Step [1999/10000], Training Loss: 3.8091, Validation Loss: 3.8036\n"
     ]
    },
    {
     "name": "stderr",
     "output_type": "stream",
     "text": [
      " 31%|███       | 3066/10000 [00:09<00:20, 345.78it/s]"
     ]
    },
    {
     "name": "stdout",
     "output_type": "stream",
     "text": [
      "Step [2999/10000], Training Loss: 3.7558, Validation Loss: 3.7828\n"
     ]
    },
    {
     "name": "stderr",
     "output_type": "stream",
     "text": [
      " 40%|████      | 4035/10000 [00:13<00:29, 202.70it/s]"
     ]
    },
    {
     "name": "stdout",
     "output_type": "stream",
     "text": [
      "Step [3999/10000], Training Loss: 3.7320, Validation Loss: 3.7843\n"
     ]
    },
    {
     "name": "stderr",
     "output_type": "stream",
     "text": [
      " 50%|█████     | 5010/10000 [00:17<00:10, 482.84it/s]"
     ]
    },
    {
     "name": "stdout",
     "output_type": "stream",
     "text": [
      "Step [4999/10000], Training Loss: 3.7487, Validation Loss: 3.7753\n"
     ]
    },
    {
     "name": "stderr",
     "output_type": "stream",
     "text": [
      " 60%|██████    | 6022/10000 [00:21<00:12, 314.42it/s]"
     ]
    },
    {
     "name": "stdout",
     "output_type": "stream",
     "text": [
      "Step [5999/10000], Training Loss: 3.8078, Validation Loss: 3.7902\n"
     ]
    },
    {
     "name": "stderr",
     "output_type": "stream",
     "text": [
      " 70%|███████   | 7031/10000 [00:24<00:08, 341.07it/s]"
     ]
    },
    {
     "name": "stdout",
     "output_type": "stream",
     "text": [
      "Step [6999/10000], Training Loss: 3.7529, Validation Loss: 3.7668\n"
     ]
    },
    {
     "name": "stderr",
     "output_type": "stream",
     "text": [
      " 80%|████████  | 8042/10000 [00:28<00:07, 246.68it/s]"
     ]
    },
    {
     "name": "stdout",
     "output_type": "stream",
     "text": [
      "Step [7999/10000], Training Loss: 3.8393, Validation Loss: 3.8167\n"
     ]
    },
    {
     "name": "stderr",
     "output_type": "stream",
     "text": [
      " 90%|█████████ | 9031/10000 [00:31<00:03, 280.93it/s]"
     ]
    },
    {
     "name": "stdout",
     "output_type": "stream",
     "text": [
      "Step [8999/10000], Training Loss: 3.7782, Validation Loss: 3.7519\n"
     ]
    },
    {
     "name": "stderr",
     "output_type": "stream",
     "text": [
      "100%|██████████| 10000/10000 [00:34<00:00, 285.75it/s]\n"
     ]
    },
    {
     "name": "stdout",
     "output_type": "stream",
     "text": [
      "Step [9999/10000], Training Loss: 3.7770, Validation Loss: 3.7985\n",
      "Training Loss: 3.7711\n",
      "Number of parameters Y_t1: 109\n"
     ]
    },
    {
     "name": "stderr",
     "output_type": "stream",
     "text": [
      "  0%|          | 27/10000 [00:00<00:37, 266.73it/s]"
     ]
    },
    {
     "name": "stdout",
     "output_type": "stream",
     "text": [
      "Step [0/10000], Training Loss: 0.0674, Validation Loss: 0.0674\n"
     ]
    },
    {
     "name": "stderr",
     "output_type": "stream",
     "text": [
      " 10%|█         | 1015/10000 [00:04<00:36, 247.35it/s]"
     ]
    },
    {
     "name": "stdout",
     "output_type": "stream",
     "text": [
      "Step [999/10000], Training Loss: 0.0005, Validation Loss: 0.0005\n"
     ]
    },
    {
     "name": "stderr",
     "output_type": "stream",
     "text": [
      " 20%|██        | 2046/10000 [00:08<00:25, 305.94it/s]"
     ]
    },
    {
     "name": "stdout",
     "output_type": "stream",
     "text": [
      "Step [1999/10000], Training Loss: 0.0005, Validation Loss: 0.0005\n"
     ]
    },
    {
     "name": "stderr",
     "output_type": "stream",
     "text": [
      " 31%|███       | 3056/10000 [00:11<00:24, 278.99it/s]"
     ]
    },
    {
     "name": "stdout",
     "output_type": "stream",
     "text": [
      "Step [2999/10000], Training Loss: 0.0005, Validation Loss: 0.0005\n"
     ]
    },
    {
     "name": "stderr",
     "output_type": "stream",
     "text": [
      " 40%|████      | 4022/10000 [00:15<00:27, 213.92it/s]"
     ]
    },
    {
     "name": "stdout",
     "output_type": "stream",
     "text": [
      "Step [3999/10000], Training Loss: 0.0004, Validation Loss: 0.0004\n"
     ]
    },
    {
     "name": "stderr",
     "output_type": "stream",
     "text": [
      " 50%|█████     | 5038/10000 [00:20<00:23, 211.89it/s]"
     ]
    },
    {
     "name": "stdout",
     "output_type": "stream",
     "text": [
      "Step [4999/10000], Training Loss: 0.0004, Validation Loss: 0.0004\n"
     ]
    },
    {
     "name": "stderr",
     "output_type": "stream",
     "text": [
      " 61%|██████    | 6058/10000 [00:24<00:10, 390.12it/s]"
     ]
    },
    {
     "name": "stdout",
     "output_type": "stream",
     "text": [
      "Step [5999/10000], Training Loss: 0.0003, Validation Loss: 0.0003\n"
     ]
    },
    {
     "name": "stderr",
     "output_type": "stream",
     "text": [
      " 70%|███████   | 7016/10000 [00:28<00:12, 240.90it/s]"
     ]
    },
    {
     "name": "stdout",
     "output_type": "stream",
     "text": [
      "Step [6999/10000], Training Loss: 0.0003, Validation Loss: 0.0003\n"
     ]
    },
    {
     "name": "stderr",
     "output_type": "stream",
     "text": [
      " 81%|████████  | 8082/10000 [00:32<00:05, 336.69it/s]"
     ]
    },
    {
     "name": "stdout",
     "output_type": "stream",
     "text": [
      "Step [7999/10000], Training Loss: 0.0003, Validation Loss: 0.0003\n"
     ]
    },
    {
     "name": "stderr",
     "output_type": "stream",
     "text": [
      " 90%|█████████ | 9049/10000 [00:35<00:03, 285.51it/s]"
     ]
    },
    {
     "name": "stdout",
     "output_type": "stream",
     "text": [
      "Step [8999/10000], Training Loss: 0.0003, Validation Loss: 0.0003\n"
     ]
    },
    {
     "name": "stderr",
     "output_type": "stream",
     "text": [
      "100%|██████████| 10000/10000 [00:38<00:00, 258.62it/s]\n"
     ]
    },
    {
     "name": "stdout",
     "output_type": "stream",
     "text": [
      "Step [9999/10000], Training Loss: 0.0003, Validation Loss: 0.0003\n",
      "Training Loss: 0.0003\n",
      "Mean Euler Error: 5.6617e-07\n",
      "Number of parameters Z_t0: 109\n"
     ]
    },
    {
     "name": "stderr",
     "output_type": "stream",
     "text": [
      "100%|██████████| 10000/10000 [00:05<00:00, 1687.79it/s]\n"
     ]
    },
    {
     "name": "stdout",
     "output_type": "stream",
     "text": [
      "Training Loss: 3.7730\n",
      "Number of parameters Y_t0: 109\n"
     ]
    },
    {
     "name": "stderr",
     "output_type": "stream",
     "text": [
      "100%|██████████| 10000/10000 [00:07<00:00, 1326.75it/s]"
     ]
    },
    {
     "name": "stdout",
     "output_type": "stream",
     "text": [
      "Training Loss: 0.0003\n",
      "Mean Euler Error: 6.0996e-08\n"
     ]
    },
    {
     "name": "stderr",
     "output_type": "stream",
     "text": [
      "\n"
     ]
    }
   ],
   "source": [
    "for i in range(eulerbsde.n-1, -1, -1):\n",
    "    eulerbsde.load_YNN_ti_1(i, 'Example 1')\n",
    "    \n",
    "    eulerbsde.initialize_ZNN_ti(i, arch, act, lr)\n",
    "    eulerbsde.train_ZNN_ti(i, n_steps=int(1e4))\n",
    "    eulerbsde.save_ZNN_ti(i, 'Example 1')\n",
    "    \n",
    "    eulerbsde.initialize_YNN_ti(i, arch, act, lr)\n",
    "    eulerbsde.train_YNN_ti(i, n_steps=int(1e4))\n",
    "    eulerbsde.save_YNN_ti(i, 'Example 1')\n",
    "\n",
    "    euler_error = eulerbsde.check_Euler_error(i)\n",
    "    if euler_error > 5e-5: \n",
    "        i -= 1  # Decrement i to repeat the current iteration\n",
    "        continue"
   ]
  },
  {
   "cell_type": "code",
   "execution_count": 10,
   "id": "08cd5be8-8cdc-4e58-8330-540ecbacc69b",
   "metadata": {
    "scrolled": true
   },
   "outputs": [
    {
     "name": "stdout",
     "output_type": "stream",
     "text": [
      "Loss at time t_99 for Y:  0.00000, for Z:  0.00000, for Euler:  0.00000e+00\n",
      "Loss at time t_98 for Y:  0.00000, for Z:  0.00000, for Euler:  0.00000e+00\n",
      "Loss at time t_97 for Y:  0.00000, for Z:  0.00000, for Euler:  0.00000e+00\n",
      "Loss at time t_96 for Y:  0.00000, for Z:  0.00000, for Euler:  0.00000e+00\n",
      "Loss at time t_95 for Y:  0.00000, for Z:  0.00000, for Euler:  0.00000e+00\n",
      "Loss at time t_94 for Y:  0.00000, for Z:  0.00000, for Euler:  0.00000e+00\n",
      "Loss at time t_93 for Y:  0.00000, for Z:  0.00000, for Euler:  0.00000e+00\n",
      "Loss at time t_92 for Y:  0.00000, for Z:  0.00000, for Euler:  0.00000e+00\n",
      "Loss at time t_91 for Y:  0.00000, for Z:  0.00000, for Euler:  0.00000e+00\n",
      "Loss at time t_90 for Y:  0.00000, for Z:  0.00000, for Euler:  0.00000e+00\n",
      "Loss at time t_89 for Y:  0.00000, for Z:  0.00000, for Euler:  0.00000e+00\n",
      "Loss at time t_88 for Y:  0.00000, for Z:  0.00000, for Euler:  0.00000e+00\n",
      "Loss at time t_87 for Y:  0.00000, for Z:  0.00000, for Euler:  0.00000e+00\n",
      "Loss at time t_86 for Y:  0.00000, for Z:  0.00000, for Euler:  0.00000e+00\n",
      "Loss at time t_85 for Y:  0.00000, for Z:  0.00000, for Euler:  0.00000e+00\n",
      "Loss at time t_84 for Y:  0.00000, for Z:  0.00000, for Euler:  0.00000e+00\n",
      "Loss at time t_83 for Y:  0.00000, for Z:  0.00000, for Euler:  0.00000e+00\n",
      "Loss at time t_82 for Y:  0.00000, for Z:  0.00000, for Euler:  0.00000e+00\n",
      "Loss at time t_81 for Y:  0.00000, for Z:  0.00000, for Euler:  0.00000e+00\n",
      "Loss at time t_80 for Y:  0.00000, for Z:  0.00000, for Euler:  0.00000e+00\n",
      "Loss at time t_79 for Y:  0.00000, for Z:  0.00000, for Euler:  0.00000e+00\n",
      "Loss at time t_78 for Y:  0.00000, for Z:  0.00000, for Euler:  0.00000e+00\n",
      "Loss at time t_77 for Y:  0.00000, for Z:  0.00000, for Euler:  0.00000e+00\n",
      "Loss at time t_76 for Y:  0.00000, for Z:  0.00000, for Euler:  0.00000e+00\n",
      "Loss at time t_75 for Y:  0.00000, for Z:  0.00000, for Euler:  0.00000e+00\n",
      "Loss at time t_74 for Y:  0.00000, for Z:  0.00000, for Euler:  0.00000e+00\n",
      "Loss at time t_73 for Y:  0.00000, for Z:  0.00000, for Euler:  0.00000e+00\n",
      "Loss at time t_72 for Y:  0.00000, for Z:  0.00000, for Euler:  0.00000e+00\n",
      "Loss at time t_71 for Y:  0.00000, for Z:  0.00000, for Euler:  0.00000e+00\n",
      "Loss at time t_70 for Y:  0.00000, for Z:  0.00000, for Euler:  0.00000e+00\n",
      "Loss at time t_69 for Y:  0.00036, for Z:  5.60682, for Euler:  2.97166e-06\n",
      "Loss at time t_68 for Y:  0.00036, for Z:  5.58372, for Euler:  3.96687e-06\n",
      "Loss at time t_67 for Y:  0.00036, for Z:  5.58202, for Euler:  1.77511e-06\n",
      "Loss at time t_66 for Y:  0.00036, for Z:  5.59747, for Euler:  3.36772e-06\n",
      "Loss at time t_65 for Y:  0.00036, for Z:  5.53917, for Euler:  1.45309e-06\n",
      "Loss at time t_64 for Y:  0.00036, for Z:  5.48233, for Euler:  2.22476e-06\n",
      "Loss at time t_63 for Y:  0.00036, for Z:  5.54662, for Euler:  1.15145e-06\n",
      "Loss at time t_62 for Y:  0.00037, for Z:  5.52611, for Euler:  8.07288e-06\n",
      "Loss at time t_61 for Y:  0.00036, for Z:  5.37977, for Euler:  8.74756e-06\n",
      "Loss at time t_60 for Y:  0.00037, for Z:  5.35964, for Euler:  9.90149e-06\n",
      "Loss at time t_59 for Y:  0.00036, for Z:  5.31124, for Euler:  5.18785e-06\n",
      "Loss at time t_58 for Y:  0.00036, for Z:  5.39064, for Euler:  2.81253e-06\n",
      "Loss at time t_57 for Y:  0.00036, for Z:  5.29342, for Euler:  4.84991e-06\n",
      "Loss at time t_56 for Y:  0.00038, for Z:  5.18325, for Euler:  3.17260e-05\n",
      "Loss at time t_55 for Y:  0.00035, for Z:  5.23876, for Euler:  1.79610e-06\n",
      "Loss at time t_54 for Y:  0.00035, for Z:  5.26461, for Euler:  1.02181e-06\n",
      "Loss at time t_53 for Y:  0.00034, for Z:  5.23357, for Euler:  2.77725e-06\n",
      "Loss at time t_52 for Y:  0.00035, for Z:  5.04508, for Euler:  1.90099e-06\n",
      "Loss at time t_51 for Y:  0.00034, for Z:  5.09784, for Euler:  5.60446e-06\n",
      "Loss at time t_50 for Y:  0.00035, for Z:  5.11527, for Euler:  4.71898e-06\n",
      "Loss at time t_49 for Y:  0.00035, for Z:  5.04748, for Euler:  3.23725e-06\n",
      "Loss at time t_48 for Y:  0.00034, for Z:  5.00695, for Euler:  1.48578e-06\n",
      "Loss at time t_47 for Y:  0.00034, for Z:  4.98906, for Euler:  8.71078e-07\n",
      "Loss at time t_46 for Y:  0.00034, for Z:  4.97434, for Euler:  1.60248e-06\n",
      "Loss at time t_45 for Y:  0.00034, for Z:  4.91703, for Euler:  1.12567e-06\n",
      "Loss at time t_44 for Y:  0.00035, for Z:  4.89254, for Euler:  1.73635e-06\n",
      "Loss at time t_43 for Y:  0.00034, for Z:  4.84004, for Euler:  1.80188e-06\n",
      "Loss at time t_42 for Y:  0.00034, for Z:  4.88045, for Euler:  1.56606e-06\n",
      "Loss at time t_41 for Y:  0.00034, for Z:  4.91605, for Euler:  1.13670e-06\n",
      "Loss at time t_40 for Y:  0.00034, for Z:  4.85848, for Euler:  7.14293e-07\n",
      "Loss at time t_39 for Y:  0.00034, for Z:  4.76501, for Euler:  2.13673e-06\n",
      "Loss at time t_38 for Y:  0.00034, for Z:  4.75337, for Euler:  2.00504e-06\n",
      "Loss at time t_37 for Y:  0.00036, for Z:  4.73161, for Euler:  1.96729e-05\n",
      "Loss at time t_36 for Y:  0.00034, for Z:  4.69765, for Euler:  2.37590e-06\n",
      "Loss at time t_35 for Y:  0.00034, for Z:  4.64482, for Euler:  1.75242e-06\n",
      "Loss at time t_34 for Y:  0.00034, for Z:  4.69435, for Euler:  1.90613e-06\n",
      "Loss at time t_33 for Y:  0.00034, for Z:  4.65512, for Euler:  7.96186e-07\n",
      "Loss at time t_32 for Y:  0.00034, for Z:  4.57144, for Euler:  1.76099e-06\n",
      "Loss at time t_31 for Y:  0.00034, for Z:  4.58294, for Euler:  1.33168e-06\n",
      "Loss at time t_30 for Y:  0.00034, for Z:  4.54775, for Euler:  1.17330e-06\n",
      "Loss at time t_29 for Y:  0.00034, for Z:  4.53174, for Euler:  2.84129e-06\n",
      "Loss at time t_28 for Y:  0.00034, for Z:  4.51723, for Euler:  9.54363e-07\n",
      "Loss at time t_27 for Y:  0.00034, for Z:  4.50658, for Euler:  1.27280e-06\n",
      "Loss at time t_26 for Y:  0.00034, for Z:  4.40606, for Euler:  7.01837e-07\n",
      "Loss at time t_25 for Y:  0.00034, for Z:  4.43465, for Euler:  1.61972e-06\n",
      "Loss at time t_24 for Y:  0.00034, for Z:  4.37041, for Euler:  1.57772e-06\n",
      "Loss at time t_23 for Y:  0.00034, for Z:  4.38743, for Euler:  7.55957e-07\n",
      "Loss at time t_22 for Y:  0.00034, for Z:  4.35792, for Euler:  7.31431e-07\n",
      "Loss at time t_21 for Y:  0.00034, for Z:  4.37419, for Euler:  8.61374e-07\n",
      "Loss at time t_20 for Y:  0.00034, for Z:  4.29775, for Euler:  1.42175e-06\n",
      "Loss at time t_19 for Y:  0.00034, for Z:  4.23803, for Euler:  9.90657e-07\n",
      "Loss at time t_18 for Y:  0.00034, for Z:  4.19728, for Euler:  9.63296e-07\n",
      "Loss at time t_17 for Y:  0.00034, for Z:  4.19696, for Euler:  2.60980e-06\n",
      "Loss at time t_16 for Y:  0.00035, for Z:  4.19858, for Euler:  1.04886e-05\n",
      "Loss at time t_15 for Y:  0.00033, for Z:  4.09716, for Euler:  1.35735e-07\n",
      "Loss at time t_14 for Y:  0.00033, for Z:  4.10552, for Euler:  4.61999e-07\n",
      "Loss at time t_13 for Y:  0.00034, for Z:  4.06903, for Euler:  2.46402e-07\n",
      "Loss at time t_12 for Y:  0.00033, for Z:  4.08040, for Euler:  4.83126e-07\n",
      "Loss at time t_11 for Y:  0.00034, for Z:  4.01138, for Euler:  3.54579e-07\n",
      "Loss at time t_10 for Y:  0.00034, for Z:  3.99487, for Euler:  3.58683e-07\n",
      "Loss at time t_9 for Y:  0.00033, for Z:  4.01897, for Euler:  3.35722e-07\n",
      "Loss at time t_8 for Y:  0.00033, for Z:  3.95083, for Euler:  2.18038e-07\n",
      "Loss at time t_7 for Y:  0.00034, for Z:  3.92445, for Euler:  6.05955e-07\n",
      "Loss at time t_6 for Y:  0.00034, for Z:  3.87003, for Euler:  2.61471e-07\n",
      "Loss at time t_5 for Y:  0.00034, for Z:  3.89020, for Euler:  3.94148e-07\n",
      "Loss at time t_4 for Y:  0.00033, for Z:  3.86134, for Euler:  1.11957e-07\n",
      "Loss at time t_3 for Y:  0.00033, for Z:  3.81083, for Euler:  3.11250e-07\n",
      "Loss at time t_2 for Y:  0.00033, for Z:  3.82000, for Euler:  1.23252e-07\n",
      "Loss at time t_1 for Y:  0.00033, for Z:  3.72530, for Euler:  6.28270e-07\n",
      "Loss at time t_0 for Y:  0.00032, for Z:  3.73846, for Euler:  6.32196e-08\n"
     ]
    }
   ],
   "source": [
    "for i in range(self.n-1, -1, -1):\n",
    "    #print(f'Loss at time t_{k} for Z: {self.loss_Z_history[k]: .6f}, Y: {self.loss_Y_history[k]: .6f},  Euler: {self.loss_Euler_history[k] : .6f}')\n",
    "    print(f'Loss at time t_{i} for Y: {self.errors[i, 0]: .5f}, for Z: {self.errors[i, 1]: .5f}, for Euler: {self.errors[i, 2] : .5e}')"
   ]
  },
  {
   "cell_type": "code",
   "execution_count": null,
   "id": "667f05dd-5116-4bd3-8704-bc3f8b1e5acd",
   "metadata": {},
   "outputs": [],
   "source": []
  },
  {
   "cell_type": "code",
   "execution_count": 11,
   "id": "c930cadd-0658-4b56-97a1-5c1876295401",
   "metadata": {},
   "outputs": [
    {
     "data": {
      "text/plain": [
       "(tensor([0.1912], device='cuda:0'), tensor([0.1781], device='cuda:0'))"
      ]
     },
     "execution_count": 11,
     "metadata": {},
     "output_type": "execute_result"
    }
   ],
   "source": [
    "self.Y0, self.Z0"
   ]
  },
  {
   "cell_type": "code",
   "execution_count": null,
   "id": "174df61c-0e80-478a-b84f-b45178d60a6e",
   "metadata": {},
   "outputs": [],
   "source": []
  },
  {
   "cell_type": "code",
   "execution_count": 13,
   "id": "b87e9b15-d4e2-4821-ad53-3089e788746f",
   "metadata": {},
   "outputs": [],
   "source": [
    "N = int(1e4)\n",
    "t = torch.arange(eulerbsde.h, T+eulerbsde.h, eulerbsde.h).unsqueeze(0).unsqueeze(-1).to(eulerbsde.device)\n",
    "DeltaB = torch.randn((N, eulerbsde.n, d), device=eulerbsde.device, dtype=torch.float32)*torch.sqrt(torch.tensor(1/eulerbsde.n))\n",
    "B = torch.cumsum(DeltaB, dim=1)\n",
    "X = eulerbsde.x*torch.exp(t*(eulerbsde.mu-0.5*eulerbsde.sigma**2) + eulerbsde.sigma*B)"
   ]
  },
  {
   "cell_type": "code",
   "execution_count": 14,
   "id": "822b0a3f-fbe1-4968-8524-f2731776d75e",
   "metadata": {},
   "outputs": [
    {
     "data": {
      "text/plain": [
       "(torch.Size([10000, 100, 1]),\n",
       " torch.Size([10000, 100, 1]),\n",
       " torch.Size([1, 100, 1]))"
      ]
     },
     "execution_count": 14,
     "metadata": {},
     "output_type": "execute_result"
    }
   ],
   "source": [
    "X.shape, B.shape, t.shape"
   ]
  },
  {
   "cell_type": "code",
   "execution_count": 16,
   "id": "0a8a70ef-d394-4c23-a7ad-e9f3066c4b3d",
   "metadata": {},
   "outputs": [],
   "source": [
    "Y, Z = torch.zeros((N, eulerbsde.n+1), device=eulerbsde.device), torch.zeros((N, eulerbsde.n+1, eulerbsde.d), device=eulerbsde.device)"
   ]
  },
  {
   "cell_type": "code",
   "execution_count": 19,
   "id": "b669643c-8d41-46ca-b1f1-4fc03d6a8249",
   "metadata": {},
   "outputs": [],
   "source": [
    "Y[:, 0], Z[:, 0, :] = torch.load('Example 1/Parameters/Y0.pt'), torch.load('Example 1/Parameters/Z0.pt')"
   ]
  },
  {
   "cell_type": "code",
   "execution_count": 20,
   "id": "772b5f69-5644-4d0e-b921-9c5ca2570ed7",
   "metadata": {
    "scrolled": true
   },
   "outputs": [
    {
     "name": "stdout",
     "output_type": "stream",
     "text": [
      "Number of parameters Z_t1: 109\n",
      "Number of parameters Y_t1: 109\n",
      "Number of parameters Z_t2: 109\n",
      "Number of parameters Y_t2: 109\n",
      "Number of parameters Z_t3: 109\n",
      "Number of parameters Y_t3: 109\n",
      "Number of parameters Z_t4: 109\n",
      "Number of parameters Y_t4: 109\n",
      "Number of parameters Z_t5: 109\n",
      "Number of parameters Y_t5: 109\n",
      "Number of parameters Z_t6: 109\n",
      "Number of parameters Y_t6: 109\n",
      "Number of parameters Z_t7: 109\n",
      "Number of parameters Y_t7: 109\n",
      "Number of parameters Z_t8: 109\n",
      "Number of parameters Y_t8: 109\n",
      "Number of parameters Z_t9: 109\n",
      "Number of parameters Y_t9: 109\n",
      "Number of parameters Z_t10: 109\n",
      "Number of parameters Y_t10: 109\n",
      "Number of parameters Z_t11: 109\n",
      "Number of parameters Y_t11: 109\n",
      "Number of parameters Z_t12: 109\n",
      "Number of parameters Y_t12: 109\n",
      "Number of parameters Z_t13: 109\n",
      "Number of parameters Y_t13: 109\n",
      "Number of parameters Z_t14: 109\n",
      "Number of parameters Y_t14: 109\n",
      "Number of parameters Z_t15: 109\n",
      "Number of parameters Y_t15: 109\n",
      "Number of parameters Z_t16: 109\n",
      "Number of parameters Y_t16: 109\n",
      "Number of parameters Z_t17: 109\n",
      "Number of parameters Y_t17: 109\n",
      "Number of parameters Z_t18: 109\n",
      "Number of parameters Y_t18: 109\n",
      "Number of parameters Z_t19: 109\n",
      "Number of parameters Y_t19: 109\n",
      "Number of parameters Z_t20: 109\n",
      "Number of parameters Y_t20: 109\n",
      "Number of parameters Z_t21: 109\n",
      "Number of parameters Y_t21: 109\n",
      "Number of parameters Z_t22: 109\n",
      "Number of parameters Y_t22: 109\n",
      "Number of parameters Z_t23: 109\n",
      "Number of parameters Y_t23: 109\n",
      "Number of parameters Z_t24: 109\n",
      "Number of parameters Y_t24: 109\n",
      "Number of parameters Z_t25: 109\n",
      "Number of parameters Y_t25: 109\n",
      "Number of parameters Z_t26: 109\n",
      "Number of parameters Y_t26: 109\n",
      "Number of parameters Z_t27: 109\n",
      "Number of parameters Y_t27: 109\n",
      "Number of parameters Z_t28: 109\n",
      "Number of parameters Y_t28: 109\n",
      "Number of parameters Z_t29: 109\n",
      "Number of parameters Y_t29: 109\n",
      "Number of parameters Z_t30: 109\n",
      "Number of parameters Y_t30: 109\n",
      "Number of parameters Z_t31: 109\n",
      "Number of parameters Y_t31: 109\n",
      "Number of parameters Z_t32: 109\n",
      "Number of parameters Y_t32: 109\n",
      "Number of parameters Z_t33: 109\n",
      "Number of parameters Y_t33: 109\n",
      "Number of parameters Z_t34: 109\n",
      "Number of parameters Y_t34: 109\n",
      "Number of parameters Z_t35: 109\n",
      "Number of parameters Y_t35: 109\n",
      "Number of parameters Z_t36: 109\n",
      "Number of parameters Y_t36: 109\n",
      "Number of parameters Z_t37: 109\n",
      "Number of parameters Y_t37: 109\n",
      "Number of parameters Z_t38: 109\n",
      "Number of parameters Y_t38: 109\n",
      "Number of parameters Z_t39: 109\n",
      "Number of parameters Y_t39: 109\n",
      "Number of parameters Z_t40: 109\n",
      "Number of parameters Y_t40: 109\n",
      "Number of parameters Z_t41: 109\n",
      "Number of parameters Y_t41: 109\n",
      "Number of parameters Z_t42: 109\n",
      "Number of parameters Y_t42: 109\n",
      "Number of parameters Z_t43: 109\n",
      "Number of parameters Y_t43: 109\n",
      "Number of parameters Z_t44: 109\n",
      "Number of parameters Y_t44: 109\n",
      "Number of parameters Z_t45: 109\n",
      "Number of parameters Y_t45: 109\n",
      "Number of parameters Z_t46: 109\n",
      "Number of parameters Y_t46: 109\n",
      "Number of parameters Z_t47: 109\n",
      "Number of parameters Y_t47: 109\n",
      "Number of parameters Z_t48: 109\n",
      "Number of parameters Y_t48: 109\n",
      "Number of parameters Z_t49: 109\n",
      "Number of parameters Y_t49: 109\n",
      "Number of parameters Z_t50: 109\n",
      "Number of parameters Y_t50: 109\n",
      "Number of parameters Z_t51: 109\n",
      "Number of parameters Y_t51: 109\n",
      "Number of parameters Z_t52: 109\n",
      "Number of parameters Y_t52: 109\n",
      "Number of parameters Z_t53: 109\n",
      "Number of parameters Y_t53: 109\n",
      "Number of parameters Z_t54: 109\n",
      "Number of parameters Y_t54: 109\n",
      "Number of parameters Z_t55: 109\n",
      "Number of parameters Y_t55: 109\n",
      "Number of parameters Z_t56: 109\n",
      "Number of parameters Y_t56: 109\n",
      "Number of parameters Z_t57: 109\n",
      "Number of parameters Y_t57: 109\n",
      "Number of parameters Z_t58: 109\n",
      "Number of parameters Y_t58: 109\n",
      "Number of parameters Z_t59: 109\n",
      "Number of parameters Y_t59: 109\n",
      "Number of parameters Z_t60: 109\n",
      "Number of parameters Y_t60: 109\n",
      "Number of parameters Z_t61: 109\n",
      "Number of parameters Y_t61: 109\n",
      "Number of parameters Z_t62: 109\n",
      "Number of parameters Y_t62: 109\n",
      "Number of parameters Z_t63: 109\n",
      "Number of parameters Y_t63: 109\n",
      "Number of parameters Z_t64: 109\n",
      "Number of parameters Y_t64: 109\n",
      "Number of parameters Z_t65: 109\n",
      "Number of parameters Y_t65: 109\n",
      "Number of parameters Z_t66: 109\n",
      "Number of parameters Y_t66: 109\n",
      "Number of parameters Z_t67: 109\n",
      "Number of parameters Y_t67: 109\n",
      "Number of parameters Z_t68: 109\n",
      "Number of parameters Y_t68: 109\n",
      "Number of parameters Z_t69: 109\n",
      "Number of parameters Y_t69: 109\n",
      "Number of parameters Z_t70: 109\n",
      "Number of parameters Y_t70: 109\n",
      "Number of parameters Z_t71: 109\n",
      "Number of parameters Y_t71: 109\n",
      "Number of parameters Z_t72: 109\n",
      "Number of parameters Y_t72: 109\n",
      "Number of parameters Z_t73: 109\n",
      "Number of parameters Y_t73: 109\n",
      "Number of parameters Z_t74: 109\n",
      "Number of parameters Y_t74: 109\n",
      "Number of parameters Z_t75: 109\n",
      "Number of parameters Y_t75: 109\n",
      "Number of parameters Z_t76: 109\n",
      "Number of parameters Y_t76: 109\n",
      "Number of parameters Z_t77: 109\n",
      "Number of parameters Y_t77: 109\n",
      "Number of parameters Z_t78: 109\n",
      "Number of parameters Y_t78: 109\n",
      "Number of parameters Z_t79: 109\n",
      "Number of parameters Y_t79: 109\n",
      "Number of parameters Z_t80: 109\n",
      "Number of parameters Y_t80: 109\n",
      "Number of parameters Z_t81: 109\n",
      "Number of parameters Y_t81: 109\n",
      "Number of parameters Z_t82: 109\n",
      "Number of parameters Y_t82: 109\n",
      "Number of parameters Z_t83: 109\n",
      "Number of parameters Y_t83: 109\n",
      "Number of parameters Z_t84: 109\n",
      "Number of parameters Y_t84: 109\n",
      "Number of parameters Z_t85: 109\n",
      "Number of parameters Y_t85: 109\n",
      "Number of parameters Z_t86: 109\n",
      "Number of parameters Y_t86: 109\n",
      "Number of parameters Z_t87: 109\n",
      "Number of parameters Y_t87: 109\n",
      "Number of parameters Z_t88: 109\n",
      "Number of parameters Y_t88: 109\n",
      "Number of parameters Z_t89: 109\n",
      "Number of parameters Y_t89: 109\n",
      "Number of parameters Z_t90: 109\n",
      "Number of parameters Y_t90: 109\n",
      "Number of parameters Z_t91: 109\n",
      "Number of parameters Y_t91: 109\n",
      "Number of parameters Z_t92: 109\n",
      "Number of parameters Y_t92: 109\n",
      "Number of parameters Z_t93: 109\n",
      "Number of parameters Y_t93: 109\n",
      "Number of parameters Z_t94: 109\n",
      "Number of parameters Y_t94: 109\n",
      "Number of parameters Z_t95: 109\n",
      "Number of parameters Y_t95: 109\n",
      "Number of parameters Z_t96: 109\n",
      "Number of parameters Y_t96: 109\n",
      "Number of parameters Z_t97: 109\n",
      "Number of parameters Y_t97: 109\n",
      "Number of parameters Z_t98: 109\n",
      "Number of parameters Y_t98: 109\n",
      "Number of parameters Z_t99: 109\n",
      "Number of parameters Y_t99: 109\n"
     ]
    }
   ],
   "source": [
    "for i in range(1, eulerbsde.n):\n",
    "    eulerbsde.initialize_ZNN_ti(i, arch, act, lr)\n",
    "    eulerbsde.initialize_YNN_ti(i, arch, act, lr)\n",
    "    eulerbsde.load_ZNN_ti(i, 'Example 1')\n",
    "    eulerbsde.load_YNN_ti(i, 'Example 1')\n",
    "    Y[:, i] = eulerbsde.Y_NN_ti(X[:, i-1, :])[:, 0]\n",
    "    Z[:, i, :] = eulerbsde.Z_NN_ti(X[:, i-1, :])"
   ]
  },
  {
   "cell_type": "code",
   "execution_count": 21,
   "id": "592fe340-f135-4063-84e7-52b95a80469d",
   "metadata": {},
   "outputs": [],
   "source": [
    "Y[:, -1] = g(X[:, -1])"
   ]
  },
  {
   "cell_type": "code",
   "execution_count": 24,
   "id": "ce3eeea2-fb9e-4e92-906d-907cadb72d31",
   "metadata": {},
   "outputs": [],
   "source": [
    "Y = Y.cpu().detach()"
   ]
  },
  {
   "cell_type": "code",
   "execution_count": 42,
   "id": "8a03e583-92c9-461d-9b20-293e0c53c7dc",
   "metadata": {},
   "outputs": [],
   "source": [
    "Z = Z.cpu().detach()"
   ]
  },
  {
   "cell_type": "code",
   "execution_count": 25,
   "id": "418552e3-35ca-4505-a9db-bc76a3bcf74a",
   "metadata": {},
   "outputs": [],
   "source": [
    "t = t.cpu()"
   ]
  },
  {
   "cell_type": "code",
   "execution_count": 26,
   "id": "ccde947a-6970-46c1-a150-070204cc0af8",
   "metadata": {},
   "outputs": [],
   "source": [
    "from matplotlib import pyplot as plt"
   ]
  },
  {
   "cell_type": "code",
   "execution_count": 30,
   "id": "4a045ee7-fe1e-4802-9afa-d8520b9a5749",
   "metadata": {},
   "outputs": [],
   "source": [
    "t = torch.arange(0, T+eulerbsde.h, eulerbsde.h)"
   ]
  },
  {
   "cell_type": "code",
   "execution_count": 45,
   "id": "8e6eb8f7-4578-401e-af27-97244dc7dd20",
   "metadata": {},
   "outputs": [
    {
     "data": {
      "image/png": "[encoded data removed]",
      "text/plain": [
       "<Figure size 640x480 with 1 Axes>"
      ]
     },
     "metadata": {},
     "output_type": "display_data"
    }
   ],
   "source": [
    "for j in range(10):\n",
    "    plt.plot(t, Y[j], color='skyblue')\n",
    "\n",
    "plt.xlabel('t')\n",
    "plt.ylabel('$Y$')\n",
    "plt.savefig('Plot_Y.png')"
   ]
  },
  {
   "cell_type": "code",
   "execution_count": 46,
   "id": "4e2a50b1-2010-4622-b5c9-9441f2019ec9",
   "metadata": {},
   "outputs": [
    {
     "data": {
      "image/png": "[encoded data removed]",
      "text/plain": [
       "<Figure size 640x480 with 1 Axes>"
      ]
     },
     "metadata": {},
     "output_type": "display_data"
    }
   ],
   "source": [
    "for j in range(10):\n",
    "    plt.plot(t, Z[j], color='orange')\n",
    "\n",
    "plt.xlabel('t')\n",
    "plt.ylabel('$Z$')\n",
    "plt.savefig('Plot_Z.png')"
   ]
  },
  {
   "cell_type": "code",
   "execution_count": null,
   "id": "8e17f992-b54b-41a4-85a5-34a807ff3672",
   "metadata": {},
   "outputs": [],
   "source": [
    "def Euler_SDE(self, i, N):\n",
    "        # i = self.n-1, ..., 0 \n",
    "        assert i < self.n, f\"Value of i is not smaller than n\"\n",
    "        assert i >= 0, f\"Value of i is not non-negative\"\n",
    "        \n",
    "        X_ti = self.x.unsqueeze(0).repeat(N, 1)\n",
    "        X_ti_1 = torch.zeros((N, self.m), device=self.device, dtype=torch.float32)\n",
    "        \n",
    "        for j in range(i):\n",
    "            DeltaBm_j = self.simulate_DeltaBm_j(N)\n",
    "            X_ti = X_ti + self.h*self.a(self.h*j, X_ti) + torch.einsum('nmd,nd->nm', self.b(self.h*j, X_ti), DeltaBm_j)\n",
    "        \n",
    "        DeltaBm_i = self.simulate_DeltaBm_j(N)\n",
    "        j = i+1\n",
    "        X_ti_1 = X_ti + self.h*self.a(self.h*j, X_ti) + torch.einsum('nmd,nd->nm', self.b(self.h*j, X_ti), DeltaBm_i)\n",
    "        return X_ti, X_ti_1, DeltaBm_i"
   ]
  }
 ],
 "metadata": {
  "kernelspec": {
   "display_name": "Python 3 (ipykernel)",
   "language": "python",
   "name": "python3"
  },
  "language_info": {
   "codemirror_mode": {
    "name": "ipython",
    "version": 3
   },
   "file_extension": ".py",
   "mimetype": "text/x-python",
   "name": "python",
   "nbconvert_exporter": "python",
   "pygments_lexer": "ipython3",
   "version": "3.9.19"
  }
 },
 "nbformat": 4,
 "nbformat_minor": 5
}
